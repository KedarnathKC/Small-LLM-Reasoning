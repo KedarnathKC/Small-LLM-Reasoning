{
 "cells": [
  {
   "cell_type": "code",
   "execution_count": 1,
   "id": "a9c56653-920a-4004-9b6c-bbbf62d85662",
   "metadata": {},
   "outputs": [],
   "source": [
    "import torch\n",
    "from transformers import pipeline, AutoModelForCausalLM, AutoTokenizer, AutoConfig\n",
    "import os\n",
    "from datasets import load_from_disk\n",
    "os.environ['TRANSFORMERS_CACHE'] = '../transformers_cache'\n",
    "\n"
   ]
  },
  {
   "cell_type": "code",
   "execution_count": null,
   "id": "17970744-a639-46ee-ad78-23e2ffaabd29",
   "metadata": {},
   "outputs": [
    {
     "data": {
      "application/vnd.jupyter.widget-view+json": {
       "model_id": "88714b4dc8734f498d9f6cc3f13357f2",
       "version_major": 2,
       "version_minor": 0
      },
      "text/plain": [
       "Loading checkpoint shards:   0%|          | 0/4 [00:00<?, ?it/s]"
      ]
     },
     "metadata": {},
     "output_type": "display_data"
    }
   ],
   "source": [
    "hf_token = os.getenv(\"hf_token\")\n",
    "# model_name = \"meta-llama/Llama-3.1-70B-Instruct\"\n",
    "# model_name = \"meta-llama/Llama-3.1-8B-Instruct\"\n",
    "\n",
    "config = AutoConfig.from_pretrained(model_name, token=hf_token)\n",
    "tokenizer = AutoTokenizer.from_pretrained(model_name, token=hf_token, config=config,cache_dir='../transformers_cache')\n",
    "model = AutoModelForCausalLM.from_pretrained(model_name, token=hf_token, config=config,cache_dir='../transformers_cache')\n",
    "tokenizer.pad_token_id = tokenizer.eos_token_id\n",
    "tokenizer.padding_side = 'left'\n",
    "# model.resize_token_embeddings(len(tokenizer))\n",
    "device = torch.device(\"cuda\" if torch.cuda.is_available() else \"cpu\")\n",
    "device"
   ]
  },
  {
   "cell_type": "code",
   "execution_count": null,
   "id": "718b8538-778f-43d0-b9cb-ffb73fb8824b",
   "metadata": {},
   "outputs": [],
   "source": [
    "model.to(device)"
   ]
  },
  {
   "cell_type": "code",
   "execution_count": null,
   "id": "1ae026eb-3707-4e55-8665-95cd28bcd8b5",
   "metadata": {},
   "outputs": [],
   "source": [
    "import pandas as pd"
   ]
  },
  {
   "cell_type": "code",
   "execution_count": null,
   "id": "6dd0e474-8f98-4af4-ae8d-81ca28633e94",
   "metadata": {},
   "outputs": [],
   "source": [
    "path = '../outputs/gsm8k/LLaMA1B/generated_outputs.json'\n",
    "df = pd.read_json(path)"
   ]
  },
  {
   "cell_type": "code",
   "execution_count": null,
   "id": "b4683893-0911-4061-bb00-f43cd6ccef1c",
   "metadata": {},
   "outputs": [],
   "source": [
    "df=df[df['score']==0]"
   ]
  },
  {
   "cell_type": "code",
   "execution_count": null,
   "id": "ad6c28c0-881b-4853-9e18-dada2fa4996a",
   "metadata": {},
   "outputs": [],
   "source": [
    "df.shape"
   ]
  },
  {
   "cell_type": "code",
   "execution_count": null,
   "id": "30540916-30b2-47df-ac15-f36fddfff616",
   "metadata": {},
   "outputs": [],
   "source": []
  }
 ],
 "metadata": {
  "kernelspec": {
   "display_name": "IESLAnalyse",
   "language": "python",
   "name": "ieslanalyse"
  },
  "language_info": {
   "codemirror_mode": {
    "name": "ipython",
    "version": 3
   },
   "file_extension": ".py",
   "mimetype": "text/x-python",
   "name": "python",
   "nbconvert_exporter": "python",
   "pygments_lexer": "ipython3",
   "version": "3.12.7"
  }
 },
 "nbformat": 4,
 "nbformat_minor": 5
}
