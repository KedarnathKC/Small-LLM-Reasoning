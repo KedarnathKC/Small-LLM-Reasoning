{
 "cells": [
  {
   "cell_type": "code",
   "execution_count": 1,
   "id": "aa616fe9-dd17-4171-92f8-39577250fa06",
   "metadata": {},
   "outputs": [],
   "source": [
    "import torch\n",
    "from tqdm import tqdm\n",
    "from transformers import pipeline, AutoModelForCausalLM, AutoTokenizer, AutoConfig\n",
    "import os\n",
    "from datasets import load_from_disk\n",
    "os.environ['TRANSFORMERS_CACHE'] = '../transformers_cache/'\n"
   ]
  },
  {
   "cell_type": "code",
   "execution_count": 2,
   "id": "5df455c0-8046-4ec9-ab24-d5e64ec6efd1",
   "metadata": {},
   "outputs": [
    {
     "data": {
      "text/plain": [
       "Dataset({\n",
       "    features: ['question', 'answer'],\n",
       "    num_rows: 1319\n",
       "})"
      ]
     },
     "execution_count": 2,
     "metadata": {},
     "output_type": "execute_result"
    }
   ],
   "source": [
    "data_test = load_from_disk(\"../datasets/gsm8k/test/\")\n",
    "data_test"
   ]
  },
  {
   "cell_type": "code",
   "execution_count": 3,
   "id": "14d10f80-1a35-4c66-8465-8126e4324405",
   "metadata": {},
   "outputs": [
    {
     "data": {
      "text/plain": [
       "Dataset({\n",
       "    features: ['question', 'answer'],\n",
       "    num_rows: 896\n",
       "})"
      ]
     },
     "execution_count": 3,
     "metadata": {},
     "output_type": "execute_result"
    }
   ],
   "source": [
    "data_train = load_from_disk(\"../datasets/gsm8k/train/\")\n",
    "data_train"
   ]
  },
  {
   "cell_type": "code",
   "execution_count": 4,
   "id": "501e21ca-1b79-4430-836b-8ab33eb03ed9",
   "metadata": {},
   "outputs": [
    {
     "data": {
      "text/plain": [
       "device(type='cuda')"
      ]
     },
     "execution_count": 4,
     "metadata": {},
     "output_type": "execute_result"
    }
   ],
   "source": [
    "hf_token = os.getenv(\"hf_token\")\n",
    "model_name = \"meta-llama/Llama-3.2-1B-Instruct\"\n",
    "config = AutoConfig.from_pretrained(model_name, token=hf_token)\n",
    "tokenizer = AutoTokenizer.from_pretrained(model_name, token=hf_token, config=config,cache_dir='../transformers_cache')\n",
    "model = AutoModelForCausalLM.from_pretrained(model_name, token=hf_token, config=config,cache_dir='../transformers_cache')\n",
    "tokenizer.pad_token_id = tokenizer.eos_token_id\n",
    "tokenizer.padding_side = 'left'\n",
    "# model.resize_token_embeddings(len(tokenizer))\n",
    "device = torch.device(\"cuda\" if torch.cuda.is_available() else \"cpu\")\n",
    "device"
   ]
  },
  {
   "cell_type": "code",
   "execution_count": 5,
   "id": "73dbc71f-afa2-4e8f-ba7b-19d28a4283b2",
   "metadata": {},
   "outputs": [
    {
     "data": {
      "text/plain": [
       "LlamaForCausalLM(\n",
       "  (model): LlamaModel(\n",
       "    (embed_tokens): Embedding(128256, 2048)\n",
       "    (layers): ModuleList(\n",
       "      (0-15): 16 x LlamaDecoderLayer(\n",
       "        (self_attn): LlamaSdpaAttention(\n",
       "          (q_proj): Linear(in_features=2048, out_features=2048, bias=False)\n",
       "          (k_proj): Linear(in_features=2048, out_features=512, bias=False)\n",
       "          (v_proj): Linear(in_features=2048, out_features=512, bias=False)\n",
       "          (o_proj): Linear(in_features=2048, out_features=2048, bias=False)\n",
       "          (rotary_emb): LlamaRotaryEmbedding()\n",
       "        )\n",
       "        (mlp): LlamaMLP(\n",
       "          (gate_proj): Linear(in_features=2048, out_features=8192, bias=False)\n",
       "          (up_proj): Linear(in_features=2048, out_features=8192, bias=False)\n",
       "          (down_proj): Linear(in_features=8192, out_features=2048, bias=False)\n",
       "          (act_fn): SiLU()\n",
       "        )\n",
       "        (input_layernorm): LlamaRMSNorm((2048,), eps=1e-05)\n",
       "        (post_attention_layernorm): LlamaRMSNorm((2048,), eps=1e-05)\n",
       "      )\n",
       "    )\n",
       "    (norm): LlamaRMSNorm((2048,), eps=1e-05)\n",
       "    (rotary_emb): LlamaRotaryEmbedding()\n",
       "  )\n",
       "  (lm_head): Linear(in_features=2048, out_features=128256, bias=False)\n",
       ")"
      ]
     },
     "execution_count": 5,
     "metadata": {},
     "output_type": "execute_result"
    }
   ],
   "source": [
    "model.to(device)"
   ]
  },
  {
   "cell_type": "code",
   "execution_count": 8,
   "id": "426da014-baa4-441e-9536-664821d183f9",
   "metadata": {},
   "outputs": [],
   "source": [
    "'<|start_header_id|>user<|end_header_id|>\\n\\nGiven the following problem, reason and give a final answer to the problem.\\nProblem: There are 15 trees in the grove. Grove workers will plant trees in the grove today. After they are done, there will be 21 trees. How many trees did the grove workers plant today?\\nYour response should end with \\\"The final answer is [answer]\\\" where [answer] is the response to the problem.<|eot_id|><|start_header_id|>assistant<|end_header_id|>\\n\\nThere are 15 trees originally. Then there were 21 trees after some more were planted. So there must have been 21 - 15 = 6. The final answer is 6<|eot_id|>"
   ]
  },
  {
   "cell_type": "code",
   "execution_count": 7,
   "id": "e40131e8-3e21-46fc-ac7e-a50892b82c5f",
   "metadata": {},
   "outputs": [],
   "source": [
    "# userContent += '\\nQ: There are 15 trees in the grove. Grove workers will plant trees in the grove today. After they are done, there will be 21 trees. How many trees did the grove workers plant today?'\n",
    "# userContent += '\\nA: There are 15 trees originally. Then there were 21 trees after some more were planted. So there must have been 21 - 15 = 6. #### 6\\n'\n",
    "# userContent += '\\nQ: If there are 3 cars in the parking lot and 2 more cars arrive, how many cars are in the parking lot?'\n",
    "# userContent += '\\nA: There are originally 3 cars. 2 more cars arrive. 3 + 2 = 5. #### 5\\n'\n",
    "# userContent += '\\nQ: Leah had 32 chocolates and her sister had 42. If they ate 35, how many pieces do they have left in total?'\n",
    "# userContent += '\\nA: Originally, Leah had 32 chocolates. Her sister had 42. So in total they had 32 + 42 = 74. After eating 35, they had 74 - 35 = 39. #### 39\\n'\n",
    "# userContent += '\\nQ: Jason had 20 lollipops. He gave Denny some lollipops. Now Jason has 12 lollipops. How many lollipops did Jason give to Denny?'\n",
    "# userContent += '\\nA: Jason started with 20 lollipops. Then he had 12 after giving some to Denny. So he gave Denny 20 - 12 = 8. #### 8\\n'\n",
    "# userContent += '\\nQ: Shawn has five toys. For Christmas, he got two toys each from his mom and dad. How many toys does he have now?'\n",
    "# userContent += '\\nA: Shawn started with 5 toys. If he got 2 toys each from his mom and dad, then that is 4 more toys. 5 + 4 = 9. #### 9\\n'\n",
    "# userContent += '\\nQ: There were nine computers in the server room. Five more computers were installed each day, from monday to thursday. How many computers are now in the server room?'\n",
    "# userContent += '\\nA: There were originally 9 computers. For each of 4 days, 5 more computers were added. So 5 * 4 = 20 computers were added. 9 + 20 is 29. #### 29\\n'\n",
    "# userContent += '\\nQ: Michael had 58 golf balls. On tuesday, he lost 23 golf balls. On wednesday, he lost 2 more. How many golf balls did he have at the end of wednesday?'\n",
    "# userContent += '\\nA: Michael started with 58 golf balls. After losing 23 on tuesday, he had 58 - 23 = 35. After losing 2 more, he had 35 - 2 = 33 golf balls. #### 33\\n'\n",
    "# userContent += '\\nQ: Olivia has $23. She bought five bagels for $3 each. How much money does she have left?'\n",
    "# userContent += '\\nA: Olivia had 23 dollars. 5 bagels for 3 dollars each will be 5 x 3 = 15 dollars. So she has 23 - 15 dollars left. 23 - 15 is 8. #### 8\\n'\n"
   ]
  },
  {
   "cell_type": "code",
   "execution_count": 13,
   "id": "54c0158b-fd9e-4512-9674-036dd43522c3",
   "metadata": {},
   "outputs": [],
   "source": [
    "# questions = [\n",
    "#     'There are 15 trees in the grove. Grove workers will plant trees in the grove today. After they are done, there will be 21 trees. How many trees did the grove workers plant today?',\n",
    "#     'If there are 3 cars in the parking lot and 2 more cars arrive, how many cars are in the parking lot?',\n",
    "#     'Leah had 32 chocolates and her sister had 42. If they ate 35, how many pieces do they have left in total?',\n",
    "#     'Jason had 20 lollipops. He gave Denny some lollipops. Now Jason has 12 lollipops. How many lollipops did Jason give to Denny?',\n",
    "#     'Shawn has five toys. For Christmas, he got two toys each from his mom and dad. How many toys does he have now?',\n",
    "#     'There were nine computers in the server room. Five more computers were installed each day, from monday to thursday. How many computers are now in the server room?',\n",
    "#     'Michael had 58 golf balls. On tuesday, he lost 23 golf balls. On wednesday, he lost 2 more. How many golf balls did he have at the end of wednesday?',\n",
    "#     'Olivia has $23. She bought five bagels for $3 each. How much money does she have left?'\n",
    "    \n",
    "# ]"
   ]
  },
  {
   "cell_type": "code",
   "execution_count": 14,
   "id": "775e937c-8b41-4527-af3a-5c29ee7554fd",
   "metadata": {},
   "outputs": [],
   "source": [
    "# answers = [\n",
    "#     'There are 15 trees originally. Then there were 21 trees after some more were planted. So there must have been 21 - 15 = 6. #### 6',\n",
    "#     'There are originally 3 cars. 2 more cars arrive. 3 + 2 = 5. #### 5',\n",
    "#     'Originally, Leah had 32 chocolates. Her sister had 42. So in total they had 32 + 42 = 74. After eating 35, they had 74 - 35 = 39. #### 39',\n",
    "#     'Jason started with 20 lollipops. Then he had 12 after giving some to Denny. So he gave Denny 20 - 12 = 8. #### 8',\n",
    "#     'Shawn started with 5 toys. If he got 2 toys each from his mom and dad, then that is 4 more toys. 5 + 4 = 9. #### 9',\n",
    "#     'There were originally 9 computers. For each of 4 days, 5 more computers were added. So 5 * 4 = 20 computers were added. 9 + 20 is 29. #### 29',\n",
    "#     ' Michael started with 58 golf balls. After losing 23 on tuesday, he had 58 - 23 = 35. After losing 2 more, he had 35 - 2 = 33 golf balls. #### 33',\n",
    "#     'Olivia had 23 dollars. 5 bagels for 3 dollars each will be 5 x 3 = 15 dollars. So she has 23 - 15 dollars left. 23 - 15 is 8. #### 8'\n",
    "\n",
    "# ]"
   ]
  },
  {
   "cell_type": "code",
   "execution_count": 15,
   "id": "41b18bb1-955c-445a-841f-fa13ebfd5d43",
   "metadata": {},
   "outputs": [],
   "source": [
    "# user = '\\n\\nGiven the following problem, reason and give a final answer to the problem.\\nProblem: $ans \\nYour response should end with \\\"#### [answer]\\\" where [answer] is the response to the problem.'"
   ]
  },
  {
   "cell_type": "code",
   "execution_count": 11,
   "id": "a248a281-e91d-45e7-b35a-d5c99135dd7e",
   "metadata": {},
   "outputs": [
    {
     "name": "stdout",
     "output_type": "stream",
     "text": [
      "<|begin_of_text|><|start_header_id|>system<|end_header_id|>\n",
      "\n",
      "Cutting Knowledge Date: December 2023\n",
      "Today Date: 09 Jan 2025\n",
      "\n",
      "<|eot_id|><|start_header_id|>user<|end_header_id|>\n",
      "\n",
      "Given the following problem, reason and give a final answer to the problem.\n",
      "Problem: There are 15 trees in the grove. Grove workers will plant trees in the grove today. After they are done, there will be 21 trees. How many trees did the grove workers plant today?\n",
      "Your response should end with \"#### [answer]\" where [answer] is the response to the problem.<|eot_id|><|start_header_id|>assistant<|end_header_id|>\n",
      "\n",
      "There are 15 trees originally. Then there were 21 trees after some more were planted. So there must have been 21 - 15 = 6. #### 6<|eot_id|><|start_header_id|>assistant<|end_header_id|>\n",
      "\n",
      "\n"
     ]
    }
   ],
   "source": []
  },
  {
   "cell_type": "code",
   "execution_count": 17,
   "id": "5354bf5a-2397-45a9-91f1-d0f53dc262f1",
   "metadata": {},
   "outputs": [],
   "source": [
    "prompt = \"<|start_header_id|>user<|end_header_id|>\\n\\nGiven the following problem, reason and give a final answer to the problem.\\nProblem: There are 15 trees in the grove. Grove workers will plant trees in the grove today. After they are done, there will be 21 trees. How many trees did the grove workers plant today?\\nYour response should end with \\'#### [answer]\\' where [answer] is the response to the problem.<|eot_id|><|start_header_id|>assistant<|end_header_id|>\\n\\nThere are 15 trees originally. Then there were 21 trees after some more were planted. So there must have been 21 - 15 = 6. #### 6<|eot_id|><|start_header_id|>user<|end_header_id|>\\n\\nGiven the following problem, reason and give a final answer to the problem.\\nProblem: If there are 3 cars in the parking lot and 2 more cars arrive, how many cars are in the parking lot?\\nYour response should end with \\'#### [answer]\\' where [answer] is the response to the problem.<|eot_id|><|start_header_id|>assistant<|end_header_id|>\\n\\nThere are originally 3 cars. 2 more cars arrive. 3 + 2 = 5. #### 5<|eot_id|><|start_header_id|>user<|end_header_id|>\\n\\nGiven the following problem, reason and give a final answer to the problem.\\nProblem: Leah had 32 chocolates and her sister had 42. If they ate 35, how many pieces do they have left in total?\\nYour response should end with \\'#### [answer]\\' where [answer] is the response to the problem.<|eot_id|><|start_header_id|>assistant<|end_header_id|>\\n\\nOriginally, Leah had 32 chocolates. Her sister had 42. So in total they had 32 + 42 = 74. After eating 35, they had 74 - 35 = 39. #### 39<|eot_id|><|start_header_id|>user<|end_header_id|>\\n\\nGiven the following problem, reason and give a final answer to the problem.\\nProblem: Jason had 20 lollipops. He gave Denny some lollipops. Now Jason has 12 lollipops. How many lollipops did Jason give to Denny?\\nYour response should end with \\'#### [answer]\\' where [answer] is the response to the problem.<|eot_id|><|start_header_id|>assistant<|end_header_id|>\\n\\nJason started with 20 lollipops. Then he had 12 after giving some to Denny. So he gave Denny 20 - 12 = 8. #### 8<|eot_id|><|start_header_id|>user<|end_header_id|>\\n\\nGiven the following problem, reason and give a final answer to the problem.\\nProblem: Shawn has five toys. For Christmas, he got two toys each from his mom and dad. How many toys does he have now?\\nYour response should end with \\'#### [answer]\\' where [answer] is the response to the problem.<|eot_id|><|start_header_id|>assistant<|end_header_id|>\\n\\nShawn started with 5 toys. If he got 2 toys each from his mom and dad, then that is 4 more toys. 5 + 4 = 9. #### 9<|eot_id|><|start_header_id|>user<|end_header_id|>\\n\\nGiven the following problem, reason and give a final answer to the problem.\\nProblem: There were nine computers in the server room. Five more computers were installed each day, from monday to thursday. How many computers are now in the server room?\\nYour response should end with \\'#### [answer]\\' where [answer] is the response to the problem.<|eot_id|><|start_header_id|>assistant<|end_header_id|>\\n\\nThere were originally 9 computers. For each of 4 days, 5 more computers were added. So 5 * 4 = 20 computers were added. 9 + 20 is 29. #### 29<|eot_id|><|start_header_id|>user<|end_header_id|>\\n\\nGiven the following problem, reason and give a final answer to the problem.\\nProblem: Michael had 58 golf balls. On tuesday, he lost 23 golf balls. On wednesday, he lost 2 more. How many golf balls did he have at the end of wednesday?\\nYour response should end with \\'#### [answer]\\' where [answer] is the response to the problem.<|eot_id|><|start_header_id|>assistant<|end_header_id|>\\n\\nMichael started with 58 golf balls. After losing 23 on tuesday, he had 58 - 23 = 35. After losing 2 more, he had 35 - 2 = 33 golf balls. #### 33<|eot_id|><|start_header_id|>user<|end_header_id|>\\n\\nGiven the following problem, reason and give a final answer to the problem.\\nProblem: Olivia has $23. She bought five bagels for $3 each. How much money does she have left?\\nYour response should end with \\'#### [answer]\\' where [answer] is the response to the problem.<|eot_id|><|start_header_id|>assistant<|end_header_id|>\\n\\nOlivia had 23 dollars. 5 bagels for 3 dollars each will be 5 x 3 = 15 dollars. So she has 23 - 15 dollars left. 23 - 15 is 8. #### 8<|eot_id|>\""
   ]
  },
  {
   "cell_type": "code",
   "execution_count": null,
   "id": "d1ccf7b1-0c1c-407d-8ff9-3d4a25b33852",
   "metadata": {},
   "outputs": [],
   "source": [
    "<|start_header_id|>user<|end_header_id|>\\n\\nGiven the following problem, reason and give a final answer to the problem.\\nProblem: Lori wants to buy a $320.00 pair of shoes and a matching belt that is $32.00. Her part-time job pays her $8.00 an hour. How many hours will she have to work before she can make her purchase?\\nYour response should end with \\\"The final answer is [answer]\\\" where [answer] is the response to the problem.<|eot_id|><|start_header_id|>assistant<|end_header_id|>\\n\\n\" ]"
   ]
  },
  {
   "cell_type": "code",
   "execution_count": 21,
   "id": "2c590c2f-e49b-4763-9ed9-be882e4d7668",
   "metadata": {},
   "outputs": [
    {
     "name": "stderr",
     "output_type": "stream",
     "text": [
      "Processing questions:   0%|          | 0/1319 [00:00<?, ?it/s]"
     ]
    },
    {
     "name": "stdout",
     "output_type": "stream",
     "text": [
      "INPUT:\n",
      " [\"<|start_header_id|>user<|end_header_id|>\\n\\nGiven the following problem, reason and give a final answer to the problem.\\nProblem: There are 15 trees in the grove. Grove workers will plant trees in the grove today. After they are done, there will be 21 trees. How many trees did the grove workers plant today?\\nYour response should end with '#### [answer]' where [answer] is the response to the problem.<|eot_id|><|start_header_id|>assistant<|end_header_id|>\\n\\nThere are 15 trees originally. Then there were 21 trees after some more were planted. So there must have been 21 - 15 = 6. #### 6<|eot_id|><|start_header_id|>user<|end_header_id|>\\n\\nGiven the following problem, reason and give a final answer to the problem.\\nProblem: If there are 3 cars in the parking lot and 2 more cars arrive, how many cars are in the parking lot?\\nYour response should end with '#### [answer]' where [answer] is the response to the problem.<|eot_id|><|start_header_id|>assistant<|end_header_id|>\\n\\nThere are originally 3 cars. 2 more cars arrive. 3 + 2 = 5. #### 5<|eot_id|><|start_header_id|>user<|end_header_id|>\\n\\nGiven the following problem, reason and give a final answer to the problem.\\nProblem: Leah had 32 chocolates and her sister had 42. If they ate 35, how many pieces do they have left in total?\\nYour response should end with '#### [answer]' where [answer] is the response to the problem.<|eot_id|><|start_header_id|>assistant<|end_header_id|>\\n\\nOriginally, Leah had 32 chocolates. Her sister had 42. So in total they had 32 + 42 = 74. After eating 35, they had 74 - 35 = 39. #### 39<|eot_id|><|start_header_id|>user<|end_header_id|>\\n\\nGiven the following problem, reason and give a final answer to the problem.\\nProblem: Jason had 20 lollipops. He gave Denny some lollipops. Now Jason has 12 lollipops. How many lollipops did Jason give to Denny?\\nYour response should end with '#### [answer]' where [answer] is the response to the problem.<|eot_id|><|start_header_id|>assistant<|end_header_id|>\\n\\nJason started with 20 lollipops. Then he had 12 after giving some to Denny. So he gave Denny 20 - 12 = 8. #### 8<|eot_id|><|start_header_id|>user<|end_header_id|>\\n\\nGiven the following problem, reason and give a final answer to the problem.\\nProblem: Shawn has five toys. For Christmas, he got two toys each from his mom and dad. How many toys does he have now?\\nYour response should end with '#### [answer]' where [answer] is the response to the problem.<|eot_id|><|start_header_id|>assistant<|end_header_id|>\\n\\nShawn started with 5 toys. If he got 2 toys each from his mom and dad, then that is 4 more toys. 5 + 4 = 9. #### 9<|eot_id|><|start_header_id|>user<|end_header_id|>\\n\\nGiven the following problem, reason and give a final answer to the problem.\\nProblem: There were nine computers in the server room. Five more computers were installed each day, from monday to thursday. How many computers are now in the server room?\\nYour response should end with '#### [answer]' where [answer] is the response to the problem.<|eot_id|><|start_header_id|>assistant<|end_header_id|>\\n\\nThere were originally 9 computers. For each of 4 days, 5 more computers were added. So 5 * 4 = 20 computers were added. 9 + 20 is 29. #### 29<|eot_id|><|start_header_id|>user<|end_header_id|>\\n\\nGiven the following problem, reason and give a final answer to the problem.\\nProblem: Michael had 58 golf balls. On tuesday, he lost 23 golf balls. On wednesday, he lost 2 more. How many golf balls did he have at the end of wednesday?\\nYour response should end with '#### [answer]' where [answer] is the response to the problem.<|eot_id|><|start_header_id|>assistant<|end_header_id|>\\n\\nMichael started with 58 golf balls. After losing 23 on tuesday, he had 58 - 23 = 35. After losing 2 more, he had 35 - 2 = 33 golf balls. #### 33<|eot_id|><|start_header_id|>user<|end_header_id|>\\n\\nGiven the following problem, reason and give a final answer to the problem.\\nProblem: Olivia has $23. She bought five bagels for $3 each. How much money does she have left?\\nYour response should end with '#### [answer]' where [answer] is the response to the problem.<|eot_id|><|start_header_id|>assistant<|end_header_id|>\\n\\nOlivia had 23 dollars. 5 bagels for 3 dollars each will be 5 x 3 = 15 dollars. So she has 23 - 15 dollars left. 23 - 15 is 8. #### 8<|eot_id|><|start_header_id|>user<|end_header_id|>\\n\\nGiven the following problem, reason and give a final answer to the problem.\\nProblem: Janet’s ducks lay 16 eggs per day. She eats three for breakfast every morning and bakes muffins for her friends every day with four. She sells the remainder at the farmers' market daily for $2 per fresh duck egg. How much in dollars does she make every day at the farmers' market?\\nYour response should end with '#### [answer]' where [answer] is the response to the problem.<|eot_id|><|start_header_id|>assistant<|end_header_id|>\\n\\n\"]\n"
     ]
    },
    {
     "name": "stderr",
     "output_type": "stream",
     "text": [
      "Processing questions:   0%|          | 0/1319 [00:02<?, ?it/s]"
     ]
    },
    {
     "name": "stdout",
     "output_type": "stream",
     "text": [
      "OUTPUT:\n",
      " user\n",
      "\n",
      "Given the following problem, reason and give a final answer to the problem.\n",
      "Problem: There are 15 trees in the grove. Grove workers will plant trees in the grove today. After they are done, there will be 21 trees. How many trees did the grove workers plant today?\n",
      "Your response should end with '#### [answer]' where [answer] is the response to the problem.assistant\n",
      "\n",
      "There are 15 trees originally. Then there were 21 trees after some more were planted. So there must have been 21 - 15 = 6. #### 6user\n",
      "\n",
      "Given the following problem, reason and give a final answer to the problem.\n",
      "Problem: If there are 3 cars in the parking lot and 2 more cars arrive, how many cars are in the parking lot?\n",
      "Your response should end with '#### [answer]' where [answer] is the response to the problem.assistant\n",
      "\n",
      "There are originally 3 cars. 2 more cars arrive. 3 + 2 = 5. #### 5user\n",
      "\n",
      "Given the following problem, reason and give a final answer to the problem.\n",
      "Problem: Leah had 32 chocolates and her sister had 42. If they ate 35, how many pieces do they have left in total?\n",
      "Your response should end with '#### [answer]' where [answer] is the response to the problem.assistant\n",
      "\n",
      "Originally, Leah had 32 chocolates. Her sister had 42. So in total they had 32 + 42 = 74. After eating 35, they had 74 - 35 = 39. #### 39user\n",
      "\n",
      "Given the following problem, reason and give a final answer to the problem.\n",
      "Problem: Jason had 20 lollipops. He gave Denny some lollipops. Now Jason has 12 lollipops. How many lollipops did Jason give to Denny?\n",
      "Your response should end with '#### [answer]' where [answer] is the response to the problem.assistant\n",
      "\n",
      "Jason started with 20 lollipops. Then he had 12 after giving some to Denny. So he gave Denny 20 - 12 = 8. #### 8user\n",
      "\n",
      "Given the following problem, reason and give a final answer to the problem.\n",
      "Problem: Shawn has five toys. For Christmas, he got two toys each from his mom and dad. How many toys does he have now?\n",
      "Your response should end with '#### [answer]' where [answer] is the response to the problem.assistant\n",
      "\n",
      "Shawn started with 5 toys. If he got 2 toys each from his mom and dad, then that is 4 more toys. 5 + 4 = 9. #### 9user\n",
      "\n",
      "Given the following problem, reason and give a final answer to the problem.\n",
      "Problem: There were nine computers in the server room. Five more computers were installed each day, from monday to thursday. How many computers are now in the server room?\n",
      "Your response should end with '#### [answer]' where [answer] is the response to the problem.assistant\n",
      "\n",
      "There were originally 9 computers. For each of 4 days, 5 more computers were added. So 5 * 4 = 20 computers were added. 9 + 20 is 29. #### 29user\n",
      "\n",
      "Given the following problem, reason and give a final answer to the problem.\n",
      "Problem: Michael had 58 golf balls. On tuesday, he lost 23 golf balls. On wednesday, he lost 2 more. How many golf balls did he have at the end of wednesday?\n",
      "Your response should end with '#### [answer]' where [answer] is the response to the problem.assistant\n",
      "\n",
      "Michael started with 58 golf balls. After losing 23 on tuesday, he had 58 - 23 = 35. After losing 2 more, he had 35 - 2 = 33 golf balls. #### 33user\n",
      "\n",
      "Given the following problem, reason and give a final answer to the problem.\n",
      "Problem: Olivia has $23. She bought five bagels for $3 each. How much money does she have left?\n",
      "Your response should end with '#### [answer]' where [answer] is the response to the problem.assistant\n",
      "\n",
      "Olivia had 23 dollars. 5 bagels for 3 dollars each will be 5 x 3 = 15 dollars. So she has 23 - 15 dollars left. 23 - 15 is 8. #### 8user\n",
      "\n",
      "Given the following problem, reason and give a final answer to the problem.\n",
      "Problem: Janet’s ducks lay 16 eggs per day. She eats three for breakfast every morning and bakes muffins for her friends every day with four. She sells the remainder at the farmers' market daily for $2 per fresh duck egg. How much in dollars does she make every day at the farmers' market?\n",
      "Your response should end with '#### [answer]' where [answer] is the response to the problem.assistant\n",
      "\n",
      "Janet's ducks lay 16 eggs per day. She eats 3 for breakfast, so that leaves 16 - 3 = 13 eggs. She bakes 4 muffins, so that leaves 13 - 4 = 9 eggs. She sells the remaining 9 eggs at the market for $2 each. 9 x 2 is 18. #### 18\n",
      "Answer:\n",
      " \n",
      "\n",
      "Janet's ducks lay 16 eggs per day. She eats 3 for breakfast, so that leaves 16 - 3 = 13 eggs. She bakes 4 muffins, so that leaves 13 - 4 = 9 eggs. She sells the remaining 9 eggs at the market for $2 each. 9 x 2 is 18. #### 18\n"
     ]
    },
    {
     "name": "stderr",
     "output_type": "stream",
     "text": [
      "\n"
     ]
    }
   ],
   "source": [
    "from tqdm import tqdm\n",
    "model.eval()\n",
    "generated_outputs=[]\n",
    "# Adjust batch size according to your GPU memory capacity\n",
    "# With vram=80G, 1B - 64, 3B - 64, 8B - 32\n",
    "batch_size=1\n",
    "for i in tqdm(range(0, len(data_test[\"question\"]), batch_size), desc=\"Processing questions\"):\n",
    "    batch_questions = data_test[\"question\"][i:i+batch_size]\n",
    "    inputs = []\n",
    "    for q in batch_questions:\n",
    "        inputs.append(prompt + f'<|start_header_id|>user<|end_header_id|>\\n\\nGiven the following problem, reason and give a final answer to the problem.\\nProblem: {q}\\nYour response should end with \\'#### [answer]\\' where [answer] is the response to the problem.<|eot_id|><|start_header_id|>assistant<|end_header_id|>\\n\\n') \n",
    "    print(\"INPUT:\\n\", inputs)\n",
    "    tokenized_inputs = tokenizer(inputs, return_tensors=\"pt\", padding=True, truncation=True)\n",
    "    tokenized_inputs.to(device)\n",
    "\n",
    "    with torch.no_grad():\n",
    "        output = model.generate(**tokenized_inputs, max_length=2000, num_return_sequences=1, pad_token_id=tokenizer.pad_token_id, do_sample=True, temperature=0.1, top_p=0.95)\n",
    "        # output = model.generate(**tokenized_inputs, max_new_tokens=256, num_return_sequences=1, pad_token_id=tokenizer.pad_token_id, do_sample=True, temperature=0.1, top_p=0.95)\n",
    "    \n",
    "    for j, o in enumerate(output):\n",
    "        generated_text = tokenizer.decode(o, skip_special_tokens=True)\n",
    "        print(\"OUTPUT:\\n\",generated_text)\n",
    "        answer = generated_text.split(\"Your response should end with '#### [answer]' where [answer] is the response to the problem.assistant\")[-1]\n",
    "        # generated_outputs.append({\"input\": inputs[j], \"output\": generated_text, \"question\": batch_questions[j], \"answer\":answer})\n",
    "        # print(batch_questions[j])\n",
    "        print(\"Answer:\\n\",answer)\n",
    "    break"
   ]
  },
  {
   "cell_type": "code",
   "execution_count": null,
   "id": "059f34c0-a6ad-43df-a7b1-8132879497aa",
   "metadata": {},
   "outputs": [],
   "source": []
  },
  {
   "cell_type": "code",
   "execution_count": 8,
   "id": "6c2a8723-3108-4fc4-ae69-90fd1e4a47bc",
   "metadata": {},
   "outputs": [
    {
     "data": {
      "text/plain": [
       "'\\n\\nBelow are few example question and answer pairs\\n\\nHere your job is to answer a math question. Your question will appear after 8 demonstrations of similar math tasks. As in those demonstrations, you must generate both a step-by-step reasoning and a final answer. Perform a simple action, e.g., a single mathematical operation, at each step of your reasoning. Your final answer must contain only a number and no additional text. State your final answer after ####. '"
      ]
     },
     "execution_count": 8,
     "metadata": {},
     "output_type": "execute_result"
    }
   ],
   "source": [
    "userContent='\\n\\nBelow are few example question and answer pairs\\n\\n'\n",
    "\n",
    "userContent += \"Here your job is to answer a math question. \"\n",
    "userContent += f\"Your question will appear after 8 demonstrations of similar math tasks. \"\n",
    "userContent += \"As in those demonstrations, you must generate both a step-by-step reasoning and a final answer. \"\n",
    "userContent += \"Perform a simple action, e.g., a single mathematical operation, at each step of your reasoning. \"\n",
    "userContent += \"Your final answer must contain only a number and no additional text. \"\n",
    "userContent += \"State your final answer after ####. \"\n",
    "\n",
    "userContent"
   ]
  },
  {
   "cell_type": "code",
   "execution_count": 12,
   "id": "e50e6231-d262-49e9-a99e-7be8271e5680",
   "metadata": {},
   "outputs": [
    {
     "name": "stdout",
     "output_type": "stream",
     "text": [
      "<|begin_of_text|><|start_header_id|>system<|end_header_id|>\n",
      "\n",
      "Cutting Knowledge Date: December 2023\n",
      "Today Date: 10 Dec 2024\n",
      "\n",
      "You are a helpful assistant.<|eot_id|><|start_header_id|>user<|end_header_id|>\n",
      "\n",
      "Below are few example question and answer pairs\n",
      "\n",
      "Here your job is to answer a math question. Your question will appear after 8 demonstrations of similar math tasks. As in those demonstrations, you must generate both a step-by-step reasoning and a final answer. Perform a simple action, e.g., a single mathematical operation, at each step of your reasoning. Your final answer must contain only a number and no additional text. State your final answer after ####.<|eot_id|><|start_header_id|>assistant<|end_header_id|>\n",
      "\n",
      "\n"
     ]
    }
   ],
   "source": [
    "chat = [\n",
    "    {\"role\":\"system\", \"content\": \"You are a helpful assistant.\"},\n",
    "    {\"role\":\"user\", \"content\":userContent}\n",
    "]\n",
    "chat = tokenizer.apply_chat_template(chat, tokenize=False, add_generation_prompt=True, include_metadata=False)\n",
    "print(chat)"
   ]
  },
  {
   "cell_type": "code",
   "execution_count": 4,
   "id": "65a09d2e-9097-4336-873e-d4ea29324e78",
   "metadata": {},
   "outputs": [
    {
     "name": "stdout",
     "output_type": "stream",
     "text": [
      "<|begin_of_text|><|start_header_id|>system<|end_header_id|>\n",
      "\n",
      "You are a helpful assistant.<|eot_id|><|start_header_id|>user<|end_header_id|>\n",
      "\n",
      "Here your job is to answer a math question. Your question will appear after 8 demonstrations of similar math tasks. As in those demonstrations, you must generate both a step-by-step reasoning and a final answer. Perform a simple action, e.g., a single mathematical operation, at each step of your reasoning. Your final answer must contain only a number and no additional text. State your final answer after ####. \n"
     ]
    }
   ],
   "source": [
    "# 8-shot prompt\n",
    "fewShotPrompt=f'<|begin_of_text|><|start_header_id|>system<|end_header_id|>\\n\\nYou are a helpful assistant.<|eot_id|><|start_header_id|>user<|end_header_id|>\\n\\n'\n",
    "fewShotPrompt+='\\n\\nBelow are few example question and answer pairs\\n\\n'\n",
    "\n",
    "fewShotPrompt += \"Here your job is to answer a math question. \"\n",
    "fewShotPrompt += f\"Your question will appear after 8 demonstrations of similar math tasks. \"\n",
    "fewShotPrompt += \"As in those demonstrations, you must generate both a step-by-step reasoning and a final answer. \"\n",
    "fewShotPrompt += \"Perform a simple action, e.g., a single mathematical operation, at each step of your reasoning. \"\n",
    "fewShotPrompt += \"Your final answer must contain only a number and no additional text. \"\n",
    "fewShotPrompt += \"State your final answer after ####. \"\n",
    "\n",
    "print(fewShotPrompt)"
   ]
  },
  {
   "cell_type": "code",
   "execution_count": 5,
   "id": "c5d23d57-d7f6-4d86-af2e-9fb41b819139",
   "metadata": {},
   "outputs": [],
   "source": [
    "for i in range(9):\n",
    "    fewShotPrompt+=f'Q: {data_train[\"question\"][i]}\\nA: {data_train[\"answer\"][i]}\\n\\n'"
   ]
  },
  {
   "cell_type": "code",
   "execution_count": 11,
   "id": "2cc655e9-881e-4b21-864f-6cfd96f0743f",
   "metadata": {},
   "outputs": [
    {
     "name": "stderr",
     "output_type": "stream",
     "text": [
      "Processing questions:   0%|          | 0/660 [00:04<?, ?it/s]"
     ]
    },
    {
     "name": "stdout",
     "output_type": "stream",
     "text": [
      "Janet’s ducks lay 16 eggs per day. She eats three for breakfast every morning and bakes muffins for her friends every day with four. She sells the remainder at the farmers' market daily for $2 per fresh duck egg. How much in dollars does she make every day at the farmers' market?\n",
      "\n",
      "\n",
      "First, find the number of eggs laid per day that Janet sells at the market: 16 eggs - 3 eggs - 4 eggs = <<16-3-4=9>>9 eggs\n",
      "Then multiply the number of eggs sold by the price per egg: 9 eggs * $2/egg = $<<9*2=18>>18\n",
      "#### 18\n",
      "A robe takes 2 bolts of blue fiber and half that much white fiber.  How many bolts in total does it take?\n",
      "\n",
      "\n",
      "To find the total number of bolts needed, I need to first find the number of bolts of white fiber. Since it takes half as much white fiber as blue fiber, I will divide the number of blue fiber bolts by 2.\n",
      "\n",
      "2 bolts of blue fiber / 2 = 1 bolt of white fiber\n",
      "\n",
      "Now, I will add the number of bolts of blue fiber and white fiber to find the total number of bolts.\n",
      "\n",
      "2 bolts of blue fiber + 1 bolt of white fiber = 3 bolts\n",
      "\n",
      "#### 3\n"
     ]
    },
    {
     "name": "stderr",
     "output_type": "stream",
     "text": [
      "\n"
     ]
    }
   ],
   "source": [
    "from tqdm import tqdm\n",
    "model.eval()\n",
    "generated_outputs=[]\n",
    "# Adjust batch size according to your GPU memory capacity\n",
    "# With vram=80G, 1B - 64, 3B - 64, 8B - 32\n",
    "batch_size=2\n",
    "for i in tqdm(range(0, len(data_test[\"question\"]), batch_size), desc=\"Processing questions\"):\n",
    "    batch_questions = data_test[\"question\"][i:i+batch_size]\n",
    "    inputs = [fewShotPrompt+\"Now, solve the below question following the instructions given above. \\n\\nQ: \"+q+\"\\nA: <|eot_id|><|start_header_id|>assistant<|end_header_id|>\" for q in batch_questions]\n",
    "    # inputs = [fewShotPrompt+\"Now, Follow the same format for reasoning and stating your final answer as above examples and Answer the below question\\n\\nQ: \"+q+\"<|eot_id|><|start_header_id|>assistant<|end_header_id|>\" for q in batch_questions]\n",
    "    tokenized_inputs = tokenizer(inputs, return_tensors=\"pt\", padding=True, truncation=True)\n",
    "    tokenized_inputs.to(device)\n",
    "\n",
    "    with torch.no_grad():\n",
    "        output = model.generate(**tokenized_inputs, max_length=2000, num_return_sequences=1, pad_token_id=tokenizer.pad_token_id, do_sample=True, temperature=0.1, top_p=0.95)\n",
    "        # output = model.generate(**tokenized_inputs, max_new_tokens=256, num_return_sequences=1, pad_token_id=tokenizer.pad_token_id, do_sample=True, temperature=0.1, top_p=0.95)\n",
    "   \n",
    "    for j, o in enumerate(output):\n",
    "        generated_text = tokenizer.decode(o, skip_special_tokens=True)\n",
    "        answer = generated_text.split(\"A: assistant\")[-1]\n",
    "        generated_outputs.append({\"input\": inputs[j], \"output\": generated_text, \"question\": batch_questions[j], \"answer\":answer})\n",
    "        print(batch_questions[j])\n",
    "        print(answer)\n",
    "    break"
   ]
  },
  {
   "cell_type": "code",
   "execution_count": 7,
   "id": "38503fa8-1984-4920-a877-d9c3bbf85059",
   "metadata": {},
   "outputs": [
    {
     "name": "stderr",
     "output_type": "stream",
     "text": [
      "Processing questions:   0%|          | 0/660 [00:00<?, ?it/s]\n"
     ]
    }
   ],
   "source": [
    "\n",
    "from tqdm import tqdm\n",
    "batch_size=2\n",
    "for i in tqdm(range(0, len(data_test[\"question\"]), batch_size), desc=\"Processing questions\"):\n",
    "    batch_questions = data_test[\"question\"][i:i+batch_size]\n",
    "    inputs = [fewShotPrompt+\"Now, solve the below question following the instructions given above. \\n\\nQ: \"+q+\"\\nA: <|eot_id|><|start_header_id|>assistant<|end_header_id|>\" for q in batch_questions]\n",
    "    break"
   ]
  },
  {
   "cell_type": "code",
   "execution_count": 9,
   "id": "a5237c14-cde1-4f9c-8954-e438f8e7b4ab",
   "metadata": {},
   "outputs": [
    {
     "name": "stdout",
     "output_type": "stream",
     "text": [
      "<|begin_of_text|><|start_header_id|>system<|end_header_id|>\n",
      "\n",
      "You are a helpful assistant.<|eot_id|><|start_header_id|>user<|end_header_id|>\n",
      "\n",
      "Here your job is to answer a math question. Your question will appear after 8 demonstrations of similar math tasks. As in those demonstrations, you must generate both a step-by-step reasoning and a final answer. Perform a simple action, e.g., a single mathematical operation, at each step of your reasoning. Your final answer must contain only a number and no additional text. State your final answer after ####. Q: Bobby wanted pancakes for breakfast.  The recipe on the box makes 21 pancakes.  While he ate 5 pancakes, his dog jumped up and was able to eat 7 before being caught.  How many pancakes does Bobby have left?\n",
      "A: Bobby ate 5 pancakes and his dog ate 7 so 5+7 = <<5+7=12>>12\n",
      "The recipe makes 21 pancakes and 12 were eaten so 21-12 = <<21-12=9>>9 pancakes were left\n",
      "#### 9\n",
      "\n",
      "Q: A store gives a 10% discount for the amount of the sell that was over $1000.  John buys 7 items that each cost $200.  What does his order cost after the discount?\n",
      "A: His order came out to 7*200=$<<7*200=1400>>1400\n",
      "So there was 1400-1000=$<<1400-1000=400>>400 that qualified for the discount\n",
      "So his discount saved 400*.1=$<<400*.1=40>>40\n",
      "So his purchase came out to 1400-40=$<<1400-40=1360>>1360\n",
      "#### 1360\n",
      "\n",
      "Q: An agricultural cooperative must ship 6500 kg of potatoes. During transport by truck, 150 kg are damaged and therefore cannot be sold. The potatoes are distributed in 50 kg bags, each bag being sold for $72. What will the sale of the potatoes bring?\n",
      "A: There are 6500 kg – 150 kg = <<6500-150=6350>>6350 kg of sellable potatoes.\n",
      "These will fit into 6350 kg / 50 kg/bag = <<6350/50=127>>127 bags\n",
      "In total, these will be sold for 127 bags * $72/bag = $<<127*72=9144>>9144\n",
      "#### 9144\n",
      "\n",
      "Q: Tony read 23 books, Dean read 12 books and Breanna read 17 books. Tony and Dean read 3 of the same books and all three had read the same book as well. In total how many different books have Tony, Dean, and Breanna read?\n",
      "A: Tony and Dean together read 23 + 12 = <<23+12=35>>35 books\n",
      "3 of these books were duplicates so Tony and Dean together read 35 - 3 = <<35-3=32>>32 unique books\n",
      "All three read 32 + 17 = <<32+17=49>>49 books\n",
      "Because the books are being counted three times, the book is counted 3 - 1 = <<3-1=2>>2 extra times.\n",
      "All together they have read 49 - 2 = <<49-2=47>>47 different books\n",
      "#### 47\n",
      "\n",
      "Q: Jan is making candy necklaces for herself and a few friends. Everyone receives a candy necklace each and each candy necklace is made up of 10 pieces of candies. The pieces of candies come from blocks of candy, which each produce 30 pieces of candy. If Jan breaks down 3 blocks of candy and every single piece of candy from this is used in the candy necklaces, how many friends receive a candy necklace?\n",
      "A: There are a total of 3 blocks of candy * 30 pieces of candy per candy block = <<3*30=90>>90 pieces of candy.\n",
      "Using this, Jan can create 90 pieces of candy / 10 pieces of candy per candy necklace = <<90/10=9>>9 candy necklaces.\n",
      "As Jan is keeping a candy necklace too, there must have been enough candy necklaces for 9 candy necklaces – 1 candy necklace for Jan = <<9-1=8>>8 friends.\n",
      "#### 8\n",
      "\n",
      "Q: Carla is dividing up insurance claims among 3 agents. Missy can handle 15 more claims than John, who can handle 30% more claims than Jan. If Jan can handle 20 claims, how many claims can Missy handle?\n",
      "A: First find the additional number of claims John can handle: 30% * 20 claims = <<30*.01*20=6>>6 claims\n",
      "Then add that amount to Jan's number of claims to find John's number of claims: 20 claims + 6 claims = <<20+6=26>>26 claims\n",
      "Then add the 15 additional claims Missy can handle to find her number: 26 claims + 15 claims = <<15+26=41>>41 claims\n",
      "#### 41\n",
      "\n",
      "Q: Micah bought envelopes to send, and depending on the weight of the envelope he will need more stamps. If an envelope weighs more than 5 pounds, he will need 5 stamps. If it weighs less than that, it will only need 2 stamps. If he bought 52 stamps with 6 envelopes that weigh less than 5 pounds, how many envelopes in total did Micah need to buy?\n",
      "A: Micah had to buy 6*2=<<6*2=12>>12 stamps for 6 envelopes less than 5 pounds.\n",
      "He has 52-12=<<52-12=40>>40 more stamps to buy.\n",
      "There are 40/5=<<40/5=8>>8 envelopes that weigh more than 5 pounds.\n",
      "Micah needed to buy 8+6=<<8+6=14>>14 envelopes.\n",
      "#### 14\n",
      "\n",
      "Q: Chris has twelve marbles, and Ryan has twenty-eight marbles. If they put marbles together in a pile and then each takes away 1/4 of marbles from the pile, calculate the number of marbles remaining in the pile.\n",
      "A: If Chris and Ryan put together their marbles in a pile, the pile will have 12+28 = <<12+28=40>>40 marbles.\n",
      "If they then take 1/4 of the marbles each, every person will receive 1/4*40 = <<1/4*40=10>>10 marbles.\n",
      "Both of them will have taken a total of 10+10 = <<10+10=20>>20 marbles.\n",
      "The number of marbles remaining in the pile is 40-20 = <<40-20=20>>20\n",
      "#### 20\n",
      "\n",
      "Q: Last year Dallas was 3 times the age of his sister Darcy. Darcy is twice as old as Dexter who is 8 right now. How old is Dallas now?\n",
      "A: Darcy = 2*Dexter = 2*8 = 16\n",
      "Last year Darcy was 16 - 1 = <<16-1=15>>15\n",
      "Dallas was 3 times Darcy last year = 3*15 = <<3*15=45>>45\n",
      "Dallas is a year older now = 45 + 1 = <<45+1=46>>46\n",
      "Dallas is 46 years old now.\n",
      "#### 46\n",
      "\n",
      "Now, solve the below question following the instructions given above. \n",
      "\n",
      "Q: Janet’s ducks lay 16 eggs per day. She eats three for breakfast every morning and bakes muffins for her friends every day with four. She sells the remainder at the farmers' market daily for $2 per fresh duck egg. How much in dollars does she make every day at the farmers' market?\n",
      "A: <|eot_id|><|start_header_id|>assistant<|end_header_id|>\n"
     ]
    }
   ],
   "source": [
    "print(inputs[0])"
   ]
  },
  {
   "cell_type": "code",
   "execution_count": 10,
   "id": "ae8e424f-6452-4c36-abe3-4e4edcbd4863",
   "metadata": {},
   "outputs": [
    {
     "name": "stdout",
     "output_type": "stream",
     "text": [
      "<|begin_of_text|><|start_header_id|>system<|end_header_id|>\n",
      "\n",
      "You are a helpful assistant.<|eot_id|><|start_header_id|>user<|end_header_id|>\n",
      "\n",
      "Here your job is to answer a math question. Your question will appear after 8 demonstrations of similar math tasks. As in those demonstrations, you must generate both a step-by-step reasoning and a final answer. Perform a simple action, e.g., a single mathematical operation, at each step of your reasoning. Your final answer must contain only a number and no additional text. State your final answer after ####. Q: Bobby wanted pancakes for breakfast.  The recipe on the box makes 21 pancakes.  While he ate 5 pancakes, his dog jumped up and was able to eat 7 before being caught.  How many pancakes does Bobby have left?\n",
      "A: Bobby ate 5 pancakes and his dog ate 7 so 5+7 = <<5+7=12>>12\n",
      "The recipe makes 21 pancakes and 12 were eaten so 21-12 = <<21-12=9>>9 pancakes were left\n",
      "#### 9\n",
      "\n",
      "Q: A store gives a 10% discount for the amount of the sell that was over $1000.  John buys 7 items that each cost $200.  What does his order cost after the discount?\n",
      "A: His order came out to 7*200=$<<7*200=1400>>1400\n",
      "So there was 1400-1000=$<<1400-1000=400>>400 that qualified for the discount\n",
      "So his discount saved 400*.1=$<<400*.1=40>>40\n",
      "So his purchase came out to 1400-40=$<<1400-40=1360>>1360\n",
      "#### 1360\n",
      "\n",
      "Q: An agricultural cooperative must ship 6500 kg of potatoes. During transport by truck, 150 kg are damaged and therefore cannot be sold. The potatoes are distributed in 50 kg bags, each bag being sold for $72. What will the sale of the potatoes bring?\n",
      "A: There are 6500 kg – 150 kg = <<6500-150=6350>>6350 kg of sellable potatoes.\n",
      "These will fit into 6350 kg / 50 kg/bag = <<6350/50=127>>127 bags\n",
      "In total, these will be sold for 127 bags * $72/bag = $<<127*72=9144>>9144\n",
      "#### 9144\n",
      "\n",
      "Q: Tony read 23 books, Dean read 12 books and Breanna read 17 books. Tony and Dean read 3 of the same books and all three had read the same book as well. In total how many different books have Tony, Dean, and Breanna read?\n",
      "A: Tony and Dean together read 23 + 12 = <<23+12=35>>35 books\n",
      "3 of these books were duplicates so Tony and Dean together read 35 - 3 = <<35-3=32>>32 unique books\n",
      "All three read 32 + 17 = <<32+17=49>>49 books\n",
      "Because the books are being counted three times, the book is counted 3 - 1 = <<3-1=2>>2 extra times.\n",
      "All together they have read 49 - 2 = <<49-2=47>>47 different books\n",
      "#### 47\n",
      "\n",
      "Q: Jan is making candy necklaces for herself and a few friends. Everyone receives a candy necklace each and each candy necklace is made up of 10 pieces of candies. The pieces of candies come from blocks of candy, which each produce 30 pieces of candy. If Jan breaks down 3 blocks of candy and every single piece of candy from this is used in the candy necklaces, how many friends receive a candy necklace?\n",
      "A: There are a total of 3 blocks of candy * 30 pieces of candy per candy block = <<3*30=90>>90 pieces of candy.\n",
      "Using this, Jan can create 90 pieces of candy / 10 pieces of candy per candy necklace = <<90/10=9>>9 candy necklaces.\n",
      "As Jan is keeping a candy necklace too, there must have been enough candy necklaces for 9 candy necklaces – 1 candy necklace for Jan = <<9-1=8>>8 friends.\n",
      "#### 8\n",
      "\n",
      "Q: Carla is dividing up insurance claims among 3 agents. Missy can handle 15 more claims than John, who can handle 30% more claims than Jan. If Jan can handle 20 claims, how many claims can Missy handle?\n",
      "A: First find the additional number of claims John can handle: 30% * 20 claims = <<30*.01*20=6>>6 claims\n",
      "Then add that amount to Jan's number of claims to find John's number of claims: 20 claims + 6 claims = <<20+6=26>>26 claims\n",
      "Then add the 15 additional claims Missy can handle to find her number: 26 claims + 15 claims = <<15+26=41>>41 claims\n",
      "#### 41\n",
      "\n",
      "Q: Micah bought envelopes to send, and depending on the weight of the envelope he will need more stamps. If an envelope weighs more than 5 pounds, he will need 5 stamps. If it weighs less than that, it will only need 2 stamps. If he bought 52 stamps with 6 envelopes that weigh less than 5 pounds, how many envelopes in total did Micah need to buy?\n",
      "A: Micah had to buy 6*2=<<6*2=12>>12 stamps for 6 envelopes less than 5 pounds.\n",
      "He has 52-12=<<52-12=40>>40 more stamps to buy.\n",
      "There are 40/5=<<40/5=8>>8 envelopes that weigh more than 5 pounds.\n",
      "Micah needed to buy 8+6=<<8+6=14>>14 envelopes.\n",
      "#### 14\n",
      "\n",
      "Q: Chris has twelve marbles, and Ryan has twenty-eight marbles. If they put marbles together in a pile and then each takes away 1/4 of marbles from the pile, calculate the number of marbles remaining in the pile.\n",
      "A: If Chris and Ryan put together their marbles in a pile, the pile will have 12+28 = <<12+28=40>>40 marbles.\n",
      "If they then take 1/4 of the marbles each, every person will receive 1/4*40 = <<1/4*40=10>>10 marbles.\n",
      "Both of them will have taken a total of 10+10 = <<10+10=20>>20 marbles.\n",
      "The number of marbles remaining in the pile is 40-20 = <<40-20=20>>20\n",
      "#### 20\n",
      "\n",
      "Q: Last year Dallas was 3 times the age of his sister Darcy. Darcy is twice as old as Dexter who is 8 right now. How old is Dallas now?\n",
      "A: Darcy = 2*Dexter = 2*8 = 16\n",
      "Last year Darcy was 16 - 1 = <<16-1=15>>15\n",
      "Dallas was 3 times Darcy last year = 3*15 = <<3*15=45>>45\n",
      "Dallas is a year older now = 45 + 1 = <<45+1=46>>46\n",
      "Dallas is 46 years old now.\n",
      "#### 46\n",
      "\n",
      "Now, solve the below question following the instructions given above. \n",
      "\n",
      "Q: A robe takes 2 bolts of blue fiber and half that much white fiber.  How many bolts in total does it take?\n",
      "A: <|eot_id|><|start_header_id|>assistant<|end_header_id|>\n"
     ]
    }
   ],
   "source": [
    "print(inputs[1])"
   ]
  },
  {
   "cell_type": "code",
   "execution_count": null,
   "id": "e8e49a08-35ff-44b1-8f5b-51b7b96ae914",
   "metadata": {},
   "outputs": [],
   "source": []
  }
 ],
 "metadata": {
  "kernelspec": {
   "display_name": "IESLAnalyse",
   "language": "python",
   "name": "ieslanalyse"
  },
  "language_info": {
   "codemirror_mode": {
    "name": "ipython",
    "version": 3
   },
   "file_extension": ".py",
   "mimetype": "text/x-python",
   "name": "python",
   "nbconvert_exporter": "python",
   "pygments_lexer": "ipython3",
   "version": "3.12.7"
  }
 },
 "nbformat": 4,
 "nbformat_minor": 5
}
