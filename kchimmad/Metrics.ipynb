{
 "cells": [
  {
   "cell_type": "code",
   "execution_count": 1,
   "id": "87716ec4-8d2d-4229-8fc0-5502eb790d8f",
   "metadata": {},
   "outputs": [],
   "source": [
    "import torch\n",
    "from transformers import pipeline, AutoModelForCausalLM, AutoTokenizer, AutoConfig\n",
    "import os\n",
    "from datasets import load_from_disk\n",
    "os.environ['TRANSFORMERS_CACHE'] = '/scratch/workspace/wenlongzhao_umass_edu-analyze/transformers_cache'\n",
    "\n"
   ]
  },
  {
   "cell_type": "code",
   "execution_count": 7,
   "id": "2769a366-2bd1-48d9-8fb4-5c6af92935d5",
   "metadata": {},
   "outputs": [
    {
     "data": {
      "text/plain": [
       "Dataset({\n",
       "    features: ['question', 'answer'],\n",
       "    num_rows: 5082\n",
       "})"
      ]
     },
     "execution_count": 7,
     "metadata": {},
     "output_type": "execute_result"
    }
   ],
   "source": [
    "data_feedback = load_from_disk(\"/scratch/workspace/wenlongzhao_umass_edu-analyze/Bidirectional-Teacher-Student-Communication-for-LLM-Alignment/datasets/gsm8k/feedback\")\n",
    "data_feedback\n"
   ]
  },
  {
   "cell_type": "code",
   "execution_count": 8,
   "id": "9053c9c4-4d11-4a6f-820d-e35905b6e204",
   "metadata": {},
   "outputs": [
    {
     "data": {
      "text/plain": [
       "Dataset({\n",
       "    features: ['question', 'answer'],\n",
       "    num_rows: 896\n",
       "})"
      ]
     },
     "execution_count": 8,
     "metadata": {},
     "output_type": "execute_result"
    }
   ],
   "source": [
    "data_train = load_from_disk(\"/scratch/workspace/wenlongzhao_umass_edu-analyze/Bidirectional-Teacher-Student-Communication-for-LLM-Alignment/datasets/gsm8k/train\")\n",
    "data_train"
   ]
  },
  {
   "cell_type": "code",
   "execution_count": 9,
   "id": "3b6052ce-e9bf-4d08-8f2c-3b7411104a0c",
   "metadata": {},
   "outputs": [],
   "source": [
    "import pandas as pd"
   ]
  },
  {
   "cell_type": "code",
   "execution_count": 36,
   "id": "5299fb78-b4af-4897-a40f-a4b3c4fb5e32",
   "metadata": {},
   "outputs": [],
   "source": [
    "path = '/scratch/workspace/wenlongzhao_umass_edu-analyze/Bidirectional-Teacher-Student-Communication-for-LLM-Alignment/outputs/gsm8k/LLaMA8B/generated_outputs.json'\n",
    "df = pd.read_json(path)"
   ]
  },
  {
   "cell_type": "code",
   "execution_count": 11,
   "id": "3cfdac14-868d-4574-85e0-f238792bc0ad",
   "metadata": {},
   "outputs": [
    {
     "data": {
      "text/html": [
       "<div>\n",
       "<style scoped>\n",
       "    .dataframe tbody tr th:only-of-type {\n",
       "        vertical-align: middle;\n",
       "    }\n",
       "\n",
       "    .dataframe tbody tr th {\n",
       "        vertical-align: top;\n",
       "    }\n",
       "\n",
       "    .dataframe thead th {\n",
       "        text-align: right;\n",
       "    }\n",
       "</style>\n",
       "<table border=\"1\" class=\"dataframe\">\n",
       "  <thead>\n",
       "    <tr style=\"text-align: right;\">\n",
       "      <th></th>\n",
       "      <th>input</th>\n",
       "      <th>output</th>\n",
       "    </tr>\n",
       "  </thead>\n",
       "  <tbody>\n",
       "    <tr>\n",
       "      <th>0</th>\n",
       "      <td>&lt;|begin_of_text|&gt;&lt;|start_header_id|&gt;system&lt;|en...</td>\n",
       "      <td>system\\n\\nYou are a helpful assistantuser\\n\\nB...</td>\n",
       "    </tr>\n",
       "    <tr>\n",
       "      <th>1</th>\n",
       "      <td>&lt;|begin_of_text|&gt;&lt;|start_header_id|&gt;system&lt;|en...</td>\n",
       "      <td>system\\n\\nYou are a helpful assistantuser\\n\\nB...</td>\n",
       "    </tr>\n",
       "    <tr>\n",
       "      <th>2</th>\n",
       "      <td>&lt;|begin_of_text|&gt;&lt;|start_header_id|&gt;system&lt;|en...</td>\n",
       "      <td>system\\n\\nYou are a helpful assistantuser\\n\\nB...</td>\n",
       "    </tr>\n",
       "    <tr>\n",
       "      <th>3</th>\n",
       "      <td>&lt;|begin_of_text|&gt;&lt;|start_header_id|&gt;system&lt;|en...</td>\n",
       "      <td>system\\n\\nYou are a helpful assistantuser\\n\\nB...</td>\n",
       "    </tr>\n",
       "    <tr>\n",
       "      <th>4</th>\n",
       "      <td>&lt;|begin_of_text|&gt;&lt;|start_header_id|&gt;system&lt;|en...</td>\n",
       "      <td>system\\n\\nYou are a helpful assistantuser\\n\\nB...</td>\n",
       "    </tr>\n",
       "  </tbody>\n",
       "</table>\n",
       "</div>"
      ],
      "text/plain": [
       "                                               input  \\\n",
       "0  <|begin_of_text|><|start_header_id|>system<|en...   \n",
       "1  <|begin_of_text|><|start_header_id|>system<|en...   \n",
       "2  <|begin_of_text|><|start_header_id|>system<|en...   \n",
       "3  <|begin_of_text|><|start_header_id|>system<|en...   \n",
       "4  <|begin_of_text|><|start_header_id|>system<|en...   \n",
       "\n",
       "                                              output  \n",
       "0  system\\n\\nYou are a helpful assistantuser\\n\\nB...  \n",
       "1  system\\n\\nYou are a helpful assistantuser\\n\\nB...  \n",
       "2  system\\n\\nYou are a helpful assistantuser\\n\\nB...  \n",
       "3  system\\n\\nYou are a helpful assistantuser\\n\\nB...  \n",
       "4  system\\n\\nYou are a helpful assistantuser\\n\\nB...  "
      ]
     },
     "execution_count": 11,
     "metadata": {},
     "output_type": "execute_result"
    }
   ],
   "source": [
    "df.head()"
   ]
  },
  {
   "cell_type": "code",
   "execution_count": 33,
   "id": "c10a0d03-5054-4f88-8642-1b71ec31e8d3",
   "metadata": {},
   "outputs": [],
   "source": [
    "def get_answer_dataset(row):\n",
    "    return row['answer'].split('####')[-1]\n",
    "def get_answer_model(row):\n",
    "    return row['output'].split('####')[-1]"
   ]
  },
  {
   "cell_type": "code",
   "execution_count": 37,
   "id": "5357ede6-8f2b-43fe-ac35-326417eb8bf0",
   "metadata": {},
   "outputs": [],
   "source": [
    "df.drop(columns=['score'],inplace=True)\n",
    "df['model_answer']=df.apply(get_answer_model,axis=1)"
   ]
  },
  {
   "cell_type": "code",
   "execution_count": 38,
   "id": "ae76bf23-cf54-48ba-afec-687241906588",
   "metadata": {},
   "outputs": [
    {
     "data": {
      "text/html": [
       "<div>\n",
       "<style scoped>\n",
       "    .dataframe tbody tr th:only-of-type {\n",
       "        vertical-align: middle;\n",
       "    }\n",
       "\n",
       "    .dataframe tbody tr th {\n",
       "        vertical-align: top;\n",
       "    }\n",
       "\n",
       "    .dataframe thead th {\n",
       "        text-align: right;\n",
       "    }\n",
       "</style>\n",
       "<table border=\"1\" class=\"dataframe\">\n",
       "  <thead>\n",
       "    <tr style=\"text-align: right;\">\n",
       "      <th></th>\n",
       "      <th>input</th>\n",
       "      <th>output</th>\n",
       "      <th>model_answer</th>\n",
       "    </tr>\n",
       "  </thead>\n",
       "  <tbody>\n",
       "    <tr>\n",
       "      <th>0</th>\n",
       "      <td>&lt;|begin_of_text|&gt;&lt;|start_header_id|&gt;system&lt;|en...</td>\n",
       "      <td>system\\n\\nYou are a helpful assistantuser\\n\\nB...</td>\n",
       "      <td>108</td>\n",
       "    </tr>\n",
       "    <tr>\n",
       "      <th>1</th>\n",
       "      <td>&lt;|begin_of_text|&gt;&lt;|start_header_id|&gt;system&lt;|en...</td>\n",
       "      <td>system\\n\\nYou are a helpful assistantuser\\n\\nB...</td>\n",
       "      <td>3</td>\n",
       "    </tr>\n",
       "    <tr>\n",
       "      <th>2</th>\n",
       "      <td>&lt;|begin_of_text|&gt;&lt;|start_header_id|&gt;system&lt;|en...</td>\n",
       "      <td>system\\n\\nYou are a helpful assistantuser\\n\\nB...</td>\n",
       "      <td>50%</td>\n",
       "    </tr>\n",
       "    <tr>\n",
       "      <th>3</th>\n",
       "      <td>&lt;|begin_of_text|&gt;&lt;|start_header_id|&gt;system&lt;|en...</td>\n",
       "      <td>system\\n\\nYou are a helpful assistantuser\\n\\nB...</td>\n",
       "      <td>3</td>\n",
       "    </tr>\n",
       "    <tr>\n",
       "      <th>4</th>\n",
       "      <td>&lt;|begin_of_text|&gt;&lt;|start_header_id|&gt;system&lt;|en...</td>\n",
       "      <td>system\\n\\nYou are a helpful assistantuser\\n\\nB...</td>\n",
       "      <td>159</td>\n",
       "    </tr>\n",
       "  </tbody>\n",
       "</table>\n",
       "</div>"
      ],
      "text/plain": [
       "                                               input  \\\n",
       "0  <|begin_of_text|><|start_header_id|>system<|en...   \n",
       "1  <|begin_of_text|><|start_header_id|>system<|en...   \n",
       "2  <|begin_of_text|><|start_header_id|>system<|en...   \n",
       "3  <|begin_of_text|><|start_header_id|>system<|en...   \n",
       "4  <|begin_of_text|><|start_header_id|>system<|en...   \n",
       "\n",
       "                                              output model_answer  \n",
       "0  system\\n\\nYou are a helpful assistantuser\\n\\nB...          108  \n",
       "1  system\\n\\nYou are a helpful assistantuser\\n\\nB...            3  \n",
       "2  system\\n\\nYou are a helpful assistantuser\\n\\nB...          50%  \n",
       "3  system\\n\\nYou are a helpful assistantuser\\n\\nB...            3  \n",
       "4  system\\n\\nYou are a helpful assistantuser\\n\\nB...          159  "
      ]
     },
     "execution_count": 38,
     "metadata": {},
     "output_type": "execute_result"
    }
   ],
   "source": [
    "df.head()"
   ]
  },
  {
   "cell_type": "code",
   "execution_count": 44,
   "id": "8d7d013d-c23c-44f4-9154-ba9dee214853",
   "metadata": {},
   "outputs": [],
   "source": [
    "from evaluate import load\n",
    "from tqdm import tqdm\n",
    "exact_match_metric = load(\"exact_match\")"
   ]
  },
  {
   "cell_type": "code",
   "execution_count": 45,
   "id": "9f236d43-3d9f-443d-ae65-b16ab669ff81",
   "metadata": {},
   "outputs": [],
   "source": [
    "# results = exact_match_metric.compute(predictions=[df.iloc[3]['model_answer']], references=[data_feedback[\"answer\"][3].split(\"####\")[-1]])"
   ]
  },
  {
   "cell_type": "code",
   "execution_count": 45,
   "id": "ee544a94-e4c4-4ac7-8e88-5a181c7951f2",
   "metadata": {},
   "outputs": [
    {
     "data": {
      "text/html": [
       "<div>\n",
       "<style scoped>\n",
       "    .dataframe tbody tr th:only-of-type {\n",
       "        vertical-align: middle;\n",
       "    }\n",
       "\n",
       "    .dataframe tbody tr th {\n",
       "        vertical-align: top;\n",
       "    }\n",
       "\n",
       "    .dataframe thead th {\n",
       "        text-align: right;\n",
       "    }\n",
       "</style>\n",
       "<table border=\"1\" class=\"dataframe\">\n",
       "  <thead>\n",
       "    <tr style=\"text-align: right;\">\n",
       "      <th></th>\n",
       "      <th>question</th>\n",
       "      <th>answer</th>\n",
       "    </tr>\n",
       "  </thead>\n",
       "  <tbody>\n",
       "    <tr>\n",
       "      <th>0</th>\n",
       "      <td>Jordan read 120 French novels last holiday. Hi...</td>\n",
       "      <td>Alexandre read 120 * 1/10 = &lt;&lt;120*1/10=12&gt;&gt;12 ...</td>\n",
       "    </tr>\n",
       "    <tr>\n",
       "      <th>1</th>\n",
       "      <td>Samantha’s last name has three fewer letters t...</td>\n",
       "      <td>There are 4 letters in Jamie’s last name, so B...</td>\n",
       "    </tr>\n",
       "    <tr>\n",
       "      <th>2</th>\n",
       "      <td>Anna is making gingerbread cookies. She gives ...</td>\n",
       "      <td>The first step to find the total number of gin...</td>\n",
       "    </tr>\n",
       "    <tr>\n",
       "      <th>3</th>\n",
       "      <td>Frank has three less than half the number of c...</td>\n",
       "      <td>Mike has 4 * 3 = &lt;&lt;4*3=12&gt;&gt;12 cookies.\\nFrank ...</td>\n",
       "    </tr>\n",
       "    <tr>\n",
       "      <th>4</th>\n",
       "      <td>Mr. Smith takes his wife, his parents, and his...</td>\n",
       "      <td>The buffet cost for Mr. Smith and his wife is ...</td>\n",
       "    </tr>\n",
       "  </tbody>\n",
       "</table>\n",
       "</div>"
      ],
      "text/plain": [
       "                                            question  \\\n",
       "0  Jordan read 120 French novels last holiday. Hi...   \n",
       "1  Samantha’s last name has three fewer letters t...   \n",
       "2  Anna is making gingerbread cookies. She gives ...   \n",
       "3  Frank has three less than half the number of c...   \n",
       "4  Mr. Smith takes his wife, his parents, and his...   \n",
       "\n",
       "                                              answer  \n",
       "0  Alexandre read 120 * 1/10 = <<120*1/10=12>>12 ...  \n",
       "1  There are 4 letters in Jamie’s last name, so B...  \n",
       "2  The first step to find the total number of gin...  \n",
       "3  Mike has 4 * 3 = <<4*3=12>>12 cookies.\\nFrank ...  \n",
       "4  The buffet cost for Mr. Smith and his wife is ...  "
      ]
     },
     "execution_count": 45,
     "metadata": {},
     "output_type": "execute_result"
    }
   ],
   "source": [
    "feedback = pd.DataFrame(data_feedback)\n",
    "feedback.head()"
   ]
  },
  {
   "cell_type": "code",
   "execution_count": 46,
   "id": "e8e45e82-c974-449a-9756-6ecdea18ee03",
   "metadata": {},
   "outputs": [],
   "source": [
    "feedback['GT_Answer']=feedback.apply(get_answer_dataset,axis=1)"
   ]
  },
  {
   "cell_type": "code",
   "execution_count": 47,
   "id": "c034963d-fb5e-4615-8820-f411c4495c4a",
   "metadata": {},
   "outputs": [
    {
     "data": {
      "text/html": [
       "<div>\n",
       "<style scoped>\n",
       "    .dataframe tbody tr th:only-of-type {\n",
       "        vertical-align: middle;\n",
       "    }\n",
       "\n",
       "    .dataframe tbody tr th {\n",
       "        vertical-align: top;\n",
       "    }\n",
       "\n",
       "    .dataframe thead th {\n",
       "        text-align: right;\n",
       "    }\n",
       "</style>\n",
       "<table border=\"1\" class=\"dataframe\">\n",
       "  <thead>\n",
       "    <tr style=\"text-align: right;\">\n",
       "      <th></th>\n",
       "      <th>question</th>\n",
       "      <th>answer</th>\n",
       "      <th>GT_Answer</th>\n",
       "    </tr>\n",
       "  </thead>\n",
       "  <tbody>\n",
       "    <tr>\n",
       "      <th>0</th>\n",
       "      <td>Jordan read 120 French novels last holiday. Hi...</td>\n",
       "      <td>Alexandre read 120 * 1/10 = &lt;&lt;120*1/10=12&gt;&gt;12 ...</td>\n",
       "      <td>108</td>\n",
       "    </tr>\n",
       "    <tr>\n",
       "      <th>1</th>\n",
       "      <td>Samantha’s last name has three fewer letters t...</td>\n",
       "      <td>There are 4 letters in Jamie’s last name, so B...</td>\n",
       "      <td>7</td>\n",
       "    </tr>\n",
       "    <tr>\n",
       "      <th>2</th>\n",
       "      <td>Anna is making gingerbread cookies. She gives ...</td>\n",
       "      <td>The first step to find the total number of gin...</td>\n",
       "      <td>50</td>\n",
       "    </tr>\n",
       "    <tr>\n",
       "      <th>3</th>\n",
       "      <td>Frank has three less than half the number of c...</td>\n",
       "      <td>Mike has 4 * 3 = &lt;&lt;4*3=12&gt;&gt;12 cookies.\\nFrank ...</td>\n",
       "      <td>3</td>\n",
       "    </tr>\n",
       "    <tr>\n",
       "      <th>4</th>\n",
       "      <td>Mr. Smith takes his wife, his parents, and his...</td>\n",
       "      <td>The buffet cost for Mr. Smith and his wife is ...</td>\n",
       "      <td>159</td>\n",
       "    </tr>\n",
       "  </tbody>\n",
       "</table>\n",
       "</div>"
      ],
      "text/plain": [
       "                                            question  \\\n",
       "0  Jordan read 120 French novels last holiday. Hi...   \n",
       "1  Samantha’s last name has three fewer letters t...   \n",
       "2  Anna is making gingerbread cookies. She gives ...   \n",
       "3  Frank has three less than half the number of c...   \n",
       "4  Mr. Smith takes his wife, his parents, and his...   \n",
       "\n",
       "                                              answer GT_Answer  \n",
       "0  Alexandre read 120 * 1/10 = <<120*1/10=12>>12 ...       108  \n",
       "1  There are 4 letters in Jamie’s last name, so B...         7  \n",
       "2  The first step to find the total number of gin...        50  \n",
       "3  Mike has 4 * 3 = <<4*3=12>>12 cookies.\\nFrank ...         3  \n",
       "4  The buffet cost for Mr. Smith and his wife is ...       159  "
      ]
     },
     "execution_count": 47,
     "metadata": {},
     "output_type": "execute_result"
    }
   ],
   "source": [
    "feedback.head()"
   ]
  },
  {
   "cell_type": "code",
   "execution_count": 57,
   "id": "10b5b6ec-51ab-46e0-a831-47f8f59b0080",
   "metadata": {},
   "outputs": [],
   "source": [
    "# for i in tqdm(range(3)):\n",
    "#     df['score']=exact_match_metric.compute(predictions=[df.iloc[i]['model_answer']], references=[feedback.iloc[i][\"GT_Answer\"]])['exact_match']"
   ]
  },
  {
   "cell_type": "code",
   "execution_count": 58,
   "id": "a53a22a9-5f6b-4a88-8c6a-f408a2547774",
   "metadata": {},
   "outputs": [
    {
     "data": {
      "text/html": [
       "<div>\n",
       "<style scoped>\n",
       "    .dataframe tbody tr th:only-of-type {\n",
       "        vertical-align: middle;\n",
       "    }\n",
       "\n",
       "    .dataframe tbody tr th {\n",
       "        vertical-align: top;\n",
       "    }\n",
       "\n",
       "    .dataframe thead th {\n",
       "        text-align: right;\n",
       "    }\n",
       "</style>\n",
       "<table border=\"1\" class=\"dataframe\">\n",
       "  <thead>\n",
       "    <tr style=\"text-align: right;\">\n",
       "      <th></th>\n",
       "      <th>input</th>\n",
       "      <th>output</th>\n",
       "      <th>model_answer</th>\n",
       "      <th>score</th>\n",
       "    </tr>\n",
       "  </thead>\n",
       "  <tbody>\n",
       "    <tr>\n",
       "      <th>0</th>\n",
       "      <td>&lt;|begin_of_text|&gt;&lt;|start_header_id|&gt;system&lt;|en...</td>\n",
       "      <td>system\\n\\nYou are a helpful assistantuser\\n\\nB...</td>\n",
       "      <td>108</td>\n",
       "      <td>0.0</td>\n",
       "    </tr>\n",
       "    <tr>\n",
       "      <th>1</th>\n",
       "      <td>&lt;|begin_of_text|&gt;&lt;|start_header_id|&gt;system&lt;|en...</td>\n",
       "      <td>system\\n\\nYou are a helpful assistantuser\\n\\nB...</td>\n",
       "      <td>3</td>\n",
       "      <td>0.0</td>\n",
       "    </tr>\n",
       "    <tr>\n",
       "      <th>2</th>\n",
       "      <td>&lt;|begin_of_text|&gt;&lt;|start_header_id|&gt;system&lt;|en...</td>\n",
       "      <td>system\\n\\nYou are a helpful assistantuser\\n\\nB...</td>\n",
       "      <td>50%</td>\n",
       "      <td>0.0</td>\n",
       "    </tr>\n",
       "    <tr>\n",
       "      <th>3</th>\n",
       "      <td>&lt;|begin_of_text|&gt;&lt;|start_header_id|&gt;system&lt;|en...</td>\n",
       "      <td>system\\n\\nYou are a helpful assistantuser\\n\\nB...</td>\n",
       "      <td>3</td>\n",
       "      <td>0.0</td>\n",
       "    </tr>\n",
       "    <tr>\n",
       "      <th>4</th>\n",
       "      <td>&lt;|begin_of_text|&gt;&lt;|start_header_id|&gt;system&lt;|en...</td>\n",
       "      <td>system\\n\\nYou are a helpful assistantuser\\n\\nB...</td>\n",
       "      <td>159</td>\n",
       "      <td>0.0</td>\n",
       "    </tr>\n",
       "  </tbody>\n",
       "</table>\n",
       "</div>"
      ],
      "text/plain": [
       "                                               input  \\\n",
       "0  <|begin_of_text|><|start_header_id|>system<|en...   \n",
       "1  <|begin_of_text|><|start_header_id|>system<|en...   \n",
       "2  <|begin_of_text|><|start_header_id|>system<|en...   \n",
       "3  <|begin_of_text|><|start_header_id|>system<|en...   \n",
       "4  <|begin_of_text|><|start_header_id|>system<|en...   \n",
       "\n",
       "                                              output model_answer  score  \n",
       "0  system\\n\\nYou are a helpful assistantuser\\n\\nB...          108    0.0  \n",
       "1  system\\n\\nYou are a helpful assistantuser\\n\\nB...            3    0.0  \n",
       "2  system\\n\\nYou are a helpful assistantuser\\n\\nB...          50%    0.0  \n",
       "3  system\\n\\nYou are a helpful assistantuser\\n\\nB...            3    0.0  \n",
       "4  system\\n\\nYou are a helpful assistantuser\\n\\nB...          159    0.0  "
      ]
     },
     "execution_count": 58,
     "metadata": {},
     "output_type": "execute_result"
    }
   ],
   "source": [
    "df.head()"
   ]
  },
  {
   "cell_type": "code",
   "execution_count": 59,
   "id": "8223de80-50d7-47f8-b414-d6c99ef390cb",
   "metadata": {},
   "outputs": [],
   "source": [
    "# score= exact_match_metric.compute(predictions=df['model_answer'].tolist(), references=feedback[\"GT_Answer\"].tolist())"
   ]
  },
  {
   "cell_type": "code",
   "execution_count": 60,
   "id": "2ef5b5ab-0eb6-41e5-80d2-433ff4623495",
   "metadata": {},
   "outputs": [],
   "source": [
    "df['score'] = (df['model_answer'] == feedback['GT_Answer']).astype(int)"
   ]
  },
  {
   "cell_type": "code",
   "execution_count": 61,
   "id": "922b5086-37a2-4cd8-bd70-a23f1e196866",
   "metadata": {},
   "outputs": [],
   "source": [
    "# from tqdm import tqdm\n",
    "# for i in tqdm(range(10)):\n",
    "    "
   ]
  },
  {
   "cell_type": "code",
   "execution_count": 62,
   "id": "d5318a08-3bd2-4c65-b57c-4fa5e883a1eb",
   "metadata": {},
   "outputs": [
    {
     "data": {
      "text/html": [
       "<div>\n",
       "<style scoped>\n",
       "    .dataframe tbody tr th:only-of-type {\n",
       "        vertical-align: middle;\n",
       "    }\n",
       "\n",
       "    .dataframe tbody tr th {\n",
       "        vertical-align: top;\n",
       "    }\n",
       "\n",
       "    .dataframe thead th {\n",
       "        text-align: right;\n",
       "    }\n",
       "</style>\n",
       "<table border=\"1\" class=\"dataframe\">\n",
       "  <thead>\n",
       "    <tr style=\"text-align: right;\">\n",
       "      <th></th>\n",
       "      <th>input</th>\n",
       "      <th>output</th>\n",
       "      <th>model_answer</th>\n",
       "      <th>score</th>\n",
       "    </tr>\n",
       "  </thead>\n",
       "  <tbody>\n",
       "    <tr>\n",
       "      <th>0</th>\n",
       "      <td>&lt;|begin_of_text|&gt;&lt;|start_header_id|&gt;system&lt;|en...</td>\n",
       "      <td>system\\n\\nYou are a helpful assistantuser\\n\\nB...</td>\n",
       "      <td>108</td>\n",
       "      <td>1</td>\n",
       "    </tr>\n",
       "    <tr>\n",
       "      <th>1</th>\n",
       "      <td>&lt;|begin_of_text|&gt;&lt;|start_header_id|&gt;system&lt;|en...</td>\n",
       "      <td>system\\n\\nYou are a helpful assistantuser\\n\\nB...</td>\n",
       "      <td>3</td>\n",
       "      <td>0</td>\n",
       "    </tr>\n",
       "    <tr>\n",
       "      <th>2</th>\n",
       "      <td>&lt;|begin_of_text|&gt;&lt;|start_header_id|&gt;system&lt;|en...</td>\n",
       "      <td>system\\n\\nYou are a helpful assistantuser\\n\\nB...</td>\n",
       "      <td>50%</td>\n",
       "      <td>0</td>\n",
       "    </tr>\n",
       "    <tr>\n",
       "      <th>3</th>\n",
       "      <td>&lt;|begin_of_text|&gt;&lt;|start_header_id|&gt;system&lt;|en...</td>\n",
       "      <td>system\\n\\nYou are a helpful assistantuser\\n\\nB...</td>\n",
       "      <td>3</td>\n",
       "      <td>1</td>\n",
       "    </tr>\n",
       "    <tr>\n",
       "      <th>4</th>\n",
       "      <td>&lt;|begin_of_text|&gt;&lt;|start_header_id|&gt;system&lt;|en...</td>\n",
       "      <td>system\\n\\nYou are a helpful assistantuser\\n\\nB...</td>\n",
       "      <td>159</td>\n",
       "      <td>1</td>\n",
       "    </tr>\n",
       "    <tr>\n",
       "      <th>5</th>\n",
       "      <td>&lt;|begin_of_text|&gt;&lt;|start_header_id|&gt;system&lt;|en...</td>\n",
       "      <td>system\\n\\nYou are a helpful assistantuser\\n\\nB...</td>\n",
       "      <td>9474</td>\n",
       "      <td>1</td>\n",
       "    </tr>\n",
       "    <tr>\n",
       "      <th>6</th>\n",
       "      <td>&lt;|begin_of_text|&gt;&lt;|start_header_id|&gt;system&lt;|en...</td>\n",
       "      <td>system\\n\\nYou are a helpful assistantuser\\n\\nB...</td>\n",
       "      <td>75</td>\n",
       "      <td>1</td>\n",
       "    </tr>\n",
       "    <tr>\n",
       "      <th>7</th>\n",
       "      <td>&lt;|begin_of_text|&gt;&lt;|start_header_id|&gt;system&lt;|en...</td>\n",
       "      <td>system\\n\\nYou are a helpful assistantuser\\n\\nB...</td>\n",
       "      <td>20</td>\n",
       "      <td>1</td>\n",
       "    </tr>\n",
       "    <tr>\n",
       "      <th>8</th>\n",
       "      <td>&lt;|begin_of_text|&gt;&lt;|start_header_id|&gt;system&lt;|en...</td>\n",
       "      <td>system\\n\\nYou are a helpful assistantuser\\n\\nB...</td>\n",
       "      <td>600</td>\n",
       "      <td>1</td>\n",
       "    </tr>\n",
       "    <tr>\n",
       "      <th>9</th>\n",
       "      <td>&lt;|begin_of_text|&gt;&lt;|start_header_id|&gt;system&lt;|en...</td>\n",
       "      <td>system\\n\\nYou are a helpful assistantuser\\n\\nB...</td>\n",
       "      <td>4</td>\n",
       "      <td>1</td>\n",
       "    </tr>\n",
       "  </tbody>\n",
       "</table>\n",
       "</div>"
      ],
      "text/plain": [
       "                                               input  \\\n",
       "0  <|begin_of_text|><|start_header_id|>system<|en...   \n",
       "1  <|begin_of_text|><|start_header_id|>system<|en...   \n",
       "2  <|begin_of_text|><|start_header_id|>system<|en...   \n",
       "3  <|begin_of_text|><|start_header_id|>system<|en...   \n",
       "4  <|begin_of_text|><|start_header_id|>system<|en...   \n",
       "5  <|begin_of_text|><|start_header_id|>system<|en...   \n",
       "6  <|begin_of_text|><|start_header_id|>system<|en...   \n",
       "7  <|begin_of_text|><|start_header_id|>system<|en...   \n",
       "8  <|begin_of_text|><|start_header_id|>system<|en...   \n",
       "9  <|begin_of_text|><|start_header_id|>system<|en...   \n",
       "\n",
       "                                              output model_answer  score  \n",
       "0  system\\n\\nYou are a helpful assistantuser\\n\\nB...          108      1  \n",
       "1  system\\n\\nYou are a helpful assistantuser\\n\\nB...            3      0  \n",
       "2  system\\n\\nYou are a helpful assistantuser\\n\\nB...          50%      0  \n",
       "3  system\\n\\nYou are a helpful assistantuser\\n\\nB...            3      1  \n",
       "4  system\\n\\nYou are a helpful assistantuser\\n\\nB...          159      1  \n",
       "5  system\\n\\nYou are a helpful assistantuser\\n\\nB...         9474      1  \n",
       "6  system\\n\\nYou are a helpful assistantuser\\n\\nB...           75      1  \n",
       "7  system\\n\\nYou are a helpful assistantuser\\n\\nB...           20      1  \n",
       "8  system\\n\\nYou are a helpful assistantuser\\n\\nB...          600      1  \n",
       "9  system\\n\\nYou are a helpful assistantuser\\n\\nB...            4      1  "
      ]
     },
     "execution_count": 62,
     "metadata": {},
     "output_type": "execute_result"
    }
   ],
   "source": [
    "df.head(10)"
   ]
  },
  {
   "cell_type": "code",
   "execution_count": 63,
   "id": "a64a0d74-699e-4474-b3b1-f0f25a04b379",
   "metadata": {},
   "outputs": [],
   "source": [
    "df.drop(columns=['model_answer'],inplace=True)"
   ]
  },
  {
   "cell_type": "code",
   "execution_count": 64,
   "id": "7dacd4f0-629e-46de-8616-97dff3a51ffe",
   "metadata": {},
   "outputs": [
    {
     "data": {
      "text/html": [
       "<div>\n",
       "<style scoped>\n",
       "    .dataframe tbody tr th:only-of-type {\n",
       "        vertical-align: middle;\n",
       "    }\n",
       "\n",
       "    .dataframe tbody tr th {\n",
       "        vertical-align: top;\n",
       "    }\n",
       "\n",
       "    .dataframe thead th {\n",
       "        text-align: right;\n",
       "    }\n",
       "</style>\n",
       "<table border=\"1\" class=\"dataframe\">\n",
       "  <thead>\n",
       "    <tr style=\"text-align: right;\">\n",
       "      <th></th>\n",
       "      <th>input</th>\n",
       "      <th>output</th>\n",
       "      <th>score</th>\n",
       "    </tr>\n",
       "  </thead>\n",
       "  <tbody>\n",
       "    <tr>\n",
       "      <th>0</th>\n",
       "      <td>&lt;|begin_of_text|&gt;&lt;|start_header_id|&gt;system&lt;|en...</td>\n",
       "      <td>system\\n\\nYou are a helpful assistantuser\\n\\nB...</td>\n",
       "      <td>1</td>\n",
       "    </tr>\n",
       "    <tr>\n",
       "      <th>1</th>\n",
       "      <td>&lt;|begin_of_text|&gt;&lt;|start_header_id|&gt;system&lt;|en...</td>\n",
       "      <td>system\\n\\nYou are a helpful assistantuser\\n\\nB...</td>\n",
       "      <td>0</td>\n",
       "    </tr>\n",
       "    <tr>\n",
       "      <th>2</th>\n",
       "      <td>&lt;|begin_of_text|&gt;&lt;|start_header_id|&gt;system&lt;|en...</td>\n",
       "      <td>system\\n\\nYou are a helpful assistantuser\\n\\nB...</td>\n",
       "      <td>0</td>\n",
       "    </tr>\n",
       "    <tr>\n",
       "      <th>3</th>\n",
       "      <td>&lt;|begin_of_text|&gt;&lt;|start_header_id|&gt;system&lt;|en...</td>\n",
       "      <td>system\\n\\nYou are a helpful assistantuser\\n\\nB...</td>\n",
       "      <td>1</td>\n",
       "    </tr>\n",
       "    <tr>\n",
       "      <th>4</th>\n",
       "      <td>&lt;|begin_of_text|&gt;&lt;|start_header_id|&gt;system&lt;|en...</td>\n",
       "      <td>system\\n\\nYou are a helpful assistantuser\\n\\nB...</td>\n",
       "      <td>1</td>\n",
       "    </tr>\n",
       "  </tbody>\n",
       "</table>\n",
       "</div>"
      ],
      "text/plain": [
       "                                               input  \\\n",
       "0  <|begin_of_text|><|start_header_id|>system<|en...   \n",
       "1  <|begin_of_text|><|start_header_id|>system<|en...   \n",
       "2  <|begin_of_text|><|start_header_id|>system<|en...   \n",
       "3  <|begin_of_text|><|start_header_id|>system<|en...   \n",
       "4  <|begin_of_text|><|start_header_id|>system<|en...   \n",
       "\n",
       "                                              output  score  \n",
       "0  system\\n\\nYou are a helpful assistantuser\\n\\nB...      1  \n",
       "1  system\\n\\nYou are a helpful assistantuser\\n\\nB...      0  \n",
       "2  system\\n\\nYou are a helpful assistantuser\\n\\nB...      0  \n",
       "3  system\\n\\nYou are a helpful assistantuser\\n\\nB...      1  \n",
       "4  system\\n\\nYou are a helpful assistantuser\\n\\nB...      1  "
      ]
     },
     "execution_count": 64,
     "metadata": {},
     "output_type": "execute_result"
    }
   ],
   "source": [
    "df.head()"
   ]
  },
  {
   "cell_type": "code",
   "execution_count": 65,
   "id": "81c4d55a-6940-4c14-ba9b-3d8581bf09d9",
   "metadata": {},
   "outputs": [],
   "source": [
    "# df.to_json(\"/scratch/workspace/wenlongzhao_umass_edu-analyze//Bidirectional-Teacher-Student-Communication-for-LLM-Alignment/outputs/gsm8k/LLaMA8B/generated_outputs1.json\", orient='records', lines=True)"
   ]
  },
  {
   "cell_type": "code",
   "execution_count": 66,
   "id": "48cd06ff-4d8b-4af1-86a6-0b190af17aa7",
   "metadata": {},
   "outputs": [],
   "source": [
    "records = df.to_dict(orient='records')"
   ]
  },
  {
   "cell_type": "code",
   "execution_count": 67,
   "id": "2603c0b8-2041-4cc4-a108-e8eb249132a7",
   "metadata": {},
   "outputs": [],
   "source": [
    "import json\n",
    "formatted_json = json.dumps(records, indent=4)\n"
   ]
  },
  {
   "cell_type": "code",
   "execution_count": 68,
   "id": "f30d88d0-3f29-4169-82e9-783f4b76d33b",
   "metadata": {},
   "outputs": [],
   "source": [
    "with open(\"/scratch/workspace/wenlongzhao_umass_edu-analyze/Bidirectional-Teacher-Student-Communication-for-LLM-Alignment/outputs/gsm8k/LLaMA8B/generated_outputs1.json\", \"w\") as f:\n",
    "    f.write(formatted_json)"
   ]
  },
  {
   "cell_type": "code",
   "execution_count": 69,
   "id": "07716287-186a-4a89-8f29-b6d7ed27f5f7",
   "metadata": {},
   "outputs": [
    {
     "data": {
      "text/plain": [
       "np.int64(4302)"
      ]
     },
     "execution_count": 69,
     "metadata": {},
     "output_type": "execute_result"
    }
   ],
   "source": [
    "df['score'].sum()"
   ]
  },
  {
   "cell_type": "code",
   "execution_count": 72,
   "id": "6944c9ca-bb69-4d35-b734-67cc9afe6ea9",
   "metadata": {},
   "outputs": [
    {
     "data": {
      "text/plain": [
       "0.846517119244392"
      ]
     },
     "execution_count": 72,
     "metadata": {},
     "output_type": "execute_result"
    }
   ],
   "source": [
    "4302/5082\n"
   ]
  },
  {
   "cell_type": "code",
   "execution_count": 71,
   "id": "f7773c27-615d-42a7-a348-55227c97d34b",
   "metadata": {},
   "outputs": [
    {
     "data": {
      "text/plain": [
       "5082"
      ]
     },
     "execution_count": 71,
     "metadata": {},
     "output_type": "execute_result"
    }
   ],
   "source": [
    "df.shape[0]"
   ]
  },
  {
   "cell_type": "code",
   "execution_count": null,
   "id": "491c075e-645f-425a-ab8a-1646a8c0fed1",
   "metadata": {},
   "outputs": [],
   "source": []
  }
 ],
 "metadata": {
  "kernelspec": {
   "display_name": "IESLAnalyse",
   "language": "python",
   "name": "ieslanalyse"
  },
  "language_info": {
   "codemirror_mode": {
    "name": "ipython",
    "version": 3
   },
   "file_extension": ".py",
   "mimetype": "text/x-python",
   "name": "python",
   "nbconvert_exporter": "python",
   "pygments_lexer": "ipython3",
   "version": "3.12.7"
  }
 },
 "nbformat": 4,
 "nbformat_minor": 5
}
