{
 "cells": [
  {
   "cell_type": "code",
   "execution_count": 2,
   "id": "2862942d-ced2-4214-87bf-a8f563735d1c",
   "metadata": {},
   "outputs": [],
   "source": [
    "import torch\n",
    "from transformers import pipeline, AutoModelForCausalLM, AutoTokenizer, AutoConfig\n",
    "import os\n",
    "from datasets import load_from_disk\n",
    "import random\n",
    "import json\n",
    "from tqdm import tqdm\n",
    "from score_preds import get_score\n",
    "\n",
    "cache_dir = '/scratch/workspace/wenlongzhao_umass_edu-analyze/Bidirectional-Teacher-Student-Communication-for-LLM-Alignment/transformers_cache'\n",
    "os.environ['TRANSFORMERS_CACHE'] = cache_dir\n",
    "\n"
   ]
  },
  {
   "cell_type": "code",
   "execution_count": 3,
   "id": "4be563b6-1766-4113-b502-9c8291e727f9",
   "metadata": {},
   "outputs": [
    {
     "data": {
      "text/plain": [
       "<torch._C.Generator at 0x72f15d797eb0>"
      ]
     },
     "execution_count": 3,
     "metadata": {},
     "output_type": "execute_result"
    }
   ],
   "source": [
    "# Loading data\n",
    "data_eval_path = \"../datasets/gsm8k/test/\"\n",
    "data_test = load_from_disk(data_eval_path)\n",
    "data_train = load_from_disk(\"../datasets/gsm8k/train/\")\n",
    "\n",
    "# Loading model\n",
    "hf_token = os.getenv(\"hf_token\")\n",
    "model_name = \"meta-llama/Llama-3.2-1B-Instruct\"\n",
    "device = torch.device(\"cuda\" if torch.cuda.is_available() else \"cpu\")\n",
    "\n",
    "tokenizer = AutoTokenizer.from_pretrained(model_name, token=hf_token, cache_dir=cache_dir)\n",
    "# Defaults to float32\n",
    "model = AutoModelForCausalLM.from_pretrained(model_name, token=hf_token, cache_dir=cache_dir, device_map=device, torch_dtype=torch.bfloat16)\n",
    "tokenizer.pad_token_id = tokenizer.eos_token_id\n",
    "tokenizer.padding_side = 'left'\n",
    "\n",
    "\n",
    "# Set seed for reproducibility\n",
    "seed = 42\n",
    "torch.manual_seed(seed)\n",
    "\n",
    "\n"
   ]
  },
  {
   "cell_type": "code",
   "execution_count": 4,
   "id": "6930d873-4247-45f2-a78f-398028833de0",
   "metadata": {},
   "outputs": [
    {
     "data": {
      "text/plain": [
       "device(type='cuda', index=0)"
      ]
     },
     "execution_count": 4,
     "metadata": {},
     "output_type": "execute_result"
    }
   ],
   "source": [
    "model.device"
   ]
  },
  {
   "cell_type": "code",
   "execution_count": 23,
   "id": "5706d84a-7657-4d48-8869-c5fe80e8bc15",
   "metadata": {},
   "outputs": [],
   "source": [
    "# 8-shot prompt from : https://huggingface.co/datasets/meta-llama/Llama-3.2-1B-Instruct-evals/viewer/Llama-3.2-1B-Instruct-evals__gsm8k__details?row=0\n",
    "prompt = \"<|start_header_id|>user<|end_header_id|>\\n\\nGiven the following problem, reason and give a final answer to the problem.\\nProblem: There are 15 trees in the grove. Grove workers will plant trees in the grove today. After they are done, there will be 21 trees. How many trees did the grove workers plant today?\\nYour response should end with \\'The final answer is [answer]\\' where [answer] is the response to the problem.<|eot_id|><|start_header_id|>assistant<|end_header_id|>\\n\\nThere are 15 trees originally. Then there were 21 trees after some more were planted. So there must have been 21 - 15 = 6. The final answer is 6<|eot_id|><|start_header_id|>user<|end_header_id|>\\n\\nGiven the following problem, reason and give a final answer to the problem.\\nProblem: If there are 3 cars in the parking lot and 2 more cars arrive, how many cars are in the parking lot?\\nYour response should end with \\'The final answer is [answer]\\' where [answer] is the response to the problem.<|eot_id|><|start_header_id|>assistant<|end_header_id|>\\n\\nThere are originally 3 cars. 2 more cars arrive. 3 + 2 = 5. The final answer is 5<|eot_id|><|start_header_id|>user<|end_header_id|>\\n\\nGiven the following problem, reason and give a final answer to the problem.\\nProblem: Leah had 32 chocolates and her sister had 42. If they ate 35, how many pieces do they have left in total?\\nYour response should end with \\'The final answer is [answer]\\' where [answer] is the response to the problem.<|eot_id|><|start_header_id|>assistant<|end_header_id|>\\n\\nOriginally, Leah had 32 chocolates. Her sister had 42. So in total they had 32 + 42 = 74. After eating 35, they had 74 - 35 = 39. The final answer is 39<|eot_id|><|start_header_id|>user<|end_header_id|>\\n\\nGiven the following problem, reason and give a final answer to the problem.\\nProblem: Jason had 20 lollipops. He gave Denny some lollipops. Now Jason has 12 lollipops. How many lollipops did Jason give to Denny?\\nYour response should end with \\'The final answer is [answer]\\' where [answer] is the response to the problem.<|eot_id|><|start_header_id|>assistant<|end_header_id|>\\n\\nJason started with 20 lollipops. Then he had 12 after giving some to Denny. So he gave Denny 20 - 12 = 8. The final answer is 8<|eot_id|><|start_header_id|>user<|end_header_id|>\\n\\nGiven the following problem, reason and give a final answer to the problem.\\nProblem: Shawn has five toys. For Christmas, he got two toys each from his mom and dad. How many toys does he have now?\\nYour response should end with \\'The final answer is [answer]\\' where [answer] is the response to the problem.<|eot_id|><|start_header_id|>assistant<|end_header_id|>\\n\\nShawn started with 5 toys. If he got 2 toys each from his mom and dad, then that is 4 more toys. 5 + 4 = 9. The final answer is 9<|eot_id|><|start_header_id|>user<|end_header_id|>\\n\\nGiven the following problem, reason and give a final answer to the problem.\\nProblem: There were nine computers in the server room. Five more computers were installed each day, from monday to thursday. How many computers are now in the server room?\\nYour response should end with \\'The final answer is [answer]\\' where [answer] is the response to the problem.<|eot_id|><|start_header_id|>assistant<|end_header_id|>\\n\\nThere were originally 9 computers. For each of 4 days, 5 more computers were added. So 5 * 4 = 20 computers were added. 9 + 20 is 29. The final answer is 29<|eot_id|><|start_header_id|>user<|end_header_id|>\\n\\nGiven the following problem, reason and give a final answer to the problem.\\nProblem: Michael had 58 golf balls. On tuesday, he lost 23 golf balls. On wednesday, he lost 2 more. How many golf balls did he have at the end of wednesday?\\nYour response should end with \\'The final answer is [answer]\\' where [answer] is the response to the problem.<|eot_id|><|start_header_id|>assistant<|end_header_id|>\\n\\nMichael started with 58 golf balls. After losing 23 on tuesday, he had 58 - 23 = 35. After losing 2 more, he had 35 - 2 = 33 golf balls. The final answer is 33<|eot_id|><|start_header_id|>user<|end_header_id|>\\n\\nGiven the following problem, reason and give a final answer to the problem.\\nProblem: Olivia has $23. She bought five bagels for $3 each. How much money does she have left?\\nYour response should end with \\'The final answer is [answer]\\' where [answer] is the response to the problem.<|eot_id|><|start_header_id|>assistant<|end_header_id|>\\n\\nOlivia had 23 dollars. 5 bagels for 3 dollars each will be 5 x 3 = 15 dollars. So she has 23 - 15 dollars left. 23 - 15 is 8. The final answer is 8<|eot_id|>\"\n",
    "\n",
    "\n",
    "model.eval()\n",
    "generated_outputs=[]\n",
    "# Adjust batch size according to your GPU memory capacity\n",
    "# With vram=80G, 1B - 64, 3B - 64, 8B - 32\n",
    "batch_size=4\n",
    "temp = 0.0\n",
    "top_p = 0\n",
    "top_k = 0\n",
    "\n",
    "stop_strings = ['<|eot_id|>', '<|start_header_id|>user<|end_header_id|>','Q:', '</s>','<|im_end|>']\n",
    "regex_pattern = r\"The final answer is ((-?[$0-9.,]{2,})|(-?[0-9]+))\"\n",
    "\n"
   ]
  },
  {
   "cell_type": "code",
   "execution_count": 24,
   "id": "2a99b63a-e56f-41ce-94d5-c94da978bbd5",
   "metadata": {},
   "outputs": [
    {
     "name": "stderr",
     "output_type": "stream",
     "text": [
      "Processing questions:   0%|          | 0/330 [00:01<?, ?it/s]"
     ]
    },
    {
     "name": "stdout",
     "output_type": "stream",
     "text": [
      "ANSWER:\n",
      "\n",
      "\n",
      "\n",
      "Janet has 16 eggs per day. She eats 3 for breakfast, so she has 16 - 3 = 13 eggs left. She bakes muffins for 4, so she has 13 - 4 = 9 eggs left. She sells 9 eggs at $2 each, so she makes 9 x 2 = 18 dollars per day. The final answer is 18\n",
      "\n",
      "Result:  <re.Match object; span=(217, 239), match='The final answer is 18'>\n",
      "\n",
      "Extracted result: 18\n",
      "ANSWER:\n",
      "\n",
      "\n",
      "\n",
      "A robe takes 2 bolts of blue fiber. It also takes half that much white fiber, which is 2 / 2 = 1 bolt of white fiber. So in total, it takes 2 + 1 = 3 bolts of fiber. The final answer is 3\n",
      "\n",
      "Result:  <re.Match object; span=(168, 189), match='The final answer is 3'>\n",
      "\n",
      "Extracted result: 3\n",
      "ANSWER:\n",
      "\n",
      "\n",
      "\n",
      "Josh bought the house for $80,000. He put in $50,000 in repairs, so the total cost was $80,000 + $50,000 = $130,000. The value of the house increased by 150%, so the new value is 150% of $80,000, which is 1.5 x $80,000 = $120,000. The profit is the new value minus the cost, so $120,000 - $130,000 = -$10,000. The final answer is -$10,000\n",
      "\n",
      "Result:  <re.Match object; span=(312, 340), match='The final answer is -$10,000'>\n",
      "\n",
      "Extracted result: -$10,000\n",
      "ANSWER:\n",
      "\n",
      "\n",
      "\n",
      "James runs 3 sprints 3 times a week. So that is 3 x 3 = 9 sprints per week. Each sprint is 60 meters. So 9 x 60 = 540 meters per week. The final answer is 540\n",
      "\n",
      "Result:  <re.Match object; span=(137, 160), match='The final answer is 540'>\n",
      "\n",
      "Extracted result: 540\n"
     ]
    },
    {
     "name": "stderr",
     "output_type": "stream",
     "text": [
      "\n"
     ]
    }
   ],
   "source": [
    "import re\n",
    "for i in tqdm(range(0, len(data_test[\"question\"]), batch_size), desc=\"Processing questions\"):\n",
    "    batch_questions = data_test[\"question\"][i:i+batch_size]\n",
    "    inputs = []\n",
    "    for q in batch_questions:\n",
    "\n",
    "        inputs.append(prompt + f'<|start_header_id|>user<|end_header_id|>\\n\\nGiven the following problem, reason and give a final answer to the problem.\\nProblem: {q}\\nYour response should end with \\'The final answer is [answer]\\' where [answer] is the response to the problem.<|eot_id|><|start_header_id|>assistant<|end_header_id|>\\n\\n') \n",
    "\n",
    "    tokenized_inputs = tokenizer(inputs, return_tensors=\"pt\", padding=True, truncation=True)\n",
    "    tokenized_inputs.to(device)\n",
    "\n",
    "    with torch.no_grad():\n",
    "        output = model.generate(**tokenized_inputs, max_new_tokens = 1024,pad_token_id=tokenizer.pad_token_id,do_sample=False, stop_strings = stop_strings, tokenizer = tokenizer )\n",
    "      \n",
    "    for j, o in enumerate(output):\n",
    "        generated_text = tokenizer.decode(o, skip_special_tokens=True)\n",
    "        answer = generated_text.split(\"Your response should end with \\'The final answer is [answer]\\' where [answer] is the response to the problem.assistant\")[-1]\n",
    "        generated_outputs.append({\"input\": inputs[j], \"output\": generated_text, \"question\": batch_questions[j], \"answer\":answer})\n",
    "        \n"
   ]
  },
  {
   "cell_type": "code",
   "execution_count": 15,
   "id": "75969120-3cd9-4fef-b974-265d896184f9",
   "metadata": {},
   "outputs": [],
   "source": []
  },
  {
   "cell_type": "code",
   "execution_count": null,
   "id": "9dca7117-76a8-47f3-987f-5a5b3b40ffba",
   "metadata": {},
   "outputs": [],
   "source": [
    "output_file_name = f\"../outputs/gsm8k/LLaMA1B/generated_outputs_test_new_prompt_lm_eval_harness_with_max_new_len_1024_{temp}_{top_p}_{top_k}.json\" \n",
    "with open(output_file_name, \"w\") as f:\n",
    "    json.dump(generated_outputs, f, indent=4)\n",
    "\n",
    "score = get_score(data_eval_path,output_file_name)\n",
    "print(\"SCORE of LLaMA 1B Model is: \",score)"
   ]
  }
 ],
 "metadata": {
  "kernelspec": {
   "display_name": "IESLAnalyse",
   "language": "python",
   "name": "ieslanalyse"
  },
  "language_info": {
   "codemirror_mode": {
    "name": "ipython",
    "version": 3
   },
   "file_extension": ".py",
   "mimetype": "text/x-python",
   "name": "python",
   "nbconvert_exporter": "python",
   "pygments_lexer": "ipython3",
   "version": "3.12.7"
  }
 },
 "nbformat": 4,
 "nbformat_minor": 5
}
