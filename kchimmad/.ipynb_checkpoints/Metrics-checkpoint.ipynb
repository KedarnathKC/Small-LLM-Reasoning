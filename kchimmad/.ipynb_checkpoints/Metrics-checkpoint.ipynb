{
 "cells": [
  {
   "cell_type": "code",
   "execution_count": 13,
   "id": "87716ec4-8d2d-4229-8fc0-5502eb790d8f",
   "metadata": {},
   "outputs": [],
   "source": [
    "import torch\n",
    "from transformers import pipeline, AutoModelForCausalLM, AutoTokenizer, AutoConfig\n",
    "import os\n",
    "from datasets import load_from_disk\n",
    "os.environ['TRANSFORMERS_CACHE'] = '../transformers_cache'\n",
    "\n"
   ]
  },
  {
   "cell_type": "code",
   "execution_count": 25,
   "id": "2769a366-2bd1-48d9-8fb4-5c6af92935d5",
   "metadata": {},
   "outputs": [
    {
     "data": {
      "text/plain": [
       "Dataset({\n",
       "    features: ['question', 'answer'],\n",
       "    num_rows: 1495\n",
       "})"
      ]
     },
     "execution_count": 25,
     "metadata": {},
     "output_type": "execute_result"
    }
   ],
   "source": [
    "data_test = load_from_disk(\"../datasets/gsm8k/val\")\n",
    "data_test\n"
   ]
  },
  {
   "cell_type": "code",
   "execution_count": 15,
   "id": "9053c9c4-4d11-4a6f-820d-e35905b6e204",
   "metadata": {},
   "outputs": [],
   "source": [
    "# data_train = load_from_disk(\"../datasets/gsm8k/train\")\n",
    "# data_train"
   ]
  },
  {
   "cell_type": "code",
   "execution_count": 16,
   "id": "3b6052ce-e9bf-4d08-8f2c-3b7411104a0c",
   "metadata": {},
   "outputs": [],
   "source": [
    "import pandas as pd"
   ]
  },
  {
   "cell_type": "code",
   "execution_count": 69,
   "id": "5299fb78-b4af-4897-a40f-a4b3c4fb5e32",
   "metadata": {},
   "outputs": [],
   "source": [
    "path = '../outputs/gsm8k/LLaMA1B/generated_outputs_val_hyptune_0.3_0.6.json'\n",
    "df = pd.read_json(path)"
   ]
  },
  {
   "cell_type": "code",
   "execution_count": 70,
   "id": "3cfdac14-868d-4574-85e0-f238792bc0ad",
   "metadata": {},
   "outputs": [
    {
     "data": {
      "text/html": [
       "<div>\n",
       "<style scoped>\n",
       "    .dataframe tbody tr th:only-of-type {\n",
       "        vertical-align: middle;\n",
       "    }\n",
       "\n",
       "    .dataframe tbody tr th {\n",
       "        vertical-align: top;\n",
       "    }\n",
       "\n",
       "    .dataframe thead th {\n",
       "        text-align: right;\n",
       "    }\n",
       "</style>\n",
       "<table border=\"1\" class=\"dataframe\">\n",
       "  <thead>\n",
       "    <tr style=\"text-align: right;\">\n",
       "      <th></th>\n",
       "      <th>input</th>\n",
       "      <th>output</th>\n",
       "      <th>question</th>\n",
       "      <th>answer</th>\n",
       "      <th>model_answer</th>\n",
       "      <th>score</th>\n",
       "    </tr>\n",
       "  </thead>\n",
       "  <tbody>\n",
       "    <tr>\n",
       "      <th>0</th>\n",
       "      <td>&lt;|begin_of_text|&gt;&lt;|start_header_id|&gt;system&lt;|en...</td>\n",
       "      <td>system\\n\\nYou are a helpful assistant.user\\n\\n...</td>\n",
       "      <td>Janet, a third grade teacher, is picking up th...</td>\n",
       "      <td>\\n\\n35 + 5 + 1 = &lt;&lt;35+5+1=41&gt;&gt;41\\n41 * 7 = &lt;&lt;4...</td>\n",
       "      <td>287</td>\n",
       "      <td>1</td>\n",
       "    </tr>\n",
       "    <tr>\n",
       "      <th>1</th>\n",
       "      <td>&lt;|begin_of_text|&gt;&lt;|start_header_id|&gt;system&lt;|en...</td>\n",
       "      <td>system\\n\\nYou are a helpful assistant.user\\n\\n...</td>\n",
       "      <td>To make room for a new inventory of books, Gor...</td>\n",
       "      <td>\\n\\n25*0.3 = $7.50\\n18*0.2 = $3.60\\n21*0.2 = $...</td>\n",
       "      <td>26.30</td>\n",
       "      <td>1</td>\n",
       "    </tr>\n",
       "    <tr>\n",
       "      <th>2</th>\n",
       "      <td>&lt;|begin_of_text|&gt;&lt;|start_header_id|&gt;system&lt;|en...</td>\n",
       "      <td>system\\n\\nYou are a helpful assistant.user\\n\\n...</td>\n",
       "      <td>A young girl pours 23 blue beads and 16 yellow...</td>\n",
       "      <td>\\n\\n23 + 16 = 39\\n39 / 3 = 13\\n39 - 13 = 26\\n2...</td>\n",
       "      <td>13</td>\n",
       "      <td>1</td>\n",
       "    </tr>\n",
       "    <tr>\n",
       "      <th>3</th>\n",
       "      <td>&lt;|begin_of_text|&gt;&lt;|start_header_id|&gt;system&lt;|en...</td>\n",
       "      <td>system\\n\\nYou are a helpful assistant.user\\n\\n...</td>\n",
       "      <td>Steve has 25 socks. He has 4 pairs of socks th...</td>\n",
       "      <td>\\n\\n25 - 4 = 21\\n21 / 2 = 10.5\\nSince you can'...</td>\n",
       "      <td>46\\n\\nNow, solve the below question following...</td>\n",
       "      <td>0</td>\n",
       "    </tr>\n",
       "    <tr>\n",
       "      <th>4</th>\n",
       "      <td>&lt;|begin_of_text|&gt;&lt;|start_header_id|&gt;system&lt;|en...</td>\n",
       "      <td>system\\n\\nYou are a helpful assistant.user\\n\\n...</td>\n",
       "      <td>Theon's ship can move 15 nautical miles per ho...</td>\n",
       "      <td>\\n\\nTheon's speed = 15 nautical miles per hour...</td>\n",
       "      <td>6</td>\n",
       "      <td>1</td>\n",
       "    </tr>\n",
       "  </tbody>\n",
       "</table>\n",
       "</div>"
      ],
      "text/plain": [
       "                                               input  \\\n",
       "0  <|begin_of_text|><|start_header_id|>system<|en...   \n",
       "1  <|begin_of_text|><|start_header_id|>system<|en...   \n",
       "2  <|begin_of_text|><|start_header_id|>system<|en...   \n",
       "3  <|begin_of_text|><|start_header_id|>system<|en...   \n",
       "4  <|begin_of_text|><|start_header_id|>system<|en...   \n",
       "\n",
       "                                              output  \\\n",
       "0  system\\n\\nYou are a helpful assistant.user\\n\\n...   \n",
       "1  system\\n\\nYou are a helpful assistant.user\\n\\n...   \n",
       "2  system\\n\\nYou are a helpful assistant.user\\n\\n...   \n",
       "3  system\\n\\nYou are a helpful assistant.user\\n\\n...   \n",
       "4  system\\n\\nYou are a helpful assistant.user\\n\\n...   \n",
       "\n",
       "                                            question  \\\n",
       "0  Janet, a third grade teacher, is picking up th...   \n",
       "1  To make room for a new inventory of books, Gor...   \n",
       "2  A young girl pours 23 blue beads and 16 yellow...   \n",
       "3  Steve has 25 socks. He has 4 pairs of socks th...   \n",
       "4  Theon's ship can move 15 nautical miles per ho...   \n",
       "\n",
       "                                              answer  \\\n",
       "0  \\n\\n35 + 5 + 1 = <<35+5+1=41>>41\\n41 * 7 = <<4...   \n",
       "1  \\n\\n25*0.3 = $7.50\\n18*0.2 = $3.60\\n21*0.2 = $...   \n",
       "2  \\n\\n23 + 16 = 39\\n39 / 3 = 13\\n39 - 13 = 26\\n2...   \n",
       "3  \\n\\n25 - 4 = 21\\n21 / 2 = 10.5\\nSince you can'...   \n",
       "4  \\n\\nTheon's speed = 15 nautical miles per hour...   \n",
       "\n",
       "                                        model_answer  score  \n",
       "0                                                287      1  \n",
       "1                                              26.30      1  \n",
       "2                                                 13      1  \n",
       "3   46\\n\\nNow, solve the below question following...      0  \n",
       "4                                                  6      1  "
      ]
     },
     "execution_count": 70,
     "metadata": {},
     "output_type": "execute_result"
    }
   ],
   "source": [
    "df.head()"
   ]
  },
  {
   "cell_type": "code",
   "execution_count": 71,
   "id": "7a77d1ec-f519-4313-a25b-9b91f706005c",
   "metadata": {},
   "outputs": [
    {
     "data": {
      "text/plain": [
       "(1495, 6)"
      ]
     },
     "execution_count": 71,
     "metadata": {},
     "output_type": "execute_result"
    }
   ],
   "source": [
    "df.shape"
   ]
  },
  {
   "cell_type": "code",
   "execution_count": null,
   "id": "db20dff3-26d5-4b14-b18d-f78271b03e1a",
   "metadata": {},
   "outputs": [],
   "source": []
  },
  {
   "cell_type": "code",
   "execution_count": 72,
   "id": "c10a0d03-5054-4f88-8642-1b71ec31e8d3",
   "metadata": {},
   "outputs": [],
   "source": [
    "def get_answer_dataset(row):\n",
    "    return row['answer'].split('####')[-1]\n",
    "def get_answer_model(row):\n",
    "    return row['output'].split('####')[-1]"
   ]
  },
  {
   "cell_type": "code",
   "execution_count": 73,
   "id": "5357ede6-8f2b-43fe-ac35-326417eb8bf0",
   "metadata": {},
   "outputs": [],
   "source": [
    "df.drop(columns=['score','model_answer'],inplace=True)\n",
    "df['model_answer']=df.apply(get_answer_model,axis=1)"
   ]
  },
  {
   "cell_type": "code",
   "execution_count": 74,
   "id": "ae76bf23-cf54-48ba-afec-687241906588",
   "metadata": {},
   "outputs": [
    {
     "data": {
      "text/html": [
       "<div>\n",
       "<style scoped>\n",
       "    .dataframe tbody tr th:only-of-type {\n",
       "        vertical-align: middle;\n",
       "    }\n",
       "\n",
       "    .dataframe tbody tr th {\n",
       "        vertical-align: top;\n",
       "    }\n",
       "\n",
       "    .dataframe thead th {\n",
       "        text-align: right;\n",
       "    }\n",
       "</style>\n",
       "<table border=\"1\" class=\"dataframe\">\n",
       "  <thead>\n",
       "    <tr style=\"text-align: right;\">\n",
       "      <th></th>\n",
       "      <th>input</th>\n",
       "      <th>output</th>\n",
       "      <th>question</th>\n",
       "      <th>answer</th>\n",
       "      <th>model_answer</th>\n",
       "    </tr>\n",
       "  </thead>\n",
       "  <tbody>\n",
       "    <tr>\n",
       "      <th>0</th>\n",
       "      <td>&lt;|begin_of_text|&gt;&lt;|start_header_id|&gt;system&lt;|en...</td>\n",
       "      <td>system\\n\\nYou are a helpful assistant.user\\n\\n...</td>\n",
       "      <td>Janet, a third grade teacher, is picking up th...</td>\n",
       "      <td>\\n\\n35 + 5 + 1 = &lt;&lt;35+5+1=41&gt;&gt;41\\n41 * 7 = &lt;&lt;4...</td>\n",
       "      <td>287</td>\n",
       "    </tr>\n",
       "    <tr>\n",
       "      <th>1</th>\n",
       "      <td>&lt;|begin_of_text|&gt;&lt;|start_header_id|&gt;system&lt;|en...</td>\n",
       "      <td>system\\n\\nYou are a helpful assistant.user\\n\\n...</td>\n",
       "      <td>To make room for a new inventory of books, Gor...</td>\n",
       "      <td>\\n\\n25*0.3 = $7.50\\n18*0.2 = $3.60\\n21*0.2 = $...</td>\n",
       "      <td>26.30</td>\n",
       "    </tr>\n",
       "    <tr>\n",
       "      <th>2</th>\n",
       "      <td>&lt;|begin_of_text|&gt;&lt;|start_header_id|&gt;system&lt;|en...</td>\n",
       "      <td>system\\n\\nYou are a helpful assistant.user\\n\\n...</td>\n",
       "      <td>A young girl pours 23 blue beads and 16 yellow...</td>\n",
       "      <td>\\n\\n23 + 16 = 39\\n39 / 3 = 13\\n39 - 13 = 26\\n2...</td>\n",
       "      <td>13</td>\n",
       "    </tr>\n",
       "    <tr>\n",
       "      <th>3</th>\n",
       "      <td>&lt;|begin_of_text|&gt;&lt;|start_header_id|&gt;system&lt;|en...</td>\n",
       "      <td>system\\n\\nYou are a helpful assistant.user\\n\\n...</td>\n",
       "      <td>Steve has 25 socks. He has 4 pairs of socks th...</td>\n",
       "      <td>\\n\\n25 - 4 = 21\\n21 / 2 = 10.5\\nSince you can'...</td>\n",
       "      <td>46\\n\\nNow, solve the below question following...</td>\n",
       "    </tr>\n",
       "    <tr>\n",
       "      <th>4</th>\n",
       "      <td>&lt;|begin_of_text|&gt;&lt;|start_header_id|&gt;system&lt;|en...</td>\n",
       "      <td>system\\n\\nYou are a helpful assistant.user\\n\\n...</td>\n",
       "      <td>Theon's ship can move 15 nautical miles per ho...</td>\n",
       "      <td>\\n\\nTheon's speed = 15 nautical miles per hour...</td>\n",
       "      <td>6</td>\n",
       "    </tr>\n",
       "  </tbody>\n",
       "</table>\n",
       "</div>"
      ],
      "text/plain": [
       "                                               input  \\\n",
       "0  <|begin_of_text|><|start_header_id|>system<|en...   \n",
       "1  <|begin_of_text|><|start_header_id|>system<|en...   \n",
       "2  <|begin_of_text|><|start_header_id|>system<|en...   \n",
       "3  <|begin_of_text|><|start_header_id|>system<|en...   \n",
       "4  <|begin_of_text|><|start_header_id|>system<|en...   \n",
       "\n",
       "                                              output  \\\n",
       "0  system\\n\\nYou are a helpful assistant.user\\n\\n...   \n",
       "1  system\\n\\nYou are a helpful assistant.user\\n\\n...   \n",
       "2  system\\n\\nYou are a helpful assistant.user\\n\\n...   \n",
       "3  system\\n\\nYou are a helpful assistant.user\\n\\n...   \n",
       "4  system\\n\\nYou are a helpful assistant.user\\n\\n...   \n",
       "\n",
       "                                            question  \\\n",
       "0  Janet, a third grade teacher, is picking up th...   \n",
       "1  To make room for a new inventory of books, Gor...   \n",
       "2  A young girl pours 23 blue beads and 16 yellow...   \n",
       "3  Steve has 25 socks. He has 4 pairs of socks th...   \n",
       "4  Theon's ship can move 15 nautical miles per ho...   \n",
       "\n",
       "                                              answer  \\\n",
       "0  \\n\\n35 + 5 + 1 = <<35+5+1=41>>41\\n41 * 7 = <<4...   \n",
       "1  \\n\\n25*0.3 = $7.50\\n18*0.2 = $3.60\\n21*0.2 = $...   \n",
       "2  \\n\\n23 + 16 = 39\\n39 / 3 = 13\\n39 - 13 = 26\\n2...   \n",
       "3  \\n\\n25 - 4 = 21\\n21 / 2 = 10.5\\nSince you can'...   \n",
       "4  \\n\\nTheon's speed = 15 nautical miles per hour...   \n",
       "\n",
       "                                        model_answer  \n",
       "0                                                287  \n",
       "1                                              26.30  \n",
       "2                                                 13  \n",
       "3   46\\n\\nNow, solve the below question following...  \n",
       "4                                                  6  "
      ]
     },
     "execution_count": 74,
     "metadata": {},
     "output_type": "execute_result"
    }
   ],
   "source": [
    "df.head()"
   ]
  },
  {
   "cell_type": "code",
   "execution_count": 75,
   "id": "8d7d013d-c23c-44f4-9154-ba9dee214853",
   "metadata": {},
   "outputs": [],
   "source": [
    "# from evaluate import load\n",
    "# from tqdm import tqdm\n",
    "# exact_match_metric = load(\"exact_match\")"
   ]
  },
  {
   "cell_type": "code",
   "execution_count": 76,
   "id": "9f236d43-3d9f-443d-ae65-b16ab669ff81",
   "metadata": {},
   "outputs": [],
   "source": [
    "# results = exact_match_metric.compute(predictions=[df.iloc[3]['model_answer']], references=[data_feedback[\"answer\"][3].split(\"####\")[-1]])"
   ]
  },
  {
   "cell_type": "code",
   "execution_count": 77,
   "id": "ee544a94-e4c4-4ac7-8e88-5a181c7951f2",
   "metadata": {},
   "outputs": [
    {
     "data": {
      "text/html": [
       "<div>\n",
       "<style scoped>\n",
       "    .dataframe tbody tr th:only-of-type {\n",
       "        vertical-align: middle;\n",
       "    }\n",
       "\n",
       "    .dataframe tbody tr th {\n",
       "        vertical-align: top;\n",
       "    }\n",
       "\n",
       "    .dataframe thead th {\n",
       "        text-align: right;\n",
       "    }\n",
       "</style>\n",
       "<table border=\"1\" class=\"dataframe\">\n",
       "  <thead>\n",
       "    <tr style=\"text-align: right;\">\n",
       "      <th></th>\n",
       "      <th>question</th>\n",
       "      <th>answer</th>\n",
       "    </tr>\n",
       "  </thead>\n",
       "  <tbody>\n",
       "    <tr>\n",
       "      <th>0</th>\n",
       "      <td>Janet, a third grade teacher, is picking up th...</td>\n",
       "      <td>Janet needs 35 lunches for the kids + 5 for th...</td>\n",
       "    </tr>\n",
       "    <tr>\n",
       "      <th>1</th>\n",
       "      <td>To make room for a new inventory of books, Gor...</td>\n",
       "      <td>He gets 30% off any book over $22 and he buys ...</td>\n",
       "    </tr>\n",
       "    <tr>\n",
       "      <th>2</th>\n",
       "      <td>A young girl pours 23 blue beads and 16 yellow...</td>\n",
       "      <td>There are 23+16=&lt;&lt;23+16=39&gt;&gt;39 beads in the bo...</td>\n",
       "    </tr>\n",
       "    <tr>\n",
       "      <th>3</th>\n",
       "      <td>Steve has 25 socks. He has 4 pairs of socks th...</td>\n",
       "      <td>In each pair of socks there are 2/1 = &lt;&lt;2/1=2&gt;...</td>\n",
       "    </tr>\n",
       "    <tr>\n",
       "      <th>4</th>\n",
       "      <td>Theon's ship can move 15 nautical miles per ho...</td>\n",
       "      <td>Theon's estimated time of arrival is 90/15 = &lt;...</td>\n",
       "    </tr>\n",
       "  </tbody>\n",
       "</table>\n",
       "</div>"
      ],
      "text/plain": [
       "                                            question  \\\n",
       "0  Janet, a third grade teacher, is picking up th...   \n",
       "1  To make room for a new inventory of books, Gor...   \n",
       "2  A young girl pours 23 blue beads and 16 yellow...   \n",
       "3  Steve has 25 socks. He has 4 pairs of socks th...   \n",
       "4  Theon's ship can move 15 nautical miles per ho...   \n",
       "\n",
       "                                              answer  \n",
       "0  Janet needs 35 lunches for the kids + 5 for th...  \n",
       "1  He gets 30% off any book over $22 and he buys ...  \n",
       "2  There are 23+16=<<23+16=39>>39 beads in the bo...  \n",
       "3  In each pair of socks there are 2/1 = <<2/1=2>...  \n",
       "4  Theon's estimated time of arrival is 90/15 = <...  "
      ]
     },
     "execution_count": 77,
     "metadata": {},
     "output_type": "execute_result"
    }
   ],
   "source": [
    "test = pd.DataFrame(data_test)\n",
    "test.head()"
   ]
  },
  {
   "cell_type": "code",
   "execution_count": 78,
   "id": "e8e45e82-c974-449a-9756-6ecdea18ee03",
   "metadata": {},
   "outputs": [],
   "source": [
    "test['GT_Answer']=test.apply(get_answer_dataset,axis=1)"
   ]
  },
  {
   "cell_type": "code",
   "execution_count": 79,
   "id": "c034963d-fb5e-4615-8820-f411c4495c4a",
   "metadata": {},
   "outputs": [
    {
     "data": {
      "text/html": [
       "<div>\n",
       "<style scoped>\n",
       "    .dataframe tbody tr th:only-of-type {\n",
       "        vertical-align: middle;\n",
       "    }\n",
       "\n",
       "    .dataframe tbody tr th {\n",
       "        vertical-align: top;\n",
       "    }\n",
       "\n",
       "    .dataframe thead th {\n",
       "        text-align: right;\n",
       "    }\n",
       "</style>\n",
       "<table border=\"1\" class=\"dataframe\">\n",
       "  <thead>\n",
       "    <tr style=\"text-align: right;\">\n",
       "      <th></th>\n",
       "      <th>question</th>\n",
       "      <th>answer</th>\n",
       "      <th>GT_Answer</th>\n",
       "    </tr>\n",
       "  </thead>\n",
       "  <tbody>\n",
       "    <tr>\n",
       "      <th>0</th>\n",
       "      <td>Janet, a third grade teacher, is picking up th...</td>\n",
       "      <td>Janet needs 35 lunches for the kids + 5 for th...</td>\n",
       "      <td>308</td>\n",
       "    </tr>\n",
       "    <tr>\n",
       "      <th>1</th>\n",
       "      <td>To make room for a new inventory of books, Gor...</td>\n",
       "      <td>He gets 30% off any book over $22 and he buys ...</td>\n",
       "      <td>95</td>\n",
       "    </tr>\n",
       "    <tr>\n",
       "      <th>2</th>\n",
       "      <td>A young girl pours 23 blue beads and 16 yellow...</td>\n",
       "      <td>There are 23+16=&lt;&lt;23+16=39&gt;&gt;39 beads in the bo...</td>\n",
       "      <td>10</td>\n",
       "    </tr>\n",
       "    <tr>\n",
       "      <th>3</th>\n",
       "      <td>Steve has 25 socks. He has 4 pairs of socks th...</td>\n",
       "      <td>In each pair of socks there are 2/1 = &lt;&lt;2/1=2&gt;...</td>\n",
       "      <td>17</td>\n",
       "    </tr>\n",
       "    <tr>\n",
       "      <th>4</th>\n",
       "      <td>Theon's ship can move 15 nautical miles per ho...</td>\n",
       "      <td>Theon's estimated time of arrival is 90/15 = &lt;...</td>\n",
       "      <td>3</td>\n",
       "    </tr>\n",
       "  </tbody>\n",
       "</table>\n",
       "</div>"
      ],
      "text/plain": [
       "                                            question  \\\n",
       "0  Janet, a third grade teacher, is picking up th...   \n",
       "1  To make room for a new inventory of books, Gor...   \n",
       "2  A young girl pours 23 blue beads and 16 yellow...   \n",
       "3  Steve has 25 socks. He has 4 pairs of socks th...   \n",
       "4  Theon's ship can move 15 nautical miles per ho...   \n",
       "\n",
       "                                              answer GT_Answer  \n",
       "0  Janet needs 35 lunches for the kids + 5 for th...       308  \n",
       "1  He gets 30% off any book over $22 and he buys ...        95  \n",
       "2  There are 23+16=<<23+16=39>>39 beads in the bo...        10  \n",
       "3  In each pair of socks there are 2/1 = <<2/1=2>...        17  \n",
       "4  Theon's estimated time of arrival is 90/15 = <...         3  "
      ]
     },
     "execution_count": 79,
     "metadata": {},
     "output_type": "execute_result"
    }
   ],
   "source": [
    "test.head()"
   ]
  },
  {
   "cell_type": "code",
   "execution_count": 80,
   "id": "10b5b6ec-51ab-46e0-a831-47f8f59b0080",
   "metadata": {},
   "outputs": [],
   "source": [
    "# for i in tqdm(range(df.shape[0])):\n",
    "#     df.loc[i,'score']=exact_match_metric.compute(predictions=[df.iloc[i]['model_answer']], references=[test.iloc[i][\"GT_Answer\"]])['exact_match']"
   ]
  },
  {
   "cell_type": "code",
   "execution_count": 10,
   "id": "a53a22a9-5f6b-4a88-8c6a-f408a2547774",
   "metadata": {},
   "outputs": [],
   "source": [
    "# df.head()"
   ]
  },
  {
   "cell_type": "code",
   "execution_count": 82,
   "id": "51487c7d-cdc4-4d44-b706-f298fd9dfa2c",
   "metadata": {},
   "outputs": [],
   "source": [
    "df['score'] = (df['model_answer'] == test['GT_Answer']).astype(int)"
   ]
  },
  {
   "cell_type": "code",
   "execution_count": 11,
   "id": "151e2235-ea3e-4eb9-b70e-d5d1df4c22b4",
   "metadata": {},
   "outputs": [],
   "source": [
    "# df.head()"
   ]
  },
  {
   "cell_type": "code",
   "execution_count": 84,
   "id": "8223de80-50d7-47f8-b414-d6c99ef390cb",
   "metadata": {},
   "outputs": [],
   "source": [
    "# score= exact_match_metric.compute(predictions=df['model_answer'].tolist(), references=test[\"GT_Answer\"].tolist())"
   ]
  },
  {
   "cell_type": "code",
   "execution_count": 36,
   "id": "a50cbd47-124b-492f-8ac4-29006745edf9",
   "metadata": {},
   "outputs": [],
   "source": [
    "# score"
   ]
  },
  {
   "cell_type": "code",
   "execution_count": 74,
   "id": "2ef5b5ab-0eb6-41e5-80d2-433ff4623495",
   "metadata": {},
   "outputs": [],
   "source": [
    "# df['score'] = (df['model_answer'] == feedback['GT_Answer']).astype(int)"
   ]
  },
  {
   "cell_type": "code",
   "execution_count": 75,
   "id": "922b5086-37a2-4cd8-bd70-a23f1e196866",
   "metadata": {},
   "outputs": [],
   "source": [
    "# from tqdm import tqdm\n",
    "# for i in tqdm(range(10)):\n",
    "    "
   ]
  },
  {
   "cell_type": "code",
   "execution_count": 12,
   "id": "d5318a08-3bd2-4c65-b57c-4fa5e883a1eb",
   "metadata": {},
   "outputs": [],
   "source": [
    "# df.head(10)"
   ]
  },
  {
   "cell_type": "code",
   "execution_count": 85,
   "id": "a64a0d74-699e-4474-b3b1-f0f25a04b379",
   "metadata": {},
   "outputs": [],
   "source": [
    "# df.drop(columns=['model_answer'],inplace=True)\n",
    "df['GT_Answer']=test['GT_Answer']"
   ]
  },
  {
   "cell_type": "code",
   "execution_count": 13,
   "id": "7dacd4f0-629e-46de-8616-97dff3a51ffe",
   "metadata": {},
   "outputs": [],
   "source": [
    "# df.head()"
   ]
  },
  {
   "cell_type": "code",
   "execution_count": 87,
   "id": "81c4d55a-6940-4c14-ba9b-3d8581bf09d9",
   "metadata": {},
   "outputs": [],
   "source": [
    "# df.to_json(\"/scratch/workspace/wenlongzhao_umass_edu-analyze//Bidirectional-Teacher-Student-Communication-for-LLM-Alignment/outputs/gsm8k/LLaMA8B/generated_outputs1.json\", orient='records', lines=True)"
   ]
  },
  {
   "cell_type": "code",
   "execution_count": 88,
   "id": "48cd06ff-4d8b-4af1-86a6-0b190af17aa7",
   "metadata": {},
   "outputs": [],
   "source": [
    "records = df.to_dict(orient='records')"
   ]
  },
  {
   "cell_type": "code",
   "execution_count": 89,
   "id": "2603c0b8-2041-4cc4-a108-e8eb249132a7",
   "metadata": {},
   "outputs": [],
   "source": [
    "import json\n",
    "formatted_json = json.dumps(records, indent=4)\n"
   ]
  },
  {
   "cell_type": "code",
   "execution_count": 90,
   "id": "f30d88d0-3f29-4169-82e9-783f4b76d33b",
   "metadata": {},
   "outputs": [],
   "source": [
    "with open(path, \"w\") as f:\n",
    "    f.write(formatted_json)"
   ]
  },
  {
   "cell_type": "code",
   "execution_count": 91,
   "id": "07716287-186a-4a89-8f29-b6d7ed27f5f7",
   "metadata": {},
   "outputs": [
    {
     "data": {
      "text/plain": [
       "407"
      ]
     },
     "execution_count": 91,
     "metadata": {},
     "output_type": "execute_result"
    }
   ],
   "source": [
    "df['score'].sum()"
   ]
  },
  {
   "cell_type": "code",
   "execution_count": 92,
   "id": "6944c9ca-bb69-4d35-b734-67cc9afe6ea9",
   "metadata": {},
   "outputs": [
    {
     "data": {
      "text/plain": [
       "0.27224080267558526"
      ]
     },
     "execution_count": 92,
     "metadata": {},
     "output_type": "execute_result"
    }
   ],
   "source": [
    "df['score'].sum()/1495"
   ]
  },
  {
   "cell_type": "code",
   "execution_count": 93,
   "id": "f7773c27-615d-42a7-a348-55227c97d34b",
   "metadata": {},
   "outputs": [
    {
     "data": {
      "text/plain": [
       "1495"
      ]
     },
     "execution_count": 93,
     "metadata": {},
     "output_type": "execute_result"
    }
   ],
   "source": [
    "df.shape[0]"
   ]
  },
  {
   "cell_type": "code",
   "execution_count": 6,
   "id": "76cd5156-10a2-4fe9-8fc5-cb3b5b44110f",
   "metadata": {},
   "outputs": [],
   "source": [
    "import torch\n",
    "from transformers import pipeline, AutoModelForCausalLM, AutoTokenizer, AutoConfig\n",
    "import os\n",
    "from datasets import load_from_disk\n",
    "import pandas as pd\n",
    "import json\n",
    "# os.environ['TRANSFORMERS_CACHE'] = '../transformers_cache'\n",
    "\n"
   ]
  },
  {
   "cell_type": "code",
   "execution_count": 20,
   "id": "876812cc-6b80-43eb-872f-dd9a4012ce27",
   "metadata": {},
   "outputs": [],
   "source": [
    "def get_answer_dataset(row):\n",
    "    return row['answer'].split('####')[-1]\n",
    "def get_answer_model(row):\n",
    "    return row['output'].split('####')[-1]\n",
    "def get_score(data_path, output_path):\n",
    "    '''\n",
    "        data_path = Path to HF dataset which has GT\n",
    "        output_path = path to json file containing model outputs\n",
    "    '''\n",
    "    test = pd.DataFrame(load_from_disk(data_path))    \n",
    "    df = pd.read_json(output_path)\n",
    "    # df.drop(columns=['score','model_answer'],inplace=True)\n",
    "    df['model_answer'] = df.apply(get_answer_model,axis=1)\n",
    "    test['GT_Answer'] = test.apply(get_answer_dataset, axis=1)\n",
    "    df['GT_Answer']=test['GT_Answer']\n",
    "    # print(f'DF Shape: {df.shape}, Test Shape: {test.shape}')\n",
    "    # exact_match_metric = load(\"exact_match\")\n",
    "    \n",
    "    df['score'] = (df['model_answer'] == test['GT_Answer']).astype(int)\n",
    "    \n",
    "    # # for i in tqdm(range(df.shape[0])):\n",
    "    # for i in range(df.shape[0]):\n",
    "    #     df.loc[i,'score'] = exact_match_metric.compute(predictions = [df.iloc[i]['model_answer']], references = [test.iloc[i]['GT_Answer']])['exact_match']\n",
    "    \n",
    "    # df.drop(columns=['model_answer'], inplace=True)\n",
    "    score = df['score'].sum()/df.shape[0]\n",
    "    # Write back the exact scores to output_path\n",
    "    records = df.to_dict(orient = 'records')\n",
    "    formatted_json = json.dumps(records, indent=4)\n",
    "    \n",
    "    with open(output_path,'w') as f:\n",
    "        f.write(formatted_json)\n",
    "    \n",
    "    return score, df['score'].sum()"
   ]
  },
  {
   "cell_type": "code",
   "execution_count": 21,
   "id": "491c075e-645f-425a-ab8a-1646a8c0fed1",
   "metadata": {
    "scrolled": true,
    "tags": []
   },
   "outputs": [
    {
     "name": "stdout",
     "output_type": "stream",
     "text": [
      "\n",
      "\n",
      "Model Name: meta-llama/Llama-3.2-1B-Instruct\tTemp: 0.3\tTop_P: 0.95\tScore: 0.27157190635451506\tSum: 406\n",
      "\n",
      "\n",
      "Model Name: meta-llama/Llama-3.2-1B-Instruct\tTemp: 0.3\tTop_P: 0.9\tScore: 0.27224080267558526\tSum: 407\n",
      "\n",
      "\n",
      "Model Name: meta-llama/Llama-3.2-1B-Instruct\tTemp: 0.3\tTop_P: 0.85\tScore: 0.27692307692307694\tSum: 414\n",
      "\n",
      "\n",
      "Model Name: meta-llama/Llama-3.2-1B-Instruct\tTemp: 0.3\tTop_P: 0.8\tScore: 0.2709030100334448\tSum: 405\n",
      "\n",
      "\n",
      "Model Name: meta-llama/Llama-3.2-1B-Instruct\tTemp: 0.3\tTop_P: 0.75\tScore: 0.2809364548494983\tSum: 420\n",
      "\n",
      "\n",
      "Model Name: meta-llama/Llama-3.2-1B-Instruct\tTemp: 0.3\tTop_P: 0.7\tScore: 0.28160535117056856\tSum: 421\n",
      "\n",
      "\n",
      "Model Name: meta-llama/Llama-3.2-1B-Instruct\tTemp: 0.3\tTop_P: 0.65\tScore: 0.2836120401337793\tSum: 424\n",
      "\n",
      "\n",
      "Model Name: meta-llama/Llama-3.2-1B-Instruct\tTemp: 0.3\tTop_P: 0.6\tScore: 0.27224080267558526\tSum: 407\n",
      "\n",
      "\n",
      "Model Name: meta-llama/Llama-3.2-1B-Instruct\tTemp: 0.5\tTop_P: 0.95\tScore: 0.262876254180602\tSum: 393\n",
      "\n",
      "\n",
      "Model Name: meta-llama/Llama-3.2-1B-Instruct\tTemp: 0.5\tTop_P: 0.9\tScore: 0.2454849498327759\tSum: 367\n",
      "\n",
      "\n",
      "Model Name: meta-llama/Llama-3.2-1B-Instruct\tTemp: 0.5\tTop_P: 0.85\tScore: 0.25418060200668896\tSum: 380\n",
      "\n",
      "\n",
      "Model Name: meta-llama/Llama-3.2-1B-Instruct\tTemp: 0.5\tTop_P: 0.8\tScore: 0.2688963210702341\tSum: 402\n",
      "\n",
      "\n",
      "Model Name: meta-llama/Llama-3.2-1B-Instruct\tTemp: 0.5\tTop_P: 0.75\tScore: 0.26755852842809363\tSum: 400\n",
      "\n",
      "\n",
      "Model Name: meta-llama/Llama-3.2-1B-Instruct\tTemp: 0.5\tTop_P: 0.7\tScore: 0.2729096989966555\tSum: 408\n",
      "\n",
      "\n",
      "Model Name: meta-llama/Llama-3.2-1B-Instruct\tTemp: 0.5\tTop_P: 0.65\tScore: 0.2909698996655518\tSum: 435\n",
      "\n",
      "\n",
      "Model Name: meta-llama/Llama-3.2-1B-Instruct\tTemp: 0.5\tTop_P: 0.6\tScore: 0.25953177257525084\tSum: 388\n",
      "\n",
      "\n",
      "Model Name: meta-llama/Llama-3.2-1B-Instruct\tTemp: 0.7\tTop_P: 0.95\tScore: 0.2294314381270903\tSum: 343\n",
      "\n",
      "\n",
      "Model Name: meta-llama/Llama-3.2-1B-Instruct\tTemp: 0.7\tTop_P: 0.9\tScore: 0.23879598662207357\tSum: 357\n",
      "\n",
      "\n",
      "Model Name: meta-llama/Llama-3.2-1B-Instruct\tTemp: 0.7\tTop_P: 0.85\tScore: 0.24414715719063546\tSum: 365\n",
      "\n",
      "\n",
      "Model Name: meta-llama/Llama-3.2-1B-Instruct\tTemp: 0.7\tTop_P: 0.8\tScore: 0.2568561872909699\tSum: 384\n",
      "\n",
      "\n",
      "Model Name: meta-llama/Llama-3.2-1B-Instruct\tTemp: 0.7\tTop_P: 0.75\tScore: 0.2782608695652174\tSum: 416\n",
      "\n",
      "\n",
      "Model Name: meta-llama/Llama-3.2-1B-Instruct\tTemp: 0.7\tTop_P: 0.7\tScore: 0.2581939799331104\tSum: 386\n",
      "\n",
      "\n",
      "Model Name: meta-llama/Llama-3.2-1B-Instruct\tTemp: 0.7\tTop_P: 0.65\tScore: 0.26688963210702343\tSum: 399\n",
      "\n",
      "\n",
      "Model Name: meta-llama/Llama-3.2-1B-Instruct\tTemp: 0.7\tTop_P: 0.6\tScore: 0.2662207357859532\tSum: 398\n",
      "\n",
      "\n",
      "Model Name: meta-llama/Llama-3.2-1B-Instruct\tTemp: 0.9\tTop_P: 0.95\tScore: 0.18528428093645485\tSum: 277\n",
      "\n",
      "\n",
      "Model Name: meta-llama/Llama-3.2-1B-Instruct\tTemp: 0.9\tTop_P: 0.9\tScore: 0.2020066889632107\tSum: 302\n",
      "\n",
      "\n",
      "Model Name: meta-llama/Llama-3.2-1B-Instruct\tTemp: 0.9\tTop_P: 0.85\tScore: 0.231438127090301\tSum: 346\n",
      "\n",
      "\n",
      "Model Name: meta-llama/Llama-3.2-1B-Instruct\tTemp: 0.9\tTop_P: 0.8\tScore: 0.231438127090301\tSum: 346\n",
      "\n",
      "\n",
      "Model Name: meta-llama/Llama-3.2-1B-Instruct\tTemp: 0.9\tTop_P: 0.75\tScore: 0.22742474916387959\tSum: 340\n",
      "\n",
      "\n",
      "Model Name: meta-llama/Llama-3.2-1B-Instruct\tTemp: 0.9\tTop_P: 0.7\tScore: 0.2608695652173913\tSum: 390\n",
      "\n",
      "\n",
      "Model Name: meta-llama/Llama-3.2-1B-Instruct\tTemp: 0.9\tTop_P: 0.65\tScore: 0.26421404682274247\tSum: 395\n",
      "\n",
      "\n",
      "Model Name: meta-llama/Llama-3.2-1B-Instruct\tTemp: 0.9\tTop_P: 0.6\tScore: 0.2608695652173913\tSum: 390\n",
      "\n",
      "\n",
      "Model Name: meta-llama/Llama-3.2-1B-Instruct\tTemp: 1.1\tTop_P: 0.95\tScore: 0.13645484949832776\tSum: 204\n",
      "\n",
      "\n",
      "Model Name: meta-llama/Llama-3.2-1B-Instruct\tTemp: 1.1\tTop_P: 0.9\tScore: 0.1491638795986622\tSum: 223\n",
      "\n",
      "\n",
      "Model Name: meta-llama/Llama-3.2-1B-Instruct\tTemp: 1.1\tTop_P: 0.85\tScore: 0.1625418060200669\tSum: 243\n",
      "\n",
      "\n",
      "Model Name: meta-llama/Llama-3.2-1B-Instruct\tTemp: 1.1\tTop_P: 0.8\tScore: 0.1939799331103679\tSum: 290\n",
      "\n",
      "\n",
      "Model Name: meta-llama/Llama-3.2-1B-Instruct\tTemp: 1.1\tTop_P: 0.75\tScore: 0.2120401337792642\tSum: 317\n",
      "\n",
      "\n",
      "Model Name: meta-llama/Llama-3.2-1B-Instruct\tTemp: 1.1\tTop_P: 0.7\tScore: 0.2354515050167224\tSum: 352\n",
      "\n",
      "\n",
      "Model Name: meta-llama/Llama-3.2-1B-Instruct\tTemp: 1.1\tTop_P: 0.65\tScore: 0.24414715719063546\tSum: 365\n",
      "\n",
      "\n",
      "Model Name: meta-llama/Llama-3.2-1B-Instruct\tTemp: 1.1\tTop_P: 0.6\tScore: 0.25953177257525084\tSum: 388\n",
      "\n",
      "\n",
      "Model Name: meta-llama/Llama-3.2-1B-Instruct\tTemp: 1.3\tTop_P: 0.95\tScore: 0.06220735785953177\tSum: 93\n",
      "\n",
      "\n",
      "Model Name: meta-llama/Llama-3.2-1B-Instruct\tTemp: 1.3\tTop_P: 0.9\tScore: 0.09230769230769231\tSum: 138\n",
      "\n",
      "\n",
      "Model Name: meta-llama/Llama-3.2-1B-Instruct\tTemp: 1.3\tTop_P: 0.85\tScore: 0.13177257525083613\tSum: 197\n",
      "\n",
      "\n",
      "Model Name: meta-llama/Llama-3.2-1B-Instruct\tTemp: 1.3\tTop_P: 0.8\tScore: 0.1331103678929766\tSum: 199\n",
      "\n",
      "\n",
      "Model Name: meta-llama/Llama-3.2-1B-Instruct\tTemp: 1.3\tTop_P: 0.75\tScore: 0.16521739130434782\tSum: 247\n",
      "\n",
      "\n",
      "Model Name: meta-llama/Llama-3.2-1B-Instruct\tTemp: 1.3\tTop_P: 0.7\tScore: 0.17525083612040135\tSum: 262\n",
      "\n",
      "\n",
      "Model Name: meta-llama/Llama-3.2-1B-Instruct\tTemp: 1.3\tTop_P: 0.65\tScore: 0.19732441471571907\tSum: 295\n",
      "\n",
      "\n",
      "Model Name: meta-llama/Llama-3.2-1B-Instruct\tTemp: 1.3\tTop_P: 0.6\tScore: 0.2214046822742475\tSum: 331\n",
      "\n",
      "\n",
      "Model Name: meta-llama/Llama-3.2-1B-Instruct\tTemp: 1.5\tTop_P: 0.95\tScore: 0.0274247491638796\tSum: 41\n",
      "\n",
      "\n",
      "Model Name: meta-llama/Llama-3.2-1B-Instruct\tTemp: 1.5\tTop_P: 0.9\tScore: 0.04749163879598662\tSum: 71\n",
      "\n",
      "\n",
      "Model Name: meta-llama/Llama-3.2-1B-Instruct\tTemp: 1.5\tTop_P: 0.85\tScore: 0.06755852842809365\tSum: 101\n",
      "\n",
      "\n",
      "Model Name: meta-llama/Llama-3.2-1B-Instruct\tTemp: 1.5\tTop_P: 0.8\tScore: 0.08896321070234113\tSum: 133\n",
      "\n",
      "\n",
      "Model Name: meta-llama/Llama-3.2-1B-Instruct\tTemp: 1.5\tTop_P: 0.75\tScore: 0.11304347826086956\tSum: 169\n",
      "\n",
      "\n",
      "Model Name: meta-llama/Llama-3.2-1B-Instruct\tTemp: 1.5\tTop_P: 0.7\tScore: 0.15183946488294314\tSum: 227\n",
      "\n",
      "\n",
      "Model Name: meta-llama/Llama-3.2-1B-Instruct\tTemp: 1.5\tTop_P: 0.65\tScore: 0.15585284280936454\tSum: 233\n",
      "\n",
      "\n",
      "Model Name: meta-llama/Llama-3.2-1B-Instruct\tTemp: 1.5\tTop_P: 0.6\tScore: 0.17993311036789297\tSum: 269\n",
      "\n",
      "\n",
      "Model Name: meta-llama/Llama-3.2-1B-Instruct\tTemp: 1.7\tTop_P: 0.95\tScore: 0.006688963210702341\tSum: 10\n",
      "\n",
      "\n",
      "Model Name: meta-llama/Llama-3.2-1B-Instruct\tTemp: 1.7\tTop_P: 0.9\tScore: 0.01471571906354515\tSum: 22\n",
      "\n",
      "\n",
      "Model Name: meta-llama/Llama-3.2-1B-Instruct\tTemp: 1.7\tTop_P: 0.85\tScore: 0.025418060200668897\tSum: 38\n",
      "\n",
      "\n",
      "Model Name: meta-llama/Llama-3.2-1B-Instruct\tTemp: 1.7\tTop_P: 0.8\tScore: 0.04882943143812709\tSum: 73\n",
      "\n",
      "\n",
      "Model Name: meta-llama/Llama-3.2-1B-Instruct\tTemp: 1.7\tTop_P: 0.75\tScore: 0.06822742474916388\tSum: 102\n",
      "\n",
      "\n",
      "Model Name: meta-llama/Llama-3.2-1B-Instruct\tTemp: 1.7\tTop_P: 0.7\tScore: 0.07491638795986622\tSum: 112\n",
      "\n",
      "\n",
      "Model Name: meta-llama/Llama-3.2-1B-Instruct\tTemp: 1.7\tTop_P: 0.65\tScore: 0.10100334448160535\tSum: 151\n",
      "\n",
      "\n",
      "Model Name: meta-llama/Llama-3.2-1B-Instruct\tTemp: 1.7\tTop_P: 0.6\tScore: 0.1351170568561873\tSum: 202\n",
      "\n",
      "\n",
      "Model Name: meta-llama/Llama-3.2-1B-Instruct\tTemp: 1.9\tTop_P: 0.95\tScore: 0.002006688963210702\tSum: 3\n",
      "\n",
      "\n",
      "Model Name: meta-llama/Llama-3.2-1B-Instruct\tTemp: 1.9\tTop_P: 0.9\tScore: 0.005351170568561873\tSum: 8\n",
      "\n",
      "\n",
      "Model Name: meta-llama/Llama-3.2-1B-Instruct\tTemp: 1.9\tTop_P: 0.85\tScore: 0.01471571906354515\tSum: 22\n",
      "\n",
      "\n",
      "Model Name: meta-llama/Llama-3.2-1B-Instruct\tTemp: 1.9\tTop_P: 0.8\tScore: 0.02140468227424749\tSum: 32\n",
      "\n",
      "\n",
      "Model Name: meta-llama/Llama-3.2-1B-Instruct\tTemp: 1.9\tTop_P: 0.75\tScore: 0.020066889632107024\tSum: 30\n",
      "\n",
      "\n",
      "Model Name: meta-llama/Llama-3.2-1B-Instruct\tTemp: 1.9\tTop_P: 0.7\tScore: 0.046153846153846156\tSum: 69\n",
      "\n",
      "\n",
      "Model Name: meta-llama/Llama-3.2-1B-Instruct\tTemp: 1.9\tTop_P: 0.65\tScore: 0.07558528428093646\tSum: 113\n",
      "\n",
      "\n",
      "Model Name: meta-llama/Llama-3.2-1B-Instruct\tTemp: 1.9\tTop_P: 0.6\tScore: 0.08896321070234113\tSum: 133\n"
     ]
    }
   ],
   "source": [
    "top_p = [0.95,0.9,0.85,0.8,0.75,0.7,0.65,0.6]\n",
    "temp = [0.3,0.5,0.7,0.9,1.1,1.3,1.5,1.7,1.9]\n",
    "# top_p = [0.6]\n",
    "# temp = [0.3]\n",
    "data_eval_path = \"../datasets/gsm8k/val/\"\n",
    "model_name = \"meta-llama/Llama-3.2-3B-Instruct\"\n",
    "exp_runs=[]\n",
    "for t in temp:\n",
    "    for p in top_p:\n",
    "        output_file_name = f\"../outputs/gsm8k/LLaMA1B/generated_outputs_val_hyptune_{t}_{p}.json\" \n",
    "        score, s = get_score(data_eval_path,output_file_name)\n",
    "        exp_runs.append({'model':model_name,'temp':t,'top_p':p,'score':score})\n",
    "        print(f\"\\n\\nModel Name: {model_name}\\tTemp: {t}\\tTop_P: {p}\\tScore: {score}\\tSum: {s}\")\n",
    "output_file_name = f\"../outputs/gsm8k/hyperparameter3B.json\" \n",
    "with open(output_file_name, \"w\") as f:\n",
    "    json.dump(exp_runs, f, indent=4)  "
   ]
  },
  {
   "cell_type": "code",
   "execution_count": 17,
   "id": "0b637a5a-5ba8-4d21-bba2-fabdcea85bd5",
   "metadata": {
    "scrolled": true,
    "tags": []
   },
   "outputs": [
    {
     "name": "stdout",
     "output_type": "stream",
     "text": [
      "../outputs/gsm8k/LLaMA1B/generated_outputs_val_hyptune_0.3_0.95.json\n",
      "../outputs/gsm8k/LLaMA1B/generated_outputs_val_hyptune_0.3_0.9.json\n",
      "../outputs/gsm8k/LLaMA1B/generated_outputs_val_hyptune_0.3_0.85.json\n",
      "../outputs/gsm8k/LLaMA1B/generated_outputs_val_hyptune_0.3_0.8.json\n",
      "../outputs/gsm8k/LLaMA1B/generated_outputs_val_hyptune_0.3_0.75.json\n",
      "../outputs/gsm8k/LLaMA1B/generated_outputs_val_hyptune_0.3_0.7.json\n",
      "../outputs/gsm8k/LLaMA1B/generated_outputs_val_hyptune_0.3_0.65.json\n",
      "../outputs/gsm8k/LLaMA1B/generated_outputs_val_hyptune_0.3_0.6.json\n",
      "../outputs/gsm8k/LLaMA1B/generated_outputs_val_hyptune_0.5_0.95.json\n",
      "../outputs/gsm8k/LLaMA1B/generated_outputs_val_hyptune_0.5_0.9.json\n",
      "../outputs/gsm8k/LLaMA1B/generated_outputs_val_hyptune_0.5_0.85.json\n",
      "../outputs/gsm8k/LLaMA1B/generated_outputs_val_hyptune_0.5_0.8.json\n",
      "../outputs/gsm8k/LLaMA1B/generated_outputs_val_hyptune_0.5_0.75.json\n",
      "../outputs/gsm8k/LLaMA1B/generated_outputs_val_hyptune_0.5_0.7.json\n",
      "../outputs/gsm8k/LLaMA1B/generated_outputs_val_hyptune_0.5_0.65.json\n",
      "../outputs/gsm8k/LLaMA1B/generated_outputs_val_hyptune_0.5_0.6.json\n",
      "../outputs/gsm8k/LLaMA1B/generated_outputs_val_hyptune_0.7_0.95.json\n",
      "../outputs/gsm8k/LLaMA1B/generated_outputs_val_hyptune_0.7_0.9.json\n",
      "../outputs/gsm8k/LLaMA1B/generated_outputs_val_hyptune_0.7_0.85.json\n",
      "../outputs/gsm8k/LLaMA1B/generated_outputs_val_hyptune_0.7_0.8.json\n",
      "../outputs/gsm8k/LLaMA1B/generated_outputs_val_hyptune_0.7_0.75.json\n",
      "../outputs/gsm8k/LLaMA1B/generated_outputs_val_hyptune_0.7_0.7.json\n",
      "../outputs/gsm8k/LLaMA1B/generated_outputs_val_hyptune_0.7_0.65.json\n",
      "../outputs/gsm8k/LLaMA1B/generated_outputs_val_hyptune_0.7_0.6.json\n",
      "../outputs/gsm8k/LLaMA1B/generated_outputs_val_hyptune_0.9_0.95.json\n",
      "../outputs/gsm8k/LLaMA1B/generated_outputs_val_hyptune_0.9_0.9.json\n",
      "../outputs/gsm8k/LLaMA1B/generated_outputs_val_hyptune_0.9_0.85.json\n",
      "../outputs/gsm8k/LLaMA1B/generated_outputs_val_hyptune_0.9_0.8.json\n",
      "../outputs/gsm8k/LLaMA1B/generated_outputs_val_hyptune_0.9_0.75.json\n",
      "../outputs/gsm8k/LLaMA1B/generated_outputs_val_hyptune_0.9_0.7.json\n",
      "../outputs/gsm8k/LLaMA1B/generated_outputs_val_hyptune_0.9_0.65.json\n",
      "../outputs/gsm8k/LLaMA1B/generated_outputs_val_hyptune_0.9_0.6.json\n",
      "../outputs/gsm8k/LLaMA1B/generated_outputs_val_hyptune_1.1_0.95.json\n",
      "../outputs/gsm8k/LLaMA1B/generated_outputs_val_hyptune_1.1_0.9.json\n",
      "../outputs/gsm8k/LLaMA1B/generated_outputs_val_hyptune_1.1_0.85.json\n",
      "../outputs/gsm8k/LLaMA1B/generated_outputs_val_hyptune_1.1_0.8.json\n",
      "../outputs/gsm8k/LLaMA1B/generated_outputs_val_hyptune_1.1_0.75.json\n",
      "../outputs/gsm8k/LLaMA1B/generated_outputs_val_hyptune_1.1_0.7.json\n",
      "../outputs/gsm8k/LLaMA1B/generated_outputs_val_hyptune_1.1_0.65.json\n",
      "../outputs/gsm8k/LLaMA1B/generated_outputs_val_hyptune_1.1_0.6.json\n",
      "../outputs/gsm8k/LLaMA1B/generated_outputs_val_hyptune_1.3_0.95.json\n",
      "../outputs/gsm8k/LLaMA1B/generated_outputs_val_hyptune_1.3_0.9.json\n",
      "../outputs/gsm8k/LLaMA1B/generated_outputs_val_hyptune_1.3_0.85.json\n",
      "../outputs/gsm8k/LLaMA1B/generated_outputs_val_hyptune_1.3_0.8.json\n",
      "../outputs/gsm8k/LLaMA1B/generated_outputs_val_hyptune_1.3_0.75.json\n",
      "../outputs/gsm8k/LLaMA1B/generated_outputs_val_hyptune_1.3_0.7.json\n",
      "../outputs/gsm8k/LLaMA1B/generated_outputs_val_hyptune_1.3_0.65.json\n",
      "../outputs/gsm8k/LLaMA1B/generated_outputs_val_hyptune_1.3_0.6.json\n",
      "../outputs/gsm8k/LLaMA1B/generated_outputs_val_hyptune_1.5_0.95.json\n",
      "../outputs/gsm8k/LLaMA1B/generated_outputs_val_hyptune_1.5_0.9.json\n",
      "../outputs/gsm8k/LLaMA1B/generated_outputs_val_hyptune_1.5_0.85.json\n",
      "../outputs/gsm8k/LLaMA1B/generated_outputs_val_hyptune_1.5_0.8.json\n",
      "../outputs/gsm8k/LLaMA1B/generated_outputs_val_hyptune_1.5_0.75.json\n",
      "../outputs/gsm8k/LLaMA1B/generated_outputs_val_hyptune_1.5_0.7.json\n",
      "../outputs/gsm8k/LLaMA1B/generated_outputs_val_hyptune_1.5_0.65.json\n",
      "../outputs/gsm8k/LLaMA1B/generated_outputs_val_hyptune_1.5_0.6.json\n",
      "../outputs/gsm8k/LLaMA1B/generated_outputs_val_hyptune_1.7_0.95.json\n",
      "../outputs/gsm8k/LLaMA1B/generated_outputs_val_hyptune_1.7_0.9.json\n",
      "../outputs/gsm8k/LLaMA1B/generated_outputs_val_hyptune_1.7_0.85.json\n",
      "../outputs/gsm8k/LLaMA1B/generated_outputs_val_hyptune_1.7_0.8.json\n",
      "../outputs/gsm8k/LLaMA1B/generated_outputs_val_hyptune_1.7_0.75.json\n",
      "../outputs/gsm8k/LLaMA1B/generated_outputs_val_hyptune_1.7_0.7.json\n",
      "../outputs/gsm8k/LLaMA1B/generated_outputs_val_hyptune_1.7_0.65.json\n",
      "../outputs/gsm8k/LLaMA1B/generated_outputs_val_hyptune_1.7_0.6.json\n",
      "../outputs/gsm8k/LLaMA1B/generated_outputs_val_hyptune_1.9_0.95.json\n",
      "../outputs/gsm8k/LLaMA1B/generated_outputs_val_hyptune_1.9_0.9.json\n",
      "../outputs/gsm8k/LLaMA1B/generated_outputs_val_hyptune_1.9_0.85.json\n",
      "../outputs/gsm8k/LLaMA1B/generated_outputs_val_hyptune_1.9_0.8.json\n",
      "../outputs/gsm8k/LLaMA1B/generated_outputs_val_hyptune_1.9_0.75.json\n",
      "../outputs/gsm8k/LLaMA1B/generated_outputs_val_hyptune_1.9_0.7.json\n",
      "../outputs/gsm8k/LLaMA1B/generated_outputs_val_hyptune_1.9_0.65.json\n",
      "../outputs/gsm8k/LLaMA1B/generated_outputs_val_hyptune_1.9_0.6.json\n"
     ]
    }
   ],
   "source": [
    "top_p = [0.95,0.9,0.85,0.8,0.75,0.7,0.65,0.6]\n",
    "temp = [0.3,0.5,0.7,0.9,1.1,1.3,1.5,1.7,1.9]\n",
    "for t in temp:\n",
    "    for p in top_p:\n",
    "        output_file_name = f\"../outputs/gsm8k/LLaMA1B/generated_outputs_val_hyptune_{t}_{p}.json\" \n",
    "        df = pd.read_json(output_file_name)\n",
    "        print(output_file_name)\n",
    "        df.drop(columns=['score','model_answer'],inplace=True)\n",
    "        records = df.to_dict(orient = 'records')\n",
    "        formatted_json = json.dumps(records, indent=4)\n",
    "\n",
    "        with open(output_file_name,'w') as f:\n",
    "            f.write(formatted_json)"
   ]
  },
  {
   "cell_type": "code",
   "execution_count": null,
   "id": "11309ff2-a2ea-4ddf-82c3-8583f58f5900",
   "metadata": {},
   "outputs": [],
   "source": []
  }
 ],
 "metadata": {
  "kernelspec": {
   "display_name": "IESLAnalyse",
   "language": "python",
   "name": "ieslanalyse"
  },
  "language_info": {
   "codemirror_mode": {
    "name": "ipython",
    "version": 3
   },
   "file_extension": ".py",
   "mimetype": "text/x-python",
   "name": "python",
   "nbconvert_exporter": "python",
   "pygments_lexer": "ipython3",
   "version": "3.12.7"
  }
 },
 "nbformat": 4,
 "nbformat_minor": 5
}
