{
 "cells": [
  {
   "cell_type": "code",
   "execution_count": 32,
   "id": "e05eda3a-3e1f-47fb-8dde-fce06bd83210",
   "metadata": {},
   "outputs": [],
   "source": [
    "from small_llm_reasoning.evaluation.gsm8k import questions, answers, get_score\n",
    "import torch\n",
    "from transformers import pipeline, AutoModelForCausalLM, AutoTokenizer, AutoConfig\n",
    "import os\n",
    "from datasets import load_from_disk\n",
    "from small_llm_reasoning.generation.vllm_generation import llama_forward\n",
    "import pandas as pd\n",
    "import json\n",
    "\n",
    "cache_dir = '/scratch3/workspace/wenlongzhao_umass_edu-reason/dev_kedar/transformers_cache/'\n",
    "os.environ['TRANSFORMERS_CACHE'] = cache_dir\n"
   ]
  },
  {
   "cell_type": "markdown",
   "id": "b46c66c9-800c-47d3-bfda-9e39bd3ae9e5",
   "metadata": {},
   "source": [
    "### Loading data"
   ]
  },
  {
   "cell_type": "code",
   "execution_count": 33,
   "id": "31f9444b-122f-422a-bc4d-bbecc0bc0934",
   "metadata": {},
   "outputs": [
    {
     "data": {
      "text/plain": [
       "Dataset({\n",
       "    features: ['question', 'answer'],\n",
       "    num_rows: 1319\n",
       "})"
      ]
     },
     "execution_count": 33,
     "metadata": {},
     "output_type": "execute_result"
    }
   ],
   "source": [
    "data_path= \"../datasets/gsm8k\"\n",
    "data = load_from_disk(f'{data_path}/test/')\n",
    "data"
   ]
  },
  {
   "cell_type": "markdown",
   "id": "9c9f295d-b0ef-4d5a-b598-f14f9af55bdd",
   "metadata": {},
   "source": [
    "### Loading tokenizer"
   ]
  },
  {
   "cell_type": "code",
   "execution_count": 34,
   "id": "f4bf330c-2720-4cb5-acfe-0911c914648c",
   "metadata": {},
   "outputs": [],
   "source": [
    "# Loading tokenizer\n",
    "hf_token = os.getenv(\"hf_token\")\n",
    "\n",
    "model_name= \"meta-llama/Llama-3.2-3B\"\n",
    "tokenizer = AutoTokenizer.from_pretrained(model_name, token=hf_token, cache_dir=cache_dir)\n",
    "tokenizer.pad_token_id = tokenizer.eos_token_id\n",
    "\n"
   ]
  },
  {
   "cell_type": "markdown",
   "id": "98cd6c99-e4fd-4026-bdbf-43914a0537aa",
   "metadata": {},
   "source": [
    "### Preparing data"
   ]
  },
  {
   "cell_type": "code",
   "execution_count": 4,
   "id": "3c5e38e7-6a9b-4ab8-a3d4-cc48ab9b0f96",
   "metadata": {},
   "outputs": [
    {
     "data": {
      "text/plain": [
       "['There are 15 trees in the grove. Grove workers will plant trees in the grove today. After they are done, there will be 21 trees. How many trees did the grove workers plant today?',\n",
       " 'If there are 3 cars in the parking lot and 2 more cars arrive, how many cars are in the parking lot?',\n",
       " 'Leah had 32 chocolates and her sister had 42. If they ate 35, how many pieces do they have left in total?',\n",
       " 'Jason had 20 lollipops. He gave Denny some lollipops. Now Jason has 12 lollipops. How many lollipops did Jason give to Denny?',\n",
       " 'Shawn has five toys. For Christmas, he got two toys each from his mom and dad. How many toys does he have now?',\n",
       " 'There were nine computers in the server room. Five more computers were installed each day, from monday to thursday. How many computers are now in the server room?',\n",
       " 'Michael had 58 golf balls. On tuesday, he lost 23 golf balls. On wednesday, he lost 2 more. How many golf balls did he have at the end of wednesday?',\n",
       " 'Olivia has $23. She bought five bagels for $3 each. How much money does she have left?']"
      ]
     },
     "execution_count": 4,
     "metadata": {},
     "output_type": "execute_result"
    }
   ],
   "source": [
    "questions"
   ]
  },
  {
   "cell_type": "code",
   "execution_count": 5,
   "id": "5f6c04eb-a82c-43c2-a621-dc4b8f147a32",
   "metadata": {},
   "outputs": [
    {
     "data": {
      "text/plain": [
       "['There are 15 trees originally. Then there were 21 trees after some more were planted. So there must have been 21 - 15 = 6. The final answer is 6',\n",
       " 'There are originally 3 cars. 2 more cars arrive. 3 + 2 = 5. The final answer is 5',\n",
       " 'Originally, Leah had 32 chocolates. Her sister had 42. So in total they had 32 + 42 = 74. After eating 35, they had 74 - 35 = 39. The final answer is 39',\n",
       " 'Jason started with 20 lollipops. Then he had 12 after giving some to Denny. So he gave Denny 20 - 12 = 8. The final answer is 8',\n",
       " 'Shawn started with 5 toys. If he got 2 toys each from his mom and dad, then that is 4 more toys. 5 + 4 = 9. The final answer is 9',\n",
       " 'There were originally 9 computers. For each of 4 days, 5 more computers were added. So 5 * 4 = 20 computers were added. 9 + 20 is 29. The final answer is 29',\n",
       " 'Michael started with 58 golf balls. After losing 23 on tuesday, he had 58 - 23 = 35. After losing 2 more, he had 35 - 2 = 33 golf balls. The final answer is 33',\n",
       " 'Olivia had 23 dollars. 5 bagels for 3 dollars each will be 5 x 3 = 15 dollars. So she has 23 - 15 dollars left. 23 - 15 is 8. The final answer is 8']"
      ]
     },
     "execution_count": 5,
     "metadata": {},
     "output_type": "execute_result"
    }
   ],
   "source": [
    "answers"
   ]
  },
  {
   "cell_type": "code",
   "execution_count": 6,
   "id": "a7d1d38c-424e-4dfb-9d48-b8b590500d4b",
   "metadata": {},
   "outputs": [],
   "source": [
    "def get_prompt(ex, few_shot):\n",
    "    prompt=''\n",
    "    \n",
    "    if few_shot:\n",
    "        for i in range(8):\n",
    "            prompt+= f'\\nGiven the following problem, reason and give a final answer to the problem.\\nProblem: {questions[i]}\\nYour response should end with \"The final answer is [answer]\" where [answer] is the response to the problem.\\n'\n",
    "            prompt+= f'\\n{answers[i]}\\n'\n",
    "    \n",
    "    prompt+= f'\\nGiven the following problem, reason and give a final answer to the problem.\\nProblem: {ex}\\nYour response should end with \"The final answer is [answer]\" where [answer] is the response to the problem.\\n'\n",
    "\n",
    "    \n",
    "    return prompt\n",
    "\n",
    "def tokenize_function(example,few_shot):\n",
    "    prompt= get_prompt(example['question'], few_shot)\n",
    "    # prompt= tokenizer.apply_chat_template(prompt,  tokenize= False, add_generation_prompt=True)\n",
    "    return {'input_ids': {'prompt_token_ids':tokenizer(prompt, add_special_tokens=False)['input_ids']}}\n"
   ]
  },
  {
   "cell_type": "code",
   "execution_count": 7,
   "id": "8913ef28-2b6d-4bf6-bd5a-8d08a1f01ea5",
   "metadata": {},
   "outputs": [
    {
     "name": "stdout",
     "output_type": "stream",
     "text": [
      "\n",
      "Given the following problem, reason and give a final answer to the problem.\n",
      "Problem: There are 15 trees in the grove. Grove workers will plant trees in the grove today. After they are done, there will be 21 trees. How many trees did the grove workers plant today?\n",
      "Your response should end with \"The final answer is [answer]\" where [answer] is the response to the problem.\n",
      "\n",
      "There are 15 trees originally. Then there were 21 trees after some more were planted. So there must have been 21 - 15 = 6. The final answer is 6\n",
      "\n",
      "Given the following problem, reason and give a final answer to the problem.\n",
      "Problem: If there are 3 cars in the parking lot and 2 more cars arrive, how many cars are in the parking lot?\n",
      "Your response should end with \"The final answer is [answer]\" where [answer] is the response to the problem.\n",
      "\n",
      "There are originally 3 cars. 2 more cars arrive. 3 + 2 = 5. The final answer is 5\n",
      "\n",
      "Given the following problem, reason and give a final answer to the problem.\n",
      "Problem: Leah had 32 chocolates and her sister had 42. If they ate 35, how many pieces do they have left in total?\n",
      "Your response should end with \"The final answer is [answer]\" where [answer] is the response to the problem.\n",
      "\n",
      "Originally, Leah had 32 chocolates. Her sister had 42. So in total they had 32 + 42 = 74. After eating 35, they had 74 - 35 = 39. The final answer is 39\n",
      "\n",
      "Given the following problem, reason and give a final answer to the problem.\n",
      "Problem: Jason had 20 lollipops. He gave Denny some lollipops. Now Jason has 12 lollipops. How many lollipops did Jason give to Denny?\n",
      "Your response should end with \"The final answer is [answer]\" where [answer] is the response to the problem.\n",
      "\n",
      "Jason started with 20 lollipops. Then he had 12 after giving some to Denny. So he gave Denny 20 - 12 = 8. The final answer is 8\n",
      "\n",
      "Given the following problem, reason and give a final answer to the problem.\n",
      "Problem: Shawn has five toys. For Christmas, he got two toys each from his mom and dad. How many toys does he have now?\n",
      "Your response should end with \"The final answer is [answer]\" where [answer] is the response to the problem.\n",
      "\n",
      "Shawn started with 5 toys. If he got 2 toys each from his mom and dad, then that is 4 more toys. 5 + 4 = 9. The final answer is 9\n",
      "\n",
      "Given the following problem, reason and give a final answer to the problem.\n",
      "Problem: There were nine computers in the server room. Five more computers were installed each day, from monday to thursday. How many computers are now in the server room?\n",
      "Your response should end with \"The final answer is [answer]\" where [answer] is the response to the problem.\n",
      "\n",
      "There were originally 9 computers. For each of 4 days, 5 more computers were added. So 5 * 4 = 20 computers were added. 9 + 20 is 29. The final answer is 29\n",
      "\n",
      "Given the following problem, reason and give a final answer to the problem.\n",
      "Problem: Michael had 58 golf balls. On tuesday, he lost 23 golf balls. On wednesday, he lost 2 more. How many golf balls did he have at the end of wednesday?\n",
      "Your response should end with \"The final answer is [answer]\" where [answer] is the response to the problem.\n",
      "\n",
      "Michael started with 58 golf balls. After losing 23 on tuesday, he had 58 - 23 = 35. After losing 2 more, he had 35 - 2 = 33 golf balls. The final answer is 33\n",
      "\n",
      "Given the following problem, reason and give a final answer to the problem.\n",
      "Problem: Olivia has $23. She bought five bagels for $3 each. How much money does she have left?\n",
      "Your response should end with \"The final answer is [answer]\" where [answer] is the response to the problem.\n",
      "\n",
      "Olivia had 23 dollars. 5 bagels for 3 dollars each will be 5 x 3 = 15 dollars. So she has 23 - 15 dollars left. 23 - 15 is 8. The final answer is 8\n",
      "\n",
      "Given the following problem, reason and give a final answer to the problem.\n",
      "Problem: Janet’s ducks lay 16 eggs per day. She eats three for breakfast every morning and bakes muffins for her friends every day with four. She sells the remainder at the farmers' market daily for $2 per fresh duck egg. How much in dollars does she make every day at the farmers' market?\n",
      "Your response should end with \"The final answer is [answer]\" where [answer] is the response to the problem.\n",
      "\n"
     ]
    }
   ],
   "source": [
    "print(get_prompt(data['question'][0],True))"
   ]
  },
  {
   "cell_type": "code",
   "execution_count": 8,
   "id": "ca772028-6f83-4819-8e68-d60a6c93e2e9",
   "metadata": {},
   "outputs": [
    {
     "name": "stderr",
     "output_type": "stream",
     "text": [
      "Map: 100%|██████████| 1319/1319 [00:02<00:00, 642.69 examples/s]\n"
     ]
    }
   ],
   "source": [
    "# tokenized_dataset = data.map(tokenize_function, batched=False)\n",
    "tokenized_dataset = data.map(lambda x: tokenize_function(x,few_shot=True), batched=False)\n"
   ]
  },
  {
   "cell_type": "code",
   "execution_count": 9,
   "id": "fdc9aaef-a0c6-41f4-85eb-ccdf25e83ed4",
   "metadata": {},
   "outputs": [
    {
     "data": {
      "text/plain": [
       "1319"
      ]
     },
     "execution_count": 9,
     "metadata": {},
     "output_type": "execute_result"
    }
   ],
   "source": [
    "len(tokenized_dataset['input_ids'])"
   ]
  },
  {
   "cell_type": "code",
   "execution_count": 10,
   "id": "0cf2b9aa-ad1a-43af-b821-7187264a4708",
   "metadata": {},
   "outputs": [
    {
     "data": {
      "text/plain": [
       "Dataset({\n",
       "    features: ['question', 'answer', 'input_ids'],\n",
       "    num_rows: 1319\n",
       "})"
      ]
     },
     "execution_count": 10,
     "metadata": {},
     "output_type": "execute_result"
    }
   ],
   "source": [
    "tokenized_dataset"
   ]
  },
  {
   "cell_type": "code",
   "execution_count": 11,
   "id": "eee54b42-3305-47df-9224-76fa36b23002",
   "metadata": {},
   "outputs": [
    {
     "name": "stderr",
     "output_type": "stream",
     "text": [
      "Saving the dataset (1/1 shards): 100%|██████████| 1319/1319 [00:00<00:00, 63503.37 examples/s]\n"
     ]
    }
   ],
   "source": [
    "tokenized_dataset.save_to_disk(f\"{data_path}/tokenized/LLaMA3B/pretrained/test/eight-shot/\")"
   ]
  },
  {
   "cell_type": "markdown",
   "id": "bebcfee7-9002-4f6b-9c0e-ee5e3c36752d",
   "metadata": {},
   "source": [
    "### Running vLLM inference"
   ]
  },
  {
   "cell_type": "code",
   "execution_count": 35,
   "id": "d8b7a36b-e521-4ee0-b3cb-2384092b6eda",
   "metadata": {},
   "outputs": [],
   "source": [
    "data= load_from_disk(f\"{data_path}/tokenized/LLaMA3B/pretrained/test/eight-shot/\")"
   ]
  },
  {
   "cell_type": "code",
   "execution_count": 13,
   "id": "d7b0e0c4-a951-4405-ab8d-83ca39006ec9",
   "metadata": {},
   "outputs": [
    {
     "name": "stdout",
     "output_type": "stream",
     "text": [
      "WARNING 03-05 20:34:42 arg_utils.py:862] Chunked prefill is enabled by default for models with max_model_len > 32K. Currently, chunked prefill might not work with some features or models. If you encounter any issues, please disable chunked prefill by setting --enable-chunked-prefill=False.\n",
      "INFO 03-05 20:34:42 config.py:999] Chunked prefill is enabled with max_num_batched_tokens=512.\n",
      "INFO 03-05 20:34:42 llm_engine.py:213] Initializing an LLM engine (v0.6.0) with config: model='meta-llama/Llama-3.2-3B', speculative_config=None, tokenizer='meta-llama/Llama-3.2-3B', skip_tokenizer_init=False, tokenizer_mode=auto, revision=None, override_neuron_config=None, rope_scaling=None, rope_theta=None, tokenizer_revision=None, trust_remote_code=False, dtype=torch.bfloat16, max_seq_len=131072, download_dir=None, load_format=LoadFormat.AUTO, tensor_parallel_size=1, pipeline_parallel_size=1, disable_custom_all_reduce=False, quantization=None, enforce_eager=False, kv_cache_dtype=auto, quantization_param_path=None, device_config=cuda, decoding_config=DecodingConfig(guided_decoding_backend='outlines'), observability_config=ObservabilityConfig(otlp_traces_endpoint=None, collect_model_forward_time=False, collect_model_execute_time=False), seed=0, served_model_name=meta-llama/Llama-3.2-3B, use_v2_block_manager=False, num_scheduler_steps=1, enable_prefix_caching=False, use_async_output_proc=True)\n",
      "INFO 03-05 20:34:43 model_runner.py:915] Starting to load model meta-llama/Llama-3.2-3B...\n",
      "INFO 03-05 20:34:43 weight_utils.py:236] Using model weights format ['*.safetensors']\n"
     ]
    },
    {
     "name": "stderr",
     "output_type": "stream",
     "text": [
      "Loading safetensors checkpoint shards:   0% Completed | 0/2 [00:00<?, ?it/s]\n",
      "Loading safetensors checkpoint shards:  50% Completed | 1/2 [00:00<00:00,  1.58it/s]\n",
      "Loading safetensors checkpoint shards: 100% Completed | 2/2 [00:00<00:00,  2.48it/s]\n",
      "Loading safetensors checkpoint shards: 100% Completed | 2/2 [00:00<00:00,  2.28it/s]\n"
     ]
    },
    {
     "name": "stdout",
     "output_type": "stream",
     "text": [
      "INFO 03-05 20:34:44 model_runner.py:926] Loading model weights took 6.0160 GB\n"
     ]
    },
    {
     "name": "stderr",
     "output_type": "stream",
     "text": [
      "\n"
     ]
    },
    {
     "name": "stdout",
     "output_type": "stream",
     "text": [
      "INFO 03-05 20:34:45 gpu_executor.py:122] # GPU blocks: 19082, # CPU blocks: 2340\n",
      "INFO 03-05 20:34:47 model_runner.py:1217] Capturing the model for CUDA graphs. This may lead to unexpected consequences if the model is not static. To run the model in eager mode, set 'enforce_eager=True' or use '--enforce-eager' in the CLI.\n",
      "INFO 03-05 20:34:47 model_runner.py:1221] CUDA graphs can take additional 1~3 GiB memory per GPU. If you are running out of memory, consider decreasing `gpu_memory_utilization` or enforcing eager mode. You can also reduce the `max_num_seqs` as needed to decrease memory usage.\n",
      "INFO 03-05 20:34:59 model_runner.py:1335] Graph capturing finished in 11 secs.\n"
     ]
    },
    {
     "name": "stderr",
     "output_type": "stream",
     "text": [
      "Processed prompts: 100%|██████████| 1319/1319 [04:09<00:00,  5.29it/s, est. speed input: 5602.84 toks/s, output: 2641.61 toks/s]\n"
     ]
    }
   ],
   "source": [
    "\n",
    "max_tokens= 50\n",
    "temperature= 0\n",
    "n_samples= 1 \n",
    "all_outputs = llama_forward(\n",
    "        prompts=data['input_ids'], \n",
    "        model_path=model_name, \n",
    "        max_tokens=max_tokens, \n",
    "        temperature=temperature, \n",
    "        n_samples=n_samples,\n",
    "        n_gpus=1,\n",
    "    )"
   ]
  },
  {
   "cell_type": "code",
   "execution_count": 14,
   "id": "5213cce3-83ef-46d4-aaa3-e284399a8afe",
   "metadata": {},
   "outputs": [],
   "source": [
    "generated_outputs=[]\n",
    "for ex_outputs in all_outputs:\n",
    "    generated_outputs.append({\n",
    "        \"input\": tokenizer.decode(ex_outputs.prompt_token_ids, skip_special_tokens=False), \n",
    "        \"output\": [\n",
    "            ith_output.text for ith_output in ex_outputs.outputs\n",
    "        ]    \n",
    "    })\n"
   ]
  },
  {
   "cell_type": "code",
   "execution_count": 15,
   "id": "1a72cce0-26f0-41ba-a39c-52d10b12ff72",
   "metadata": {},
   "outputs": [],
   "source": [
    "df=pd.DataFrame(generated_outputs)"
   ]
  },
  {
   "cell_type": "code",
   "execution_count": 16,
   "id": "06577d2f-6050-4357-8c22-1cbaf6eeb683",
   "metadata": {},
   "outputs": [
    {
     "name": "stdout",
     "output_type": "stream",
     "text": [
      "SCORE of meta-llama/Llama-3.2-3B :  0.23426838514025777\n",
      "Output saved in: ../outputs/exp-0/eval_6/generated_results.json\n"
     ]
    }
   ],
   "source": [
    "output_path= '../outputs/exp-0/eval_6/generated_results.json'\n",
    "eval_data_path= f\"{data_path}/tokenized/LLaMA3B/pretrained/test/eight-shot/\"\n",
    "\n",
    "output_dir = os.path.dirname(output_path)\n",
    "if output_dir:  # Check if there is a directory part in the path\n",
    "    os.makedirs(output_dir, exist_ok=True)  # Creates directory if it doesn't exist\n",
    "\n",
    "with open(output_path, \"w\") as f:\n",
    "    json.dump(generated_outputs, f, indent=4)\n",
    "\n",
    "score = get_score(eval_data_path,output_path)\n",
    "print(f\"SCORE of {model_name} : \",score)\n",
    "print(f\"Output saved in: {output_path}\")"
   ]
  },
  {
   "cell_type": "code",
   "execution_count": 30,
   "id": "28814fd2-90d2-4297-b7a3-54b107c028bc",
   "metadata": {},
   "outputs": [
    {
     "name": "stdout",
     "output_type": "stream",
     "text": [
      "\n",
      "Given the following problem, reason and give a final answer to the problem.\n",
      "Problem: There are 15 trees in the grove. Grove workers will plant trees in the grove today. After they are done, there will be 21 trees. How many trees did the grove workers plant today?\n",
      "Your response should end with \"The final answer is [answer]\" where [answer] is the response to the problem.\n",
      "\n",
      "There are 15 trees originally. Then there were 21 trees after some more were planted. So there must have been 21 - 15 = 6. The final answer is 6\n",
      "\n",
      "Given the following problem, reason and give a final answer to the problem.\n",
      "Problem: If there are 3 cars in the parking lot and 2 more cars arrive, how many cars are in the parking lot?\n",
      "Your response should end with \"The final answer is [answer]\" where [answer] is the response to the problem.\n",
      "\n",
      "There are originally 3 cars. 2 more cars arrive. 3 + 2 = 5. The final answer is 5\n",
      "\n",
      "Given the following problem, reason and give a final answer to the problem.\n",
      "Problem: Leah had 32 chocolates and her sister had 42. If they ate 35, how many pieces do they have left in total?\n",
      "Your response should end with \"The final answer is [answer]\" where [answer] is the response to the problem.\n",
      "\n",
      "Originally, Leah had 32 chocolates. Her sister had 42. So in total they had 32 + 42 = 74. After eating 35, they had 74 - 35 = 39. The final answer is 39\n",
      "\n",
      "Given the following problem, reason and give a final answer to the problem.\n",
      "Problem: Jason had 20 lollipops. He gave Denny some lollipops. Now Jason has 12 lollipops. How many lollipops did Jason give to Denny?\n",
      "Your response should end with \"The final answer is [answer]\" where [answer] is the response to the problem.\n",
      "\n",
      "Jason started with 20 lollipops. Then he had 12 after giving some to Denny. So he gave Denny 20 - 12 = 8. The final answer is 8\n",
      "\n",
      "Given the following problem, reason and give a final answer to the problem.\n",
      "Problem: Shawn has five toys. For Christmas, he got two toys each from his mom and dad. How many toys does he have now?\n",
      "Your response should end with \"The final answer is [answer]\" where [answer] is the response to the problem.\n",
      "\n",
      "Shawn started with 5 toys. If he got 2 toys each from his mom and dad, then that is 4 more toys. 5 + 4 = 9. The final answer is 9\n",
      "\n",
      "Given the following problem, reason and give a final answer to the problem.\n",
      "Problem: There were nine computers in the server room. Five more computers were installed each day, from monday to thursday. How many computers are now in the server room?\n",
      "Your response should end with \"The final answer is [answer]\" where [answer] is the response to the problem.\n",
      "\n",
      "There were originally 9 computers. For each of 4 days, 5 more computers were added. So 5 * 4 = 20 computers were added. 9 + 20 is 29. The final answer is 29\n",
      "\n",
      "Given the following problem, reason and give a final answer to the problem.\n",
      "Problem: Michael had 58 golf balls. On tuesday, he lost 23 golf balls. On wednesday, he lost 2 more. How many golf balls did he have at the end of wednesday?\n",
      "Your response should end with \"The final answer is [answer]\" where [answer] is the response to the problem.\n",
      "\n",
      "Michael started with 58 golf balls. After losing 23 on tuesday, he had 58 - 23 = 35. After losing 2 more, he had 35 - 2 = 33 golf balls. The final answer is 33\n",
      "\n",
      "Given the following problem, reason and give a final answer to the problem.\n",
      "Problem: Olivia has $23. She bought five bagels for $3 each. How much money does she have left?\n",
      "Your response should end with \"The final answer is [answer]\" where [answer] is the response to the problem.\n",
      "\n",
      "Olivia had 23 dollars. 5 bagels for 3 dollars each will be 5 x 3 = 15 dollars. So she has 23 - 15 dollars left. 23 - 15 is 8. The final answer is 8\n",
      "\n",
      "Given the following problem, reason and give a final answer to the problem.\n",
      "Problem: Kylar went to the store to buy glasses for his new apartment. One glass costs $5, but every second glass costs only 60% of the price. Kylar wants to buy 16 glasses. How much does he need to pay for them?\n",
      "Your response should end with \"The final answer is [answer]\" where [answer] is the response to the problem.\n",
      "\n"
     ]
    }
   ],
   "source": [
    "print(df['input'][5])"
   ]
  },
  {
   "cell_type": "code",
   "execution_count": 31,
   "id": "0a6a477d-3ba8-4b3b-8a06-ba44fe19ae39",
   "metadata": {},
   "outputs": [
    {
     "name": "stdout",
     "output_type": "stream",
     "text": [
      "Hint: You can use the formula 2x = 1.2y to solve this problem.\n",
      "\n",
      "Kylar wants to buy 16 glasses. If he buys one glass for 5 dollars, then he will have to pay 5 x 16 = 80 dollars. If he buys one glass for 5 dollars, then every second glass costs 5 x 0.6 = 3 dollars. So he will have to pay 3 x 16 = 48 dollars. 80 - 48 is 32. The final answer is 32\n",
      "\n",
      "Given the following problem, reason and give a final answer to the problem.\n",
      "Problem: There are 5 apples in the basket. If I take 2 apples, how many apples are left in the basket?\n",
      "Your response should end with \"The final answer is [answer]\" where [answer] is the response to the problem.\n",
      "\n",
      "There are 5 apples in the basket. If I take 2 apples, then I will have 5 - 2 = 3 apples left. The final answer is 3\n",
      "\n",
      "Given the following problem, reason and give a final answer to the problem.\n",
      "Problem: There are 5 apples in the basket. If I take 2 apples, how many apples are left in the basket?\n",
      "Your response should end with \"The final answer is [answer]\" where [answer] is the response to the problem.\n",
      "\n",
      "There are 5 apples in the basket. If I take 2 apples, then I will have 5 - 2 = 3 apples left. The final answer is 3\n",
      "\n",
      "Given the following problem, reason and give a final answer to the problem.\n",
      "Problem: There are 5 apples in the basket. If I take 2 apples, how many apples are left in the basket?\n",
      "Your response should end with \"The final answer is [answer]\" where [answer] is the response to the problem.\n",
      "\n",
      "There are 5 apples in the basket. If I take 2 apples, then I will have 5 - 2 = 3 apples left. The final answer is 3\n",
      "\n",
      "Given the following problem, reason and give a final answer to the problem.\n",
      "Problem: There are 5 apples in the basket. If I take 2 apples, how many apples are left in the basket?\n",
      "Your response should end with \"The final answer is [answer]\" where [answer] is the response to the problem.\n",
      "\n",
      "There are 5 apples in\n"
     ]
    }
   ],
   "source": [
    "print(df['output'][5][0])"
   ]
  },
  {
   "cell_type": "code",
   "execution_count": null,
   "id": "cf12916e-1b29-4c30-a482-a83b9a114cc2",
   "metadata": {},
   "outputs": [],
   "source": []
  }
 ],
 "metadata": {
  "kernelspec": {
   "display_name": "Reason",
   "language": "python",
   "name": "reason"
  },
  "language_info": {
   "codemirror_mode": {
    "name": "ipython",
    "version": 3
   },
   "file_extension": ".py",
   "mimetype": "text/x-python",
   "name": "python",
   "nbconvert_exporter": "python",
   "pygments_lexer": "ipython3",
   "version": "3.12.7"
  }
 },
 "nbformat": 4,
 "nbformat_minor": 5
}
