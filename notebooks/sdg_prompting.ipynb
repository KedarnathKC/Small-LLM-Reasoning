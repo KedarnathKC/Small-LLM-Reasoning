{
 "cells": [
  {
   "cell_type": "code",
   "execution_count": 1,
   "id": "046a2d6d-34bd-407d-8e8b-059153eec057",
   "metadata": {},
   "outputs": [],
   "source": [
    "import os\n",
    "cache_dir = '/scratch3/workspace/wenlongzhao_umass_edu-reason/dev_kedar/transformers_cache'\n",
    "os.environ['HF_HOME']=cache_dir\n",
    "os.environ['HF_HUB_CACHE']=cache_dir+'/hub'"
   ]
  },
  {
   "cell_type": "code",
   "execution_count": 7,
   "id": "ae854a03-b31a-4ada-b331-494220c64fb7",
   "metadata": {},
   "outputs": [],
   "source": [
    "import gc\n",
    "import torch\n",
    "import pandas as pd\n",
    "from tqdm import tqdm\n",
    "from datasets import load_from_disk, load_dataset\n",
    "from transformers import AutoTokenizer, AutoModelForCausalLM\n"
   ]
  },
  {
   "cell_type": "code",
   "execution_count": 3,
   "id": "1dd4db4f-70ee-43c0-860b-7df6571e88fe",
   "metadata": {},
   "outputs": [],
   "source": [
    "model_name= \"meta-llama/Llama-3.3-70B-Instruct\"\n",
    "hf_token=os.getenv('hf_token')"
   ]
  },
  {
   "cell_type": "code",
   "execution_count": 4,
   "id": "87f0b597-bf9a-437c-8212-2f5fe0269707",
   "metadata": {},
   "outputs": [
    {
     "name": "stderr",
     "output_type": "stream",
     "text": [
      "Could not cache non-existence of file. Will ignore error and continue. Error: [Errno 13] Permission denied: '/scratch3/workspace/wenlongzhao_umass_edu-reason/dev_kedar/transformers_cache/models--meta-llama--Llama-3.3-70B-Instruct/.no_exist/6f6073b423013f6a7d4d9f39144961bfbfbc386b/adapter_config.json'\n",
      "Loading checkpoint shards: 100%|██████████| 30/30 [05:30<00:00, 11.03s/it]\n"
     ]
    },
    {
     "data": {
      "text/plain": [
       "LlamaForCausalLM(\n",
       "  (model): LlamaModel(\n",
       "    (embed_tokens): Embedding(128256, 8192)\n",
       "    (layers): ModuleList(\n",
       "      (0-79): 80 x LlamaDecoderLayer(\n",
       "        (self_attn): LlamaAttention(\n",
       "          (q_proj): Linear(in_features=8192, out_features=8192, bias=False)\n",
       "          (k_proj): Linear(in_features=8192, out_features=1024, bias=False)\n",
       "          (v_proj): Linear(in_features=8192, out_features=1024, bias=False)\n",
       "          (o_proj): Linear(in_features=8192, out_features=8192, bias=False)\n",
       "        )\n",
       "        (mlp): LlamaMLP(\n",
       "          (gate_proj): Linear(in_features=8192, out_features=28672, bias=False)\n",
       "          (up_proj): Linear(in_features=8192, out_features=28672, bias=False)\n",
       "          (down_proj): Linear(in_features=28672, out_features=8192, bias=False)\n",
       "          (act_fn): SiLU()\n",
       "        )\n",
       "        (input_layernorm): LlamaRMSNorm((8192,), eps=1e-05)\n",
       "        (post_attention_layernorm): LlamaRMSNorm((8192,), eps=1e-05)\n",
       "      )\n",
       "    )\n",
       "    (norm): LlamaRMSNorm((8192,), eps=1e-05)\n",
       "    (rotary_emb): LlamaRotaryEmbedding()\n",
       "  )\n",
       "  (lm_head): Linear(in_features=8192, out_features=128256, bias=False)\n",
       ")"
      ]
     },
     "execution_count": 4,
     "metadata": {},
     "output_type": "execute_result"
    }
   ],
   "source": [
    "tokenizer = AutoTokenizer.from_pretrained(\n",
    "        model_name,\n",
    "        token=hf_token, \n",
    "        cache_dir=cache_dir\n",
    "    )\n",
    "tokenizer.pad_token_id = tokenizer.eos_token_id\n",
    "device='cuda'\n",
    "torch_dtype='bfloat16'\n",
    "model = AutoModelForCausalLM.from_pretrained(\n",
    "    model_name, \n",
    "    device_map=\"auto\", \n",
    "    torch_dtype=torch_dtype,\n",
    "    token=hf_token, \n",
    "    cache_dir=cache_dir\n",
    ")\n",
    "model.eval()"
   ]
  },
  {
   "cell_type": "code",
   "execution_count": 18,
   "id": "99cefcd9-5a29-4dd4-b28e-85cee0201b12",
   "metadata": {},
   "outputs": [
    {
     "data": {
      "text/html": [
       "<div>\n",
       "<style scoped>\n",
       "    .dataframe tbody tr th:only-of-type {\n",
       "        vertical-align: middle;\n",
       "    }\n",
       "\n",
       "    .dataframe tbody tr th {\n",
       "        vertical-align: top;\n",
       "    }\n",
       "\n",
       "    .dataframe thead th {\n",
       "        text-align: right;\n",
       "    }\n",
       "</style>\n",
       "<table border=\"1\" class=\"dataframe\">\n",
       "  <thead>\n",
       "    <tr style=\"text-align: right;\">\n",
       "      <th></th>\n",
       "      <th>prompt</th>\n",
       "      <th>gt_reasoning</th>\n",
       "      <th>gt_answer</th>\n",
       "      <th>student_token_ids</th>\n",
       "      <th>student_reasoning</th>\n",
       "      <th>student_answer</th>\n",
       "      <th>student_correctness</th>\n",
       "      <th>student_log_probs</th>\n",
       "      <th>teacher_log_probs</th>\n",
       "      <th>teacher_correctness</th>\n",
       "    </tr>\n",
       "  </thead>\n",
       "  <tbody>\n",
       "    <tr>\n",
       "      <th>0</th>\n",
       "      <td>&lt;|begin_of_text|&gt;&lt;|start_header_id|&gt;system&lt;|en...</td>\n",
       "      <td>The volume of the box is 8 x 10 x 12 = &lt;&lt;8*10*...</td>\n",
       "      <td>40</td>\n",
       "      <td>[1271, 1505, 704, 1268, 1690, 4857, 10215, 649...</td>\n",
       "      <td>To find out how many building blocks can fit i...</td>\n",
       "      <td>4</td>\n",
       "      <td>1</td>\n",
       "      <td>[-4.506111145019532e-05, -0.130859375, -0.1425...</td>\n",
       "      <td>[0.0, -0.318359375, -0.126953125, 0.0, 0.0, -0...</td>\n",
       "      <td>1</td>\n",
       "    </tr>\n",
       "    <tr>\n",
       "      <th>1</th>\n",
       "      <td>&lt;|begin_of_text|&gt;&lt;|start_header_id|&gt;system&lt;|en...</td>\n",
       "      <td>The cost Rachel should budget for her pair of ...</td>\n",
       "      <td>500</td>\n",
       "      <td>[1271, 1505, 704, 1268, 1790, 32532, 1288, 819...</td>\n",
       "      <td>To find out how much Rachel should budget, we ...</td>\n",
       "      <td>5</td>\n",
       "      <td>1</td>\n",
       "      <td>[-0.0031585693359370004, -0.63671875, -0.07177...</td>\n",
       "      <td>[-2.384185791015625e-07, -0.48828125, -0.00070...</td>\n",
       "      <td>1</td>\n",
       "    </tr>\n",
       "    <tr>\n",
       "      <th>2</th>\n",
       "      <td>&lt;|begin_of_text|&gt;&lt;|start_header_id|&gt;system&lt;|en...</td>\n",
       "      <td>Jackson used 20 x 1/4 = &lt;&lt;20*1/4=5&gt;&gt;5 kilogram...</td>\n",
       "      <td>12</td>\n",
       "      <td>[1271, 1505, 704, 1268, 1690, 85402, 315, 1333...</td>\n",
       "      <td>To find out how many kilograms of meat are lef...</td>\n",
       "      <td>1</td>\n",
       "      <td>1</td>\n",
       "      <td>[-0.0185546875, -0.349609375, -0.38671875, -0....</td>\n",
       "      <td>[-0.0007591247558590001, -0.2255859375, -0.160...</td>\n",
       "      <td>1</td>\n",
       "    </tr>\n",
       "    <tr>\n",
       "      <th>3</th>\n",
       "      <td>&lt;|begin_of_text|&gt;&lt;|start_header_id|&gt;system&lt;|en...</td>\n",
       "      <td>There are 35 people in Annie's class, which me...</td>\n",
       "      <td>8</td>\n",
       "      <td>[1271, 11886, 420, 3575, 11, 584, 1205, 311, 1...</td>\n",
       "      <td>To solve this problem, we need to find out how...</td>\n",
       "      <td>6</td>\n",
       "      <td>0</td>\n",
       "      <td>[-0.05029296875, -0.5859375, -0.0888671875, -0...</td>\n",
       "      <td>[-0.00038337707519500003, -1.8671875, -0.12695...</td>\n",
       "      <td>1</td>\n",
       "    </tr>\n",
       "    <tr>\n",
       "      <th>4</th>\n",
       "      <td>&lt;|begin_of_text|&gt;&lt;|start_header_id|&gt;system&lt;|en...</td>\n",
       "      <td>Hans’s party includes 12 - 2 = &lt;&lt;12-2=10&gt;&gt;10 a...</td>\n",
       "      <td>52</td>\n",
       "      <td>[1271, 1505, 279, 2860, 16946, 3392, 11, 584, ...</td>\n",
       "      <td>To find the total deposit amount, we need to c...</td>\n",
       "      <td>5</td>\n",
       "      <td>1</td>\n",
       "      <td>[-0.0263671875, -0.56640625, -0.126953125, -0....</td>\n",
       "      <td>[-0.00021076202392500003, -0.51171875, -0.8242...</td>\n",
       "      <td>1</td>\n",
       "    </tr>\n",
       "  </tbody>\n",
       "</table>\n",
       "</div>"
      ],
      "text/plain": [
       "                                              prompt  \\\n",
       "0  <|begin_of_text|><|start_header_id|>system<|en...   \n",
       "1  <|begin_of_text|><|start_header_id|>system<|en...   \n",
       "2  <|begin_of_text|><|start_header_id|>system<|en...   \n",
       "3  <|begin_of_text|><|start_header_id|>system<|en...   \n",
       "4  <|begin_of_text|><|start_header_id|>system<|en...   \n",
       "\n",
       "                                        gt_reasoning gt_answer  \\\n",
       "0  The volume of the box is 8 x 10 x 12 = <<8*10*...        40   \n",
       "1  The cost Rachel should budget for her pair of ...       500   \n",
       "2  Jackson used 20 x 1/4 = <<20*1/4=5>>5 kilogram...        12   \n",
       "3  There are 35 people in Annie's class, which me...         8   \n",
       "4  Hans’s party includes 12 - 2 = <<12-2=10>>10 a...        52   \n",
       "\n",
       "                                   student_token_ids  \\\n",
       "0  [1271, 1505, 704, 1268, 1690, 4857, 10215, 649...   \n",
       "1  [1271, 1505, 704, 1268, 1790, 32532, 1288, 819...   \n",
       "2  [1271, 1505, 704, 1268, 1690, 85402, 315, 1333...   \n",
       "3  [1271, 11886, 420, 3575, 11, 584, 1205, 311, 1...   \n",
       "4  [1271, 1505, 279, 2860, 16946, 3392, 11, 584, ...   \n",
       "\n",
       "                                   student_reasoning student_answer  \\\n",
       "0  To find out how many building blocks can fit i...              4   \n",
       "1  To find out how much Rachel should budget, we ...              5   \n",
       "2  To find out how many kilograms of meat are lef...              1   \n",
       "3  To solve this problem, we need to find out how...              6   \n",
       "4  To find the total deposit amount, we need to c...              5   \n",
       "\n",
       "   student_correctness                                  student_log_probs  \\\n",
       "0                    1  [-4.506111145019532e-05, -0.130859375, -0.1425...   \n",
       "1                    1  [-0.0031585693359370004, -0.63671875, -0.07177...   \n",
       "2                    1  [-0.0185546875, -0.349609375, -0.38671875, -0....   \n",
       "3                    0  [-0.05029296875, -0.5859375, -0.0888671875, -0...   \n",
       "4                    1  [-0.0263671875, -0.56640625, -0.126953125, -0....   \n",
       "\n",
       "                                   teacher_log_probs  teacher_correctness  \n",
       "0  [0.0, -0.318359375, -0.126953125, 0.0, 0.0, -0...                    1  \n",
       "1  [-2.384185791015625e-07, -0.48828125, -0.00070...                    1  \n",
       "2  [-0.0007591247558590001, -0.2255859375, -0.160...                    1  \n",
       "3  [-0.00038337707519500003, -1.8671875, -0.12695...                    1  \n",
       "4  [-0.00021076202392500003, -0.51171875, -0.8242...                    1  "
      ]
     },
     "execution_count": 18,
     "metadata": {},
     "output_type": "execute_result"
    }
   ],
   "source": [
    "data_path='../outputs/exp-2.1.1/eval_1/logprobs1.json'\n",
    "# data=load_dataset('json', data_files=data_path)['train']\n",
    "data=pd.read_json(data_path)\n",
    "data.head()"
   ]
  },
  {
   "cell_type": "code",
   "execution_count": 19,
   "id": "3c0c18cc-bb5a-4a5d-8496-bdbce6098fcd",
   "metadata": {},
   "outputs": [
    {
     "data": {
      "text/html": [
       "<div>\n",
       "<style scoped>\n",
       "    .dataframe tbody tr th:only-of-type {\n",
       "        vertical-align: middle;\n",
       "    }\n",
       "\n",
       "    .dataframe tbody tr th {\n",
       "        vertical-align: top;\n",
       "    }\n",
       "\n",
       "    .dataframe thead th {\n",
       "        text-align: right;\n",
       "    }\n",
       "</style>\n",
       "<table border=\"1\" class=\"dataframe\">\n",
       "  <thead>\n",
       "    <tr style=\"text-align: right;\">\n",
       "      <th></th>\n",
       "      <th>prompt</th>\n",
       "      <th>gt_reasoning</th>\n",
       "      <th>gt_answer</th>\n",
       "      <th>student_token_ids</th>\n",
       "      <th>student_reasoning</th>\n",
       "      <th>student_answer</th>\n",
       "      <th>student_correctness</th>\n",
       "      <th>student_log_probs</th>\n",
       "      <th>teacher_log_probs</th>\n",
       "      <th>teacher_correctness</th>\n",
       "    </tr>\n",
       "  </thead>\n",
       "  <tbody>\n",
       "    <tr>\n",
       "      <th>3</th>\n",
       "      <td>&lt;|begin_of_text|&gt;&lt;|start_header_id|&gt;system&lt;|en...</td>\n",
       "      <td>There are 35 people in Annie's class, which me...</td>\n",
       "      <td>8</td>\n",
       "      <td>[1271, 11886, 420, 3575, 11, 584, 1205, 311, 1...</td>\n",
       "      <td>To solve this problem, we need to find out how...</td>\n",
       "      <td>6</td>\n",
       "      <td>0</td>\n",
       "      <td>[-0.05029296875, -0.5859375, -0.0888671875, -0...</td>\n",
       "      <td>[-0.00038337707519500003, -1.8671875, -0.12695...</td>\n",
       "      <td>1</td>\n",
       "    </tr>\n",
       "    <tr>\n",
       "      <th>10</th>\n",
       "      <td>&lt;|begin_of_text|&gt;&lt;|start_header_id|&gt;system&lt;|en...</td>\n",
       "      <td>A red ticket is equal to 10 blue tickets, and ...</td>\n",
       "      <td>163</td>\n",
       "      <td>[1271, 1505, 704, 1268, 1690, 810, 6437, 14741...</td>\n",
       "      <td>To find out how many more blue tickets Tom nee...</td>\n",
       "      <td>2</td>\n",
       "      <td>0</td>\n",
       "      <td>[-0.037109375, -1.03125, -0.2265625, -0.001350...</td>\n",
       "      <td>[-0.0009117126464840001, -7.09375, -0.03808593...</td>\n",
       "      <td>1</td>\n",
       "    </tr>\n",
       "    <tr>\n",
       "      <th>28</th>\n",
       "      <td>&lt;|begin_of_text|&gt;&lt;|start_header_id|&gt;system&lt;|en...</td>\n",
       "      <td>The items he returned were valued at $700 + $5...</td>\n",
       "      <td>2020</td>\n",
       "      <td>[1271, 11886, 420, 3575, 11, 1095, 596, 1464, ...</td>\n",
       "      <td>To solve this problem, let's break it down ste...</td>\n",
       "      <td>1</td>\n",
       "      <td>0</td>\n",
       "      <td>[-0.078125, -0.53125, -0.10205078125, -0.00193...</td>\n",
       "      <td>[-0.041259765625, -1.8125, -0.00860595703125, ...</td>\n",
       "      <td>1</td>\n",
       "    </tr>\n",
       "    <tr>\n",
       "      <th>41</th>\n",
       "      <td>&lt;|begin_of_text|&gt;&lt;|start_header_id|&gt;system&lt;|en...</td>\n",
       "      <td>First find the distance between soccer practic...</td>\n",
       "      <td>5</td>\n",
       "      <td>[1271, 1505, 279, 2860, 6138, 94870, 3966, 311...</td>\n",
       "      <td>To find the total distance Carla needs to driv...</td>\n",
       "      <td>8</td>\n",
       "      <td>0</td>\n",
       "      <td>[-0.01043701171875, -0.7812500000000001, -0.34...</td>\n",
       "      <td>[-2.622604370117187e-06, -0.3984375, -1.703125...</td>\n",
       "      <td>1</td>\n",
       "    </tr>\n",
       "    <tr>\n",
       "      <th>43</th>\n",
       "      <td>&lt;|begin_of_text|&gt;&lt;|start_header_id|&gt;system&lt;|en...</td>\n",
       "      <td>The price of potatoes is 6 * 2 = $&lt;&lt;6*2=12&gt;&gt;12...</td>\n",
       "      <td>426</td>\n",
       "      <td>[1271, 1505, 11291, 596, 9861, 3300, 11, 584, ...</td>\n",
       "      <td>To find Peter's remaining money, we need to ca...</td>\n",
       "      <td>N</td>\n",
       "      <td>0</td>\n",
       "      <td>[-0.01177978515625, -0.1298828125, -0.44140625...</td>\n",
       "      <td>[-7.963180541992189e-05, -0.0247802734375, -0....</td>\n",
       "      <td>1</td>\n",
       "    </tr>\n",
       "  </tbody>\n",
       "</table>\n",
       "</div>"
      ],
      "text/plain": [
       "                                               prompt  \\\n",
       "3   <|begin_of_text|><|start_header_id|>system<|en...   \n",
       "10  <|begin_of_text|><|start_header_id|>system<|en...   \n",
       "28  <|begin_of_text|><|start_header_id|>system<|en...   \n",
       "41  <|begin_of_text|><|start_header_id|>system<|en...   \n",
       "43  <|begin_of_text|><|start_header_id|>system<|en...   \n",
       "\n",
       "                                         gt_reasoning gt_answer  \\\n",
       "3   There are 35 people in Annie's class, which me...         8   \n",
       "10  A red ticket is equal to 10 blue tickets, and ...       163   \n",
       "28  The items he returned were valued at $700 + $5...      2020   \n",
       "41  First find the distance between soccer practic...         5   \n",
       "43  The price of potatoes is 6 * 2 = $<<6*2=12>>12...       426   \n",
       "\n",
       "                                    student_token_ids  \\\n",
       "3   [1271, 11886, 420, 3575, 11, 584, 1205, 311, 1...   \n",
       "10  [1271, 1505, 704, 1268, 1690, 810, 6437, 14741...   \n",
       "28  [1271, 11886, 420, 3575, 11, 1095, 596, 1464, ...   \n",
       "41  [1271, 1505, 279, 2860, 6138, 94870, 3966, 311...   \n",
       "43  [1271, 1505, 11291, 596, 9861, 3300, 11, 584, ...   \n",
       "\n",
       "                                    student_reasoning student_answer  \\\n",
       "3   To solve this problem, we need to find out how...              6   \n",
       "10  To find out how many more blue tickets Tom nee...              2   \n",
       "28  To solve this problem, let's break it down ste...              1   \n",
       "41  To find the total distance Carla needs to driv...              8   \n",
       "43  To find Peter's remaining money, we need to ca...              N   \n",
       "\n",
       "    student_correctness                                  student_log_probs  \\\n",
       "3                     0  [-0.05029296875, -0.5859375, -0.0888671875, -0...   \n",
       "10                    0  [-0.037109375, -1.03125, -0.2265625, -0.001350...   \n",
       "28                    0  [-0.078125, -0.53125, -0.10205078125, -0.00193...   \n",
       "41                    0  [-0.01043701171875, -0.7812500000000001, -0.34...   \n",
       "43                    0  [-0.01177978515625, -0.1298828125, -0.44140625...   \n",
       "\n",
       "                                    teacher_log_probs  teacher_correctness  \n",
       "3   [-0.00038337707519500003, -1.8671875, -0.12695...                    1  \n",
       "10  [-0.0009117126464840001, -7.09375, -0.03808593...                    1  \n",
       "28  [-0.041259765625, -1.8125, -0.00860595703125, ...                    1  \n",
       "41  [-2.622604370117187e-06, -0.3984375, -1.703125...                    1  \n",
       "43  [-7.963180541992189e-05, -0.0247802734375, -0....                    1  "
      ]
     },
     "execution_count": 19,
     "metadata": {},
     "output_type": "execute_result"
    }
   ],
   "source": [
    "data=data[data['teacher_correctness']==1]\n",
    "data=data[data['student_correctness']==0]\n",
    "data.head()"
   ]
  },
  {
   "cell_type": "code",
   "execution_count": 20,
   "id": "5d8f43f5-f23b-4575-9988-d093b3913399",
   "metadata": {},
   "outputs": [
    {
     "data": {
      "text/plain": [
       "(71, 10)"
      ]
     },
     "execution_count": 20,
     "metadata": {},
     "output_type": "execute_result"
    }
   ],
   "source": [
    "data.shape"
   ]
  },
  {
   "cell_type": "code",
   "execution_count": 27,
   "id": "7a3810aa-b419-4ea8-bf16-a12c43d7fbc6",
   "metadata": {},
   "outputs": [
    {
     "name": "stdout",
     "output_type": "stream",
     "text": [
      "<|begin_of_text|><|start_header_id|>system<|end_header_id|>\n",
      "\n",
      "Cutting Knowledge Date: December 2023\n",
      "Today Date: 10 Mar 2025\n",
      "\n",
      "<|eot_id|><|start_header_id|>user<|end_header_id|>\n",
      "\n",
      "Given the following problem, reason and give a final answer to the problem.\n",
      "Problem: Annie goes to school. Today is her birthday, so Annie decided to buy some sweets for her colleagues. Every classmate got 2 candies. In the end, Annie got left with 12 candies. If there are 35 people in Annie's class in total, how much did Annie spend on candies, if one candy costs $0.1?\n",
      "Your response should end with \"The final answer is [answer]\" where [answer] is the response to the problem.<|eot_id|><|start_header_id|>assistant<|end_header_id|>\n",
      "\n",
      "\n"
     ]
    }
   ],
   "source": [
    "print(data.iloc[0]['prompt'])"
   ]
  },
  {
   "cell_type": "code",
   "execution_count": 26,
   "id": "4f3a8a98-1654-4ba3-8b08-8e409f2b43e7",
   "metadata": {},
   "outputs": [
    {
     "name": "stdout",
     "output_type": "stream",
     "text": [
      "To solve this problem, we need to find out how many candies Annie gave to her classmates. We know that Annie got left with 12 candies and that she had some candies initially. Since we don't know the initial number of candies, let's call it x.\n",
      "\n",
      "We know that every classmate got 2 candies, and there are 35 people in Annie's class in total. So, the number of classmates is 35 - 1 (Annie herself) = 34.\n",
      "\n",
      "Since each classmate got 2 candies, the total number of candies given out is 34 * 2 = 68.\n",
      "\n",
      "We know that Annie got left with 12 candies, so the initial number of candies is 68 + 12 = 80.\n",
      "\n",
      "Now, we know that Annie had 80 candies initially and gave out 68 candies. To find out how much she spent, we need to multiply the number of candies by the cost of each candy.\n",
      "\n",
      "Cost of each candy = $0.1\n",
      "Number of candies given out = 68\n",
      "\n",
      "Total cost = Number of candies given out * Cost of each candy\n",
      "Total cost = 68 * $0.1\n",
      "Total cost = $6.8\n",
      "\n",
      "The final answer is $6.8.\n"
     ]
    }
   ],
   "source": [
    "print(data.iloc[0]['student_reasoning'])"
   ]
  },
  {
   "cell_type": "code",
   "execution_count": 63,
   "id": "71d7c7cd-dd43-4c1e-a5f3-7dcae1ede81e",
   "metadata": {},
   "outputs": [],
   "source": [
    "import numpy as np\n",
    "\n",
    "x=[tokenizer.decode(tok) for tok in data.iloc[0]['student_token_ids']]\n",
    "y=np.exp(np.subtract(\n",
    "    np.array(data.iloc[0]['teacher_log_probs']),\n",
    "    np.array(data.iloc[0]['student_log_probs']),\n",
    ")).tolist()\n",
    "           \n",
    "# xlabel"
   ]
  },
  {
   "cell_type": "code",
   "execution_count": null,
   "id": "8bbdafd9-c010-4698-8cb4-a47807d8cb00",
   "metadata": {},
   "outputs": [],
   "source": [
    "exp(logp1-logp2)=exp(log(p1/p2))=p"
   ]
  },
  {
   "cell_type": "code",
   "execution_count": 68,
   "id": "9b159764-912f-4a29-92cb-5e48cf1b0869",
   "metadata": {},
   "outputs": [
    {
     "name": "stdout",
     "output_type": "stream",
     "text": [
      "[1.0511760570131143, 0.27768997095379, 0.9626302113026797, 0.9998703087036115, 1.0000005960466254, 1.1863702521740984, 0.5901705299683179, 1.0000064373223552, 0.8161762130223398, 1.1058002137265759, 1.0441233195671145, 1.0010367041514114, 1.029997396340985, 1.0217168258872555, 0.00016413131488687607, 0.4551585883204129, 1.0003605538755298, 1.1300404380498243, 0.3855343441745787, 0.7259221509524083, 1.029478881969126, 1.0282857202546294, 0.11132376739130573, 0.004853161163813102, 1.1543644342352737, 1.0000038147045416, 1.0000056028523048, 1.0000598448539864, 1.0000576989606635, 0.9140739981758945, 0.227531008222499, 0.0392312659239061, 0.0022746308579195173, 0.5742516868118521, 0.1563796225438241, 0.8114079137930161, 1.03983547133623, 0.5522524501630204, 0.013933803286390808, 0.6953908273230813, 1.0000145436390828, 1.0060286318732523, 1.0217168258872555, 1.0039138893383477, 1.2790194759970974, 1.0077969628667027, 1.0001944492540622, 0.9366649036953589, 1.2567331614341362, 1.0000281337880816, 1.4664030537175994, 1.3234916551139355, 0.9941577576591379, 0.8999025943634562, 1.0707500401388383, 0.498918511586472, 0.9942032676313269, 0.21796135555570278, 1.00105603626372, 1.0000213386904961, 0.9774314197205706, 1.0000317101737775, 1.000026226387607, 1.0000314717476664, 0.5609491608144709, 1.2156908305205474, 0.9027632677687218, 1.0012899605414953, 0.9861201746907884, 0.6885488959085517, 1.0318496792682326, 1.001939147884689, 1.234835175451091, 1.000001549721965, 1.0000177623418915, 1.2790194759970974, 1.0000051260125886, 0.906075346490757, 0.0054140925140856375, 1.1481863307587594, 0.4040365236633421, 1.0378065247194417, 1.0000107288936138, 1.258676254945718, 0.1509774184559146, 1.0065214165780454, 1.0042164755078242, 1.0350180035857015, 1.0833717027831364, 1.0000982332791624, 0.9504865667294234, 0.6406240497330473, 1.0000071525829526, 1.6730502166772943, 1.0748752301252011, 1.000679246696909, 1.0000001192092967, 1.0001726299501041, 1.1968432911476248, 0.6792821161581865, 0.5901705299683179, 1.004752928201447, 1.0000143052170647, 0.9945825984269858, 1.0000417241217698, 1.0000035762850814, 1.0000200273611894, 1.0032092459230753, 1.0428226803817884, 1.0091588140563672, 1.0099881495637515, 1.0000195505145952, 1.0009579475526136, 0.8486889771615039, 1.1921772413532716, 1.008119947598434, 1.0101216819567238, 0.7460454542533906, 1.0564683926879659, 1.0, 1.0000022649790665, 1.0001044327903703, 1.0, 1.000008702316002, 0.9289220336194489, 0.4696068728661841, 0.16388443732468502, 1.0005256126342752, 0.8650053983090678, 0.7818489231529647, 1.0235893591027752, 1.0000005960466254, 1.0000553146401499, 1.0000153781165941, 1.0000643750883444, 0.9212431693974745, 1.054278287665456, 1.184019250173201, 0.7209767151021769, 1.0002535903074616, 1.000015139694377, 1.0000369555626007, 0.5832948350311778, 0.21104918624629726, 1.2824589591333442, 0.27768997095379, 1.0000084638953766, 1.0000206234197522, 1.0000226500215226, 1.0000109673147792, 1.0000014305124978, 0.9910679618235201, 1.5412860841729221, 0.9504865667294234, 0.9687600915838744, 1.2641184477534664, 1.036287413220128, 0.2970463215576845, 0.8035225736890608, 1.0188517735244704, 1.0000123978429658, 1.0034843449162585, 1.0616881434834629, 0.3817876843578648, 0.020352912641272803, 1.0154997535754464, 1.0004879234087622, 1.0002537095469886, 1.3528941245342248, 0.6443887248251953, 0.18211352912101367, 0.9986295562498778, 1.0833717027831364, 1.0190388338523906, 1.0387838475582771, 1.573220826827253, 1.0001924223041319, 0.8591124403633309, 1.0006219890092876, 0.9302837563666665, 1.0000064373223552, 0.8449675698391765, 1.0008701293196227, 0.11850353353390562, 1.0000109673147792, 0.9974626361844079, 1.8755580653664274, 1.0088816783703676, 0.9883496471138451, 0.6859482269655657, 0.8257970399501007, 1.0000443468390048, 1.1243302218447508, 0.006479820303135973, 0.5533321222538027, 0.7727401072945724, 1.0000185968220887, 1.0572424566851155, 1.0031862845484443, 1.0000115633679416, 1.0, 1.0006296231783411, 1.032743582315974, 0.2573233342298918, 1.000000476837272, 0.9996319494610901, 3.107195811010795e-07, 1.0396212938900082, 0.737353761442227, 0.9935897694192858, 0.2939666538280913, 0.00234683539215249, 0.04732193968049408, 0.9158610435469906, 0.7245057179369679, 1.3829497943012412, 1.0000003576279326, 0.9975710850922616, 1.0603443883214314, 1.000018000764734, 1.00593029575364, 0.9869782267674584, 0.9867335306012828, 0.9999974966080529, 1.000005960482241, 0.34919526193959716, 1.2815200020362187, 0.9996174113862385, 0.9994637020562005, 0.9870842413936104, 0.012588293806319263, 0.9887250943901222, 0.772928787578654, 1.0000003576279326, 1.0, 1.0000092983678146, 0.7191967164974513, 0.16072106281220727, 0.9999060674917684, 0.9813810964013313, 0.9946433047838765, 1.0001388884664364, 1.0000010728841815, 0.5474199366029228, 0.8472325477203184, 0.12757102237328663, 0.9934739368340395, 0.9999995231629555, 1.0, 1.000429245541895, 1.000012993896981, 1.0000002384186075, 1.0019190820893498, 3.936130200208935e-06, 0.9999935627190837]\n"
     ]
    }
   ],
   "source": [
    "print(y)"
   ]
  },
  {
   "cell_type": "code",
   "execution_count": 45,
   "id": "96fc3325-7d4f-412c-ae22-873c45c87219",
   "metadata": {},
   "outputs": [
    {
     "name": "stdout",
     "output_type": "stream",
     "text": [
      "['To', ' solve', ' this', ' problem', ',', ' we', ' need', ' to', ' find', ' out', ' how', ' many', ' candies', ' Annie', ' gave', ' to', ' her', ' classmates', '.', ' We', ' know', ' that', ' Annie', ' got', ' left', ' with', ' ', '12', ' candies', ' and', ' that', ' she', ' had', ' some', ' candies', ' initially', '.', ' Since', ' we', ' don', \"'t\", ' know', ' the', ' initial', ' number', ' of', ' candies', ',', ' let', \"'s\", ' call', ' it', ' x', '.\\n\\n', 'We', ' know', ' that', ' every', ' class', 'mate', ' got', ' ', '2', ' candies', ',', ' and', ' there', ' are', ' ', '35', ' people', ' in', ' Annie', \"'s\", ' class', ' in', ' total', '.', ' So', ',', ' the', ' number', ' of', ' classmates', ' is', ' ', '35', ' -', ' ', '1', ' (', 'An', 'nie', ' herself', ')', ' =', ' ', '34', '.\\n\\n', 'Since', ' each', ' class', 'mate', ' got', ' ', '2', ' candies', ',', ' the', ' total', ' number', ' of', ' candies', ' given', ' out', ' is', ' ', '34', ' *', ' ', '2', ' =', ' ', '68', '.\\n\\n', 'We', ' know', ' that', ' Annie', ' got', ' left', ' with', ' ', '12', ' candies', ',', ' so', ' the', ' initial', ' number', ' of', ' candies', ' is', ' ', '68', ' +', ' ', '12', ' =', ' ', '80', '.\\n\\n', 'Now', ',', ' we', ' know', ' that', ' Annie', ' had', ' ', '80', ' candies', ' initially', ' and', ' gave', ' out', ' ', '68', ' candies', '.', ' To', ' find', ' out', ' how', ' much', ' she', ' spent', ',', ' we', ' need', ' to', ' multiply', ' the', ' number', ' of', ' candies', ' by', ' the', ' cost', ' of', ' each', ' candy', '.\\n\\n', 'Cost', ' of', ' each', ' candy', ' =', ' $', '0', '.', '1', '\\n', 'Number', ' of', ' candies', ' given', ' out', ' =', ' ', '68', '\\n\\n', 'Total', ' cost', ' =', ' Number', ' of', ' candies', ' given', ' out', ' *', ' Cost', ' of', ' each', ' candy', '\\n', 'Total', ' cost', ' =', ' ', '68', ' *', ' $', '0', '.', '1', '\\n', 'Total', ' cost', ' =', ' $', '6', '.', '8', '\\n\\n', 'The', ' final', ' answer', ' is', ' $', '6', '.', '8', '.', '<|eot_id|>']\n"
     ]
    }
   ],
   "source": [
    "print(x)"
   ]
  },
  {
   "cell_type": "code",
   "execution_count": 98,
   "id": "01d4bf59-fe09-45cb-b4db-94cfbdb03ff1",
   "metadata": {
    "scrolled": true,
    "tags": []
   },
   "outputs": [
    {
     "data": {
      "image/png": "[encoded data removed]",
      "text/plain": [
       "<Figure size 5000x1000 with 1 Axes>"
      ]
     },
     "metadata": {},
     "output_type": "display_data"
    }
   ],
   "source": [
    "import matplotlib.pyplot as plt\n",
    "\n",
    "%matplotlib inline\n",
    "\n",
    "# Create the plot\n",
    "plt.figure(figsize=(50, 10))\n",
    "plt.bar(x[0:20], y[0:20], color='b', label='Line 1')\n",
    "\n",
    "\n",
    "# Add labels and title\n",
    "plt.xlabel('X-axis')\n",
    "plt.ylabel('Y-axis')\n",
    "plt.xticks(rotation=90,fontsize=20)\n",
    "plt.title('Simple Line Graph')\n",
    "plt.legend()\n",
    "\n",
    "# Show the plot\n",
    "plt.show()"
   ]
  },
  {
   "cell_type": "code",
   "execution_count": 103,
   "id": "481f4e8b-e149-4baf-b00b-15276f540e76",
   "metadata": {},
   "outputs": [],
   "source": [
    "# import numpy as np\n",
    "# from IPython.display import display, HTML\n",
    "\n",
    "# # Generate random data for histogram\n",
    "# data = np.random.randn(1000)  # 1000 random data points from a normal distribution\n",
    "\n",
    "# # Save data in a format that can be read by JavaScript\n",
    "# js_data = str(data.tolist())  # Convert data to list and string for JS compatibility\n",
    "\n",
    "# # Embed the D3.js code in an HTML template\n",
    "# html_code = f\"\"\"\n",
    "# <!DOCTYPE html>\n",
    "# <html lang=\"en\">\n",
    "# <head>\n",
    "#     <meta charset=\"UTF-8\">\n",
    "#     <meta name=\"viewport\" content=\"width=device-width, initial-scale=1.0\">\n",
    "#     <title>Histogram with D3.js</title>\n",
    "#     <script src=\"https://d3js.org/d3.v7.min.js\"></script>\n",
    "# </head>\n",
    "# <body>\n",
    "#     <svg width=\"800\" height=\"400\"></svg>\n",
    "#     <script>\n",
    "#         const data = {js_data};  // Pass Python data to JavaScript\n",
    "        \n",
    "#         const margin = {top: 20, right: 30, bottom: 40, left: 40};\n",
    "#         const width = 800 - margin.left - margin.right;\n",
    "#         const height = 400 - margin.top - margin.bottom;\n",
    "\n",
    "#         const svg = d3.select(\"svg\")\n",
    "#             .append(\"g\")\n",
    "#             .attr(\"transform\", \"translate(\" + margin.left + \",\" + margin.top + \")\");\n",
    "\n",
    "#         const x = d3.scaleLinear()\n",
    "#             .domain([d3.min(data), d3.max(data)])\n",
    "#             .range([0, width]);\n",
    "\n",
    "#         const bins = d3.histogram()\n",
    "#             .domain(x.domain())\n",
    "#             .thresholds(x.ticks(30))(data);  // Create bins based on data\n",
    "\n",
    "#         const y = d3.scaleLinear()\n",
    "#             .domain([0, d3.max(bins, d => d.length)])\n",
    "#             .range([height, 0]);\n",
    "\n",
    "#         svg.selectAll(\".bar\")\n",
    "#             .data(bins)\n",
    "#             .enter().append(\"rect\")\n",
    "#             .attr(\"class\", \"bar\")\n",
    "#             .attr(\"x\", d => x(d.x0))\n",
    "#             .attr(\"y\", d => y(d.length))\n",
    "#             .attr(\"width\", d => x(d.x1) - x(d.x0) - 1)  // Set bar width\n",
    "#             .attr(\"height\", d => height - y(d.length))\n",
    "#             .style(\"fill\", \"skyblue\");\n",
    "\n",
    "#         svg.append(\"g\")\n",
    "#             .attr(\"class\", \"x-axis\")\n",
    "#             .attr(\"transform\", \"translate(0,\" + height + \")\")\n",
    "#             .call(d3.axisBottom(x));\n",
    "\n",
    "#         svg.append(\"g\")\n",
    "#             .attr(\"class\", \"y-axis\")\n",
    "#             .call(d3.axisLeft(y));\n",
    "#     </script>\n",
    "# </body>\n",
    "# </html>\n",
    "# \"\"\"\n",
    "\n",
    "# # Display the HTML with D3.js histogram in Jupyter Notebook\n",
    "# display(HTML(html_code))\n"
   ]
  },
  {
   "cell_type": "code",
   "execution_count": null,
   "id": "af880497-dc0c-4aaa-b0c3-995ada1f97d0",
   "metadata": {},
   "outputs": [],
   "source": [
    "prompt=''\n",
    "tokenized_prompt=tokenizer(prompt, return_tensor='pt')"
   ]
  },
  {
   "cell_type": "code",
   "execution_count": null,
   "id": "aaf46c6b-64f3-4a8e-b798-025802129f5b",
   "metadata": {},
   "outputs": [],
   "source": [
    "model.generate(**tokenized_prompt)"
   ]
  }
 ],
 "metadata": {
  "kernelspec": {
   "display_name": "Reason",
   "language": "python",
   "name": "reason"
  },
  "language_info": {
   "codemirror_mode": {
    "name": "ipython",
    "version": 3
   },
   "file_extension": ".py",
   "mimetype": "text/x-python",
   "name": "python",
   "nbconvert_exporter": "python",
   "pygments_lexer": "ipython3",
   "version": "3.12.7"
  }
 },
 "nbformat": 4,
 "nbformat_minor": 5
}
