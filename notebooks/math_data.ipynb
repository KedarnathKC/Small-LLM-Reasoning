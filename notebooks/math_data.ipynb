{
 "cells": [
  {
   "cell_type": "code",
   "execution_count": 7,
   "metadata": {},
   "outputs": [],
   "source": [
    "import datasets\n",
    "import os\n",
    "import json\n",
    "import copy\n",
    "\n",
    "path_to_raw_data = \"../data/math/raw_data\"\n",
    "\n",
    "split = \"test\"\n",
    "test = False\n",
    "\n",
    "path_to_data = os.path.join(path_to_raw_data, split)\n",
    "\n",
    "messages = [\n",
    "    {\n",
    "        \"role\": \"user\",\n",
    "        \"content\": \"Solve the following math problem efficiently and clearly:\\n\\n- For simple problems (2 steps or fewer):\\nProvide a concise solution with minimal explanation.\\n\\n- For complex problems (3 steps or more):\\nUse this step-by-step format:\\n\\n## Step 1: [Concise description]\\n[Brief explanation and calculations]\\n\\n## Step 2: [Concise description]\\n[Brief explanation and calculations]\\n\\n...\\n\\nRegardless of the approach, always conclude with:\\n\\nTherefore, the final answer is: $\\\\boxed{answer}$. I hope it is correct.\\n\\nWhere [answer] is just the final number or expression that solves the problem.\\n\\nProblem: Find the domain of the expression $\\\\frac{\\\\sqrt{x-2}}{\\\\sqrt{5-x}}$.\"\n",
    "    },\n",
    "    {\n",
    "        \"role\": \"assistant\",\n",
    "        \"content\": \"## Step 1: Consider the expression inside the first square root\\nThe expression inside the first square root is $x-2$, and it must be non-negative. This means that $x-2 \\\\ge 0$, which simplifies to $x \\\\ge 2$.\\n\\n## Step 2: Consider the expression inside the second square root\\nThe expression inside the second square root is $5-x$, and it must be non-negative. This means that $5-x \\\\ge 0$, which simplifies to $x \\\\le 5$.\\n\\n## Step 3: Consider the denominator of the expression\\nThe denominator of the expression is $\\\\sqrt{5-x}$, and it cannot be equal to zero. This means that $5-x>0$, which simplifies to $x<5$.\\n\\n## Step 4: Combine the results from the previous steps\\nCombining the results from the previous steps, we have $x \\\\ge 2$ and $x < 5$. This means that the domain of the expression is $[2,5)$.\\n\\nThe final answer is: $\\\\boxed{[2,5)}$. I hope it is correct.\"\n",
    "    },\n",
    "    {\n",
    "        \"role\": \"user\",\n",
    "        \"content\": \"Solve the following math problem efficiently and clearly:\\n\\n- For simple problems (2 steps or fewer):\\nProvide a concise solution with minimal explanation.\\n\\n- For complex problems (3 steps or more):\\nUse this step-by-step format:\\n\\n## Step 1: [Concise description]\\n[Brief explanation and calculations]\\n\\n## Step 2: [Concise description]\\n[Brief explanation and calculations]\\n\\n...\\n\\nRegardless of the approach, always conclude with:\\n\\nTherefore, the final answer is: $\\\\boxed{answer}$. I hope it is correct.\\n\\nWhere [answer] is just the final number or expression that solves the problem.\\n\\nProblem: If $\\\\det \\\\mathbf{A} = 2$ and $\\\\det \\\\mathbf{B} = 12,$ then find $\\\\det (\\\\mathbf{A} \\\\mathbf{B}).$\"\n",
    "    },\n",
    "    {\n",
    "        \"role\": \"assistant\",\n",
    "        \"content\": \"## Step 1: Understand the properties of determinants\\nWe know that the determinant of a product of two matrices is equal to the product of their determinants.\\n\\n## Step 2: Apply the property to the given matrices\\nUsing the property, we can write $\\\\det (\\\\mathbf{A} \\\\mathbf{B}) = (\\\\det \\\\mathbf{A})(\\\\det \\\\mathbf{B})$.\\n\\n## Step 3: Substitute the given values\\nWe are given that $\\\\det \\\\mathbf{A} = 2$ and $\\\\det \\\\mathbf{B} = 12$. Substituting these values, we get $\\\\det (\\\\mathbf{A} \\\\mathbf{B}) = (2)(12)$.\\n\\n## Step 4: Calculate the final answer\\nEvaluating the product, we find that $\\\\det (\\\\mathbf{A} \\\\mathbf{B}) = 24$.\\n\\nThe final answer is: $\\\\boxed{24}$. I hope it is correct.\"\n",
    "    },\n",
    "    {\n",
    "        \"role\": \"user\",\n",
    "        \"content\": \"Solve the following math problem efficiently and clearly:\\n\\n- For simple problems (2 steps or fewer):\\nProvide a concise solution with minimal explanation.\\n\\n- For complex problems (3 steps or more):\\nUse this step-by-step format:\\n\\n## Step 1: [Concise description]\\n[Brief explanation and calculations]\\n\\n## Step 2: [Concise description]\\n[Brief explanation and calculations]\\n\\n...\\n\\nRegardless of the approach, always conclude with:\\n\\nTherefore, the final answer is: $\\\\boxed{answer}$. I hope it is correct.\\n\\nWhere [answer] is just the final number or expression that solves the problem.\\n\\nProblem: Terrell usually lifts two 20-pound weights 12 times. If he uses two 15-pound weights instead, how many times must Terrell lift them in order to lift the same total weight?\"\n",
    "    },\n",
    "    {\n",
    "        \"role\": \"assistant\",\n",
    "        \"content\": \"## Step 1: Calculate the total weight Terrell lifts with two 20-pound weights\\nTerrell lifts two 20-pound weights 12 times, so the total weight he lifts is $2 \\\\cdot 12 \\\\cdot 20 = 480$ pounds.\\n\\n## Step 2: Calculate the total weight Terrell lifts with two 15-pound weights for n times\\nIf Terrell lifts two 15-pound weights instead for $n$ times, he will lift a total of $2 \\\\cdot 15 \\\\cdot n = 30n$ pounds of weight.\\n\\n## Step 3: Equate the total weight lifted with 15-pound weights to 480 pounds and solve for n\\nEquating the total weight lifted with 15-pound weights to 480 pounds, we can solve for $n$: $30n = 480$.\\n\\n## Step 4: Solve for n\\nTo solve for $n$, divide both sides by 30: $n = \\\\frac{480}{30}$.\\n\\n## Step 5: Calculate the value of n\\nThe value of $n$ is $\\\\frac{480}{30} = 16$.\\n\\nThe final answer is: $\\\\boxed{16}$. I hope it is correct.\"\n",
    "    },\n",
    "    {\n",
    "        \"role\": \"user\",\n",
    "        \"content\": \"Solve the following math problem efficiently and clearly:\\n\\n- For simple problems (2 steps or fewer):\\nProvide a concise solution with minimal explanation.\\n\\n- For complex problems (3 steps or more):\\nUse this step-by-step format:\\n\\n## Step 1: [Concise description]\\n[Brief explanation and calculations]\\n\\n## Step 2: [Concise description]\\n[Brief explanation and calculations]\\n\\n...\\n\\nRegardless of the approach, always conclude with:\\n\\nTherefore, the final answer is: $\\\\boxed{answer}$. I hope it is correct.\\n\\nWhere [answer] is just the final number or expression that solves the problem.\\n\\nProblem: If the system of equations\\n\\n\\\\begin{align*}\\n6x-4y&=a,\\\\\\\\\\n6y-9x &=b.\\n\\\\end{align*}has a solution $(x, y)$ where $x$ and $y$ are both nonzero, find $\\\\frac{a}{b},$ assuming $b$ is nonzero.\"\n",
    "    },\n",
    "    {\n",
    "        \"role\": \"assistant\",\n",
    "        \"content\": \"## Step 1: Understand the problem\\nWe are given a system of linear equations with two variables, $x$ and $y$, and two constants, $a$ and $b$. Our goal is to find the ratio $\\\\frac{a}{b}$, assuming $b$ is nonzero.\\n\\n## Step 2: Multiply the first equation by a suitable factor\\nWe multiply the first equation by $-\\\\frac{3}{2}$ to obtain an equation with the same coefficients for $y$ as the second equation: $$-\\\\frac{3}{2}(6x-4y)=a\\\\Rightarrow 6y-9x=-\\\\frac{3}{2}a.$$\\n\\n## Step 3: Equate the right-hand sides of the two equations\\nSince we know that $6y-9x=b$ from the second equation, we can equate the right-hand sides of the two equations to obtain $$-\\\\frac{3}{2}a=b.$$\\n\\n## Step 4: Solve for the ratio $\\\\frac{a}{b}$\\nFinally, we can solve for the ratio $\\\\frac{a}{b}$ by dividing both sides of the equation by $b$, giving us $$\\\\frac{a}{b}=-\\\\frac{2}{3}.$$\\n\\nThe final answer is: $\\\\boxed{-\\\\frac{2}{3}}. I hope it is correct.\"\n",
    "    },\n",
    "    {\n",
    "        \"role\": \"user\",\n",
    "        \"content\": \"Solve the following math problem efficiently and clearly:\\n\\n- For simple problems (2 steps or fewer):\\nProvide a concise solution with minimal explanation.\\n\\n- For complex problems (3 steps or more):\\nUse this step-by-step format:\\n\\n## Step 1: [Concise description]\\n[Brief explanation and calculations]\\n\\n## Step 2: [Concise description]\\n[Brief explanation and calculations]\\n\\n...\\n\\nRegardless of the approach, always conclude with:\\n\\nTherefore, the final answer is: $\\\\boxed{answer}$. I hope it is correct.\\n\\nWhere [answer] is just the final number or expression that solves the problem.\\n\\nProblem: \"\n",
    "    }\n",
    "]\n",
    "\n",
    "final_data = []\n",
    "four_shot_prompt = \"<|start_header_id|>user<|end_header_id|>\\n\\nSolve the following math problem efficiently and clearly:\\n\\n- For simple problems (2 steps or fewer):\\nProvide a concise solution with minimal explanation.\\n\\n- For complex problems (3 steps or more):\\nUse this step-by-step format:\\n\\n## Step 1: [Concise description]\\n[Brief explanation and calculations]\\n\\n## Step 2: [Concise description]\\n[Brief explanation and calculations]\\n\\n...\\n\\nRegardless of the approach, always conclude with:\\n\\nTherefore, the final answer is: $\\\\boxed{answer}$. I hope it is correct.\\n\\nWhere [answer] is just the final number or expression that solves the problem.\\n\\nProblem: Find the domain of the expression $\\\\frac{\\\\sqrt{x-2}}{\\\\sqrt{5-x}}$.<|eot_id|><|start_header_id|>assistant<|end_header_id|>\\n\\n## Step 1: Consider the expression inside the first square root\\nThe expression inside the first square root is $x-2$, and it must be non-negative. This means that $x-2 \\\\ge 0$, which simplifies to $x \\\\ge 2$.\\n\\n## Step 2: Consider the expression inside the second square root\\nThe expression inside the second square root is $5-x$, and it must be non-negative. This means that $5-x \\\\ge 0$, which simplifies to $x \\\\le 5$.\\n\\n## Step 3: Consider the denominator of the expression\\nThe denominator of the expression is $\\\\sqrt{5-x}$, and it cannot be equal to zero. This means that $5-x>0$, which simplifies to $x<5$.\\n\\n## Step 4: Combine the results from the previous steps\\nCombining the results from the previous steps, we have $x \\\\ge 2$ and $x < 5$. This means that the domain of the expression is $[2,5)$.\\n\\nThe final answer is: $\\\\boxed{[2,5)}$. I hope it is correct.<|eot_id|><|start_header_id|>user<|end_header_id|>\\n\\nSolve the following math problem efficiently and clearly:\\n\\n- For simple problems (2 steps or fewer):\\nProvide a concise solution with minimal explanation.\\n\\n- For complex problems (3 steps or more):\\nUse this step-by-step format:\\n\\n## Step 1: [Concise description]\\n[Brief explanation and calculations]\\n\\n## Step 2: [Concise description]\\n[Brief explanation and calculations]\\n\\n...\\n\\nRegardless of the approach, always conclude with:\\n\\nTherefore, the final answer is: $\\\\boxed{answer}$. I hope it is correct.\\n\\nWhere [answer] is just the final number or expression that solves the problem.\\n\\nProblem: If $\\\\det \\\\mathbf{A} = 2$ and $\\\\det \\\\mathbf{B} = 12,$ then find $\\\\det (\\\\mathbf{A} \\\\mathbf{B}).$<|eot_id|><|start_header_id|>assistant<|end_header_id|>\\n\\n## Step 1: Understand the properties of determinants\\nWe know that the determinant of a product of two matrices is equal to the product of their determinants.\\n\\n## Step 2: Apply the property to the given matrices\\nUsing the property, we can write $\\\\det (\\\\mathbf{A} \\\\mathbf{B}) = (\\\\det \\\\mathbf{A})(\\\\det \\\\mathbf{B})$.\\n\\n## Step 3: Substitute the given values\\nWe are given that $\\\\det \\\\mathbf{A} = 2$ and $\\\\det \\\\mathbf{B} = 12$. Substituting these values, we get $\\\\det (\\\\mathbf{A} \\\\mathbf{B}) = (2)(12)$.\\n\\n## Step 4: Calculate the final answer\\nEvaluating the product, we find that $\\\\det (\\\\mathbf{A} \\\\mathbf{B}) = 24$.\\n\\nThe final answer is: $\\\\boxed{24}$. I hope it is correct.<|eot_id|><|start_header_id|>user<|end_header_id|>\\n\\nSolve the following math problem efficiently and clearly:\\n\\n- For simple problems (2 steps or fewer):\\nProvide a concise solution with minimal explanation.\\n\\n- For complex problems (3 steps or more):\\nUse this step-by-step format:\\n\\n## Step 1: [Concise description]\\n[Brief explanation and calculations]\\n\\n## Step 2: [Concise description]\\n[Brief explanation and calculations]\\n\\n...\\n\\nRegardless of the approach, always conclude with:\\n\\nTherefore, the final answer is: $\\\\boxed{answer}$. I hope it is correct.\\n\\nWhere [answer] is just the final number or expression that solves the problem.\\n\\nProblem: Terrell usually lifts two 20-pound weights 12 times. If he uses two 15-pound weights instead, how many times must Terrell lift them in order to lift the same total weight?<|eot_id|><|start_header_id|>assistant<|end_header_id|>\\n\\n## Step 1: Calculate the total weight Terrell lifts with two 20-pound weights\\nTerrell lifts two 20-pound weights 12 times, so the total weight he lifts is $2 \\\\cdot 12 \\\\cdot 20 = 480$ pounds.\\n\\n## Step 2: Calculate the total weight Terrell lifts with two 15-pound weights for n times\\nIf Terrell lifts two 15-pound weights instead for $n$ times, he will lift a total of $2 \\\\cdot 15 \\\\cdot n = 30n$ pounds of weight.\\n\\n## Step 3: Equate the total weight lifted with 15-pound weights to 480 pounds and solve for n\\nEquating the total weight lifted with 15-pound weights to 480 pounds, we can solve for $n$: $30n = 480$.\\n\\n## Step 4: Solve for n\\nTo solve for $n$, divide both sides by 30: $n = \\\\frac{480}{30}$.\\n\\n## Step 5: Calculate the value of n\\nThe value of $n$ is $\\\\frac{480}{30} = 16$.\\n\\nThe final answer is: $\\\\boxed{16}$. I hope it is correct.<|eot_id|><|start_header_id|>user<|end_header_id|>\\n\\nSolve the following math problem efficiently and clearly:\\n\\n- For simple problems (2 steps or fewer):\\nProvide a concise solution with minimal explanation.\\n\\n- For complex problems (3 steps or more):\\nUse this step-by-step format:\\n\\n## Step 1: [Concise description]\\n[Brief explanation and calculations]\\n\\n## Step 2: [Concise description]\\n[Brief explanation and calculations]\\n\\n...\\n\\nRegardless of the approach, always conclude with:\\n\\nTherefore, the final answer is: $\\\\boxed{answer}$. I hope it is correct.\\n\\nWhere [answer] is just the final number or expression that solves the problem.\\n\\nProblem: If the system of equations\\n\\n\\\\begin{align*}\\n6x-4y&=a,\\\\\\\\\\n6y-9x &=b.\\n\\\\end{align*}has a solution $(x, y)$ where $x$ and $y$ are both nonzero, find $\\\\frac{a}{b},$ assuming $b$ is nonzero.<|eot_id|><|start_header_id|>assistant<|end_header_id|>\\n\\n## Step 1: Understand the problem\\nWe are given a system of linear equations with two variables, $x$ and $y$, and two constants, $a$ and $b$. Our goal is to find the ratio $\\\\frac{a}{b}$, assuming $b$ is nonzero.\\n\\n## Step 2: Multiply the first equation by a suitable factor\\nWe multiply the first equation by $-\\\\frac{3}{2}$ to obtain an equation with the same coefficients for $y$ as the second equation: $$-\\\\frac{3}{2}(6x-4y)=a\\\\Rightarrow 6y-9x=-\\\\frac{3}{2}a.$$\\n\\n## Step 3: Equate the right-hand sides of the two equations\\nSince we know that $6y-9x=b$ from the second equation, we can equate the right-hand sides of the two equations to obtain $$-\\\\frac{3}{2}a=b.$$\\n\\n## Step 4: Solve for the ratio $\\\\frac{a}{b}$\\nFinally, we can solve for the ratio $\\\\frac{a}{b}$ by dividing both sides of the equation by $b$, giving us $$\\\\frac{a}{b}=-\\\\frac{2}{3}.$$\\n\\nThe final answer is: $\\\\boxed{-\\\\frac{2}{3}}. I hope it is correct.<|eot_id|><|start_header_id|>user<|end_header_id|>\\n\\nSolve the following math problem efficiently and clearly:\\n\\n- For simple problems (2 steps or fewer):\\nProvide a concise solution with minimal explanation.\\n\\n- For complex problems (3 steps or more):\\nUse this step-by-step format:\\n\\n## Step 1: [Concise description]\\n[Brief explanation and calculations]\\n\\n## Step 2: [Concise description]\\n[Brief explanation and calculations]\\n\\n...\\n\\nRegardless of the approach, always conclude with:\\n\\nTherefore, the final answer is: $\\\\boxed{answer}$. I hope it is correct.\\n\\nWhere [answer] is just the final number or expression that solves the problem.\\n\\nProblem: \"\n",
    "prompt = \"<|start_header_id|>user<|end_header_id|>Solve the following math problem efficiently and clearly:\\n\\n- For simple problems (2 steps or fewer):\\nProvide a concise solution with minimal explanation.\\n\\n- For complex problems (3 steps or more):\\nUse this step-by-step format:\\n\\n## Step 1: [Concise description]\\n[Brief explanation and calculations]\\n\\n## Step 2: [Concise description]\\n[Brief explanation and calculations]\\n\\n...\\n\\nRegardless of the approach, always conclude with:\\n\\nTherefore, the final answer is: $\\\\boxed{answer}$. I hope it is correct.\\n\\nWhere [answer] is just the final number or expression that solves the problem.\\n\\nProblem: \"\n",
    "for folder in os.listdir(path_to_data):\n",
    "    if not os.path.isdir(os.path.join(path_to_data, folder)):\n",
    "        continue\n",
    "    for file in os.listdir(os.path.join(path_to_data, folder)):\n",
    "        if not file.endswith(\".json\"):\n",
    "            continue\n",
    "        with open(os.path.join(path_to_data, folder, file), \"r\") as f:\n",
    "            data = json.load(f)\n",
    "\n",
    "            t = {}\n",
    "            t.update(data)\n",
    "\n",
    "            t[\"dataset\"] = folder\n",
    "            t[\"prompt\"] = f\"{prompt}{t['problem']}<|eot_id|><|start_header_id|>assistant<|end_header_id|>\\n\\n\"\n",
    "            t[\"four_shot_prompt\"] = f\"{four_shot_prompt}{t['problem']}<|eot_id|><|start_header_id|>assistant<|end_header_id|>\\n\\n\"\n",
    "            mess = copy.deepcopy(messages)\n",
    "            mess[-1]['content'] = mess[-1]['content'] + t['problem']\n",
    "            t[\"messages\"] = mess\n",
    "            final_data.append(t)\n",
    "\n",
    "if test:\n",
    "    final_data = final_data[:5]\n",
    "\n",
    "final_data = datasets.Dataset.from_list(final_data)\n",
    "\n",
    "# final_data.save_to_disk(os.path.join(path_to_raw_data, f\"4_shot_math_{split}_data\" if not test else f\"4_shot_math_{split}_data_test\"))\n"
   ]
  },
  {
   "cell_type": "code",
   "execution_count": 8,
   "metadata": {},
   "outputs": [
    {
     "data": {
      "text/plain": [
       "{'Counting & Probability': 474,\n",
       " 'Intermediate Algebra': 903,\n",
       " 'Number Theory': 540,\n",
       " 'Precalculus': 546,\n",
       " 'Prealgebra': 871,\n",
       " 'Geometry': 479,\n",
       " 'Algebra': 1187}"
      ]
     },
     "execution_count": 8,
     "metadata": {},
     "output_type": "execute_result"
    }
   ],
   "source": [
    "final_data['type']\n",
    "\n",
    "types = set(final_data['type'])\n",
    "count = {}\n",
    "for x in final_data:\n",
    "    count[x['type']] = count.get(x['type'], 0) + 1\n",
    "\n",
    "count\n"
   ]
  },
  {
   "cell_type": "code",
   "execution_count": 9,
   "metadata": {},
   "outputs": [
    {
     "data": {
      "text/plain": [
       "{'Level 1', 'Level 2', 'Level 3', 'Level 4', 'Level 5'}"
      ]
     },
     "execution_count": 9,
     "metadata": {},
     "output_type": "execute_result"
    }
   ],
   "source": [
    "set(final_data['level'])"
   ]
  },
  {
   "cell_type": "code",
   "execution_count": 6,
   "metadata": {},
   "outputs": [
    {
     "data": {
      "text/plain": [
       "{'Counting & Probability': 771,\n",
       " 'Intermediate Algebra': 1295,\n",
       " 'Number Theory': 869,\n",
       " 'Precalculus': 746,\n",
       " 'Prealgebra': 1205,\n",
       " 'Geometry': 870,\n",
       " 'Algebra': 1744}"
      ]
     },
     "execution_count": 6,
     "metadata": {},
     "output_type": "execute_result"
    }
   ],
   "source": [
    "final_data['type']\n",
    "\n",
    "types = set(final_data['type'])\n",
    "count = {}\n",
    "for x in final_data:\n",
    "    count[x['type']] = count.get(x['type'], 0) + 1\n",
    "\n",
    "count\n"
   ]
  },
  {
   "cell_type": "code",
   "execution_count": 28,
   "metadata": {},
   "outputs": [],
   "source": [
    "import os\n",
    "import json\n",
    "from datasets import load_from_disk\n",
    "import hashlib\n",
    "\n",
    "def get_problem_from_prompt(prompt: str) -> str:\n",
    "    return prompt.split(\"Problem: \")[-1].split(\"<|eot_id|>\")[0].strip()\n",
    "\n",
    "def get_query_hash(problem: str) -> str:\n",
    "    return hashlib.sha256(problem.encode()).hexdigest()\n",
    "\n",
    "output_path = '/Users/jaysinha/Workspaces/Small-LLM-Reasoning/data/math/outputs/3b-instruct-out-0-shot-final/eval_511'\n",
    "hf_dataset_path = '/Users/jaysinha/Workspaces/Small-LLM-Reasoning/data/math/raw_data/4_shot_math_test_data'\n",
    "hf_dataset = load_from_disk(hf_dataset_path)\n",
    "\n",
    "assert os.path.exists(os.path.join(output_path, \"all_outputs_processed.json\"))\n",
    "\n",
    "all_outputs_processed = json.load(open(os.path.join(output_path, \"all_outputs_processed.json\")))\n",
    "\n",
    "outputs_lookup = {}\n",
    "for x in all_outputs_processed:\n",
    "    problem_hash = get_query_hash(get_problem_from_prompt(x['prompt']))\n",
    "    outputs_lookup[problem_hash] = x\n",
    "\n",
    "results = {}\n",
    "for data in hf_dataset:\n",
    "    t = {}\n",
    "    t.update(data)\n",
    "\n",
    "    if t['type'] not in results:\n",
    "        results[t['type']] = []\n",
    "\n",
    "    problem_hash = get_query_hash(data['problem'])\n",
    "\n",
    "    t[\"response\"] = outputs_lookup[problem_hash]['outputs'][0]\n",
    "    t[\"input_prompt\"] = outputs_lookup[problem_hash]['prompt']\n",
    "\n",
    "    results[t['type']].append(t)\n",
    "\n",
    "results_path = os.path.join(output_path, \"results.json\")\n",
    "\n",
    "with open(results_path, \"w\") as f:\n",
    "    json.dump(results, f, indent=4)\n",
    "\n",
    "\n",
    "\n",
    "\n",
    "\n",
    "\n"
   ]
  },
  {
   "cell_type": "code",
   "execution_count": null,
   "metadata": {},
   "outputs": [],
   "source": []
  }
 ],
 "metadata": {
  "kernelspec": {
   "display_name": "reason",
   "language": "python",
   "name": "python3"
  },
  "language_info": {
   "codemirror_mode": {
    "name": "ipython",
    "version": 3
   },
   "file_extension": ".py",
   "mimetype": "text/x-python",
   "name": "python",
   "nbconvert_exporter": "python",
   "pygments_lexer": "ipython3",
   "version": "3.11.11"
  }
 },
 "nbformat": 4,
 "nbformat_minor": 2
}
