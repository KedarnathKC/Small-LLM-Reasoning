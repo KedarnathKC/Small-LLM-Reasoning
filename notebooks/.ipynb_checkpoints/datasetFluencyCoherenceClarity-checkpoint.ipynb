{
 "cells": [
  {
   "cell_type": "code",
   "execution_count": 22,
   "id": "9dc7c4e2-1bbf-41cc-8f11-139408249a0b",
   "metadata": {},
   "outputs": [],
   "source": [
    "from datasets import load_from_disk, load_dataset, DatasetDict"
   ]
  },
  {
   "cell_type": "markdown",
   "id": "d3283917-9661-428a-a8ce-1f49d048df36",
   "metadata": {},
   "source": [
    "### Downloading dataset from HF"
   ]
  },
  {
   "cell_type": "markdown",
   "id": "1baaa628-20d0-4111-9609-16864844bd7c",
   "metadata": {},
   "source": [
    "#### For training of Fluency, Coherence, Clarity we use wanya/IteraTeR_v2\n",
    "#### For val/test of Fluency, Coherence, Clarity we use wanyu/IteraTeR_human_sent"
   ]
  },
  {
   "cell_type": "code",
   "execution_count": 8,
   "id": "64005337-dbde-4659-a8ba-aa02d0d9ed86",
   "metadata": {},
   "outputs": [
    {
     "data": {
      "text/plain": [
       "Dataset({\n",
       "    features: ['before_sent', 'after_sent', 'before_sent_with_intent', 'labels', 'confidence', 'doc_id', 'revision_depth'],\n",
       "    num_rows: 293929\n",
       "})"
      ]
     },
     "execution_count": 8,
     "metadata": {},
     "output_type": "execute_result"
    }
   ],
   "source": [
    "dataset_name = 'wanyu/IteraTeR_v2'\n",
    "ds_train = load_dataset(dataset_name)['train']\n",
    "ds_train"
   ]
  },
  {
   "cell_type": "code",
   "execution_count": 9,
   "id": "20a5e2a5-e496-4f49-83a1-40cac908fb65",
   "metadata": {},
   "outputs": [
    {
     "data": {
      "text/plain": [
       "Dataset({\n",
       "    features: ['before_sent', 'before_sent_with_intent', 'after_sent', 'labels', 'doc_id', 'revision_depth'],\n",
       "    num_rows: 400\n",
       "})"
      ]
     },
     "execution_count": 9,
     "metadata": {},
     "output_type": "execute_result"
    }
   ],
   "source": [
    "dataset_name = 'wanyu/IteraTeR_human_sent'\n",
    "ds_val = load_dataset(dataset_name)['validation']\n",
    "ds_val"
   ]
  },
  {
   "cell_type": "code",
   "execution_count": 10,
   "id": "8d334ce6-7d21-4dce-bc32-70803452dba7",
   "metadata": {},
   "outputs": [
    {
     "data": {
      "text/plain": [
       "Dataset({\n",
       "    features: ['before_sent', 'before_sent_with_intent', 'after_sent', 'labels', 'doc_id', 'revision_depth'],\n",
       "    num_rows: 364\n",
       "})"
      ]
     },
     "execution_count": 10,
     "metadata": {},
     "output_type": "execute_result"
    }
   ],
   "source": [
    "dataset_name = 'wanyu/IteraTeR_human_sent'\n",
    "ds_test = load_dataset(dataset_name)['test']\n",
    "ds_test"
   ]
  },
  {
   "cell_type": "markdown",
   "id": "faad1251-6023-4a4d-8c79-49db5b0aac61",
   "metadata": {},
   "source": [
    "#### Exploring Fluency data"
   ]
  },
  {
   "cell_type": "code",
   "execution_count": 12,
   "id": "5a02919f-033a-4da7-9a1f-3639d7ab32c6",
   "metadata": {},
   "outputs": [
    {
     "name": "stderr",
     "output_type": "stream",
     "text": [
      "Filter: 100%|██████████| 126895/126895 [00:03<00:00, 41313.12 examples/s]\n"
     ]
    },
    {
     "data": {
      "text/plain": [
       "Dataset({\n",
       "    features: ['before_sent', 'after_sent', 'before_sent_with_intent', 'labels', 'confidence', 'doc_id', 'revision_depth'],\n",
       "    num_rows: 126892\n",
       "})"
      ]
     },
     "execution_count": 12,
     "metadata": {},
     "output_type": "execute_result"
    }
   ],
   "source": [
    "ds_train_fluency= ds_train.filter(lambda ex: ex['labels']=='fluency')\n",
    "ds_train_fluency= ds_train_fluency.filter(lambda ex: ex['labels']=='fluency' and len(ex[\"after_sent\"]) > 1)\n",
    "\n",
    "ds_train_fluency"
   ]
  },
  {
   "cell_type": "code",
   "execution_count": 13,
   "id": "b3db1d9f-f985-4cab-89b4-82243101d3be",
   "metadata": {},
   "outputs": [
    {
     "name": "stderr",
     "output_type": "stream",
     "text": [
      "Filter: 100%|██████████| 400/400 [00:00<00:00, 2549.67 examples/s]\n"
     ]
    },
    {
     "data": {
      "text/plain": [
       "Dataset({\n",
       "    features: ['before_sent', 'before_sent_with_intent', 'after_sent', 'labels', 'doc_id', 'revision_depth'],\n",
       "    num_rows: 115\n",
       "})"
      ]
     },
     "execution_count": 13,
     "metadata": {},
     "output_type": "execute_result"
    }
   ],
   "source": [
    "ds_val_fluency= ds_val.filter(lambda ex: ex['labels']=='fluency' and len(ex[\"after_sent\"]) > 1)\n",
    "ds_val_fluency"
   ]
  },
  {
   "cell_type": "code",
   "execution_count": 14,
   "id": "ccf8eab3-df1d-4e6f-8901-6fdddba7b683",
   "metadata": {},
   "outputs": [
    {
     "name": "stderr",
     "output_type": "stream",
     "text": [
      "Filter: 100%|██████████| 364/364 [00:00<00:00, 1602.00 examples/s]\n"
     ]
    },
    {
     "data": {
      "text/plain": [
       "Dataset({\n",
       "    features: ['before_sent', 'before_sent_with_intent', 'after_sent', 'labels', 'doc_id', 'revision_depth'],\n",
       "    num_rows: 88\n",
       "})"
      ]
     },
     "execution_count": 14,
     "metadata": {},
     "output_type": "execute_result"
    }
   ],
   "source": [
    "ds_test_fluency= ds_test.filter(lambda ex: ex['labels']=='fluency'  and len(ex[\"after_sent\"]) > 1)\n",
    "ds_test_fluency"
   ]
  },
  {
   "cell_type": "markdown",
   "id": "84dbd73b-7e06-4837-bd47-6e917015e732",
   "metadata": {
    "tags": []
   },
   "source": [
    "#### Exploring Clarity data"
   ]
  },
  {
   "cell_type": "code",
   "execution_count": 15,
   "id": "f0bf8d7c-5e1c-4f33-9a57-70bf5e0beab7",
   "metadata": {},
   "outputs": [
    {
     "name": "stderr",
     "output_type": "stream",
     "text": [
      "Filter: 100%|██████████| 293929/293929 [00:01<00:00, 160628.50 examples/s]\n"
     ]
    },
    {
     "data": {
      "text/plain": [
       "Dataset({\n",
       "    features: ['before_sent', 'after_sent', 'before_sent_with_intent', 'labels', 'confidence', 'doc_id', 'revision_depth'],\n",
       "    num_rows: 119300\n",
       "})"
      ]
     },
     "execution_count": 15,
     "metadata": {},
     "output_type": "execute_result"
    }
   ],
   "source": [
    "ds_train_clarity= ds_train.filter(lambda ex: ex['labels']=='clarity'  and len(ex[\"after_sent\"]) > 1)\n",
    "ds_train_clarity"
   ]
  },
  {
   "cell_type": "code",
   "execution_count": 16,
   "id": "81054223-10d6-40e5-94ca-6d8bc8288f22",
   "metadata": {},
   "outputs": [
    {
     "name": "stderr",
     "output_type": "stream",
     "text": [
      "Filter: 100%|██████████| 400/400 [00:00<00:00, 4782.26 examples/s]\n"
     ]
    },
    {
     "data": {
      "text/plain": [
       "Dataset({\n",
       "    features: ['before_sent', 'before_sent_with_intent', 'after_sent', 'labels', 'doc_id', 'revision_depth'],\n",
       "    num_rows: 157\n",
       "})"
      ]
     },
     "execution_count": 16,
     "metadata": {},
     "output_type": "execute_result"
    }
   ],
   "source": [
    "ds_val_clarity= ds_val.filter(lambda ex: ex['labels']=='clarity'  and len(ex[\"after_sent\"]) > 1)\n",
    "ds_val_clarity"
   ]
  },
  {
   "cell_type": "code",
   "execution_count": 17,
   "id": "69949bbc-c2ea-4578-bfc5-f74b0810901b",
   "metadata": {},
   "outputs": [
    {
     "name": "stderr",
     "output_type": "stream",
     "text": [
      "Filter: 100%|██████████| 364/364 [00:00<00:00, 6953.70 examples/s]\n"
     ]
    },
    {
     "data": {
      "text/plain": [
       "Dataset({\n",
       "    features: ['before_sent', 'before_sent_with_intent', 'after_sent', 'labels', 'doc_id', 'revision_depth'],\n",
       "    num_rows: 185\n",
       "})"
      ]
     },
     "execution_count": 17,
     "metadata": {},
     "output_type": "execute_result"
    }
   ],
   "source": [
    "ds_test_clarity= ds_test.filter(lambda ex: ex['labels']=='clarity'  and len(ex[\"after_sent\"]) > 1)\n",
    "ds_test_clarity"
   ]
  },
  {
   "cell_type": "markdown",
   "id": "46822db3-1153-4141-a666-242ac83e0a0b",
   "metadata": {
    "tags": []
   },
   "source": [
    "#### Exploring Coherence data"
   ]
  },
  {
   "cell_type": "code",
   "execution_count": 18,
   "id": "8994b77b-4c37-4057-9478-5bf188534db2",
   "metadata": {},
   "outputs": [
    {
     "name": "stderr",
     "output_type": "stream",
     "text": [
      "Filter: 100%|██████████| 293929/293929 [00:01<00:00, 161893.27 examples/s]\n"
     ]
    },
    {
     "data": {
      "text/plain": [
       "Dataset({\n",
       "    features: ['before_sent', 'after_sent', 'before_sent_with_intent', 'labels', 'confidence', 'doc_id', 'revision_depth'],\n",
       "    num_rows: 38450\n",
       "})"
      ]
     },
     "execution_count": 18,
     "metadata": {},
     "output_type": "execute_result"
    }
   ],
   "source": [
    "ds_train_coherence= ds_train.filter(lambda ex: ex['labels']=='coherence'  and len(ex[\"after_sent\"]) > 1)\n",
    "ds_train_coherence"
   ]
  },
  {
   "cell_type": "code",
   "execution_count": 19,
   "id": "41a34346-edb4-4192-bd2b-3c09d0db6e37",
   "metadata": {},
   "outputs": [
    {
     "name": "stderr",
     "output_type": "stream",
     "text": [
      "Filter: 100%|██████████| 400/400 [00:00<00:00, 12955.28 examples/s]\n"
     ]
    },
    {
     "data": {
      "text/plain": [
       "Dataset({\n",
       "    features: ['before_sent', 'before_sent_with_intent', 'after_sent', 'labels', 'doc_id', 'revision_depth'],\n",
       "    num_rows: 41\n",
       "})"
      ]
     },
     "execution_count": 19,
     "metadata": {},
     "output_type": "execute_result"
    }
   ],
   "source": [
    "ds_val_coherence= ds_val.filter(lambda ex: ex['labels']=='coherence'  and len(ex[\"after_sent\"]) > 1)\n",
    "ds_val_coherence"
   ]
  },
  {
   "cell_type": "code",
   "execution_count": 20,
   "id": "0d5e950b-929d-4735-aed6-4cd7f673e7b2",
   "metadata": {},
   "outputs": [
    {
     "name": "stderr",
     "output_type": "stream",
     "text": [
      "Filter: 100%|██████████| 364/364 [00:00<00:00, 10810.21 examples/s]\n"
     ]
    },
    {
     "data": {
      "text/plain": [
       "Dataset({\n",
       "    features: ['before_sent', 'before_sent_with_intent', 'after_sent', 'labels', 'doc_id', 'revision_depth'],\n",
       "    num_rows: 35\n",
       "})"
      ]
     },
     "execution_count": 20,
     "metadata": {},
     "output_type": "execute_result"
    }
   ],
   "source": [
    "ds_test_coherence= ds_test.filter(lambda ex: ex['labels']=='coherence'  and len(ex[\"after_sent\"]) > 1)\n",
    "ds_test_coherence"
   ]
  },
  {
   "cell_type": "markdown",
   "id": "d5bafd9d-0cd5-4645-a193-d4e936aa8972",
   "metadata": {},
   "source": [
    "### Saving data to disk"
   ]
  },
  {
   "cell_type": "code",
   "execution_count": 27,
   "id": "6496655d-4957-4cbf-acf2-845ee6597db2",
   "metadata": {},
   "outputs": [],
   "source": [
    "dir_path='/scratch3/workspace/wenlongzhao_umass_edu-reason/dev_kedar/Small-LLM-Reasoning/datasets/'"
   ]
  },
  {
   "cell_type": "code",
   "execution_count": 23,
   "id": "1f2fc6a2-018d-41b9-add1-d2fc3da2f37e",
   "metadata": {},
   "outputs": [
    {
     "data": {
      "text/plain": [
       "DatasetDict({\n",
       "    train: Dataset({\n",
       "        features: ['before_sent', 'after_sent', 'before_sent_with_intent', 'labels', 'confidence', 'doc_id', 'revision_depth'],\n",
       "        num_rows: 126892\n",
       "    })\n",
       "    val: Dataset({\n",
       "        features: ['before_sent', 'before_sent_with_intent', 'after_sent', 'labels', 'doc_id', 'revision_depth'],\n",
       "        num_rows: 115\n",
       "    })\n",
       "    test: Dataset({\n",
       "        features: ['before_sent', 'before_sent_with_intent', 'after_sent', 'labels', 'doc_id', 'revision_depth'],\n",
       "        num_rows: 88\n",
       "    })\n",
       "})"
      ]
     },
     "execution_count": 23,
     "metadata": {},
     "output_type": "execute_result"
    }
   ],
   "source": [
    "ds_fluency=DatasetDict(\n",
    "    {\n",
    "        'train':ds_train_fluency,\n",
    "        'val':ds_val_fluency,\n",
    "        'test':ds_test_fluency\n",
    "    }\n",
    ")\n",
    "ds_fluency\n",
    "    "
   ]
  },
  {
   "cell_type": "code",
   "execution_count": 28,
   "id": "1084e080-1518-40d4-9a30-fe3389ad6b9d",
   "metadata": {},
   "outputs": [
    {
     "name": "stderr",
     "output_type": "stream",
     "text": [
      "Saving the dataset (1/1 shards): 100%|██████████| 126892/126892 [00:00<00:00, 136717.23 examples/s]\n",
      "Saving the dataset (1/1 shards): 100%|██████████| 115/115 [00:00<00:00, 26590.13 examples/s]\n",
      "Saving the dataset (1/1 shards): 100%|██████████| 88/88 [00:00<00:00, 23061.47 examples/s]\n"
     ]
    }
   ],
   "source": [
    "ds_fluency.save_to_disk(dir_path+'fluency')"
   ]
  },
  {
   "cell_type": "code",
   "execution_count": 29,
   "id": "6db675d7-158f-4d8b-9caa-fba7528fdbc6",
   "metadata": {},
   "outputs": [
    {
     "data": {
      "text/plain": [
       "DatasetDict({\n",
       "    train: Dataset({\n",
       "        features: ['before_sent', 'after_sent', 'before_sent_with_intent', 'labels', 'confidence', 'doc_id', 'revision_depth'],\n",
       "        num_rows: 38450\n",
       "    })\n",
       "    val: Dataset({\n",
       "        features: ['before_sent', 'before_sent_with_intent', 'after_sent', 'labels', 'doc_id', 'revision_depth'],\n",
       "        num_rows: 41\n",
       "    })\n",
       "    test: Dataset({\n",
       "        features: ['before_sent', 'before_sent_with_intent', 'after_sent', 'labels', 'doc_id', 'revision_depth'],\n",
       "        num_rows: 35\n",
       "    })\n",
       "})"
      ]
     },
     "execution_count": 29,
     "metadata": {},
     "output_type": "execute_result"
    }
   ],
   "source": [
    "ds_coherence=DatasetDict(\n",
    "    {\n",
    "        'train':ds_train_coherence,\n",
    "        'val':ds_val_coherence,\n",
    "        'test':ds_test_coherence\n",
    "    }\n",
    ")\n",
    "ds_coherence\n",
    "    "
   ]
  },
  {
   "cell_type": "code",
   "execution_count": 30,
   "id": "4e135fec-a6bc-452b-91a2-69b0e310a7b9",
   "metadata": {},
   "outputs": [
    {
     "name": "stderr",
     "output_type": "stream",
     "text": [
      "Saving the dataset (1/1 shards): 100%|██████████| 38450/38450 [00:00<00:00, 131235.08 examples/s]\n",
      "Saving the dataset (1/1 shards): 100%|██████████| 41/41 [00:00<00:00, 9754.20 examples/s] \n",
      "Saving the dataset (1/1 shards): 100%|██████████| 35/35 [00:00<00:00, 7026.31 examples/s]\n"
     ]
    }
   ],
   "source": [
    "ds_coherence.save_to_disk(dir_path+'coherence')"
   ]
  },
  {
   "cell_type": "code",
   "execution_count": 31,
   "id": "4e6f9844-86f5-4a72-a400-f6b8a49e2aff",
   "metadata": {},
   "outputs": [
    {
     "data": {
      "text/plain": [
       "DatasetDict({\n",
       "    train: Dataset({\n",
       "        features: ['before_sent', 'after_sent', 'before_sent_with_intent', 'labels', 'confidence', 'doc_id', 'revision_depth'],\n",
       "        num_rows: 119300\n",
       "    })\n",
       "    val: Dataset({\n",
       "        features: ['before_sent', 'before_sent_with_intent', 'after_sent', 'labels', 'doc_id', 'revision_depth'],\n",
       "        num_rows: 157\n",
       "    })\n",
       "    test: Dataset({\n",
       "        features: ['before_sent', 'before_sent_with_intent', 'after_sent', 'labels', 'doc_id', 'revision_depth'],\n",
       "        num_rows: 185\n",
       "    })\n",
       "})"
      ]
     },
     "execution_count": 31,
     "metadata": {},
     "output_type": "execute_result"
    }
   ],
   "source": [
    "ds_clarity=DatasetDict(\n",
    "    {\n",
    "        'train':ds_train_clarity,\n",
    "        'val':ds_val_clarity,\n",
    "        'test':ds_test_clarity\n",
    "    }\n",
    ")\n",
    "ds_clarity\n",
    "    "
   ]
  },
  {
   "cell_type": "code",
   "execution_count": 32,
   "id": "91f58142-5722-484f-875e-5c75c8888f16",
   "metadata": {},
   "outputs": [
    {
     "name": "stderr",
     "output_type": "stream",
     "text": [
      "Saving the dataset (1/1 shards): 100%|██████████| 119300/119300 [00:00<00:00, 129072.72 examples/s]\n",
      "Saving the dataset (1/1 shards): 100%|██████████| 157/157 [00:00<00:00, 30896.90 examples/s]\n",
      "Saving the dataset (1/1 shards): 100%|██████████| 185/185 [00:00<00:00, 27511.92 examples/s]\n"
     ]
    }
   ],
   "source": [
    "ds_clarity.save_to_disk(dir_path+'clarity')"
   ]
  },
  {
   "cell_type": "code",
   "execution_count": null,
   "id": "a037d175-46b9-4a3f-a687-9fef5ea65390",
   "metadata": {},
   "outputs": [],
   "source": []
  }
 ],
 "metadata": {
  "kernelspec": {
   "display_name": "Reason",
   "language": "python",
   "name": "reason"
  },
  "language_info": {
   "codemirror_mode": {
    "name": "ipython",
    "version": 3
   },
   "file_extension": ".py",
   "mimetype": "text/x-python",
   "name": "python",
   "nbconvert_exporter": "python",
   "pygments_lexer": "ipython3",
   "version": "3.12.7"
  }
 },
 "nbformat": 4,
 "nbformat_minor": 5
}
