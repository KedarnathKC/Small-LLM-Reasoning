{
 "cells": [
  {
   "cell_type": "code",
   "execution_count": 24,
   "id": "b0ee43ec-baad-4d66-af10-b76d396ce4eb",
   "metadata": {},
   "outputs": [],
   "source": [
    "import errant\n",
    "import json"
   ]
  },
  {
   "cell_type": "code",
   "execution_count": 25,
   "id": "22fca943-e067-49ec-b69c-66ecf1742356",
   "metadata": {},
   "outputs": [
    {
     "name": "stdout",
     "output_type": "stream",
     "text": [
      "A 1 2|||R:VERB:SVA|||is|||REQUIRED|||-NONE-|||0\n",
      "A 2 2|||M:DET|||a|||REQUIRED|||-NONE-|||0\n",
      "A 2 3|||R:SPELL|||grammatical|||REQUIRED|||-NONE-|||0\n"
     ]
    }
   ],
   "source": [
    "\n",
    "annotator = errant.load('en')\n",
    "orig = annotator.parse('This are gramamtical sentence .')\n",
    "cor = annotator.parse('This is a grammatical sentence .')\n",
    "edits = annotator.annotate(orig, cor)\n",
    "for e in edits:\n",
    "    # print(e.o_start, e.o_end, e.o_str, e.c_start, e.c_end, e.c_str, e.type)\n",
    "    print(e.to_m2())"
   ]
  },
  {
   "cell_type": "code",
   "execution_count": 3,
   "id": "cd9044f3-6e7e-4084-9de8-f053bf34a2d8",
   "metadata": {},
   "outputs": [],
   "source": [
    "from datasets import load_from_disk\n",
    "import random"
   ]
  },
  {
   "cell_type": "code",
   "execution_count": 5,
   "id": "6cfe989b-8b4c-472a-ad44-3dbc2fc29368",
   "metadata": {},
   "outputs": [
    {
     "data": {
      "text/plain": [
       "Dataset({\n",
       "    features: ['input', 'edits', 'id', 'output'],\n",
       "    num_rows: 34308\n",
       "})"
      ]
     },
     "execution_count": 5,
     "metadata": {},
     "output_type": "execute_result"
    }
   ],
   "source": [
    "task='gec'\n",
    "path=f'../datasets/{task}/train'\n",
    "data=load_from_disk(path)\n",
    "data"
   ]
  },
  {
   "cell_type": "code",
   "execution_count": 6,
   "id": "a3486c55-5539-4896-b026-9f4d05d0d1f6",
   "metadata": {},
   "outputs": [
    {
     "data": {
      "text/plain": [
       "Dataset({\n",
       "    features: ['input', 'edits', 'id', 'output'],\n",
       "    num_rows: 10\n",
       "})"
      ]
     },
     "execution_count": 6,
     "metadata": {},
     "output_type": "execute_result"
    }
   ],
   "source": [
    "# Sample 10 random items\n",
    "random_samples = data.shuffle(seed=42).select(range(10))\n",
    "random_samples"
   ]
  },
  {
   "cell_type": "code",
   "execution_count": 10,
   "id": "08c87c8f-72d0-4c5a-ba9f-17231911b834",
   "metadata": {},
   "outputs": [],
   "source": [
    "# task_prompt_path=f'../prompts/{task}.txt'\n",
    "# task_instruct = open(task_prompt_path).readlines()[0].replace(\"\\n\", \"\")\n",
    "# task_instruct"
   ]
  },
  {
   "cell_type": "code",
   "execution_count": 15,
   "id": "95246e18-97b0-400c-8e19-b3083db2a65c",
   "metadata": {},
   "outputs": [
    {
     "name": "stdout",
     "output_type": "stream",
     "text": [
      "Given an input sentence, detect and correct all grammatical errors. First, explain your reasoning, then provide the corrected sentence.\n",
      "\n",
      "Your response should end with \"The corrected text is [answer]\" where [answer] is the grammatically correct version of the input sentence.\n"
     ]
    }
   ],
   "source": [
    "task_prompt_path=f'../prompts/{task}.json'\n",
    "with open(task_prompt_path) as fp:\n",
    "    task_prompt = json.load(fp)\n",
    "task_instruct=task_prompt['task_prompt']\n",
    "print(task_instruct)"
   ]
  },
  {
   "cell_type": "code",
   "execution_count": 8,
   "id": "cab5f70b-5579-4f89-a6b8-324da1724d20",
   "metadata": {},
   "outputs": [],
   "source": [
    "def get_edits(input_text, output_text):\n",
    "    annotator = errant.load('en')\n",
    "    orig = annotator.parse(input_text)\n",
    "    cor = annotator.parse(output_text)\n",
    "    edits = annotator.annotate(orig, cor)\n",
    "    edit=''\n",
    "    for e in edits:\n",
    "        edit+=f'{e.o_start}, {e.o_end}, {e.o_str}, {e.c_start}, {e.c_end}, {e.c_str}, {e.type}\\n'\n",
    "    return edit"
   ]
  },
  {
   "cell_type": "code",
   "execution_count": 10,
   "id": "41bb2bce-84f6-4dc6-983d-e7dc41b27911",
   "metadata": {},
   "outputs": [
    {
     "name": "stdout",
     "output_type": "stream",
     "text": [
      "way to move from place to another .\n",
      "way to move from one place to another .\n"
     ]
    }
   ],
   "source": [
    "print(random_samples[0]['input'])\n",
    "print(random_samples[0]['output'])"
   ]
  },
  {
   "cell_type": "code",
   "execution_count": 11,
   "id": "cfc14d5b-f343-479c-80ad-5d35189f97eb",
   "metadata": {},
   "outputs": [
    {
     "name": "stdout",
     "output_type": "stream",
     "text": [
      "4, 4, , 4, 5, one, M:OTHER\n",
      "\n"
     ]
    }
   ],
   "source": [
    "print(get_edits(random_samples[0]['input'], random_samples[0]['output']))\n"
   ]
  },
  {
   "cell_type": "code",
   "execution_count": null,
   "id": "ce241dec-5cfd-4ae5-a972-e784954310b3",
   "metadata": {},
   "outputs": [],
   "source": []
  },
  {
   "cell_type": "code",
   "execution_count": 12,
   "id": "d5800a60-6f5d-42e3-bc8e-bc171033d616",
   "metadata": {},
   "outputs": [],
   "source": [
    "def get_gpt_prompt(task_instruct, input_text, suggestion, edit_content):\n",
    "    prompt='You are given a pair of English sentences along with a list of '\n",
    "    prompt+='atomic edits. For each edit, the first word identifies content in '\n",
    "    prompt+='the source sentence that is less appropriate, while the second '\n",
    "    prompt+=f'word suggests a better phrase in the target sentence. {task_instruct} Please generate a succinct explanation for each edit using the following template:\\n\\n'\n",
    "    prompt+='The word X should be deleted/inserted/replaced by Y because ...\\n\\n'\n",
    "    prompt+=f'###Source sentence:\\n{input_text}\\n\\n'\n",
    "    prompt+=f'###Target sentence:\\n{suggestion}\\n\\n'\n",
    "    prompt+=f'###Edits:\\n{edit_content}\\n'\n",
    "    prompt+='###Explanation:'\n",
    "    return prompt"
   ]
  },
  {
   "cell_type": "code",
   "execution_count": 16,
   "id": "d5526671-f0ec-474e-9bcd-7140120b3033",
   "metadata": {},
   "outputs": [
    {
     "name": "stdout",
     "output_type": "stream",
     "text": [
      "8778\n",
      "You are given a pair of English sentences along with a list of atomic edits. For each edit, the first word identifies content in the source sentence that is less appropriate, while the second word suggests a better phrase in the target sentence. Given an input sentence, detect and correct all grammatical errors. First, explain your reasoning, then provide the corrected sentence.\n",
      "\n",
      "Your response should end with \"The corrected text is [answer]\" where [answer] is the grammatically correct version of the input sentence. Please generate a succinct explanation for each edit using the following template:\n",
      "\n",
      "The word X should be deleted/inserted/replaced by Y because ...\n",
      "\n",
      "###Source sentence:\n",
      "way to move from place to another .\n",
      "\n",
      "###Target sentence:\n",
      "way to move from one place to another .\n",
      "\n",
      "###Edits:\n",
      "4, 4, , 4, 5, one, M:OTHER\n",
      "\n",
      "###Explanation:\n"
     ]
    }
   ],
   "source": [
    "i=0\n",
    "edits=get_edits(random_samples[i]['input'], random_samples[i]['output'])\n",
    "prompt=get_gpt_prompt(task_instruct=task_instruct, input_text=random_samples[i]['input'], suggestion=random_samples[i]['output'], edit_content=edits)\n",
    "print(random_samples[i]['id'])\n",
    "print(prompt)\n",
    "    "
   ]
  },
  {
   "cell_type": "code",
   "execution_count": 17,
   "id": "cf020179-41e5-48c0-9e98-b4fae9c2c95b",
   "metadata": {},
   "outputs": [
    {
     "name": "stdout",
     "output_type": "stream",
     "text": [
      "21174\n",
      "You are given a pair of English sentences along with a list of atomic edits. For each edit, the first word identifies content in the source sentence that is less appropriate, while the second word suggests a better phrase in the target sentence. Given an input sentence, detect and correct all grammatical errors. First, explain your reasoning, then provide the corrected sentence.\n",
      "\n",
      "Your response should end with \"The corrected text is [answer]\" where [answer] is the grammatically correct version of the input sentence. Please generate a succinct explanation for each edit using the following template:\n",
      "\n",
      "The word X should be deleted/inserted/replaced by Y because ...\n",
      "\n",
      "###Source sentence:\n",
      "Hi Alison !\n",
      "\n",
      "###Target sentence:\n",
      "Hi Alison !\n",
      "\n",
      "###Edits:\n",
      "\n",
      "###Explanation:\n"
     ]
    }
   ],
   "source": [
    "i=1\n",
    "edits=get_edits(random_samples[i]['input'], random_samples[i]['output'])\n",
    "prompt=get_gpt_prompt(task_instruct=task_instruct, input_text=random_samples[i]['input'], suggestion=random_samples[i]['output'], edit_content=edits)\n",
    "print(random_samples[i]['id'])\n",
    "print(prompt)\n",
    "    "
   ]
  },
  {
   "cell_type": "code",
   "execution_count": 18,
   "id": "cc76b27b-c9da-46e9-a914-2cd8e879c57e",
   "metadata": {},
   "outputs": [
    {
     "name": "stdout",
     "output_type": "stream",
     "text": [
      "17866\n",
      "You are given a pair of English sentences along with a list of atomic edits. For each edit, the first word identifies content in the source sentence that is less appropriate, while the second word suggests a better phrase in the target sentence. Given an input sentence, detect and correct all grammatical errors. First, explain your reasoning, then provide the corrected sentence.\n",
      "\n",
      "Your response should end with \"The corrected text is [answer]\" where [answer] is the grammatically correct version of the input sentence. Please generate a succinct explanation for each edit using the following template:\n",
      "\n",
      "The word X should be deleted/inserted/replaced by Y because ...\n",
      "\n",
      "###Source sentence:\n",
      "So , could you tell me what is the best way to reach your house ?\n",
      "\n",
      "###Target sentence:\n",
      "So , could you tell me which is the best way to reach your house ?\n",
      "\n",
      "###Edits:\n",
      "6, 7, what, 6, 7, which, R:PRON\n",
      "\n",
      "###Explanation:\n"
     ]
    }
   ],
   "source": [
    "i=2\n",
    "edits=get_edits(random_samples[i]['input'], random_samples[i]['output'])\n",
    "prompt=get_gpt_prompt(task_instruct=task_instruct, input_text=random_samples[i]['input'], suggestion=random_samples[i]['output'], edit_content=edits)\n",
    "print(random_samples[i]['id'])\n",
    "print(prompt)\n",
    "    "
   ]
  },
  {
   "cell_type": "code",
   "execution_count": 19,
   "id": "2b807683-5608-4e34-b883-e9a55cf3cacb",
   "metadata": {},
   "outputs": [
    {
     "name": "stdout",
     "output_type": "stream",
     "text": [
      "19539\n",
      "You are given a pair of English sentences along with a list of atomic edits. For each edit, the first word identifies content in the source sentence that is less appropriate, while the second word suggests a better phrase in the target sentence. Given an input sentence, detect and correct all grammatical errors. First, explain your reasoning, then provide the corrected sentence.\n",
      "\n",
      "Your response should end with \"The corrected text is [answer]\" where [answer] is the grammatically correct version of the input sentence. Please generate a succinct explanation for each edit using the following template:\n",
      "\n",
      "The word X should be deleted/inserted/replaced by Y because ...\n",
      "\n",
      "###Source sentence:\n",
      "What I 'm doing is challenging the way we approach to it .\n",
      "\n",
      "###Target sentence:\n",
      "What I 'm doing is challenging the way we approach  it .\n",
      "\n",
      "###Edits:\n",
      "10, 11, to, 10, 10, , U:PREP\n",
      "\n",
      "###Explanation:\n"
     ]
    }
   ],
   "source": [
    "i=3\n",
    "edits=get_edits(random_samples[i]['input'], random_samples[i]['output'])\n",
    "prompt=get_gpt_prompt(task_instruct=task_instruct, input_text=random_samples[i]['input'], suggestion=random_samples[i]['output'], edit_content=edits)\n",
    "print(random_samples[i]['id'])\n",
    "print(prompt)\n",
    "    "
   ]
  },
  {
   "cell_type": "code",
   "execution_count": 20,
   "id": "5ab78b69-819e-48b1-9af1-2e884bb92b9b",
   "metadata": {},
   "outputs": [
    {
     "name": "stdout",
     "output_type": "stream",
     "text": [
      "25488\n",
      "You are given a pair of English sentences along with a list of atomic edits. For each edit, the first word identifies content in the source sentence that is less appropriate, while the second word suggests a better phrase in the target sentence. Given an input sentence, detect and correct all grammatical errors. First, explain your reasoning, then provide the corrected sentence.\n",
      "\n",
      "Your response should end with \"The corrected text is [answer]\" where [answer] is the grammatically correct version of the input sentence. Please generate a succinct explanation for each edit using the following template:\n",
      "\n",
      "The word X should be deleted/inserted/replaced by Y because ...\n",
      "\n",
      "###Source sentence:\n",
      "The absence of the parents or the fact they usually have no control nor way to drive their choices makes me very worried about the future of our society .\n",
      "\n",
      "###Target sentence:\n",
      "The absence of  parents or the fact they usually have no control or way to drive their choices makes me very worried about the future of our society .\n",
      "\n",
      "###Edits:\n",
      "3, 4, the, 3, 3, , U:DET\n",
      "13, 14, nor, 12, 13, or, R:CONJ\n",
      "\n",
      "###Explanation:\n"
     ]
    }
   ],
   "source": [
    "i=4\n",
    "edits=get_edits(random_samples[i]['input'], random_samples[i]['output'])\n",
    "prompt=get_gpt_prompt(task_instruct=task_instruct, input_text=random_samples[i]['input'], suggestion=random_samples[i]['output'], edit_content=edits)\n",
    "print(random_samples[i]['id'])\n",
    "print(prompt)\n",
    "    "
   ]
  },
  {
   "cell_type": "code",
   "execution_count": 40,
   "id": "1a75dac1-916c-46c0-9d1e-0c48b2c48510",
   "metadata": {},
   "outputs": [
    {
     "name": "stdout",
     "output_type": "stream",
     "text": [
      "wnc-train-692108570\n",
      "You are given a pair of English sentences along with a list of atomic edits. For each edit, the first word identifies content in the source sentence that is less appropriate, while the second word suggests a better phrase in the target sentence. Given an input sentence, reason and replace the word with subjective bias to a word with neutral point of view. Consider the following types of biases:\n",
      "1. framing biases use subjective words linked with a particular point of view (e.g. using words like best or deepest or using pilfered from instead of based on);\n",
      "2. epistemological biases are linguistic features that subtly (often via presupposition) modify the believability of a proposition;\n",
      "3. demographic biases are texts with presuppositions about particular genders, races, or other demographic categories (e.g. presupposing that all programmers are male).\n",
      "\n",
      "Your response should end with \"The neutralized text is [answer]\" where [answer] is the neutralized version of the input sentence. Please generate a succinct explanation for each edit using the following template:\n",
      "\n",
      "The word X should be deleted/inserted/replaced by Y because ...\n",
      "\n",
      "###Source sentence:\n",
      "the show mainly revolves around alana \"big toe honey boo boo\" thompson and \"mama\" june \"the elephant man\" shannon and their family's adventures in the redneck town of mcintyre, georgia.\n",
      "\n",
      "###Target sentence:\n",
      "the show mainly revolves around alana \"big toe honey boo boo\" thompson and \"mama\" june \"the elephant man\" shannon and their family's adventures in the southern town of mcintyre, georgia.\n",
      "\n",
      "###Edits:\n",
      "25, 26, redneck, 25, 26, southern, R:ADJ\n",
      "\n",
      "###Explanation:\n"
     ]
    }
   ],
   "source": [
    "i=5\n",
    "edits=get_edits(random_samples[i]['input'], random_samples[i]['edits'])\n",
    "prompt=get_gpt_prompt(task_instruct=task_instruct, input_text=random_samples[i]['input'], suggestion=random_samples[i]['edits'], edit_content=edits)\n",
    "print(random_samples[i]['id'])\n",
    "print(prompt)\n",
    "    "
   ]
  },
  {
   "cell_type": "code",
   "execution_count": 41,
   "id": "7c17ec6d-657b-40b1-8644-7a2b7110042b",
   "metadata": {},
   "outputs": [
    {
     "name": "stdout",
     "output_type": "stream",
     "text": [
      "wnc-train-693565497\n",
      "You are given a pair of English sentences along with a list of atomic edits. For each edit, the first word identifies content in the source sentence that is less appropriate, while the second word suggests a better phrase in the target sentence. Given an input sentence, reason and replace the word with subjective bias to a word with neutral point of view. Consider the following types of biases:\n",
      "1. framing biases use subjective words linked with a particular point of view (e.g. using words like best or deepest or using pilfered from instead of based on);\n",
      "2. epistemological biases are linguistic features that subtly (often via presupposition) modify the believability of a proposition;\n",
      "3. demographic biases are texts with presuppositions about particular genders, races, or other demographic categories (e.g. presupposing that all programmers are male).\n",
      "\n",
      "Your response should end with \"The neutralized text is [answer]\" where [answer] is the neutralized version of the input sentence. Please generate a succinct explanation for each edit using the following template:\n",
      "\n",
      "The word X should be deleted/inserted/replaced by Y because ...\n",
      "\n",
      "###Source sentence:\n",
      "settled in 1851, the town was christened salem crossing by the michigan southern railroad along whose tracks the community grew.\n",
      "\n",
      "###Target sentence:\n",
      "settled in 1851, the town was named salem crossing by the michigan southern railroad along whose tracks the community grew.\n",
      "\n",
      "###Edits:\n",
      "6, 7, christened, 6, 7, named, R:VERB\n",
      "\n",
      "###Explanation:\n"
     ]
    }
   ],
   "source": [
    "i=6\n",
    "edits=get_edits(random_samples[i]['input'], random_samples[i]['edits'])\n",
    "prompt=get_gpt_prompt(task_instruct=task_instruct, input_text=random_samples[i]['input'], suggestion=random_samples[i]['edits'], edit_content=edits)\n",
    "print(random_samples[i]['id'])\n",
    "print(prompt)\n",
    "    "
   ]
  },
  {
   "cell_type": "code",
   "execution_count": 42,
   "id": "feaae4d2-ec07-486b-b43c-3dac6958d7f9",
   "metadata": {},
   "outputs": [
    {
     "name": "stdout",
     "output_type": "stream",
     "text": [
      "wnc-train-70218028\n",
      "You are given a pair of English sentences along with a list of atomic edits. For each edit, the first word identifies content in the source sentence that is less appropriate, while the second word suggests a better phrase in the target sentence. Given an input sentence, reason and replace the word with subjective bias to a word with neutral point of view. Consider the following types of biases:\n",
      "1. framing biases use subjective words linked with a particular point of view (e.g. using words like best or deepest or using pilfered from instead of based on);\n",
      "2. epistemological biases are linguistic features that subtly (often via presupposition) modify the believability of a proposition;\n",
      "3. demographic biases are texts with presuppositions about particular genders, races, or other demographic categories (e.g. presupposing that all programmers are male).\n",
      "\n",
      "Your response should end with \"The neutralized text is [answer]\" where [answer] is the neutralized version of the input sentence. Please generate a succinct explanation for each edit using the following template:\n",
      "\n",
      "The word X should be deleted/inserted/replaced by Y because ...\n",
      "\n",
      "###Source sentence:\n",
      "in december, under orders from clinton, arnold led a force of 1,600 troops into virginia and captured richmond, cutting off the major artery of materiel to the southern patriot effort.\n",
      "\n",
      "###Target sentence:\n",
      "in december, under orders from clinton, arnold led a force of 1,600 troops into virginia and captured richmond, cutting off the major artery of materiel to the southern colonial effort.\n",
      "\n",
      "###Edits:\n",
      "28, 29, patriot, 28, 29, colonial, R:NOUN\n",
      "\n",
      "###Explanation:\n"
     ]
    }
   ],
   "source": [
    "i=7\n",
    "edits=get_edits(random_samples[i]['input'], random_samples[i]['edits'])\n",
    "prompt=get_gpt_prompt(task_instruct=task_instruct, input_text=random_samples[i]['input'], suggestion=random_samples[i]['edits'], edit_content=edits)\n",
    "print(random_samples[i]['id'])\n",
    "print(prompt)\n",
    "    "
   ]
  },
  {
   "cell_type": "code",
   "execution_count": 43,
   "id": "b7d14243-32c0-45f1-8417-164a8f1623c7",
   "metadata": {},
   "outputs": [
    {
     "name": "stdout",
     "output_type": "stream",
     "text": [
      "wnc-train-879288389\n",
      "You are given a pair of English sentences along with a list of atomic edits. For each edit, the first word identifies content in the source sentence that is less appropriate, while the second word suggests a better phrase in the target sentence. Given an input sentence, reason and replace the word with subjective bias to a word with neutral point of view. Consider the following types of biases:\n",
      "1. framing biases use subjective words linked with a particular point of view (e.g. using words like best or deepest or using pilfered from instead of based on);\n",
      "2. epistemological biases are linguistic features that subtly (often via presupposition) modify the believability of a proposition;\n",
      "3. demographic biases are texts with presuppositions about particular genders, races, or other demographic categories (e.g. presupposing that all programmers are male).\n",
      "\n",
      "Your response should end with \"The neutralized text is [answer]\" where [answer] is the neutralized version of the input sentence. Please generate a succinct explanation for each edit using the following template:\n",
      "\n",
      "The word X should be deleted/inserted/replaced by Y because ...\n",
      "\n",
      "###Source sentence:\n",
      "the revolutionaries established the republic of hawaii, but their ultimate goal was the annexation of the islands to the united states, which finally occurred in 1898.\n",
      "\n",
      "###Target sentence:\n",
      "the revolutionaries established the republic of hawaii, but their ultimate goal was the annexation of the islands to the united states, which occurred in 1898.\n",
      "\n",
      "###Edits:\n",
      "22, 23, finally, 22, 22, , U:ADV\n",
      "\n",
      "###Explanation:\n"
     ]
    }
   ],
   "source": [
    "i=8\n",
    "edits=get_edits(random_samples[i]['input'], random_samples[i]['edits'])\n",
    "prompt=get_gpt_prompt(task_instruct=task_instruct, input_text=random_samples[i]['input'], suggestion=random_samples[i]['edits'], edit_content=edits)\n",
    "print(random_samples[i]['id'])\n",
    "print(prompt)\n",
    "    "
   ]
  },
  {
   "cell_type": "code",
   "execution_count": 44,
   "id": "089bec4a-ca55-4816-bb34-df60fc2240a2",
   "metadata": {},
   "outputs": [
    {
     "name": "stdout",
     "output_type": "stream",
     "text": [
      "wnc-train-88741599\n",
      "You are given a pair of English sentences along with a list of atomic edits. For each edit, the first word identifies content in the source sentence that is less appropriate, while the second word suggests a better phrase in the target sentence. Given an input sentence, reason and replace the word with subjective bias to a word with neutral point of view. Consider the following types of biases:\n",
      "1. framing biases use subjective words linked with a particular point of view (e.g. using words like best or deepest or using pilfered from instead of based on);\n",
      "2. epistemological biases are linguistic features that subtly (often via presupposition) modify the believability of a proposition;\n",
      "3. demographic biases are texts with presuppositions about particular genders, races, or other demographic categories (e.g. presupposing that all programmers are male).\n",
      "\n",
      "Your response should end with \"The neutralized text is [answer]\" where [answer] is the neutralized version of the input sentence. Please generate a succinct explanation for each edit using the following template:\n",
      "\n",
      "The word X should be deleted/inserted/replaced by Y because ...\n",
      "\n",
      "###Source sentence:\n",
      "between 1935 and 1937, butler served as a spokesman for the american league against war and fascism, which was considered by many to be communist-dominated, and gave numerous speeches to the communist party usa in the 1930s, as well as to pacifist groups.\n",
      "\n",
      "###Target sentence:\n",
      "between 1935 and 1937, butler served as a spokesman for the american league against war and fascism, which was considered by many to be communist-dominated, and gave speeches to the communist party usa in the 1930s, as well as to pacifist groups.\n",
      "\n",
      "###Edits:\n",
      "27, 28, numerous, 27, 27, , U:ADJ\n",
      "\n",
      "###Explanation:\n"
     ]
    }
   ],
   "source": [
    "i=9\n",
    "edits=get_edits(random_samples[i]['input'], random_samples[i]['edits'])\n",
    "prompt=get_gpt_prompt(task_instruct=task_instruct, input_text=random_samples[i]['input'], suggestion=random_samples[i]['edits'], edit_content=edits)\n",
    "print(random_samples[i]['id'])\n",
    "print(prompt)\n",
    "    "
   ]
  },
  {
   "cell_type": "code",
   "execution_count": null,
   "id": "2f623c2c-9d89-4f31-abcc-d9b9a2f067f4",
   "metadata": {},
   "outputs": [],
   "source": [
    "i=19\n",
    "edits=get_edits(random_samples[i]['input'], random_samples[i]['edits'])\n",
    "prompt=get_gpt_prompt(task_instruct=task_instruct, input_text=random_samples[i]['input'], suggestion=random_samples[i]['edits'], edit_content=edits)\n",
    "print(random_samples[i]['id'])\n",
    "print(prompt)\n",
    "    "
   ]
  },
  {
   "cell_type": "markdown",
   "id": "c8e02ea0-141c-4422-b67f-2eb8a11045a7",
   "metadata": {},
   "source": [
    "#### Testing m2 scorer"
   ]
  },
  {
   "cell_type": "code",
   "execution_count": 22,
   "id": "3f86077f-136e-4689-90e4-4877415dd7dd",
   "metadata": {},
   "outputs": [],
   "source": [
    "# from errant.commands.compare_m2 import process_edits, evaluate_edits, merge_dict\n",
    "from small_llm_reasoning.evaluation.gec import process_edits, evaluate_edits, merge_dict, simplify_edits,computeFScore\n",
    "from collections import Counter"
   ]
  },
  {
   "cell_type": "code",
   "execution_count": 2,
   "id": "6c28c110-0016-44c6-886c-12cf67be28d7",
   "metadata": {},
   "outputs": [
    {
     "data": {
      "text/plain": [
       "{'hyp': 'ABCN.dev.gold.bea19.m2',\n",
       " 'ref': 'ABCN.dev.gold.bea19.m2',\n",
       " 'beta': 0.5,\n",
       " 'verbose': False,\n",
       " 'dt': False,\n",
       " 'ds': False,\n",
       " 'cs': True,\n",
       " 'cse': False,\n",
       " 'single': False,\n",
       " 'multi': False,\n",
       " 'filt': [],\n",
       " 'cat': []}"
      ]
     },
     "execution_count": 2,
     "metadata": {},
     "output_type": "execute_result"
    }
   ],
   "source": [
    "args={\n",
    "        \"hyp\":'ABCN.dev.gold.bea19.m2',\n",
    "        \"ref\":'ABCN.dev.gold.bea19.m2',\n",
    "        \"beta\":0.5,\n",
    "        \"verbose\":False,\n",
    "        \"dt\":False,\n",
    "        \"ds\":False,\n",
    "        \"cs\":True,\n",
    "        \"cse\":False,\n",
    "        \"single\":False,\n",
    "        \"multi\":False,\n",
    "        \"filt\":[],\n",
    "        \"cat\":[]\n",
    "}\n",
    "args"
   ]
  },
  {
   "cell_type": "code",
   "execution_count": 3,
   "id": "989e00a9-dfec-4ca5-9bd5-8b945d889eec",
   "metadata": {},
   "outputs": [
    {
     "name": "stdout",
     "output_type": "stream",
     "text": [
      "S It 's difficult answer at the question \" what are you going to do in the future ? \" if the only one who has to know it is in two minds .\n",
      "A 3 3|||M:VERB:FORM|||to|||REQUIRED|||-NONE-|||0\n",
      "A 4 5|||U:PREP||||||REQUIRED|||-NONE-|||0\n"
     ]
    }
   ],
   "source": [
    "hyp='S It \\'s difficult answer at the question \\\" what are you going to do in the future ? \\\" if the only one who has to know it is in two minds .'\n",
    "hyp+='\\nA 3 3|||M:VERB:FORM|||to|||REQUIRED|||-NONE-|||0'\n",
    "hyp+='\\nA 4 5|||U:PREP||||||REQUIRED|||-NONE-|||0'\n",
    "\n",
    "print(hyp)"
   ]
  },
  {
   "cell_type": "code",
   "execution_count": 4,
   "id": "d6789823-0a87-488e-a800-1df74ff56171",
   "metadata": {},
   "outputs": [
    {
     "name": "stdout",
     "output_type": "stream",
     "text": [
      "S It 's difficult answer at the question \" what are you going to do in the future ? \" if the only one who has to know it is in two minds .\n",
      "A 3 3|||M:VERB:FORM|||to|||REQUIRED|||-NONE-|||0\n",
      "A 4 5|||U:PREP||||||REQUIRED|||-NONE-|||0\n"
     ]
    }
   ],
   "source": [
    "ref='S It \\'s difficult answer at the question \\\" what are you going to do in the future ? \\\" if the only one who has to know it is in two minds .'\n",
    "ref+='\\nA 3 3|||M:VERB:FORM|||to|||REQUIRED|||-NONE-|||0'\n",
    "ref+='\\nA 4 5|||U:PREP||||||REQUIRED|||-NONE-|||0'\n",
    "\n",
    "print(ref)"
   ]
  },
  {
   "cell_type": "code",
   "execution_count": 5,
   "id": "6bac3459-f2d8-4694-ad53-6d1feade928c",
   "metadata": {},
   "outputs": [
    {
     "name": "stdout",
     "output_type": "stream",
     "text": [
      "[[3, 3, 'M:VERB:FORM', 'to', 0], [4, 5, 'U:PREP', '', 0]]\n"
     ]
    }
   ],
   "source": [
    "hyp_edits=simplify_edits(hyp)\n",
    "print(hyp_edits)"
   ]
  },
  {
   "cell_type": "code",
   "execution_count": 6,
   "id": "7407f5e7-5354-49ee-905c-71f8467fc190",
   "metadata": {},
   "outputs": [
    {
     "name": "stdout",
     "output_type": "stream",
     "text": [
      "[[3, 3, 'M:VERB:FORM', 'to', 0], [4, 5, 'U:PREP', '', 0]]\n"
     ]
    }
   ],
   "source": [
    "ref_edits=simplify_edits(ref)\n",
    "print(ref_edits)"
   ]
  },
  {
   "cell_type": "code",
   "execution_count": 7,
   "id": "880fae2c-bf53-499a-b0c3-8d8d49f7971f",
   "metadata": {},
   "outputs": [
    {
     "name": "stdout",
     "output_type": "stream",
     "text": [
      "{0: {(3, 3, 'to'): ['M:VERB:FORM'], (4, 5, ''): ['U:PREP']}}\n"
     ]
    }
   ],
   "source": [
    "hyp_dict=process_edits(hyp_edits,args)\n",
    "print(hyp_dict)"
   ]
  },
  {
   "cell_type": "code",
   "execution_count": 8,
   "id": "00a7fa90-2fc9-4b91-aa8a-18def30c75e8",
   "metadata": {},
   "outputs": [
    {
     "name": "stdout",
     "output_type": "stream",
     "text": [
      "{0: {(3, 3, 'to'): ['M:VERB:FORM'], (4, 5, ''): ['U:PREP']}}\n"
     ]
    }
   ],
   "source": [
    "ref_dict=process_edits(ref_edits,args)\n",
    "print(ref_dict)"
   ]
  },
  {
   "cell_type": "code",
   "execution_count": 11,
   "id": "81a980a2-f11d-4e63-90c4-435bac65911e",
   "metadata": {},
   "outputs": [
    {
     "name": "stdout",
     "output_type": "stream",
     "text": [
      "It 's difficult answer at the question \" what are you going to do in the future ? \" if the only one who has to know it is in two minds .\n"
     ]
    }
   ],
   "source": [
    "# original sentence for logging\n",
    "original_sentence = hyp[2:].split(\"\\nA\")[0]\n",
    "print(original_sentence)"
   ]
  },
  {
   "cell_type": "code",
   "execution_count": 18,
   "id": "cffa505e-9d31-4c3f-b9e1-ac829e109a8d",
   "metadata": {},
   "outputs": [
    {
     "name": "stdout",
     "output_type": "stream",
     "text": [
      "{'tp': 2, 'fp': 0, 'fn': 0}\n"
     ]
    }
   ],
   "source": [
    "# Store global corpus level best counts here\n",
    "best_dict = Counter({\"tp\":0, \"fp\":0, \"fn\":0})\n",
    "best_cats={}\n",
    "sent_id=0\n",
    "count_dict, cat_dict = evaluate_edits(\n",
    "            hyp_dict, ref_dict, best_dict, sent_id, original_sentence, args)\n",
    "print(count_dict)"
   ]
  },
  {
   "cell_type": "code",
   "execution_count": 20,
   "id": "68bf31bc-b2fa-4a71-9885-6145f818c9fb",
   "metadata": {},
   "outputs": [
    {
     "name": "stdout",
     "output_type": "stream",
     "text": [
      "Counter({'tp': 4})\n",
      "{'M:VERB:FORM': [2, 0, 0], 'U:PREP': [2, 0, 0]}\n"
     ]
    }
   ],
   "source": [
    "# Merge these dicts with best_dict and best_cats\n",
    "best_dict += Counter(count_dict)\n",
    "best_cats = merge_dict(best_cats, cat_dict)\n",
    "print(best_dict)\n",
    "print(best_cats)"
   ]
  },
  {
   "cell_type": "code",
   "execution_count": 23,
   "id": "e9c057ed-30e1-490a-8d30-e16838f91c61",
   "metadata": {},
   "outputs": [
    {
     "data": {
      "text/plain": [
       "[1.0, 1.0, 1.0]"
      ]
     },
     "execution_count": 23,
     "metadata": {},
     "output_type": "execute_result"
    }
   ],
   "source": [
    "list(computeFScore(best_dict[\"tp\"], best_dict[\"fp\"], best_dict[\"fn\"], args['beta']))"
   ]
  },
  {
   "cell_type": "code",
   "execution_count": 9,
   "id": "d19cc465-5d2b-41e2-8304-70016b183da6",
   "metadata": {
    "scrolled": true,
    "tags": []
   },
   "outputs": [
    {
     "name": "stdout",
     "output_type": "stream",
     "text": [
      "Simplifying the edits\n",
      "Input: S It 's difficult answer at the question \" what are you going to do in the future ? \" if the only one who has to know it is in two minds .\n",
      "A 3 3|||M:VERB:FORM|||to|||REQUIRED|||-NONE-|||0\n",
      "A 4 5|||U:PREP||||||REQUIRED|||-NONE-|||0\n",
      "hyp_edits: [[3, 3, 'M:VERB:FORM', 'to', 0], [4, 5, 'U:PREP', '', 0]]\n",
      "Input: S It 's difficult answer at the question \" what are you going to do in the future ? \" if the only one who has to know it is in two minds .\n",
      "A 3 3|||M:VERB:FORM|||to|||REQUIRED|||-NONE-|||0\n",
      "A 4 5|||U:PREP||||||REQUIRED|||-NONE-|||0\n",
      "ref_edits: [[3, 3, 'M:VERB:FORM', 'to', 0], [4, 5, 'U:PREP', '', 0]]\n",
      "Processing the edits\n",
      "hyp_dict: {0: {(3, 3, 'to'): ['M:VERB:FORM'], (4, 5, ''): ['U:PREP']}}\n",
      "ref_dict: {0: {(3, 3, 'to'): ['M:VERB:FORM'], (4, 5, ''): ['U:PREP']}}\n",
      "Original_sent: It 's difficult answer at the question \" what are you going to do in the future ? \" if the only one who has to know it is in two minds .\n",
      "\n",
      "=========== Span-Based Correction ============\n",
      "TP\tFP\tFN\tPrec\tRec\tF0.5\n",
      "2\t0\t0\t1.0\t1.0\t1.0\n",
      "==============================================\n",
      "\n"
     ]
    }
   ],
   "source": [
    "# from errant.commands.compare_m2 import process_edits, evaluate_edits, merge_dict\n",
    "from small_llm_reasoning.evaluation.m2_scorer import run,process_edits, evaluate_edits, merge_dict, simplify_edits\n",
    "run(args)"
   ]
  },
  {
   "cell_type": "code",
   "execution_count": null,
   "id": "9b298f07-944f-43bc-80a3-0974eb817577",
   "metadata": {},
   "outputs": [],
   "source": []
  }
 ],
 "metadata": {
  "kernelspec": {
   "display_name": "Reason",
   "language": "python",
   "name": "reason"
  },
  "language_info": {
   "codemirror_mode": {
    "name": "ipython",
    "version": 3
   },
   "file_extension": ".py",
   "mimetype": "text/x-python",
   "name": "python",
   "nbconvert_exporter": "python",
   "pygments_lexer": "ipython3",
   "version": "3.12.7"
  }
 },
 "nbformat": 4,
 "nbformat_minor": 5
}
