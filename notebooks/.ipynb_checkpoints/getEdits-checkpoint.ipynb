{
 "cells": [
  {
   "cell_type": "code",
   "execution_count": 1,
   "id": "b0ee43ec-baad-4d66-af10-b76d396ce4eb",
   "metadata": {},
   "outputs": [],
   "source": [
    "import errant\n"
   ]
  },
  {
   "cell_type": "code",
   "execution_count": 2,
   "id": "22fca943-e067-49ec-b69c-66ecf1742356",
   "metadata": {},
   "outputs": [
    {
     "name": "stdout",
     "output_type": "stream",
     "text": [
      "1 2 are 1 2 is R:VERB:SVA\n",
      "2 2  2 3 a M:DET\n",
      "2 3 gramamtical 3 4 grammatical R:SPELL\n"
     ]
    }
   ],
   "source": [
    "\n",
    "annotator = errant.load('en')\n",
    "orig = annotator.parse('This are gramamtical sentence .')\n",
    "cor = annotator.parse('This is a grammatical sentence .')\n",
    "edits = annotator.annotate(orig, cor)\n",
    "for e in edits:\n",
    "    print(e.o_start, e.o_end, e.o_str, e.c_start, e.c_end, e.c_str, e.type)"
   ]
  },
  {
   "cell_type": "code",
   "execution_count": 5,
   "id": "cd9044f3-6e7e-4084-9de8-f053bf34a2d8",
   "metadata": {},
   "outputs": [],
   "source": [
    "from datasets import load_from_disk\n",
    "import random"
   ]
  },
  {
   "cell_type": "code",
   "execution_count": 4,
   "id": "6cfe989b-8b4c-472a-ad44-3dbc2fc29368",
   "metadata": {},
   "outputs": [
    {
     "data": {
      "text/plain": [
       "Dataset({\n",
       "    features: ['before_sent', 'after_sent', 'before_sent_with_intent', 'labels', 'confidence', 'doc_id', 'revision_depth'],\n",
       "    num_rows: 126892\n",
       "})"
      ]
     },
     "execution_count": 4,
     "metadata": {},
     "output_type": "execute_result"
    }
   ],
   "source": [
    "task='fluency'\n",
    "path=f'../datasets/{task}/train'\n",
    "data=load_from_disk(path)\n",
    "data"
   ]
  },
  {
   "cell_type": "code",
   "execution_count": 7,
   "id": "a3486c55-5539-4896-b026-9f4d05d0d1f6",
   "metadata": {},
   "outputs": [
    {
     "data": {
      "text/plain": [
       "Dataset({\n",
       "    features: ['before_sent', 'after_sent', 'before_sent_with_intent', 'labels', 'confidence', 'doc_id', 'revision_depth'],\n",
       "    num_rows: 10\n",
       "})"
      ]
     },
     "execution_count": 7,
     "metadata": {},
     "output_type": "execute_result"
    }
   ],
   "source": [
    "# Sample 10 random items\n",
    "random_samples = data.shuffle(seed=42).select(range(10))\n",
    "random_samples"
   ]
  },
  {
   "cell_type": "code",
   "execution_count": null,
   "id": "cab5f70b-5579-4f89-a6b8-324da1724d20",
   "metadata": {},
   "outputs": [],
   "source": [
    "def get_edits("
   ]
  },
  {
   "cell_type": "code",
   "execution_count": null,
   "id": "cfc14d5b-f343-479c-80ad-5d35189f97eb",
   "metadata": {},
   "outputs": [],
   "source": []
  },
  {
   "cell_type": "code",
   "execution_count": null,
   "id": "ce241dec-5cfd-4ae5-a972-e784954310b3",
   "metadata": {},
   "outputs": [],
   "source": []
  },
  {
   "cell_type": "code",
   "execution_count": 8,
   "id": "d5800a60-6f5d-42e3-bc8e-bc171033d616",
   "metadata": {},
   "outputs": [
    {
     "ename": "NameError",
     "evalue": "name 'input_text' is not defined",
     "output_type": "error",
     "traceback": [
      "\u001b[0;31m---------------------------------------------------------------------------\u001b[0m",
      "\u001b[0;31mNameError\u001b[0m                                 Traceback (most recent call last)",
      "Cell \u001b[0;32mIn[8], line 6\u001b[0m\n\u001b[1;32m      4\u001b[0m prompt\u001b[38;5;241m+\u001b[39m\u001b[38;5;241m=\u001b[39m\u001b[38;5;124m'\u001b[39m\u001b[38;5;124mword suggests a better phrase in the target sentence. \u001b[39m\u001b[38;5;132;01m{task_instruction}\u001b[39;00m\u001b[38;5;124m Please generate a succinct explanation for each edit using the following template:\u001b[39m\u001b[38;5;130;01m\\n\u001b[39;00m\u001b[38;5;124m'\u001b[39m\n\u001b[1;32m      5\u001b[0m prompt\u001b[38;5;241m+\u001b[39m\u001b[38;5;241m=\u001b[39m\u001b[38;5;124m'\u001b[39m\u001b[38;5;124mThe word X should be deleted/inserted/replaced by Y because ...\u001b[39m\u001b[38;5;130;01m\\n\u001b[39;00m\u001b[38;5;124m'\u001b[39m\n\u001b[0;32m----> 6\u001b[0m prompt\u001b[38;5;241m+\u001b[39m\u001b[38;5;241m=\u001b[39m\u001b[38;5;124mf\u001b[39m\u001b[38;5;124m'\u001b[39m\u001b[38;5;124m###Source sentence:\u001b[39m\u001b[38;5;130;01m\\n\u001b[39;00m\u001b[38;5;132;01m{\u001b[39;00m\u001b[43minput_text\u001b[49m\u001b[38;5;132;01m}\u001b[39;00m\u001b[38;5;130;01m\\n\u001b[39;00m\u001b[38;5;124m'\u001b[39m\n\u001b[1;32m      7\u001b[0m prompt\u001b[38;5;241m+\u001b[39m\u001b[38;5;241m=\u001b[39m\u001b[38;5;124mf\u001b[39m\u001b[38;5;124m'\u001b[39m\u001b[38;5;124m###Target sentence:\u001b[39m\u001b[38;5;132;01m{\u001b[39;00msuggestion\u001b[38;5;132;01m}\u001b[39;00m\u001b[38;5;130;01m\\n\u001b[39;00m\u001b[38;5;124m'\u001b[39m\n\u001b[1;32m      8\u001b[0m prompt\u001b[38;5;241m+\u001b[39m\u001b[38;5;241m=\u001b[39m\u001b[38;5;124mf\u001b[39m\u001b[38;5;124m'\u001b[39m\u001b[38;5;124m###Edits:\u001b[39m\u001b[38;5;132;01m{\u001b[39;00medit_content\u001b[38;5;132;01m}\u001b[39;00m\u001b[38;5;130;01m\\n\u001b[39;00m\u001b[38;5;124m'\u001b[39m\n",
      "\u001b[0;31mNameError\u001b[0m: name 'input_text' is not defined"
     ]
    }
   ],
   "source": [
    "prompt='You are given a pair of English sentences along with a list of '\n",
    "prompt+='atomic edits. For each edit, the first word identifies content in '\n",
    "prompt+='the source sentence that is less appropriate, while the second '\n",
    "prompt+=f'word suggests a better phrase in the target sentence. {task_instruction} Please generate a succinct explanation for each edit using the following template:\\n'\n",
    "prompt+='The word X should be deleted/inserted/replaced by Y because ...\\n'\n",
    "prompt+=f'###Source sentence:\\n{input_text}\\n'\n",
    "prompt+=f'###Target sentence:{suggestion}\\n'\n",
    "prompt+=f'###Edits:{edit_content}\\n'\n",
    "prompt+='###Explanation:'\n",
    "print(prompt)"
   ]
  },
  {
   "cell_type": "code",
   "execution_count": null,
   "id": "d5526671-f0ec-474e-9bcd-7140120b3033",
   "metadata": {},
   "outputs": [],
   "source": []
  }
 ],
 "metadata": {
  "kernelspec": {
   "display_name": "Reason",
   "language": "python",
   "name": "reason"
  },
  "language_info": {
   "codemirror_mode": {
    "name": "ipython",
    "version": 3
   },
   "file_extension": ".py",
   "mimetype": "text/x-python",
   "name": "python",
   "nbconvert_exporter": "python",
   "pygments_lexer": "ipython3",
   "version": "3.12.7"
  }
 },
 "nbformat": 4,
 "nbformat_minor": 5
}
