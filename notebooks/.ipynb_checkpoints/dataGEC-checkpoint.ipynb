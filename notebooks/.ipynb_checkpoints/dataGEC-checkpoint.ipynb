{
 "cells": [
  {
   "cell_type": "code",
   "execution_count": 18,
   "id": "d052830d-4b2f-477a-909e-d59bcc751182",
   "metadata": {},
   "outputs": [],
   "source": [
    "from datasets import load_dataset, concatenate_datasets"
   ]
  },
  {
   "cell_type": "code",
   "execution_count": 15,
   "id": "42519de1-700d-42e4-b316-33f5268a1b2b",
   "metadata": {},
   "outputs": [
    {
     "data": {
      "text/plain": [
       "Dataset({\n",
       "    features: ['id', 'userid', 'cefr', 'text', 'edits'],\n",
       "    num_rows: 3000\n",
       "})"
      ]
     },
     "execution_count": 15,
     "metadata": {},
     "output_type": "execute_result"
    }
   ],
   "source": [
    "\n",
    "# Load the dataset\n",
    "gec_train=dataset = load_dataset(\"wi_locness\",'wi',split='train')\n",
    "gec_train"
   ]
  },
  {
   "cell_type": "code",
   "execution_count": 11,
   "id": "b8e15ffd-d909-498a-b271-056956b5bbdd",
   "metadata": {},
   "outputs": [
    {
     "data": {
      "text/plain": [
       "Dataset({\n",
       "    features: ['id', 'userid', 'cefr', 'text', 'edits'],\n",
       "    num_rows: 300\n",
       "})"
      ]
     },
     "execution_count": 11,
     "metadata": {},
     "output_type": "execute_result"
    }
   ],
   "source": [
    "\n",
    "# Load the dataset\n",
    "wi_val=dataset = load_dataset(\"wi_locness\",'wi',split='validation')\n",
    "wi_val"
   ]
  },
  {
   "cell_type": "code",
   "execution_count": 12,
   "id": "411cd943-f6ce-458c-b2d8-0e2a8f26feb8",
   "metadata": {},
   "outputs": [
    {
     "data": {
      "text/plain": [
       "Dataset({\n",
       "    features: ['id', 'cefr', 'text', 'edits'],\n",
       "    num_rows: 50\n",
       "})"
      ]
     },
     "execution_count": 12,
     "metadata": {},
     "output_type": "execute_result"
    }
   ],
   "source": [
    "\n",
    "# Load the dataset\n",
    "locness_val=dataset = load_dataset(\"wi_locness\",'locness',split='validation')\n",
    "locness_val"
   ]
  },
  {
   "cell_type": "markdown",
   "id": "82f54cdb-864c-41f7-8ab9-dc1e50ae14c2",
   "metadata": {},
   "source": [
    "### Since LOCNESS doesn't have user_id column, I will be adding this column with empty strings to match the column names of WI dataset as I need to concatinate them."
   ]
  },
  {
   "cell_type": "code",
   "execution_count": 14,
   "id": "979db66b-6317-4b0f-af29-7754c26087ee",
   "metadata": {},
   "outputs": [
    {
     "data": {
      "text/plain": [
       "Dataset({\n",
       "    features: ['id', 'cefr', 'text', 'edits', 'userid'],\n",
       "    num_rows: 50\n",
       "})"
      ]
     },
     "execution_count": 14,
     "metadata": {},
     "output_type": "execute_result"
    }
   ],
   "source": [
    "new_column = [\"\"] * len(locness_val)\n",
    "\n",
    "# Add the new column to the dataset\n",
    "locness_val = locness_val.add_column(\"userid\", new_column)\n",
    "locness_val"
   ]
  },
  {
   "cell_type": "code",
   "execution_count": 19,
   "id": "043739ab-270a-4d89-b2b7-1bf8855259b4",
   "metadata": {},
   "outputs": [
    {
     "data": {
      "text/plain": [
       "Dataset({\n",
       "    features: ['id', 'userid', 'cefr', 'text', 'edits'],\n",
       "    num_rows: 350\n",
       "})"
      ]
     },
     "execution_count": 19,
     "metadata": {},
     "output_type": "execute_result"
    }
   ],
   "source": [
    "gec_val=concatenate_datasets([wi_val,locness_val])\n",
    "gec_val"
   ]
  },
  {
   "cell_type": "markdown",
   "id": "b461cf54-fa3c-474d-b1d5-1907a98c46cd",
   "metadata": {},
   "source": [
    "#### Save the datasets"
   ]
  },
  {
   "cell_type": "code",
   "execution_count": 23,
   "id": "19aa60f4-2aa6-4ab5-8b21-e51fb0834181",
   "metadata": {},
   "outputs": [],
   "source": [
    "dir_path='/scratch3/workspace/wenlongzhao_umass_edu-reason/dev_kedar/Small-LLM-Reasoning/datasets/gec/'"
   ]
  },
  {
   "cell_type": "code",
   "execution_count": 25,
   "id": "743de920-eb9c-40fe-a9f4-099a071d3138",
   "metadata": {},
   "outputs": [
    {
     "data": {
      "application/vnd.jupyter.widget-view+json": {
       "model_id": "5dd43310bc5443c0b5c3fe45f8234f45",
       "version_major": 2,
       "version_minor": 0
      },
      "text/plain": [
       "Saving the dataset (0/1 shards):   0%|          | 0/3000 [00:00<?, ? examples/s]"
      ]
     },
     "metadata": {},
     "output_type": "display_data"
    }
   ],
   "source": [
    "split='train'\n",
    "gec_train.save_to_disk(dir_path+split)"
   ]
  },
  {
   "cell_type": "code",
   "execution_count": 26,
   "id": "07e70945-26ed-42dd-8bfb-fcde8d1fac3c",
   "metadata": {},
   "outputs": [
    {
     "data": {
      "application/vnd.jupyter.widget-view+json": {
       "model_id": "84051b612bad4a72b813d05304eb37d7",
       "version_major": 2,
       "version_minor": 0
      },
      "text/plain": [
       "Saving the dataset (0/1 shards):   0%|          | 0/350 [00:00<?, ? examples/s]"
      ]
     },
     "metadata": {},
     "output_type": "display_data"
    }
   ],
   "source": [
    "split='val'\n",
    "gec_val.save_to_disk(dir_path+split)"
   ]
  },
  {
   "cell_type": "code",
   "execution_count": null,
   "id": "47fb81fc-86fc-4e17-9aa2-d468d8879fbd",
   "metadata": {},
   "outputs": [],
   "source": []
  }
 ],
 "metadata": {
  "kernelspec": {
   "display_name": "Reason",
   "language": "python",
   "name": "reason"
  },
  "language_info": {
   "codemirror_mode": {
    "name": "ipython",
    "version": 3
   },
   "file_extension": ".py",
   "mimetype": "text/x-python",
   "name": "python",
   "nbconvert_exporter": "python",
   "pygments_lexer": "ipython3",
   "version": "3.12.7"
  }
 },
 "nbformat": 4,
 "nbformat_minor": 5
}
