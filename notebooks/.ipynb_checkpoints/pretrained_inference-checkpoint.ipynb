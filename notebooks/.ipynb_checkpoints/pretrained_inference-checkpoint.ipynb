{
 "cells": [
  {
   "cell_type": "code",
   "execution_count": 1,
   "id": "1ad8b478-d4e0-429b-aace-8aa48aaaa747",
   "metadata": {},
   "outputs": [],
   "source": [
    "import os\n",
    "cache_dir = '/scratch3/workspace/wenlongzhao_umass_edu-reason/dev_kedar/transformers_cache'\n",
    "os.environ['TRANSFORMERS_CACHE'] = cache_dir\n",
    "os.environ['HF_HOME']=cache_dir\n",
    "os.environ['HF_HUB_CACHE']=cache_dir+'/hub'"
   ]
  },
  {
   "cell_type": "code",
   "execution_count": 2,
   "id": "e05eda3a-3e1f-47fb-8dde-fce06bd83210",
   "metadata": {},
   "outputs": [
    {
     "name": "stderr",
     "output_type": "stream",
     "text": [
      "/work/pi_mccallum_umass_edu/kchimmad_umass_edu/conda_envs/reason/lib/python3.12/site-packages/tqdm/auto.py:21: TqdmWarning: IProgress not found. Please update jupyter and ipywidgets. See https://ipywidgets.readthedocs.io/en/stable/user_install.html\n",
      "  from .autonotebook import tqdm as notebook_tqdm\n",
      "/work/pi_mccallum_umass_edu/kchimmad_umass_edu/conda_envs/reason/lib/python3.12/site-packages/transformers/utils/hub.py:128: FutureWarning: Using `TRANSFORMERS_CACHE` is deprecated and will be removed in v5 of Transformers. Use `HF_HOME` instead.\n",
      "  warnings.warn(\n",
      "2025-04-06 18:07:56,653\tINFO util.py:154 -- Missing packages: ['ipywidgets']. Run `pip install -U ipywidgets`, then restart the notebook server for rich notebook output.\n"
     ]
    }
   ],
   "source": [
    "from small_llm_reasoning.evaluation.gsm8k import questions, answers, get_score\n",
    "import torch\n",
    "from transformers import pipeline, AutoModelForCausalLM, AutoTokenizer, AutoConfig\n",
    "from datasets import load_from_disk\n",
    "from small_llm_reasoning.generation.vllm_generation import llama_forward\n",
    "import pandas as pd\n",
    "import json\n"
   ]
  },
  {
   "cell_type": "markdown",
   "id": "b46c66c9-800c-47d3-bfda-9e39bd3ae9e5",
   "metadata": {},
   "source": [
    "### Loading data"
   ]
  },
  {
   "cell_type": "code",
   "execution_count": 3,
   "id": "31f9444b-122f-422a-bc4d-bbecc0bc0934",
   "metadata": {},
   "outputs": [
    {
     "data": {
      "text/plain": [
       "Dataset({\n",
       "    features: ['question', 'answer'],\n",
       "    num_rows: 1000\n",
       "})"
      ]
     },
     "execution_count": 3,
     "metadata": {},
     "output_type": "execute_result"
    }
   ],
   "source": [
    "data_path= \"../datasets/gsm8k\"\n",
    "split='val'\n",
    "data = load_from_disk(f'{data_path}/{split}/')\n",
    "data"
   ]
  },
  {
   "cell_type": "markdown",
   "id": "9c9f295d-b0ef-4d5a-b598-f14f9af55bdd",
   "metadata": {},
   "source": [
    "### Loading tokenizer"
   ]
  },
  {
   "cell_type": "code",
   "execution_count": 4,
   "id": "f4bf330c-2720-4cb5-acfe-0911c914648c",
   "metadata": {},
   "outputs": [],
   "source": [
    "# Loading tokenizer\n",
    "hf_token = os.getenv(\"hf_token\")\n",
    "\n",
    "model_name= \"meta-llama/Llama-3.2-3B\"\n",
    "tokenizer = AutoTokenizer.from_pretrained(model_name, token=hf_token, cache_dir=cache_dir)\n",
    "tokenizer.pad_token_id = tokenizer.eos_token_id\n",
    "\n"
   ]
  },
  {
   "cell_type": "markdown",
   "id": "98cd6c99-e4fd-4026-bdbf-43914a0537aa",
   "metadata": {},
   "source": [
    "### Preparing data"
   ]
  },
  {
   "cell_type": "code",
   "execution_count": 5,
   "id": "3c5e38e7-6a9b-4ab8-a3d4-cc48ab9b0f96",
   "metadata": {},
   "outputs": [
    {
     "data": {
      "text/plain": [
       "['There are 15 trees in the grove. Grove workers will plant trees in the grove today. After they are done, there will be 21 trees. How many trees did the grove workers plant today?',\n",
       " 'If there are 3 cars in the parking lot and 2 more cars arrive, how many cars are in the parking lot?',\n",
       " 'Leah had 32 chocolates and her sister had 42. If they ate 35, how many pieces do they have left in total?',\n",
       " 'Jason had 20 lollipops. He gave Denny some lollipops. Now Jason has 12 lollipops. How many lollipops did Jason give to Denny?',\n",
       " 'Shawn has five toys. For Christmas, he got two toys each from his mom and dad. How many toys does he have now?',\n",
       " 'There were nine computers in the server room. Five more computers were installed each day, from monday to thursday. How many computers are now in the server room?',\n",
       " 'Michael had 58 golf balls. On tuesday, he lost 23 golf balls. On wednesday, he lost 2 more. How many golf balls did he have at the end of wednesday?',\n",
       " 'Olivia has $23. She bought five bagels for $3 each. How much money does she have left?']"
      ]
     },
     "execution_count": 5,
     "metadata": {},
     "output_type": "execute_result"
    }
   ],
   "source": [
    "questions"
   ]
  },
  {
   "cell_type": "code",
   "execution_count": 6,
   "id": "5f6c04eb-a82c-43c2-a621-dc4b8f147a32",
   "metadata": {},
   "outputs": [
    {
     "data": {
      "text/plain": [
       "['There are 15 trees originally. Then there were 21 trees after some more were planted. So there must have been 21 - 15 = 6. The final answer is 6',\n",
       " 'There are originally 3 cars. 2 more cars arrive. 3 + 2 = 5. The final answer is 5',\n",
       " 'Originally, Leah had 32 chocolates. Her sister had 42. So in total they had 32 + 42 = 74. After eating 35, they had 74 - 35 = 39. The final answer is 39',\n",
       " 'Jason started with 20 lollipops. Then he had 12 after giving some to Denny. So he gave Denny 20 - 12 = 8. The final answer is 8',\n",
       " 'Shawn started with 5 toys. If he got 2 toys each from his mom and dad, then that is 4 more toys. 5 + 4 = 9. The final answer is 9',\n",
       " 'There were originally 9 computers. For each of 4 days, 5 more computers were added. So 5 * 4 = 20 computers were added. 9 + 20 is 29. The final answer is 29',\n",
       " 'Michael started with 58 golf balls. After losing 23 on tuesday, he had 58 - 23 = 35. After losing 2 more, he had 35 - 2 = 33 golf balls. The final answer is 33',\n",
       " 'Olivia had 23 dollars. 5 bagels for 3 dollars each will be 5 x 3 = 15 dollars. So she has 23 - 15 dollars left. 23 - 15 is 8. The final answer is 8']"
      ]
     },
     "execution_count": 6,
     "metadata": {},
     "output_type": "execute_result"
    }
   ],
   "source": [
    "answers"
   ]
  },
  {
   "cell_type": "code",
   "execution_count": 15,
   "id": "a7d1d38c-424e-4dfb-9d48-b8b590500d4b",
   "metadata": {},
   "outputs": [],
   "source": [
    "def apply_chat(examples,final):\n",
    "    text = f'<|start_header_id|>user<|end_header_id|>\\n\\nGiven the following problem, reason and give a final answer to the problem.\\nProblem: {examples['question']}\\nYour response should end with \"The final answer is [answer]\" where [answer] is the response to the problem.<|eot_id|><|start_header_id|>assistant<|end_header_id|>\\n\\n'\n",
    "    if not final:\n",
    "        text+=f'{examples['answer']}<|eot_id|>'\n",
    "    return text\n",
    "def get_prompt(ex, few_shot):\n",
    "    prompt=''\n",
    "    \n",
    "    if few_shot:\n",
    "        for i in range(8):\n",
    "            examples={\n",
    "                'question':questions[i],\n",
    "                'answer':answers[i]\n",
    "            }\n",
    "            prompt+=apply_chat(examples,False)\n",
    "            # prompt+= f'\\nGiven the following problem, reason and give a final answer to the problem.\\nProblem: {questions[i]}\\nYour response should end with \"The final answer is [answer]\" where [answer] is the response to the problem.\\n'\n",
    "            # prompt+= f'\\n{answers[i]}\\n'\n",
    "    \n",
    "    examples={\n",
    "                'question':ex,\n",
    "                'answer':''\n",
    "            }\n",
    "    # prompt+= f'\\nGiven the following problem, reason and give a final answer to the problem.\\nProblem: {ex}\\nYour response should end with \"The final answer is [answer]\" where [answer] is the response to the problem.\\n'\n",
    "    prompt+=apply_chat(examples,True)\n",
    "    return prompt    \n",
    "\n",
    "def tokenize_function(example,few_shot):\n",
    "    prompt= get_prompt(example['question'], few_shot)\n",
    "    # prompt= tokenizer.apply_chat_template(prompt,  tokenize= False, add_generation_prompt=True)\n",
    "    return {'input_ids': {'prompt_token_ids':tokenizer(prompt, add_special_tokens=False)['input_ids']}}\n"
   ]
  },
  {
   "cell_type": "code",
   "execution_count": 16,
   "id": "8913ef28-2b6d-4bf6-bd5a-8d08a1f01ea5",
   "metadata": {},
   "outputs": [
    {
     "name": "stdout",
     "output_type": "stream",
     "text": [
      "<|start_header_id|>user<|end_header_id|>\n",
      "\n",
      "Given the following problem, reason and give a final answer to the problem.\n",
      "Problem: There are 15 trees in the grove. Grove workers will plant trees in the grove today. After they are done, there will be 21 trees. How many trees did the grove workers plant today?\n",
      "Your response should end with \"The final answer is [answer]\" where [answer] is the response to the problem.<|eot_id|><|start_header_id|>assistant<|end_header_id|>\n",
      "\n",
      "There are 15 trees originally. Then there were 21 trees after some more were planted. So there must have been 21 - 15 = 6. The final answer is 6<|eot_id|><|start_header_id|>user<|end_header_id|>\n",
      "\n",
      "Given the following problem, reason and give a final answer to the problem.\n",
      "Problem: If there are 3 cars in the parking lot and 2 more cars arrive, how many cars are in the parking lot?\n",
      "Your response should end with \"The final answer is [answer]\" where [answer] is the response to the problem.<|eot_id|><|start_header_id|>assistant<|end_header_id|>\n",
      "\n",
      "There are originally 3 cars. 2 more cars arrive. 3 + 2 = 5. The final answer is 5<|eot_id|><|start_header_id|>user<|end_header_id|>\n",
      "\n",
      "Given the following problem, reason and give a final answer to the problem.\n",
      "Problem: Leah had 32 chocolates and her sister had 42. If they ate 35, how many pieces do they have left in total?\n",
      "Your response should end with \"The final answer is [answer]\" where [answer] is the response to the problem.<|eot_id|><|start_header_id|>assistant<|end_header_id|>\n",
      "\n",
      "Originally, Leah had 32 chocolates. Her sister had 42. So in total they had 32 + 42 = 74. After eating 35, they had 74 - 35 = 39. The final answer is 39<|eot_id|><|start_header_id|>user<|end_header_id|>\n",
      "\n",
      "Given the following problem, reason and give a final answer to the problem.\n",
      "Problem: Jason had 20 lollipops. He gave Denny some lollipops. Now Jason has 12 lollipops. How many lollipops did Jason give to Denny?\n",
      "Your response should end with \"The final answer is [answer]\" where [answer] is the response to the problem.<|eot_id|><|start_header_id|>assistant<|end_header_id|>\n",
      "\n",
      "Jason started with 20 lollipops. Then he had 12 after giving some to Denny. So he gave Denny 20 - 12 = 8. The final answer is 8<|eot_id|><|start_header_id|>user<|end_header_id|>\n",
      "\n",
      "Given the following problem, reason and give a final answer to the problem.\n",
      "Problem: Shawn has five toys. For Christmas, he got two toys each from his mom and dad. How many toys does he have now?\n",
      "Your response should end with \"The final answer is [answer]\" where [answer] is the response to the problem.<|eot_id|><|start_header_id|>assistant<|end_header_id|>\n",
      "\n",
      "Shawn started with 5 toys. If he got 2 toys each from his mom and dad, then that is 4 more toys. 5 + 4 = 9. The final answer is 9<|eot_id|><|start_header_id|>user<|end_header_id|>\n",
      "\n",
      "Given the following problem, reason and give a final answer to the problem.\n",
      "Problem: There were nine computers in the server room. Five more computers were installed each day, from monday to thursday. How many computers are now in the server room?\n",
      "Your response should end with \"The final answer is [answer]\" where [answer] is the response to the problem.<|eot_id|><|start_header_id|>assistant<|end_header_id|>\n",
      "\n",
      "There were originally 9 computers. For each of 4 days, 5 more computers were added. So 5 * 4 = 20 computers were added. 9 + 20 is 29. The final answer is 29<|eot_id|><|start_header_id|>user<|end_header_id|>\n",
      "\n",
      "Given the following problem, reason and give a final answer to the problem.\n",
      "Problem: Michael had 58 golf balls. On tuesday, he lost 23 golf balls. On wednesday, he lost 2 more. How many golf balls did he have at the end of wednesday?\n",
      "Your response should end with \"The final answer is [answer]\" where [answer] is the response to the problem.<|eot_id|><|start_header_id|>assistant<|end_header_id|>\n",
      "\n",
      "Michael started with 58 golf balls. After losing 23 on tuesday, he had 58 - 23 = 35. After losing 2 more, he had 35 - 2 = 33 golf balls. The final answer is 33<|eot_id|><|start_header_id|>user<|end_header_id|>\n",
      "\n",
      "Given the following problem, reason and give a final answer to the problem.\n",
      "Problem: Olivia has $23. She bought five bagels for $3 each. How much money does she have left?\n",
      "Your response should end with \"The final answer is [answer]\" where [answer] is the response to the problem.<|eot_id|><|start_header_id|>assistant<|end_header_id|>\n",
      "\n",
      "Olivia had 23 dollars. 5 bagels for 3 dollars each will be 5 x 3 = 15 dollars. So she has 23 - 15 dollars left. 23 - 15 is 8. The final answer is 8<|eot_id|><|start_header_id|>user<|end_header_id|>\n",
      "\n",
      "Given the following problem, reason and give a final answer to the problem.\n",
      "Problem: Studying for her test, Mitchell had read ten chapters of a book before 4 o'clock. When it clocked 4, Mitchell had read 20 pages of the 11th chapter of the book she was studying from. After 4 o'clock, she didn't read the remaining pages of chapter eleven but proceeded and read 2 more chapters of the book. If each chapter in the book had 40 pages, calculate the total number of pages that Mitchell had read altogether?\n",
      "Your response should end with \"The final answer is [answer]\" where [answer] is the response to the problem.<|eot_id|><|start_header_id|>assistant<|end_header_id|>\n",
      "\n",
      "\n"
     ]
    }
   ],
   "source": [
    "few_shot=True\n",
    "print(get_prompt(data['question'][0],few_shot))"
   ]
  },
  {
   "cell_type": "code",
   "execution_count": 9,
   "id": "ca772028-6f83-4819-8e68-d60a6c93e2e9",
   "metadata": {},
   "outputs": [
    {
     "name": "stderr",
     "output_type": "stream",
     "text": [
      "Map: 100%|██████████| 5473/5473 [00:01<00:00, 5184.23 examples/s]\n"
     ]
    }
   ],
   "source": [
    "# tokenized_dataset = data.map(tokenize_function, batched=False)\n",
    "tokenized_dataset = data.map(lambda x: tokenize_function(x,few_shot=few_shot), batched=False)\n"
   ]
  },
  {
   "cell_type": "code",
   "execution_count": 10,
   "id": "fdc9aaef-a0c6-41f4-85eb-ccdf25e83ed4",
   "metadata": {},
   "outputs": [
    {
     "data": {
      "text/plain": [
       "5473"
      ]
     },
     "execution_count": 10,
     "metadata": {},
     "output_type": "execute_result"
    }
   ],
   "source": [
    "len(tokenized_dataset['input_ids'])"
   ]
  },
  {
   "cell_type": "code",
   "execution_count": 11,
   "id": "0cf2b9aa-ad1a-43af-b821-7187264a4708",
   "metadata": {},
   "outputs": [
    {
     "data": {
      "text/plain": [
       "Dataset({\n",
       "    features: ['question', 'answer', 'input_ids'],\n",
       "    num_rows: 5473\n",
       "})"
      ]
     },
     "execution_count": 11,
     "metadata": {},
     "output_type": "execute_result"
    }
   ],
   "source": [
    "tokenized_dataset"
   ]
  },
  {
   "cell_type": "code",
   "execution_count": 12,
   "id": "eee54b42-3305-47df-9224-76fa36b23002",
   "metadata": {},
   "outputs": [
    {
     "name": "stderr",
     "output_type": "stream",
     "text": [
      "Saving the dataset (1/1 shards): 100%|██████████| 5473/5473 [00:00<00:00, 348649.41 examples/s]\n"
     ]
    }
   ],
   "source": [
    "tokenized_dataset.save_to_disk(f\"{data_path}/tokenized/LLaMA8B-Pretrained/{split}/zero-shot/\")"
   ]
  },
  {
   "cell_type": "markdown",
   "id": "bebcfee7-9002-4f6b-9c0e-ee5e3c36752d",
   "metadata": {},
   "source": [
    "### Running vLLM inference"
   ]
  },
  {
   "cell_type": "code",
   "execution_count": 20,
   "id": "d8b7a36b-e521-4ee0-b3cb-2384092b6eda",
   "metadata": {},
   "outputs": [],
   "source": [
    "data= load_from_disk(f\"{data_path}/tokenized/LLaMA8B-Pretrained/{split}/zero-shot/\")"
   ]
  },
  {
   "cell_type": "code",
   "execution_count": 21,
   "id": "d7b0e0c4-a951-4405-ab8d-83ca39006ec9",
   "metadata": {},
   "outputs": [],
   "source": [
    "\n",
    "# max_tokens= 50\n",
    "# temperature= 0\n",
    "# n_samples= 1 \n",
    "# all_outputs = llama_forward(\n",
    "#         prompts=data['input_ids'], \n",
    "#         model_path=model_name, \n",
    "#         max_tokens=max_tokens, \n",
    "#         temperature=temperature, \n",
    "#         n_samples=n_samples,\n",
    "#         n_gpus=1,\n",
    "#     )"
   ]
  },
  {
   "cell_type": "code",
   "execution_count": 22,
   "id": "5213cce3-83ef-46d4-aaa3-e284399a8afe",
   "metadata": {},
   "outputs": [],
   "source": [
    "# generated_outputs=[]\n",
    "# for ex_outputs in all_outputs:\n",
    "#     generated_outputs.append({\n",
    "#         \"input\": tokenizer.decode(ex_outputs.prompt_token_ids, skip_special_tokens=False), \n",
    "#         \"output\": [\n",
    "#             ith_output.text for ith_output in ex_outputs.outputs\n",
    "#         ]    \n",
    "#     })\n"
   ]
  },
  {
   "cell_type": "code",
   "execution_count": 23,
   "id": "1a72cce0-26f0-41ba-a39c-52d10b12ff72",
   "metadata": {},
   "outputs": [],
   "source": [
    "# df=pd.DataFrame(generated_outputs)"
   ]
  },
  {
   "cell_type": "code",
   "execution_count": 24,
   "id": "06577d2f-6050-4357-8c22-1cbaf6eeb683",
   "metadata": {},
   "outputs": [],
   "source": [
    "# output_path= '../outputs/exp-0/eval_5/generated_results.json'\n",
    "# eval_data_path= f\"{data_path}/tokenized/LLaMA3B/pretrained/test/zero-shot/\"\n",
    "\n",
    "# output_dir = os.path.dirname(output_path)\n",
    "# if output_dir:  # Check if there is a directory part in the path\n",
    "#     os.makedirs(output_dir, exist_ok=True)  # Creates directory if it doesn't exist\n",
    "\n",
    "# with open(output_path, \"w\") as f:\n",
    "#     json.dump(generated_outputs, f, indent=4)\n",
    "\n",
    "# score = get_score(eval_data_path,output_path)\n",
    "# print(f\"SCORE of {model_name} : \",score)\n",
    "# print(f\"Output saved in: {output_path}\")"
   ]
  },
  {
   "cell_type": "code",
   "execution_count": 25,
   "id": "a762aa31-eaa7-4d56-b7f8-e65c6c8e14e4",
   "metadata": {},
   "outputs": [
    {
     "data": {
      "text/plain": [
       "Dataset({\n",
       "    features: ['question', 'answer', 'input_ids'],\n",
       "    num_rows: 5473\n",
       "})"
      ]
     },
     "execution_count": 25,
     "metadata": {},
     "output_type": "execute_result"
    }
   ],
   "source": [
    "data"
   ]
  },
  {
   "cell_type": "code",
   "execution_count": 26,
   "id": "c15fe561-ce0e-4b20-9dcd-958014d154d6",
   "metadata": {},
   "outputs": [
    {
     "name": "stdout",
     "output_type": "stream",
     "text": [
      "\n",
      "Given the following problem, reason and give a final answer to the problem.\n",
      "Problem: Nicole collected 400 Pokemon cards. Cindy collected twice as many, and Rex collected half of Nicole and Cindy's combined total. If Rex divided his card equally among himself and his three younger siblings, how many cards does Rex have left?\n",
      "Your response should end with \"The final answer is [answer]\" where [answer] is the response to the problem.\n",
      "\n"
     ]
    }
   ],
   "source": [
    "print(tokenizer.decode(data['input_ids'][0]['prompt_token_ids'], skip_special_tokens=False))"
   ]
  },
  {
   "cell_type": "code",
   "execution_count": null,
   "id": "f31e0b17-3d78-4d0d-bc2c-ab29834550bb",
   "metadata": {},
   "outputs": [],
   "source": []
  },
  {
   "cell_type": "code",
   "execution_count": null,
   "id": "ef63e089-a934-4b2b-b9b5-4b402dd03d79",
   "metadata": {},
   "outputs": [],
   "source": []
  }
 ],
 "metadata": {
  "kernelspec": {
   "display_name": "Reason",
   "language": "python",
   "name": "reason"
  },
  "language_info": {
   "codemirror_mode": {
    "name": "ipython",
    "version": 3
   },
   "file_extension": ".py",
   "mimetype": "text/x-python",
   "name": "python",
   "nbconvert_exporter": "python",
   "pygments_lexer": "ipython3",
   "version": "3.12.7"
  }
 },
 "nbformat": 4,
 "nbformat_minor": 5
}
