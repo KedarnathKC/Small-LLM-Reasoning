{
 "cells": [
  {
   "cell_type": "code",
   "execution_count": null,
   "id": "ccb790b5-ae44-4423-bd26-5e6ce7e94cb7",
   "metadata": {},
   "outputs": [
    {
     "name": "stderr",
     "output_type": "stream",
     "text": [
      "/work/pi_mccallum_umass_edu/kchimmad_umass_edu/conda_envs/reason/lib/python3.12/site-packages/tqdm/auto.py:21: TqdmWarning: IProgress not found. Please update jupyter and ipywidgets. See https://ipywidgets.readthedocs.io/en/stable/user_install.html\n",
      "  from .autonotebook import tqdm as notebook_tqdm\n",
      "2025-03-12 19:43:31,613\tINFO util.py:154 -- Missing packages: ['ipywidgets']. Run `pip install -U ipywidgets`, then restart the notebook server for rich notebook output.\n"
     ]
    }
   ],
   "source": [
    "import torch\n",
    "from transformers import pipeline, AutoModelForCausalLM, AutoTokenizer, AutoConfig\n",
    "import os\n",
    "from datasets import load_from_disk\n",
    "from vllm.inputs import TokensPrompt\n",
    "from vllm import LLM, SamplingParams\n",
    "from tqdm import tqdm\n",
    "from small_llm_reasoning.evaluation.gsm8k import get_score, eight_shot_messages\n",
    "# from small_llm_reasoning.generation.vllm_generation import llama_forward\n",
    "\n",
    "\n",
    "cache_dir = '/scratch3/workspace/wenlongzhao_umass_edu-reason/dev_kedar/transformers_cache/'\n",
    "os.environ['TRANSFORMERS_CACHE'] = cache_dir\n"
   ]
  },
  {
   "cell_type": "code",
   "execution_count": null,
   "id": "4889e94e-dfe1-460d-80cc-0e2b13090f09",
   "metadata": {},
   "outputs": [],
   "source": [
    "# Loading data\n",
    "data_path= \"../datasets/gsm8k\"\n",
    "split='train'\n",
    "data = load_from_disk(f'{data_path}/{split}/')\n",
    "data"
   ]
  },
  {
   "cell_type": "code",
   "execution_count": null,
   "id": "e01152ae-0550-49f6-a5bb-a088c7183dc9",
   "metadata": {},
   "outputs": [],
   "source": [
    "# Loading model\n",
    "hf_token = os.getenv(\"hf_token\")\n",
    "\n",
    "# model_name= \"meta-llama/Llama-3.2-1B-Instruct\"\n",
    "model_name= \"meta-llama/Llama-3.2-3B-Instruct\"\n",
    "# model_name= \"meta-llama/Llama-3.1-8B-Instruct\"\n",
    "# model_name= \"meta-llama/Llama-3.2-3B\"\n",
    "# model_name= \"meta-llama/Llama-3.3-70B-Instruct\"\n",
    "tokenizer = AutoTokenizer.from_pretrained(model_name, token=hf_token, cache_dir=cache_dir)\n",
    "tokenizer.pad_token_id = tokenizer.eos_token_id\n",
    "\n"
   ]
  },
  {
   "cell_type": "code",
   "execution_count": null,
   "id": "cab279be-80a5-43a9-9339-3180853d62a3",
   "metadata": {},
   "outputs": [],
   "source": [
    "def get_prompt(ex, few_shot):\n",
    "    \n",
    "    prompt = [\n",
    "        {\n",
    "            'role': 'user',\n",
    "            'content': f'Given the following problem, reason and give a final answer to the problem.\\nProblem: {ex}\\nYour response should end with \"The final answer is [answer]\" where [answer] is the response to the problem.\\n'\n",
    "        }\n",
    "    ]\n",
    "    if few_shot:\n",
    "        prompt = eight_shot_messages + prompt\n",
    "    return prompt\n",
    "\n",
    "def tokenize_function(example,few_shot):\n",
    "    prompt= get_prompt(example['question'], few_shot)\n",
    "    prompt= tokenizer.apply_chat_template(prompt,  tokenize= False, add_generation_prompt=True)\n",
    "    return {'input_ids': {'prompt_token_ids':tokenizer(prompt, add_special_tokens=False)['input_ids']}}\n"
   ]
  },
  {
   "cell_type": "code",
   "execution_count": null,
   "id": "2953d907-b379-45c3-a3f5-11e42fc82b49",
   "metadata": {},
   "outputs": [],
   "source": [
    "prompt=get_prompt(data['question'][0],True)\n",
    "print(tokenizer.apply_chat_template(prompt,  tokenize= False, add_generation_prompt=True))\n",
    "# print(prompt)"
   ]
  },
  {
   "cell_type": "code",
   "execution_count": null,
   "id": "31ddc135-4523-4616-acba-1629aa6b18d4",
   "metadata": {},
   "outputs": [],
   "source": [
    "# tokenized_dataset = data.map(tokenize_function, batched=False)\n",
    "tokenized_dataset = data.map(lambda x: tokenize_function(x,few_shot=False), batched=False)\n"
   ]
  },
  {
   "cell_type": "code",
   "execution_count": null,
   "id": "c9093273-f693-4235-9bb6-cadff386c46f",
   "metadata": {},
   "outputs": [],
   "source": [
    "len(tokenized_dataset['input_ids'])"
   ]
  },
  {
   "cell_type": "code",
   "execution_count": null,
   "id": "b8a677b6-b2a3-40a1-9e0a-edb65f7c8c9a",
   "metadata": {},
   "outputs": [],
   "source": [
    "tokenized_dataset.save_to_disk(f\"{data_path}/tokenized/LLaMA8B-Instruct/{split}/zero-shot/\")"
   ]
  },
  {
   "cell_type": "code",
   "execution_count": null,
   "id": "963637b9-d070-41b5-a207-b036d6704f6b",
   "metadata": {},
   "outputs": [],
   "source": []
  }
 ],
 "metadata": {
  "kernelspec": {
   "display_name": "Reason",
   "language": "python",
   "name": "reason"
  },
  "language_info": {
   "codemirror_mode": {
    "name": "ipython",
    "version": 3
   },
   "file_extension": ".py",
   "mimetype": "text/x-python",
   "name": "python",
   "nbconvert_exporter": "python",
   "pygments_lexer": "ipython3",
   "version": "3.12.7"
  }
 },
 "nbformat": 4,
 "nbformat_minor": 5
}
