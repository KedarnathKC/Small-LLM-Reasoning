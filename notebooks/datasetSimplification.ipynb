{
 "cells": [
  {
   "cell_type": "code",
   "execution_count": 1,
   "id": "bf18ff87-cdea-478e-85c3-e01729ec1790",
   "metadata": {},
   "outputs": [
    {
     "name": "stderr",
     "output_type": "stream",
     "text": [
      "/work/pi_mccallum_umass_edu/kchimmad_umass_edu/conda_envs/reason/lib/python3.12/site-packages/tqdm/auto.py:21: TqdmWarning: IProgress not found. Please update jupyter and ipywidgets. See https://ipywidgets.readthedocs.io/en/stable/user_install.html\n",
      "  from .autonotebook import tqdm as notebook_tqdm\n"
     ]
    }
   ],
   "source": [
    "from datasets import load_dataset"
   ]
  },
  {
   "cell_type": "markdown",
   "id": "03881297-28e5-4e62-ae52-db82986c0864",
   "metadata": {},
   "source": [
    "### Val/Test splits for simplication comes from asset dataset."
   ]
  },
  {
   "cell_type": "code",
   "execution_count": 7,
   "id": "44cc7e99-09ce-445a-9d3d-c96e7b3199f5",
   "metadata": {},
   "outputs": [
    {
     "data": {
      "text/plain": [
       "Dataset({\n",
       "    features: ['original', 'simplifications'],\n",
       "    num_rows: 2000\n",
       "})"
      ]
     },
     "execution_count": 7,
     "metadata": {},
     "output_type": "execute_result"
    }
   ],
   "source": [
    "ds_val= load_dataset('asset', split='validation')\n",
    "ds_val"
   ]
  },
  {
   "cell_type": "code",
   "execution_count": 8,
   "id": "484fff60-8cb2-4dbf-88d6-75f322baa4ab",
   "metadata": {},
   "outputs": [
    {
     "data": {
      "text/plain": [
       "Dataset({\n",
       "    features: ['original', 'simplifications'],\n",
       "    num_rows: 359\n",
       "})"
      ]
     },
     "execution_count": 8,
     "metadata": {},
     "output_type": "execute_result"
    }
   ],
   "source": [
    "ds_test= load_dataset('asset', split='test')\n",
    "ds_test"
   ]
  },
  {
   "cell_type": "markdown",
   "id": "7f84abb2-1959-4895-8912-763059ade53f",
   "metadata": {},
   "source": [
    "### Train dataset\n",
    "\n",
    "#### Turk Dataset    :seems same as asset. It doesn't have train set. (verified from papers with code)\n",
    "#### NEWSELA\n",
    "#### WikiLarge\n",
    "#### WikiAuto\n",
    "#### Parabank_v2"
   ]
  },
  {
   "cell_type": "code",
   "execution_count": 10,
   "id": "33117fa8-fbe5-41e9-b75f-852352b47dc4",
   "metadata": {},
   "outputs": [
    {
     "data": {
      "text/plain": [
       "DatasetDict({\n",
       "    validation: Dataset({\n",
       "        features: ['original', 'simplifications'],\n",
       "        num_rows: 2000\n",
       "    })\n",
       "    test: Dataset({\n",
       "        features: ['original', 'simplifications'],\n",
       "        num_rows: 359\n",
       "    })\n",
       "})"
      ]
     },
     "execution_count": 10,
     "metadata": {},
     "output_type": "execute_result"
    }
   ],
   "source": [
    "ds_asset= load_dataset('asset')\n",
    "ds_asset"
   ]
  },
  {
   "cell_type": "code",
   "execution_count": 12,
   "id": "470f16ac-a2d6-41b6-84c8-2a2d5a2ea6ae",
   "metadata": {},
   "outputs": [
    {
     "data": {
      "text/plain": [
       "DatasetDict({\n",
       "    validation: Dataset({\n",
       "        features: ['original', 'simplifications'],\n",
       "        num_rows: 2000\n",
       "    })\n",
       "    test: Dataset({\n",
       "        features: ['original', 'simplifications'],\n",
       "        num_rows: 359\n",
       "    })\n",
       "})"
      ]
     },
     "execution_count": 12,
     "metadata": {},
     "output_type": "execute_result"
    }
   ],
   "source": [
    "ds_turk= load_dataset('turk')\n",
    "ds_turk"
   ]
  },
  {
   "cell_type": "code",
   "execution_count": null,
   "id": "f27411f6-b03c-466f-bce3-d22e9d930061",
   "metadata": {},
   "outputs": [],
   "source": []
  }
 ],
 "metadata": {
  "kernelspec": {
   "display_name": "Reason",
   "language": "python",
   "name": "reason"
  },
  "language_info": {
   "codemirror_mode": {
    "name": "ipython",
    "version": 3
   },
   "file_extension": ".py",
   "mimetype": "text/x-python",
   "name": "python",
   "nbconvert_exporter": "python",
   "pygments_lexer": "ipython3",
   "version": "3.12.7"
  }
 },
 "nbformat": 4,
 "nbformat_minor": 5
}
