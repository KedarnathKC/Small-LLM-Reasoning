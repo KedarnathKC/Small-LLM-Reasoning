{
 "cells": [
  {
   "cell_type": "code",
   "execution_count": 8,
   "id": "b0ee43ec-baad-4d66-af10-b76d396ce4eb",
   "metadata": {},
   "outputs": [],
   "source": [
    "import errant\n",
    "import json"
   ]
  },
  {
   "cell_type": "code",
   "execution_count": 2,
   "id": "22fca943-e067-49ec-b69c-66ecf1742356",
   "metadata": {},
   "outputs": [
    {
     "name": "stdout",
     "output_type": "stream",
     "text": [
      "1 2 are 1 2 is R:VERB:SVA\n",
      "2 2  2 3 a M:DET\n",
      "2 3 gramamtical 3 4 grammatical R:SPELL\n"
     ]
    }
   ],
   "source": [
    "\n",
    "annotator = errant.load('en')\n",
    "orig = annotator.parse('This are gramamtical sentence .')\n",
    "cor = annotator.parse('This is a grammatical sentence .')\n",
    "edits = annotator.annotate(orig, cor)\n",
    "for e in edits:\n",
    "    print(e.o_start, e.o_end, e.o_str, e.c_start, e.c_end, e.c_str, e.type)"
   ]
  },
  {
   "cell_type": "code",
   "execution_count": 3,
   "id": "cd9044f3-6e7e-4084-9de8-f053bf34a2d8",
   "metadata": {},
   "outputs": [],
   "source": [
    "from datasets import load_from_disk\n",
    "import random"
   ]
  },
  {
   "cell_type": "code",
   "execution_count": 4,
   "id": "6cfe989b-8b4c-472a-ad44-3dbc2fc29368",
   "metadata": {},
   "outputs": [
    {
     "data": {
      "text/plain": [
       "Dataset({\n",
       "    features: ['id', 'src_tok', 'tgt_tok', 'input', 'edits', 'src_POS_tags', 'tgt_parse_tags', 'wiki_id'],\n",
       "    num_rows: 53803\n",
       "})"
      ]
     },
     "execution_count": 4,
     "metadata": {},
     "output_type": "execute_result"
    }
   ],
   "source": [
    "task='neutralization'\n",
    "path=f'../datasets/{task}/train'\n",
    "data=load_from_disk(path)\n",
    "data"
   ]
  },
  {
   "cell_type": "code",
   "execution_count": 34,
   "id": "a3486c55-5539-4896-b026-9f4d05d0d1f6",
   "metadata": {},
   "outputs": [
    {
     "data": {
      "text/plain": [
       "Dataset({\n",
       "    features: ['id', 'src_tok', 'tgt_tok', 'input', 'edits', 'src_POS_tags', 'tgt_parse_tags', 'wiki_id'],\n",
       "    num_rows: 20\n",
       "})"
      ]
     },
     "execution_count": 34,
     "metadata": {},
     "output_type": "execute_result"
    }
   ],
   "source": [
    "# Sample 10 random items\n",
    "random_samples = data.shuffle(seed=42).select(range(20))\n",
    "random_samples"
   ]
  },
  {
   "cell_type": "code",
   "execution_count": 10,
   "id": "08c87c8f-72d0-4c5a-ba9f-17231911b834",
   "metadata": {},
   "outputs": [],
   "source": [
    "# task_prompt_path=f'../prompts/{task}.txt'\n",
    "# task_instruct = open(task_prompt_path).readlines()[0].replace(\"\\n\", \"\")\n",
    "# task_instruct"
   ]
  },
  {
   "cell_type": "code",
   "execution_count": 19,
   "id": "95246e18-97b0-400c-8e19-b3083db2a65c",
   "metadata": {},
   "outputs": [
    {
     "name": "stdout",
     "output_type": "stream",
     "text": [
      "Given an input sentence, reason and replace the word with subjective bias to a word with neutral point of view. Consider the following types of biases:\n",
      "1. framing biases use subjective words linked with a particular point of view (e.g. using words like best or deepest or using pilfered from instead of based on);\n",
      "2. epistemological biases are linguistic features that subtly (often via presupposition) modify the believability of a proposition;\n",
      "3. demographic biases are texts with presuppositions about particular genders, races, or other demographic categories (e.g. presupposing that all programmers are male).\n",
      "\n",
      "Your response should end with \"The neutralized text is [answer]\" where [answer] is the neutralized version of the input sentence.\n"
     ]
    }
   ],
   "source": [
    "task_prompt_path=f'../prompts/{task}.json'\n",
    "with open(task_prompt_path) as fp:\n",
    "    task_prompt = json.load(fp)\n",
    "task_instruct=task_prompt['task_prompt']\n",
    "print(task_instruct)"
   ]
  },
  {
   "cell_type": "code",
   "execution_count": 11,
   "id": "cab5f70b-5579-4f89-a6b8-324da1724d20",
   "metadata": {},
   "outputs": [],
   "source": [
    "def get_edits(input_text, output_text):\n",
    "    annotator = errant.load('en')\n",
    "    orig = annotator.parse(input_text)\n",
    "    cor = annotator.parse(output_text)\n",
    "    edits = annotator.annotate(orig, cor)\n",
    "    edit=''\n",
    "    for e in edits:\n",
    "        edit+=f'{e.o_start}, {e.o_end}, {e.o_str}, {e.c_start}, {e.c_end}, {e.c_str}, {e.type}\\n'\n",
    "    return edit"
   ]
  },
  {
   "cell_type": "code",
   "execution_count": 13,
   "id": "41bb2bce-84f6-4dc6-983d-e7dc41b27911",
   "metadata": {},
   "outputs": [
    {
     "name": "stdout",
     "output_type": "stream",
     "text": [
      "it was marked by an enormous water-resources development program (which later evolved into the california aqueduct), the enactment of the university of california master plan, fair employment practices, state economic development commission, and a consumers' council.\n",
      "his time in office was marked by an enormous water-resources development program (which later evolved into the california aqueduct), the enactment of the university of california master plan, fair employment practices, state economic development commission, and a consumers' council.\n"
     ]
    }
   ],
   "source": [
    "print(random_samples[0]['input'])\n",
    "print(random_samples[0]['edits'])"
   ]
  },
  {
   "cell_type": "code",
   "execution_count": 14,
   "id": "cfc14d5b-f343-479c-80ad-5d35189f97eb",
   "metadata": {},
   "outputs": [
    {
     "name": "stdout",
     "output_type": "stream",
     "text": [
      "0, 1, it, 0, 4, his time in office, R:OTHER\n",
      "\n"
     ]
    }
   ],
   "source": [
    "print(get_edits(random_samples[0]['input'], random_samples[0]['edits']))\n"
   ]
  },
  {
   "cell_type": "code",
   "execution_count": null,
   "id": "ce241dec-5cfd-4ae5-a972-e784954310b3",
   "metadata": {},
   "outputs": [],
   "source": []
  },
  {
   "cell_type": "code",
   "execution_count": 15,
   "id": "d5800a60-6f5d-42e3-bc8e-bc171033d616",
   "metadata": {},
   "outputs": [],
   "source": [
    "def get_gpt_prompt(task_instruct, input_text, suggestion, edit_content):\n",
    "    prompt='You are given a pair of English sentences along with a list of '\n",
    "    prompt+='atomic edits. For each edit, the first word identifies content in '\n",
    "    prompt+='the source sentence that is less appropriate, while the second '\n",
    "    prompt+=f'word suggests a better phrase in the target sentence. {task_instruct} Please generate a succinct explanation for each edit using the following template:\\n\\n'\n",
    "    prompt+='The word X should be deleted/inserted/replaced by Y because ...\\n\\n'\n",
    "    prompt+=f'###Source sentence:\\n{input_text}\\n\\n'\n",
    "    prompt+=f'###Target sentence:\\n{suggestion}\\n\\n'\n",
    "    prompt+=f'###Edits:\\n{edit_content}\\n'\n",
    "    prompt+='###Explanation:'\n",
    "    return prompt"
   ]
  },
  {
   "cell_type": "code",
   "execution_count": 35,
   "id": "d5526671-f0ec-474e-9bcd-7140120b3033",
   "metadata": {},
   "outputs": [
    {
     "name": "stdout",
     "output_type": "stream",
     "text": [
      "wnc-train-131576896\n",
      "You are given a pair of English sentences along with a list of atomic edits. For each edit, the first word identifies content in the source sentence that is less appropriate, while the second word suggests a better phrase in the target sentence. Given an input sentence, reason and replace the word with subjective bias to a word with neutral point of view. Consider the following types of biases:\n",
      "1. framing biases use subjective words linked with a particular point of view (e.g. using words like best or deepest or using pilfered from instead of based on);\n",
      "2. epistemological biases are linguistic features that subtly (often via presupposition) modify the believability of a proposition;\n",
      "3. demographic biases are texts with presuppositions about particular genders, races, or other demographic categories (e.g. presupposing that all programmers are male).\n",
      "\n",
      "Your response should end with \"The neutralized text is [answer]\" where [answer] is the neutralized version of the input sentence. Please generate a succinct explanation for each edit using the following template:\n",
      "\n",
      "The word X should be deleted/inserted/replaced by Y because ...\n",
      "\n",
      "###Source sentence:\n",
      "gender-neutral pronouns used in ancient english\n",
      "\n",
      "###Target sentence:\n",
      "gender-neutral pronouns used in middle english\n",
      "\n",
      "###Edits:\n",
      "4, 5, ancient, 4, 5, middle, R:ADJ\n",
      "\n",
      "###Explanation:\n"
     ]
    }
   ],
   "source": [
    "i=0\n",
    "edits=get_edits(random_samples[i]['input'], random_samples[i]['edits'])\n",
    "prompt=get_gpt_prompt(task_instruct=task_instruct, input_text=random_samples[i]['input'], suggestion=random_samples[i]['edits'], edit_content=edits)\n",
    "print(random_samples[i]['wiki_id'])\n",
    "print(prompt)\n",
    "    "
   ]
  },
  {
   "cell_type": "code",
   "execution_count": 36,
   "id": "cf020179-41e5-48c0-9e98-b4fae9c2c95b",
   "metadata": {},
   "outputs": [
    {
     "name": "stdout",
     "output_type": "stream",
     "text": [
      "wnc-train-165621694\n",
      "You are given a pair of English sentences along with a list of atomic edits. For each edit, the first word identifies content in the source sentence that is less appropriate, while the second word suggests a better phrase in the target sentence. Given an input sentence, reason and replace the word with subjective bias to a word with neutral point of view. Consider the following types of biases:\n",
      "1. framing biases use subjective words linked with a particular point of view (e.g. using words like best or deepest or using pilfered from instead of based on);\n",
      "2. epistemological biases are linguistic features that subtly (often via presupposition) modify the believability of a proposition;\n",
      "3. demographic biases are texts with presuppositions about particular genders, races, or other demographic categories (e.g. presupposing that all programmers are male).\n",
      "\n",
      "Your response should end with \"The neutralized text is [answer]\" where [answer] is the neutralized version of the input sentence. Please generate a succinct explanation for each edit using the following template:\n",
      "\n",
      "The word X should be deleted/inserted/replaced by Y because ...\n",
      "\n",
      "###Source sentence:\n",
      "based on the motorola 68k series of microprocessors, the machine sported a custom chipset with advanced graphics and sound capabilities, and a sophisticated pre-emptive multitasking operating system (now known as amigaos).\n",
      "\n",
      "###Target sentence:\n",
      "based on the motorola 68k series of microprocessors, the machine sported a custom chipset with advanced graphics and sound capabilities, and a pre-emptive multitasking operating system (now known as amigaos).\n",
      "\n",
      "###Edits:\n",
      "22, 23, sophisticated, 22, 22, , U:ADJ\n",
      "\n",
      "###Explanation:\n"
     ]
    }
   ],
   "source": [
    "i=1\n",
    "edits=get_edits(random_samples[i]['input'], random_samples[i]['edits'])\n",
    "prompt=get_gpt_prompt(task_instruct=task_instruct, input_text=random_samples[i]['input'], suggestion=random_samples[i]['edits'], edit_content=edits)\n",
    "print(random_samples[i]['id'])\n",
    "print(prompt)\n",
    "    "
   ]
  },
  {
   "cell_type": "code",
   "execution_count": 37,
   "id": "cc76b27b-c9da-46e9-a914-2cd8e879c57e",
   "metadata": {},
   "outputs": [
    {
     "name": "stdout",
     "output_type": "stream",
     "text": [
      "wnc-train-417594576\n",
      "You are given a pair of English sentences along with a list of atomic edits. For each edit, the first word identifies content in the source sentence that is less appropriate, while the second word suggests a better phrase in the target sentence. Given an input sentence, reason and replace the word with subjective bias to a word with neutral point of view. Consider the following types of biases:\n",
      "1. framing biases use subjective words linked with a particular point of view (e.g. using words like best or deepest or using pilfered from instead of based on);\n",
      "2. epistemological biases are linguistic features that subtly (often via presupposition) modify the believability of a proposition;\n",
      "3. demographic biases are texts with presuppositions about particular genders, races, or other demographic categories (e.g. presupposing that all programmers are male).\n",
      "\n",
      "Your response should end with \"The neutralized text is [answer]\" where [answer] is the neutralized version of the input sentence. Please generate a succinct explanation for each edit using the following template:\n",
      "\n",
      "The word X should be deleted/inserted/replaced by Y because ...\n",
      "\n",
      "###Source sentence:\n",
      "horney distorted these needs somewhat to correspond with what she believed were individuals' neuroses.\n",
      "\n",
      "###Target sentence:\n",
      "horney modified these needs somewhat to correspond with what she believed were individuals' neuroses.\n",
      "\n",
      "###Edits:\n",
      "1, 2, distorted, 1, 2, modified, R:VERB\n",
      "\n",
      "###Explanation:\n"
     ]
    }
   ],
   "source": [
    "i=2\n",
    "edits=get_edits(random_samples[i]['input'], random_samples[i]['edits'])\n",
    "prompt=get_gpt_prompt(task_instruct=task_instruct, input_text=random_samples[i]['input'], suggestion=random_samples[i]['edits'], edit_content=edits)\n",
    "print(random_samples[i]['id'])\n",
    "print(prompt)\n",
    "    "
   ]
  },
  {
   "cell_type": "code",
   "execution_count": 38,
   "id": "2b807683-5608-4e34-b883-e9a55cf3cacb",
   "metadata": {},
   "outputs": [
    {
     "name": "stdout",
     "output_type": "stream",
     "text": [
      "wnc-train-169899659\n",
      "You are given a pair of English sentences along with a list of atomic edits. For each edit, the first word identifies content in the source sentence that is less appropriate, while the second word suggests a better phrase in the target sentence. Given an input sentence, reason and replace the word with subjective bias to a word with neutral point of view. Consider the following types of biases:\n",
      "1. framing biases use subjective words linked with a particular point of view (e.g. using words like best or deepest or using pilfered from instead of based on);\n",
      "2. epistemological biases are linguistic features that subtly (often via presupposition) modify the believability of a proposition;\n",
      "3. demographic biases are texts with presuppositions about particular genders, races, or other demographic categories (e.g. presupposing that all programmers are male).\n",
      "\n",
      "Your response should end with \"The neutralized text is [answer]\" where [answer] is the neutralized version of the input sentence. Please generate a succinct explanation for each edit using the following template:\n",
      "\n",
      "The word X should be deleted/inserted/replaced by Y because ...\n",
      "\n",
      "###Source sentence:\n",
      "its adherents are christians who accept the hebrew text of genesis is a literal account that god created the earth in six 24-hour days, or believe that existing evidence in the natural world today supports a strict interpretation of scriptural creation as historical fact, or that the scientific evidence supporting darwinian evolution, geological uniformitarianism, and other theories which are at odds with a literal interpretation of the genesis creation account, are either flawed or misinterpreted.\n",
      "\n",
      "###Target sentence:\n",
      "its adherents are christians who believe that the hebrew text of genesis is a literal account that god created the earth in six 24-hour days, or believe that existing evidence in the natural world today supports a strict interpretation of scriptural creation as historical fact, or that the scientific evidence supporting darwinian evolution, geological uniformitarianism, and other theories which are at odds with a literal interpretation of the genesis creation account, are either flawed or misinterpreted.\n",
      "\n",
      "###Edits:\n",
      "5, 6, accept, 5, 7, believe that, R:OTHER\n",
      "\n",
      "###Explanation:\n"
     ]
    }
   ],
   "source": [
    "i=3\n",
    "edits=get_edits(random_samples[i]['input'], random_samples[i]['edits'])\n",
    "prompt=get_gpt_prompt(task_instruct=task_instruct, input_text=random_samples[i]['input'], suggestion=random_samples[i]['edits'], edit_content=edits)\n",
    "print(random_samples[i]['id'])\n",
    "print(prompt)\n",
    "    "
   ]
  },
  {
   "cell_type": "code",
   "execution_count": 39,
   "id": "5ab78b69-819e-48b1-9af1-2e884bb92b9b",
   "metadata": {},
   "outputs": [
    {
     "name": "stdout",
     "output_type": "stream",
     "text": [
      "wnc-train-207072758\n",
      "You are given a pair of English sentences along with a list of atomic edits. For each edit, the first word identifies content in the source sentence that is less appropriate, while the second word suggests a better phrase in the target sentence. Given an input sentence, reason and replace the word with subjective bias to a word with neutral point of view. Consider the following types of biases:\n",
      "1. framing biases use subjective words linked with a particular point of view (e.g. using words like best or deepest or using pilfered from instead of based on);\n",
      "2. epistemological biases are linguistic features that subtly (often via presupposition) modify the believability of a proposition;\n",
      "3. demographic biases are texts with presuppositions about particular genders, races, or other demographic categories (e.g. presupposing that all programmers are male).\n",
      "\n",
      "Your response should end with \"The neutralized text is [answer]\" where [answer] is the neutralized version of the input sentence. Please generate a succinct explanation for each edit using the following template:\n",
      "\n",
      "The word X should be deleted/inserted/replaced by Y because ...\n",
      "\n",
      "###Source sentence:\n",
      "adequate testing for adverse health effects as well as performance data for these devices are seriously lacking.\n",
      "\n",
      "###Target sentence:\n",
      "adequate testing for adverse health effects as well as performance data for these devices are lacking.\n",
      "\n",
      "###Edits:\n",
      "15, 16, seriously, 15, 15, , U:ADV\n",
      "\n",
      "###Explanation:\n"
     ]
    }
   ],
   "source": [
    "i=4\n",
    "edits=get_edits(random_samples[i]['input'], random_samples[i]['edits'])\n",
    "prompt=get_gpt_prompt(task_instruct=task_instruct, input_text=random_samples[i]['input'], suggestion=random_samples[i]['edits'], edit_content=edits)\n",
    "print(random_samples[i]['id'])\n",
    "print(prompt)\n",
    "    "
   ]
  },
  {
   "cell_type": "code",
   "execution_count": 40,
   "id": "1a75dac1-916c-46c0-9d1e-0c48b2c48510",
   "metadata": {},
   "outputs": [
    {
     "name": "stdout",
     "output_type": "stream",
     "text": [
      "wnc-train-692108570\n",
      "You are given a pair of English sentences along with a list of atomic edits. For each edit, the first word identifies content in the source sentence that is less appropriate, while the second word suggests a better phrase in the target sentence. Given an input sentence, reason and replace the word with subjective bias to a word with neutral point of view. Consider the following types of biases:\n",
      "1. framing biases use subjective words linked with a particular point of view (e.g. using words like best or deepest or using pilfered from instead of based on);\n",
      "2. epistemological biases are linguistic features that subtly (often via presupposition) modify the believability of a proposition;\n",
      "3. demographic biases are texts with presuppositions about particular genders, races, or other demographic categories (e.g. presupposing that all programmers are male).\n",
      "\n",
      "Your response should end with \"The neutralized text is [answer]\" where [answer] is the neutralized version of the input sentence. Please generate a succinct explanation for each edit using the following template:\n",
      "\n",
      "The word X should be deleted/inserted/replaced by Y because ...\n",
      "\n",
      "###Source sentence:\n",
      "the show mainly revolves around alana \"big toe honey boo boo\" thompson and \"mama\" june \"the elephant man\" shannon and their family's adventures in the redneck town of mcintyre, georgia.\n",
      "\n",
      "###Target sentence:\n",
      "the show mainly revolves around alana \"big toe honey boo boo\" thompson and \"mama\" june \"the elephant man\" shannon and their family's adventures in the southern town of mcintyre, georgia.\n",
      "\n",
      "###Edits:\n",
      "25, 26, redneck, 25, 26, southern, R:ADJ\n",
      "\n",
      "###Explanation:\n"
     ]
    }
   ],
   "source": [
    "i=5\n",
    "edits=get_edits(random_samples[i]['input'], random_samples[i]['edits'])\n",
    "prompt=get_gpt_prompt(task_instruct=task_instruct, input_text=random_samples[i]['input'], suggestion=random_samples[i]['edits'], edit_content=edits)\n",
    "print(random_samples[i]['id'])\n",
    "print(prompt)\n",
    "    "
   ]
  },
  {
   "cell_type": "code",
   "execution_count": 41,
   "id": "7c17ec6d-657b-40b1-8644-7a2b7110042b",
   "metadata": {},
   "outputs": [
    {
     "name": "stdout",
     "output_type": "stream",
     "text": [
      "wnc-train-693565497\n",
      "You are given a pair of English sentences along with a list of atomic edits. For each edit, the first word identifies content in the source sentence that is less appropriate, while the second word suggests a better phrase in the target sentence. Given an input sentence, reason and replace the word with subjective bias to a word with neutral point of view. Consider the following types of biases:\n",
      "1. framing biases use subjective words linked with a particular point of view (e.g. using words like best or deepest or using pilfered from instead of based on);\n",
      "2. epistemological biases are linguistic features that subtly (often via presupposition) modify the believability of a proposition;\n",
      "3. demographic biases are texts with presuppositions about particular genders, races, or other demographic categories (e.g. presupposing that all programmers are male).\n",
      "\n",
      "Your response should end with \"The neutralized text is [answer]\" where [answer] is the neutralized version of the input sentence. Please generate a succinct explanation for each edit using the following template:\n",
      "\n",
      "The word X should be deleted/inserted/replaced by Y because ...\n",
      "\n",
      "###Source sentence:\n",
      "settled in 1851, the town was christened salem crossing by the michigan southern railroad along whose tracks the community grew.\n",
      "\n",
      "###Target sentence:\n",
      "settled in 1851, the town was named salem crossing by the michigan southern railroad along whose tracks the community grew.\n",
      "\n",
      "###Edits:\n",
      "6, 7, christened, 6, 7, named, R:VERB\n",
      "\n",
      "###Explanation:\n"
     ]
    }
   ],
   "source": [
    "i=6\n",
    "edits=get_edits(random_samples[i]['input'], random_samples[i]['edits'])\n",
    "prompt=get_gpt_prompt(task_instruct=task_instruct, input_text=random_samples[i]['input'], suggestion=random_samples[i]['edits'], edit_content=edits)\n",
    "print(random_samples[i]['id'])\n",
    "print(prompt)\n",
    "    "
   ]
  },
  {
   "cell_type": "code",
   "execution_count": 42,
   "id": "feaae4d2-ec07-486b-b43c-3dac6958d7f9",
   "metadata": {},
   "outputs": [
    {
     "name": "stdout",
     "output_type": "stream",
     "text": [
      "wnc-train-70218028\n",
      "You are given a pair of English sentences along with a list of atomic edits. For each edit, the first word identifies content in the source sentence that is less appropriate, while the second word suggests a better phrase in the target sentence. Given an input sentence, reason and replace the word with subjective bias to a word with neutral point of view. Consider the following types of biases:\n",
      "1. framing biases use subjective words linked with a particular point of view (e.g. using words like best or deepest or using pilfered from instead of based on);\n",
      "2. epistemological biases are linguistic features that subtly (often via presupposition) modify the believability of a proposition;\n",
      "3. demographic biases are texts with presuppositions about particular genders, races, or other demographic categories (e.g. presupposing that all programmers are male).\n",
      "\n",
      "Your response should end with \"The neutralized text is [answer]\" where [answer] is the neutralized version of the input sentence. Please generate a succinct explanation for each edit using the following template:\n",
      "\n",
      "The word X should be deleted/inserted/replaced by Y because ...\n",
      "\n",
      "###Source sentence:\n",
      "in december, under orders from clinton, arnold led a force of 1,600 troops into virginia and captured richmond, cutting off the major artery of materiel to the southern patriot effort.\n",
      "\n",
      "###Target sentence:\n",
      "in december, under orders from clinton, arnold led a force of 1,600 troops into virginia and captured richmond, cutting off the major artery of materiel to the southern colonial effort.\n",
      "\n",
      "###Edits:\n",
      "28, 29, patriot, 28, 29, colonial, R:NOUN\n",
      "\n",
      "###Explanation:\n"
     ]
    }
   ],
   "source": [
    "i=7\n",
    "edits=get_edits(random_samples[i]['input'], random_samples[i]['edits'])\n",
    "prompt=get_gpt_prompt(task_instruct=task_instruct, input_text=random_samples[i]['input'], suggestion=random_samples[i]['edits'], edit_content=edits)\n",
    "print(random_samples[i]['id'])\n",
    "print(prompt)\n",
    "    "
   ]
  },
  {
   "cell_type": "code",
   "execution_count": 43,
   "id": "b7d14243-32c0-45f1-8417-164a8f1623c7",
   "metadata": {},
   "outputs": [
    {
     "name": "stdout",
     "output_type": "stream",
     "text": [
      "wnc-train-879288389\n",
      "You are given a pair of English sentences along with a list of atomic edits. For each edit, the first word identifies content in the source sentence that is less appropriate, while the second word suggests a better phrase in the target sentence. Given an input sentence, reason and replace the word with subjective bias to a word with neutral point of view. Consider the following types of biases:\n",
      "1. framing biases use subjective words linked with a particular point of view (e.g. using words like best or deepest or using pilfered from instead of based on);\n",
      "2. epistemological biases are linguistic features that subtly (often via presupposition) modify the believability of a proposition;\n",
      "3. demographic biases are texts with presuppositions about particular genders, races, or other demographic categories (e.g. presupposing that all programmers are male).\n",
      "\n",
      "Your response should end with \"The neutralized text is [answer]\" where [answer] is the neutralized version of the input sentence. Please generate a succinct explanation for each edit using the following template:\n",
      "\n",
      "The word X should be deleted/inserted/replaced by Y because ...\n",
      "\n",
      "###Source sentence:\n",
      "the revolutionaries established the republic of hawaii, but their ultimate goal was the annexation of the islands to the united states, which finally occurred in 1898.\n",
      "\n",
      "###Target sentence:\n",
      "the revolutionaries established the republic of hawaii, but their ultimate goal was the annexation of the islands to the united states, which occurred in 1898.\n",
      "\n",
      "###Edits:\n",
      "22, 23, finally, 22, 22, , U:ADV\n",
      "\n",
      "###Explanation:\n"
     ]
    }
   ],
   "source": [
    "i=8\n",
    "edits=get_edits(random_samples[i]['input'], random_samples[i]['edits'])\n",
    "prompt=get_gpt_prompt(task_instruct=task_instruct, input_text=random_samples[i]['input'], suggestion=random_samples[i]['edits'], edit_content=edits)\n",
    "print(random_samples[i]['id'])\n",
    "print(prompt)\n",
    "    "
   ]
  },
  {
   "cell_type": "code",
   "execution_count": 44,
   "id": "089bec4a-ca55-4816-bb34-df60fc2240a2",
   "metadata": {},
   "outputs": [
    {
     "name": "stdout",
     "output_type": "stream",
     "text": [
      "wnc-train-88741599\n",
      "You are given a pair of English sentences along with a list of atomic edits. For each edit, the first word identifies content in the source sentence that is less appropriate, while the second word suggests a better phrase in the target sentence. Given an input sentence, reason and replace the word with subjective bias to a word with neutral point of view. Consider the following types of biases:\n",
      "1. framing biases use subjective words linked with a particular point of view (e.g. using words like best or deepest or using pilfered from instead of based on);\n",
      "2. epistemological biases are linguistic features that subtly (often via presupposition) modify the believability of a proposition;\n",
      "3. demographic biases are texts with presuppositions about particular genders, races, or other demographic categories (e.g. presupposing that all programmers are male).\n",
      "\n",
      "Your response should end with \"The neutralized text is [answer]\" where [answer] is the neutralized version of the input sentence. Please generate a succinct explanation for each edit using the following template:\n",
      "\n",
      "The word X should be deleted/inserted/replaced by Y because ...\n",
      "\n",
      "###Source sentence:\n",
      "between 1935 and 1937, butler served as a spokesman for the american league against war and fascism, which was considered by many to be communist-dominated, and gave numerous speeches to the communist party usa in the 1930s, as well as to pacifist groups.\n",
      "\n",
      "###Target sentence:\n",
      "between 1935 and 1937, butler served as a spokesman for the american league against war and fascism, which was considered by many to be communist-dominated, and gave speeches to the communist party usa in the 1930s, as well as to pacifist groups.\n",
      "\n",
      "###Edits:\n",
      "27, 28, numerous, 27, 27, , U:ADJ\n",
      "\n",
      "###Explanation:\n"
     ]
    }
   ],
   "source": [
    "i=9\n",
    "edits=get_edits(random_samples[i]['input'], random_samples[i]['edits'])\n",
    "prompt=get_gpt_prompt(task_instruct=task_instruct, input_text=random_samples[i]['input'], suggestion=random_samples[i]['edits'], edit_content=edits)\n",
    "print(random_samples[i]['id'])\n",
    "print(prompt)\n",
    "    "
   ]
  },
  {
   "cell_type": "code",
   "execution_count": null,
   "id": "2f623c2c-9d89-4f31-abcc-d9b9a2f067f4",
   "metadata": {},
   "outputs": [],
   "source": [
    "i=19\n",
    "edits=get_edits(random_samples[i]['input'], random_samples[i]['edits'])\n",
    "prompt=get_gpt_prompt(task_instruct=task_instruct, input_text=random_samples[i]['input'], suggestion=random_samples[i]['edits'], edit_content=edits)\n",
    "print(random_samples[i]['id'])\n",
    "print(prompt)\n",
    "    "
   ]
  },
  {
   "cell_type": "code",
   "execution_count": null,
   "id": "3cba4e95-ac29-4b94-8b53-1a17e53ef5d8",
   "metadata": {},
   "outputs": [],
   "source": []
  },
  {
   "cell_type": "code",
   "execution_count": null,
   "id": "3f86077f-136e-4689-90e4-4877415dd7dd",
   "metadata": {},
   "outputs": [],
   "source": []
  }
 ],
 "metadata": {
  "kernelspec": {
   "display_name": "Reason",
   "language": "python",
   "name": "reason"
  },
  "language_info": {
   "codemirror_mode": {
    "name": "ipython",
    "version": 3
   },
   "file_extension": ".py",
   "mimetype": "text/x-python",
   "name": "python",
   "nbconvert_exporter": "python",
   "pygments_lexer": "ipython3",
   "version": "3.12.7"
  }
 },
 "nbformat": 4,
 "nbformat_minor": 5
}
