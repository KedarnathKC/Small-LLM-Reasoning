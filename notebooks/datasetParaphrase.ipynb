{
 "cells": [
  {
   "cell_type": "code",
   "execution_count": 1,
   "id": "82e197dc-12b8-4c54-971d-f26f67b791a4",
   "metadata": {},
   "outputs": [
    {
     "name": "stderr",
     "output_type": "stream",
     "text": [
      "/work/pi_mccallum_umass_edu/kchimmad_umass_edu/conda_envs/reason/lib/python3.12/site-packages/tqdm/auto.py:21: TqdmWarning: IProgress not found. Please update jupyter and ipywidgets. See https://ipywidgets.readthedocs.io/en/stable/user_install.html\n",
      "  from .autonotebook import tqdm as notebook_tqdm\n"
     ]
    }
   ],
   "source": [
    "from datasets import load_dataset"
   ]
  },
  {
   "cell_type": "markdown",
   "id": "5148ecca-1d68-4a78-ace1-30154533a8c0",
   "metadata": {},
   "source": [
    "#### Unable to download train dataset"
   ]
  },
  {
   "cell_type": "markdown",
   "id": "77741e7b-6e72-46fb-bf6c-ad872992d083",
   "metadata": {},
   "source": [
    "#### val/test dataset from HF"
   ]
  },
  {
   "cell_type": "code",
   "execution_count": 4,
   "id": "07926768-940b-40e8-9346-671d4e93d0d6",
   "metadata": {},
   "outputs": [
    {
     "data": {
      "text/plain": [
       "Dataset({\n",
       "    features: ['sentence1', 'sentence2', 'similarity_score'],\n",
       "    num_rows: 1500\n",
       "})"
      ]
     },
     "execution_count": 4,
     "metadata": {},
     "output_type": "execute_result"
    }
   ],
   "source": [
    "ds_val = load_dataset(\"stsb_multi_mt\", name=\"en\", split=\"dev\")\n",
    "ds_val"
   ]
  },
  {
   "cell_type": "code",
   "execution_count": 5,
   "id": "0d309428-b884-4078-b8a1-915983e47b37",
   "metadata": {},
   "outputs": [
    {
     "data": {
      "text/plain": [
       "Dataset({\n",
       "    features: ['sentence1', 'sentence2', 'similarity_score'],\n",
       "    num_rows: 1379\n",
       "})"
      ]
     },
     "execution_count": 5,
     "metadata": {},
     "output_type": "execute_result"
    }
   ],
   "source": [
    "ds_test = load_dataset(\"stsb_multi_mt\", name=\"en\", split=\"test\")\n",
    "ds_test"
   ]
  },
  {
   "cell_type": "markdown",
   "id": "9e7cadc2-36cb-43b5-940e-a2887e9c611b",
   "metadata": {},
   "source": [
    "#### Exploring val dataset"
   ]
  },
  {
   "cell_type": "code",
   "execution_count": 6,
   "id": "31e18d5b-fff6-439c-b32e-c6d732fb3941",
   "metadata": {},
   "outputs": [
    {
     "name": "stderr",
     "output_type": "stream",
     "text": [
      "Filter: 100%|██████████| 1500/1500 [00:00<00:00, 33741.59 examples/s]\n"
     ]
    },
    {
     "data": {
      "text/plain": [
       "Dataset({\n",
       "    features: ['sentence1', 'sentence2', 'similarity_score'],\n",
       "    num_rows: 56\n",
       "})"
      ]
     },
     "execution_count": 6,
     "metadata": {},
     "output_type": "execute_result"
    }
   ],
   "source": [
    "# https://github.com/facebookresearch/EditEval/blob/main/src/processors/huggingface_processors.py#L128\n",
    "\n",
    "ds_val=ds_val.filter(lambda ex: ex['similarity_score']==5)\n",
    "ds_val"
   ]
  },
  {
   "cell_type": "code",
   "execution_count": 10,
   "id": "c721f6c5-0e38-470c-864f-cb758067f790",
   "metadata": {},
   "outputs": [
    {
     "data": {
      "text/plain": [
       "Dataset({\n",
       "    features: ['before_sent', 'before_sent_with_intent', 'after_sent', 'labels', 'doc_id', 'revision_depth'],\n",
       "    num_rows: 364\n",
       "})"
      ]
     },
     "execution_count": 10,
     "metadata": {},
     "output_type": "execute_result"
    }
   ],
   "source": [
    "ds=load_dataset('wanyu/IteraTeR_human_sent')['test']\n",
    "ds"
   ]
  },
  {
   "cell_type": "code",
   "execution_count": 11,
   "id": "c25cf126-552c-4a2a-8a3d-ae9108b595b8",
   "metadata": {},
   "outputs": [
    {
     "name": "stderr",
     "output_type": "stream",
     "text": [
      "Filter: 100%|██████████| 364/364 [00:00<00:00, 13241.00 examples/s]\n"
     ]
    },
    {
     "data": {
      "text/plain": [
       "Dataset({\n",
       "    features: ['before_sent', 'before_sent_with_intent', 'after_sent', 'labels', 'doc_id', 'revision_depth'],\n",
       "    num_rows: 35\n",
       "})"
      ]
     },
     "execution_count": 11,
     "metadata": {},
     "output_type": "execute_result"
    }
   ],
   "source": [
    "ds.filter(lambda ex:ex['labels']=='meaning-changed')"
   ]
  },
  {
   "cell_type": "code",
   "execution_count": null,
   "id": "aedf32cc-eaed-47c4-af09-e636ed67fbb0",
   "metadata": {},
   "outputs": [],
   "source": []
  },
  {
   "cell_type": "markdown",
   "id": "8d2468c2-8bc4-42a8-950c-20c52315ea54",
   "metadata": {},
   "source": [
    "#### Exploring test dataset"
   ]
  },
  {
   "cell_type": "code",
   "execution_count": null,
   "id": "8374def4-5043-4390-9536-45f413a9ebfd",
   "metadata": {},
   "outputs": [],
   "source": []
  }
 ],
 "metadata": {
  "kernelspec": {
   "display_name": "Reason",
   "language": "python",
   "name": "reason"
  },
  "language_info": {
   "codemirror_mode": {
    "name": "ipython",
    "version": 3
   },
   "file_extension": ".py",
   "mimetype": "text/x-python",
   "name": "python",
   "nbconvert_exporter": "python",
   "pygments_lexer": "ipython3",
   "version": "3.12.7"
  }
 },
 "nbformat": 4,
 "nbformat_minor": 5
}
