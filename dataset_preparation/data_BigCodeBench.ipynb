{
 "cells": [
  {
   "cell_type": "code",
   "execution_count": 1,
   "id": "519c18f8-53ee-49e2-a9ee-d5289732960b",
   "metadata": {},
   "outputs": [],
   "source": [
    "from datasets import load_dataset\n",
    "\n",
    "# full dataset\n",
    "ds = load_dataset(\"bigcode/bigcodebench\", split=\"v0.1.4\")"
   ]
  },
  {
   "cell_type": "code",
   "execution_count": 2,
   "id": "aac53ae0-7b55-4a09-bef2-3dce7a3b2d70",
   "metadata": {},
   "outputs": [
    {
     "data": {
      "text/plain": [
       "Dataset({\n",
       "    features: ['task_id', 'complete_prompt', 'instruct_prompt', 'canonical_solution', 'code_prompt', 'test', 'entry_point', 'doc_struct', 'libs'],\n",
       "    num_rows: 1140\n",
       "})"
      ]
     },
     "execution_count": 2,
     "metadata": {},
     "output_type": "execute_result"
    }
   ],
   "source": [
    "ds"
   ]
  },
  {
   "cell_type": "code",
   "execution_count": 7,
   "id": "c89d3aee-2a8f-4851-be3c-57170ed5bae4",
   "metadata": {},
   "outputs": [
    {
     "data": {
      "application/vnd.jupyter.widget-view+json": {
       "model_id": "e76bc71191b54c99bd8e38b45eb97312",
       "version_major": 2,
       "version_minor": 0
      },
      "text/plain": [
       "Creating json from Arrow format:   0%|          | 0/2 [00:00<?, ?ba/s]"
      ]
     },
     "metadata": {},
     "output_type": "display_data"
    },
    {
     "data": {
      "text/plain": [
       "6953834"
      ]
     },
     "execution_count": 7,
     "metadata": {},
     "output_type": "execute_result"
    }
   ],
   "source": [
    "ds.to_json('../datasets/bigcodebench/raw/data_BigCodeBench.jsonl')"
   ]
  },
  {
   "cell_type": "code",
   "execution_count": 10,
   "id": "cecb703c-8ec6-4555-8c28-6e9b05397d2d",
   "metadata": {},
   "outputs": [
    {
     "name": "stdout",
     "output_type": "stream",
     "text": [
      "None\n"
     ]
    }
   ],
   "source": [
    "import os\n",
    "print(os.environ.get('BIGCODEBENCH_OVERRIDE_PATH', None))"
   ]
  },
  {
   "cell_type": "code",
   "execution_count": 6,
   "id": "1f53842d-46b8-4818-8e65-62ba53fb9a27",
   "metadata": {},
   "outputs": [
    {
     "name": "stdout",
     "output_type": "stream",
     "text": [
      "task_id Value(dtype='string', id=None)\n",
      "complete_prompt Value(dtype='string', id=None)\n",
      "instruct_prompt Value(dtype='string', id=None)\n",
      "canonical_solution Value(dtype='string', id=None)\n",
      "code_prompt Value(dtype='string', id=None)\n",
      "test Value(dtype='string', id=None)\n",
      "entry_point Value(dtype='string', id=None)\n",
      "doc_struct Value(dtype='string', id=None)\n",
      "libs Value(dtype='string', id=None)\n"
     ]
    }
   ],
   "source": [
    "for col, dtype in ds.features.items():\n",
    "    print(col, dtype)"
   ]
  },
  {
   "cell_type": "code",
   "execution_count": 4,
   "id": "18976217-4e7e-4ea9-81ab-cd1d4bc2b02f",
   "metadata": {},
   "outputs": [
    {
     "name": "stdout",
     "output_type": "stream",
     "text": [
      "import itertools\n",
      "from random import shuffle\n",
      "\n",
      "def task_func(numbers=list(range(1, 3))):\n",
      "    \"\"\"\n",
      "    Calculates the average of the sums of absolute differences between each pair of consecutive numbers \n",
      "    for all permutations of a given list. Each permutation is shuffled before calculating the differences.\n",
      "\n",
      "    Args:\n",
      "    - numbers (list): A list of numbers. Default is numbers from 1 to 10.\n",
      "    \n",
      "    Returns:\n",
      "    float: The average of the sums of absolute differences for each shuffled permutation of the list.\n",
      "\n",
      "    Requirements:\n",
      "    - itertools\n",
      "    - random.shuffle\n",
      "\n",
      "    Example:\n",
      "    >>> result = task_func([1, 2, 3])\n",
      "    >>> isinstance(result, float)\n",
      "    True\n",
      "    \"\"\"\n",
      "\n"
     ]
    }
   ],
   "source": [
    "prompt=ds['complete_prompt'][0]\n",
    "print(prompt)"
   ]
  },
  {
   "cell_type": "code",
   "execution_count": 7,
   "id": "0e55b24c-e359-4265-a062-7ebe94a344b1",
   "metadata": {},
   "outputs": [
    {
     "data": {
      "application/vnd.jupyter.widget-view+json": {
       "model_id": "8e87ac0d2c81485a9dc46dc792da764e",
       "version_major": 2,
       "version_minor": 0
      },
      "text/plain": [
       "Saving the dataset (0/1 shards):   0%|          | 0/1140 [00:00<?, ? examples/s]"
      ]
     },
     "metadata": {},
     "output_type": "display_data"
    }
   ],
   "source": [
    "ds.save_to_disk('../datasets/bigcodebench/raw')"
   ]
  },
  {
   "cell_type": "code",
   "execution_count": 1,
   "id": "00fc91be-74ea-4852-a7e8-d9129905eeb2",
   "metadata": {
    "scrolled": true
   },
   "outputs": [
    {
     "name": "stdout",
     "output_type": "stream",
     "text": [
      "Defaulting to user installation because normal site-packages is not writeable\n",
      "Collecting gradio_client\n",
      "  Using cached gradio_client-1.10.3-py3-none-any.whl.metadata (7.1 kB)\n",
      "Collecting fsspec (from gradio_client)\n",
      "  Using cached fsspec-2025.5.1-py3-none-any.whl.metadata (11 kB)\n",
      "Requirement already satisfied: httpx>=0.24.1 in /modules/opt/linux-ubuntu24.04-x86_64/jupyterlab/unity-jupyterlab4.4.3/lib/python3.13/site-packages (from gradio_client) (0.28.1)\n",
      "Collecting huggingface-hub>=0.19.3 (from gradio_client)\n",
      "  Using cached huggingface_hub-0.33.0-py3-none-any.whl.metadata (14 kB)\n",
      "Requirement already satisfied: packaging in /modules/opt/linux-ubuntu24.04-x86_64/jupyterlab/unity-jupyterlab4.4.3/lib/python3.13/site-packages (from gradio_client) (25.0)\n",
      "Requirement already satisfied: typing-extensions~=4.0 in /modules/opt/linux-ubuntu24.04-x86_64/jupyterlab/unity-jupyterlab4.4.3/lib/python3.13/site-packages (from gradio_client) (4.13.2)\n",
      "Collecting websockets<16.0,>=10.0 (from gradio_client)\n",
      "  Using cached websockets-15.0.1-cp313-cp313-manylinux_2_5_x86_64.manylinux1_x86_64.manylinux_2_17_x86_64.manylinux2014_x86_64.whl.metadata (6.8 kB)\n",
      "Requirement already satisfied: anyio in /modules/opt/linux-ubuntu24.04-x86_64/jupyterlab/unity-jupyterlab4.4.3/lib/python3.13/site-packages (from httpx>=0.24.1->gradio_client) (4.9.0)\n",
      "Requirement already satisfied: certifi in /modules/opt/linux-ubuntu24.04-x86_64/jupyterlab/unity-jupyterlab4.4.3/lib/python3.13/site-packages (from httpx>=0.24.1->gradio_client) (2025.4.26)\n",
      "Requirement already satisfied: httpcore==1.* in /modules/opt/linux-ubuntu24.04-x86_64/jupyterlab/unity-jupyterlab4.4.3/lib/python3.13/site-packages (from httpx>=0.24.1->gradio_client) (1.0.9)\n",
      "Requirement already satisfied: idna in /modules/opt/linux-ubuntu24.04-x86_64/jupyterlab/unity-jupyterlab4.4.3/lib/python3.13/site-packages (from httpx>=0.24.1->gradio_client) (3.10)\n",
      "Requirement already satisfied: h11>=0.16 in /modules/opt/linux-ubuntu24.04-x86_64/jupyterlab/unity-jupyterlab4.4.3/lib/python3.13/site-packages (from httpcore==1.*->httpx>=0.24.1->gradio_client) (0.16.0)\n",
      "Collecting filelock (from huggingface-hub>=0.19.3->gradio_client)\n",
      "  Using cached filelock-3.18.0-py3-none-any.whl.metadata (2.9 kB)\n",
      "Requirement already satisfied: pyyaml>=5.1 in /modules/opt/linux-ubuntu24.04-x86_64/jupyterlab/unity-jupyterlab4.4.3/lib/python3.13/site-packages (from huggingface-hub>=0.19.3->gradio_client) (6.0.2)\n",
      "Requirement already satisfied: requests in /modules/opt/linux-ubuntu24.04-x86_64/jupyterlab/unity-jupyterlab4.4.3/lib/python3.13/site-packages (from huggingface-hub>=0.19.3->gradio_client) (2.32.3)\n",
      "Collecting tqdm>=4.42.1 (from huggingface-hub>=0.19.3->gradio_client)\n",
      "  Using cached tqdm-4.67.1-py3-none-any.whl.metadata (57 kB)\n",
      "Collecting hf-xet<2.0.0,>=1.1.2 (from huggingface-hub>=0.19.3->gradio_client)\n",
      "  Using cached hf_xet-1.1.5-cp37-abi3-manylinux_2_17_x86_64.manylinux2014_x86_64.whl.metadata (879 bytes)\n",
      "Requirement already satisfied: sniffio>=1.1 in /modules/opt/linux-ubuntu24.04-x86_64/jupyterlab/unity-jupyterlab4.4.3/lib/python3.13/site-packages (from anyio->httpx>=0.24.1->gradio_client) (1.3.1)\n",
      "Requirement already satisfied: charset_normalizer<4,>=2 in /modules/opt/linux-ubuntu24.04-x86_64/jupyterlab/unity-jupyterlab4.4.3/lib/python3.13/site-packages (from requests->huggingface-hub>=0.19.3->gradio_client) (3.4.2)\n",
      "Requirement already satisfied: urllib3<3,>=1.21.1 in /modules/opt/linux-ubuntu24.04-x86_64/jupyterlab/unity-jupyterlab4.4.3/lib/python3.13/site-packages (from requests->huggingface-hub>=0.19.3->gradio_client) (2.4.0)\n",
      "Using cached gradio_client-1.10.3-py3-none-any.whl (323 kB)\n",
      "Downloading websockets-15.0.1-cp313-cp313-manylinux_2_5_x86_64.manylinux1_x86_64.manylinux_2_17_x86_64.manylinux2014_x86_64.whl (182 kB)\n",
      "Using cached huggingface_hub-0.33.0-py3-none-any.whl (514 kB)\n",
      "Using cached hf_xet-1.1.5-cp37-abi3-manylinux_2_17_x86_64.manylinux2014_x86_64.whl (3.1 MB)\n",
      "Downloading fsspec-2025.5.1-py3-none-any.whl (199 kB)\n",
      "Using cached tqdm-4.67.1-py3-none-any.whl (78 kB)\n",
      "Using cached filelock-3.18.0-py3-none-any.whl (16 kB)\n",
      "Installing collected packages: websockets, tqdm, hf-xet, fsspec, filelock, huggingface-hub, gradio_client\n",
      "\u001b[2K   \u001b[90m━━━━━━━━━━━━━━━━━━━━━━━━━━━━━━━━━━━━━━━━\u001b[0m \u001b[32m0/7\u001b[0m [websockets]\u001b[33m  WARNING: The script websockets is installed in '/home/kchimmad_umass_edu/.local/bin' which is not on PATH.\n",
      "  Consider adding this directory to PATH or, if you prefer to suppress this warning, use --no-warn-script-location.\u001b[0m\u001b[33m\n",
      "\u001b[2K   \u001b[91m━━━━━\u001b[0m\u001b[91m╸\u001b[0m\u001b[90m━━━━━━━━━━━━━━━━━━━━━━━━━━━━━━━━━━\u001b[0m \u001b[32m1/7\u001b[0m [tqdm]\u001b[33m  WARNING: The script tqdm is installed in '/home/kchimmad_umass_edu/.local/bin' which is not on PATH.\n",
      "  Consider adding this directory to PATH or, if you prefer to suppress this warning, use --no-warn-script-location.\u001b[0m\u001b[33m\n",
      "\u001b[2K   \u001b[91m━━━━━━━━━━━━━━━━━━━━━━━━━━━━\u001b[0m\u001b[91m╸\u001b[0m\u001b[90m━━━━━━━━━━━\u001b[0m \u001b[32m5/7\u001b[0m [huggingface-hub]\u001b[33m  WARNING: The scripts huggingface-cli and tiny-agents are installed in '/home/kchimmad_umass_edu/.local/bin' which is not on PATH.\n",
      "  Consider adding this directory to PATH or, if you prefer to suppress this warning, use --no-warn-script-location.\u001b[0m\u001b[33m\n",
      "\u001b[2K   \u001b[90m━━━━━━━━━━━━━━━━━━━━━━━━━━━━━━━━━━━━━━━━\u001b[0m \u001b[32m7/7\u001b[0m [gradio_client]0m [gradio_client]b]\n",
      "\u001b[1A\u001b[2KSuccessfully installed filelock-3.18.0 fsspec-2025.5.1 gradio_client-1.10.3 hf-xet-1.1.5 huggingface-hub-0.33.0 tqdm-4.67.1 websockets-15.0.1\n"
     ]
    }
   ],
   "source": [
    "!pip install gradio_client"
   ]
  },
  {
   "cell_type": "code",
   "execution_count": 2,
   "id": "70e5dafa-8f6e-4321-9746-f720ee6ac52e",
   "metadata": {},
   "outputs": [
    {
     "name": "stdout",
     "output_type": "stream",
     "text": [
      "Loaded as API: https://43851cbb177855a4da.gradio.live/ ✔\n"
     ]
    },
    {
     "name": "stderr",
     "output_type": "stream",
     "text": [
      "IOPub data rate exceeded.\n",
      "The Jupyter server will temporarily stop sending output\n",
      "to the client in order to avoid crashing it.\n",
      "To change this limit, set the config variable\n",
      "`--ServerApp.iopub_data_rate_limit`.\n",
      "\n",
      "Current values:\n",
      "ServerApp.iopub_data_rate_limit=1000000.0 (bytes/sec)\n",
      "ServerApp.rate_limit_window=3.0 (secs)\n",
      "\n"
     ]
    }
   ],
   "source": [
    "from gradio_client import Client, handle_file\n",
    "\n",
    "client = Client(\"https://43851cbb177855a4da.gradio.live/\")\n",
    "result = client.predict(\n",
    "\t\tsplit=\"complete\",\n",
    "\t\tsubset=\"full\",\n",
    "\t\tsamples=handle_file(\"/scratch3/workspace/wenlongzhao_umass_edu-reason/dev_kedar/Small-LLM-Reasoning/notebooks/output.jsonl\"),\n",
    "\t\tpass_k=\"1,5,10\",\n",
    "\t\tparallel=-1,\n",
    "\t\tmin_time_limit=1,\n",
    "\t\tmax_as_limit=30720,\n",
    "\t\tmax_data_limit=30720,\n",
    "\t\tmax_stack_limit=10,\n",
    "\t\tcalibrated=True,\n",
    "\t\tcheck_gt_only=False,\n",
    "\t\tno_gt=False,\n",
    "\t\tselective_evaluate=\"\",\n",
    "\t\tapi_name=\"/predict\"\n",
    ")\n",
    "print(result)"
   ]
  },
  {
   "cell_type": "code",
   "execution_count": 3,
   "id": "375b19d6-9d0a-4b34-965f-bcd5a8658c1a",
   "metadata": {},
   "outputs": [
    {
     "name": "stdout",
     "output_type": "stream",
     "text": [
      "<class 'tuple'>\n"
     ]
    }
   ],
   "source": [
    "print(type(result))"
   ]
  },
  {
   "cell_type": "code",
   "execution_count": 11,
   "id": "b8ba7d19-6a35-478a-9800-95303b285cc5",
   "metadata": {},
   "outputs": [
    {
     "name": "stdout",
     "output_type": "stream",
     "text": [
      "2\n",
      "{'pass@1': 0.21666666666666667, 'model': 'output.jsonl', 'split': 'complete', 'subset': 'full', 'calibrated': True, 'gt_pass_rate': 0.9982456140350877, 'failed_tasks': ['BigCodeBench/205', 'BigCodeBench/363']}\n"
     ]
    }
   ],
   "source": [
    "print(len(result))\n",
    "print(result[1])"
   ]
  },
  {
   "cell_type": "code",
   "execution_count": 27,
   "id": "312d1e16-5e71-45b1-a0ca-cb78220d20ef",
   "metadata": {},
   "outputs": [
    {
     "data": {
      "text/plain": [
       "[{'task_id': 'BigCodeBench/5',\n",
       "  'solution': 'import random\\nimport math\\ndef task_func(LETTERS=[chr(i) for i in range(97, 123)]):\\n\\n    pass\\nimport random\\nimport math',\n",
       "  'status': 'fail',\n",
       "  'details': {'test_empty_letters': 'Traceback (most recent call last):\\n  File \"__test__.py\", line 41, in test_empty_letters\\nAssertionError: None != {}\\n',\n",
       "   'test_custom_letters': 'Traceback (most recent call last):\\n  File \"__test__.py\", line 26, in test_custom_letters\\nAttributeError: \\'NoneType\\' object has no attribute \\'keys\\'\\n',\n",
       "   'test_default_letters': 'Traceback (most recent call last):\\n  File \"__test__.py\", line 19, in test_default_letters\\nAttributeError: \\'NoneType\\' object has no attribute \\'keys\\'\\n',\n",
       "   'test_known_values': 'Traceback (most recent call last):\\n  File \"/work/pi_mccallum_umass_edu/kchimmad_umass_edu/conda_envs/bigcodebench/lib/python3.8/unittest/mock.py\", line 1325, in patched\\n    return func(*newargs, **newkeywargs)\\n  File \"__test__.py\", line 52, in test_known_values\\nAttributeError: \\'NoneType\\' object has no attribute \\'values\\'\\n',\n",
       "   'test_uniform_values': 'Traceback (most recent call last):\\n  File \"/work/pi_mccallum_umass_edu/kchimmad_umass_edu/conda_envs/bigcodebench/lib/python3.8/unittest/mock.py\", line 1325, in patched\\n    return func(*newargs, **newkeywargs)\\n  File \"__test__.py\", line 36, in test_uniform_values\\nAttributeError: \\'NoneType\\' object has no attribute \\'values\\'\\n'}}]"
      ]
     },
     "execution_count": 27,
     "metadata": {},
     "output_type": "execute_result"
    }
   ],
   "source": [
    "result[0]['eval']['BigCodeBench/5']"
   ]
  },
  {
   "cell_type": "code",
   "execution_count": 20,
   "id": "9a953950-7e65-4df3-9a90-af3527b73a0a",
   "metadata": {},
   "outputs": [
    {
     "name": "stdout",
     "output_type": "stream",
     "text": [
      "import subprocess\n",
      "from multiprocessing import Pool\n",
      "def execute_command(command):\n",
      "    process = subprocess.Popen(command, stdout=subprocess.PIPE, stderr=subprocess.PIPE, shell=True)\n",
      "    output, _ = process.communicate()\n",
      "    return output\n",
      "def task_func(commands):\n",
      "\n",
      "    pass\n",
      "import subprocess\n",
      "from multiprocessing import Pool\n",
      "\n",
      "def execute_command(command):\n",
      "    \"\"\"\n",
      "    Executes a shell command and returns its output.\n",
      "\n",
      "    Parameters:\n",
      "        command (str): A shell command to be executed.\n",
      "\n",
      "    Returns:\n",
      "        bytes: The output of the command as a byte string.\n",
      "\n",
      "    Notes:\n",
      "    - If the command fails, the function will return an empty byte string.\n",
      "    \"\"\"\n",
      "    process = subprocess.Popen(command, stdout=subprocess.PIPE, stderr=subprocess.PIPE, shell=True)\n",
      "    output, _ = process.communicate()\n",
      "    return output\n",
      "\n",
      "def task_func(commands):\n",
      "    \"\"\"\n",
      "    Executes a list of shell commands in parallel using multiprocessing, and collects their outputs.\n",
      "\n",
      "    Parameters:\n",
      "        commands (list): A list of shell commands to be executed.\n",
      "\n",
      "    Returns:\n",
      "        list: A list of byte strings, each representing the output of a command. Returns an empty list if `commands` is empty.\n",
      "\n",
      "    Requirements:\n",
      "    - subprocess\n",
      "    - multiprocessing.Pool\n",
      "\n",
      "    Notes:\n",
      "    - If `commands` is an empty list, the function returns an empty list without attempting to execute any commands.\n",
      "    \n",
      "    Examples:\n",
      "    >>> result = task_func(['ls', 'pwd', 'date'])\n",
      "    >>> isinstance(result, list)\n",
      "    True\n",
      "    >>> all(isinstance(output, bytes) for output in result)\n",
      "    True\n",
      "    \"\"\"\n",
      "    if not commands:\n",
      "        return []\n",
      "\n",
      "    with Pool() as pool:\n",
      "        outputs = pool.starmap(execute_command, [(command,) for command in commands])\n",
      "    return outputs\n",
      "\n",
      "# Example usage:\n",
      "commands = ['ls', 'pwd', 'date']\n",
      "result = task_func(commands)\n",
      "for output in result:\n",
      "    print(output.decode('utf-8'))\n"
     ]
    }
   ],
   "source": [
    "print(result[0]['eval']['BigCodeBench/205'][0]['solution'])"
   ]
  },
  {
   "cell_type": "code",
   "execution_count": null,
   "id": "5216bc41-91b3-4e30-928d-17fab993e798",
   "metadata": {},
   "outputs": [],
   "source": []
  }
 ],
 "metadata": {
  "kernelspec": {
   "display_name": "Reason",
   "language": "python",
   "name": "reason"
  },
  "language_info": {
   "codemirror_mode": {
    "name": "ipython",
    "version": 3
   },
   "file_extension": ".py",
   "mimetype": "text/x-python",
   "name": "python",
   "nbconvert_exporter": "python",
   "pygments_lexer": "ipython3",
   "version": "3.12.7"
  }
 },
 "nbformat": 4,
 "nbformat_minor": 5
}
